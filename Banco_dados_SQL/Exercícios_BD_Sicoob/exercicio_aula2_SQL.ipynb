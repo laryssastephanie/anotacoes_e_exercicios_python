{
 "metadata": {
  "language_info": {
   "codemirror_mode": {
    "name": "ipython",
    "version": 3
   },
   "file_extension": ".py",
   "mimetype": "text/x-python",
   "name": "python",
   "nbconvert_exporter": "python",
   "pygments_lexer": "ipython3",
   "version": "3.8.5"
  },
  "orig_nbformat": 2,
  "kernelspec": {
   "name": "python385jvsc74a57bd031f2aee4e71d21fbe5cf8b01ff0e069b9275f58929596ceb00d14d90e3e16cd6",
   "display_name": "Python 3.8.5 64-bit"
  },
  "metadata": {
   "interpreter": {
    "hash": "31f2aee4e71d21fbe5cf8b01ff0e069b9275f58929596ceb00d14d90e3e16cd6"
   }
  }
 },
 "nbformat": 4,
 "nbformat_minor": 2,
 "cells": [
  {
   "cell_type": "code",
   "execution_count": 1,
   "metadata": {},
   "outputs": [],
   "source": [
    "import pymssql\n",
    "import pandas as pd"
   ]
  },
  {
   "source": [
    "### Lendo os dados das Tabelas"
   ],
   "cell_type": "markdown",
   "metadata": {}
  },
  {
   "cell_type": "code",
   "execution_count": 2,
   "metadata": {},
   "outputs": [],
   "source": [
    "conn = pymssql.connect(server='192.168.65.141', user='ResidenciaIA', password='Hub_Sicoob@2021', database='DataStage')"
   ]
  },
  {
   "cell_type": "code",
   "execution_count": 3,
   "metadata": {},
   "outputs": [],
   "source": [
    "cursor = conn.cursor(as_dict=True)"
   ]
  },
  {
   "cell_type": "code",
   "execution_count": 20,
   "metadata": {},
   "outputs": [],
   "source": [
    "cursor.execute('SELECT * from tce.clientefisica')\n",
    "data = cursor.fetchall()"
   ]
  },
  {
   "cell_type": "code",
   "execution_count": 21,
   "metadata": {},
   "outputs": [],
   "source": [
    "df=pd.DataFrame(data)"
   ]
  },
  {
   "cell_type": "code",
   "execution_count": 22,
   "metadata": {},
   "outputs": [
    {
     "output_type": "execute_result",
     "data": {
      "text/plain": [
       "   IDCLIENTE  IDINSTITUICAO  IDUNIDADEINST  CODTIPOPROFISSAO  CODESTADOCIVIL  \\\n",
       "0         68            676              0             902.0             NaN   \n",
       "1        191            676              0            2230.0             2.0   \n",
       "2        192            676              0           10036.0             NaN   \n",
       "3        571            676              0               NaN             NaN   \n",
       "4        619            676              0            2975.0             2.0   \n",
       "\n",
       "   CODREGIMECASAMENTO  CODTIPOSEXO CODTIPOEXPOSICAO  CODVINCULOEMPREGATICIO  \\\n",
       "0                 NaN            0             None                     4.0   \n",
       "1                 2.0            1             None                     3.0   \n",
       "2                 NaN            0             None                     1.0   \n",
       "3                 NaN            1             None                     NaN   \n",
       "4                 1.0            0             None                     1.0   \n",
       "\n",
       "   CODNIVELEDUCACIONAL  ... DESCORGAOEXPRG IDUFORGEXPRG DATAEMISSAORG  \\\n",
       "0                  7.0  ...            SSP           18    2000-03-17   \n",
       "1                  9.0  ...            CRM            7    2018-09-11   \n",
       "2                  7.0  ...            SSP           18    1992-08-12   \n",
       "3                  NaN  ...            SSP           18    1995-10-06   \n",
       "4                  7.0  ...           SESP           24    2000-03-23   \n",
       "\n",
       "  CODPROFISSAOCONJUGE  BOLMANTEMVINCULOESTAVEL NUMDEPENDENTES  \\\n",
       "0                None                        0              0   \n",
       "1                None                        1              0   \n",
       "2                None                        0              0   \n",
       "3                None                        0              0   \n",
       "4                None                        1              0   \n",
       "\n",
       "  BOLPESSOAEXPOSTA                 NUMCHECKALTERACAO       DATAHORACARGA  \\\n",
       "0                0  6c6d02be915e63dd25a52320964551a9 2019-12-05 23:14:52   \n",
       "1                0  5d7cec89f0304f5e855553dd85b2baf2 2020-12-22 21:06:48   \n",
       "2                0  feaa5c3f4da484703bf517208c95b8b3 2019-12-05 23:14:52   \n",
       "3                0  ce79d37e79e41d129a731038c880e5fe 2019-12-05 23:14:52   \n",
       "4                0  3ec125ea9cb20db6274ce59a2521d695 2021-04-07 21:17:19   \n",
       "\n",
       "   BOLFALECIDO  \n",
       "0         None  \n",
       "1         None  \n",
       "2         None  \n",
       "3         None  \n",
       "4         None  \n",
       "\n",
       "[5 rows x 23 columns]"
      ],
      "text/html": "<div>\n<style scoped>\n    .dataframe tbody tr th:only-of-type {\n        vertical-align: middle;\n    }\n\n    .dataframe tbody tr th {\n        vertical-align: top;\n    }\n\n    .dataframe thead th {\n        text-align: right;\n    }\n</style>\n<table border=\"1\" class=\"dataframe\">\n  <thead>\n    <tr style=\"text-align: right;\">\n      <th></th>\n      <th>IDCLIENTE</th>\n      <th>IDINSTITUICAO</th>\n      <th>IDUNIDADEINST</th>\n      <th>CODTIPOPROFISSAO</th>\n      <th>CODESTADOCIVIL</th>\n      <th>CODREGIMECASAMENTO</th>\n      <th>CODTIPOSEXO</th>\n      <th>CODTIPOEXPOSICAO</th>\n      <th>CODVINCULOEMPREGATICIO</th>\n      <th>CODNIVELEDUCACIONAL</th>\n      <th>...</th>\n      <th>DESCORGAOEXPRG</th>\n      <th>IDUFORGEXPRG</th>\n      <th>DATAEMISSAORG</th>\n      <th>CODPROFISSAOCONJUGE</th>\n      <th>BOLMANTEMVINCULOESTAVEL</th>\n      <th>NUMDEPENDENTES</th>\n      <th>BOLPESSOAEXPOSTA</th>\n      <th>NUMCHECKALTERACAO</th>\n      <th>DATAHORACARGA</th>\n      <th>BOLFALECIDO</th>\n    </tr>\n  </thead>\n  <tbody>\n    <tr>\n      <th>0</th>\n      <td>68</td>\n      <td>676</td>\n      <td>0</td>\n      <td>902.0</td>\n      <td>NaN</td>\n      <td>NaN</td>\n      <td>0</td>\n      <td>None</td>\n      <td>4.0</td>\n      <td>7.0</td>\n      <td>...</td>\n      <td>SSP</td>\n      <td>18</td>\n      <td>2000-03-17</td>\n      <td>None</td>\n      <td>0</td>\n      <td>0</td>\n      <td>0</td>\n      <td>6c6d02be915e63dd25a52320964551a9</td>\n      <td>2019-12-05 23:14:52</td>\n      <td>None</td>\n    </tr>\n    <tr>\n      <th>1</th>\n      <td>191</td>\n      <td>676</td>\n      <td>0</td>\n      <td>2230.0</td>\n      <td>2.0</td>\n      <td>2.0</td>\n      <td>1</td>\n      <td>None</td>\n      <td>3.0</td>\n      <td>9.0</td>\n      <td>...</td>\n      <td>CRM</td>\n      <td>7</td>\n      <td>2018-09-11</td>\n      <td>None</td>\n      <td>1</td>\n      <td>0</td>\n      <td>0</td>\n      <td>5d7cec89f0304f5e855553dd85b2baf2</td>\n      <td>2020-12-22 21:06:48</td>\n      <td>None</td>\n    </tr>\n    <tr>\n      <th>2</th>\n      <td>192</td>\n      <td>676</td>\n      <td>0</td>\n      <td>10036.0</td>\n      <td>NaN</td>\n      <td>NaN</td>\n      <td>0</td>\n      <td>None</td>\n      <td>1.0</td>\n      <td>7.0</td>\n      <td>...</td>\n      <td>SSP</td>\n      <td>18</td>\n      <td>1992-08-12</td>\n      <td>None</td>\n      <td>0</td>\n      <td>0</td>\n      <td>0</td>\n      <td>feaa5c3f4da484703bf517208c95b8b3</td>\n      <td>2019-12-05 23:14:52</td>\n      <td>None</td>\n    </tr>\n    <tr>\n      <th>3</th>\n      <td>571</td>\n      <td>676</td>\n      <td>0</td>\n      <td>NaN</td>\n      <td>NaN</td>\n      <td>NaN</td>\n      <td>1</td>\n      <td>None</td>\n      <td>NaN</td>\n      <td>NaN</td>\n      <td>...</td>\n      <td>SSP</td>\n      <td>18</td>\n      <td>1995-10-06</td>\n      <td>None</td>\n      <td>0</td>\n      <td>0</td>\n      <td>0</td>\n      <td>ce79d37e79e41d129a731038c880e5fe</td>\n      <td>2019-12-05 23:14:52</td>\n      <td>None</td>\n    </tr>\n    <tr>\n      <th>4</th>\n      <td>619</td>\n      <td>676</td>\n      <td>0</td>\n      <td>2975.0</td>\n      <td>2.0</td>\n      <td>1.0</td>\n      <td>0</td>\n      <td>None</td>\n      <td>1.0</td>\n      <td>7.0</td>\n      <td>...</td>\n      <td>SESP</td>\n      <td>24</td>\n      <td>2000-03-23</td>\n      <td>None</td>\n      <td>1</td>\n      <td>0</td>\n      <td>0</td>\n      <td>3ec125ea9cb20db6274ce59a2521d695</td>\n      <td>2021-04-07 21:17:19</td>\n      <td>None</td>\n    </tr>\n  </tbody>\n</table>\n<p>5 rows × 23 columns</p>\n</div>"
     },
     "metadata": {},
     "execution_count": 22
    }
   ],
   "source": [
    "df.head()"
   ]
  },
  {
   "cell_type": "code",
   "execution_count": 23,
   "metadata": {},
   "outputs": [
    {
     "output_type": "execute_result",
     "data": {
      "text/plain": [
       "['IDCLIENTE',\n",
       " 'IDINSTITUICAO',\n",
       " 'IDUNIDADEINST',\n",
       " 'CODTIPOPROFISSAO',\n",
       " 'CODESTADOCIVIL',\n",
       " 'CODREGIMECASAMENTO',\n",
       " 'CODTIPOSEXO',\n",
       " 'CODTIPOEXPOSICAO',\n",
       " 'CODVINCULOEMPREGATICIO',\n",
       " 'CODNIVELEDUCACIONAL',\n",
       " 'DATANASCIMENTO',\n",
       " 'DESCNATURALIDADE',\n",
       " 'DESCNACIONALIDADE',\n",
       " 'DESCORGAOEXPRG',\n",
       " 'IDUFORGEXPRG',\n",
       " 'DATAEMISSAORG',\n",
       " 'CODPROFISSAOCONJUGE',\n",
       " 'BOLMANTEMVINCULOESTAVEL',\n",
       " 'NUMDEPENDENTES',\n",
       " 'BOLPESSOAEXPOSTA',\n",
       " 'NUMCHECKALTERACAO',\n",
       " 'DATAHORACARGA',\n",
       " 'BOLFALECIDO']"
      ]
     },
     "metadata": {},
     "execution_count": 23
    }
   ],
   "source": [
    "list(df.columns.values)"
   ]
  },
  {
   "cell_type": "code",
   "execution_count": 24,
   "metadata": {},
   "outputs": [],
   "source": [
    "cursor.execute('SELECT * from tce.tiposexo')\n",
    "data_tipo_sexo = cursor.fetchall()"
   ]
  },
  {
   "cell_type": "code",
   "execution_count": 25,
   "metadata": {},
   "outputs": [
    {
     "output_type": "execute_result",
     "data": {
      "text/plain": [
       "   CODTIPOSEXO   DESCTIPOSEXO\n",
       "0            0       FEMININO\n",
       "1            1      MASCULINO\n",
       "2            2  NÃO INFORMADO"
      ],
      "text/html": "<div>\n<style scoped>\n    .dataframe tbody tr th:only-of-type {\n        vertical-align: middle;\n    }\n\n    .dataframe tbody tr th {\n        vertical-align: top;\n    }\n\n    .dataframe thead th {\n        text-align: right;\n    }\n</style>\n<table border=\"1\" class=\"dataframe\">\n  <thead>\n    <tr style=\"text-align: right;\">\n      <th></th>\n      <th>CODTIPOSEXO</th>\n      <th>DESCTIPOSEXO</th>\n    </tr>\n  </thead>\n  <tbody>\n    <tr>\n      <th>0</th>\n      <td>0</td>\n      <td>FEMININO</td>\n    </tr>\n    <tr>\n      <th>1</th>\n      <td>1</td>\n      <td>MASCULINO</td>\n    </tr>\n    <tr>\n      <th>2</th>\n      <td>2</td>\n      <td>NÃO INFORMADO</td>\n    </tr>\n  </tbody>\n</table>\n</div>"
     },
     "metadata": {},
     "execution_count": 25
    }
   ],
   "source": [
    "df_sexo = pd.DataFrame(data_tipo_sexo)\n",
    "df_sexo"
   ]
  },
  {
   "cell_type": "code",
   "execution_count": 26,
   "metadata": {},
   "outputs": [],
   "source": [
    "cursor.execute('SELECT * from tce.RegimeCasamento')\n",
    "data_tipo_casamento = cursor.fetchall()"
   ]
  },
  {
   "cell_type": "code",
   "execution_count": 27,
   "metadata": {},
   "outputs": [
    {
     "output_type": "execute_result",
     "data": {
      "text/plain": [
       "   CODREGIMECASAMENTO           DESCREGIMECASAMENTO\n",
       "0                   1            COMUNHÃO UNIVERSAL\n",
       "1                   2              COMUNHÃO PARCIAL\n",
       "2                   3             SEPARAÇÃO DE BENS\n",
       "3                   4   SEPARAÇÃO OBRIGATÓRIA DE BE\n",
       "4                   5  PARTICIPAÇÃO FINAL NOS AQUES"
      ],
      "text/html": "<div>\n<style scoped>\n    .dataframe tbody tr th:only-of-type {\n        vertical-align: middle;\n    }\n\n    .dataframe tbody tr th {\n        vertical-align: top;\n    }\n\n    .dataframe thead th {\n        text-align: right;\n    }\n</style>\n<table border=\"1\" class=\"dataframe\">\n  <thead>\n    <tr style=\"text-align: right;\">\n      <th></th>\n      <th>CODREGIMECASAMENTO</th>\n      <th>DESCREGIMECASAMENTO</th>\n    </tr>\n  </thead>\n  <tbody>\n    <tr>\n      <th>0</th>\n      <td>1</td>\n      <td>COMUNHÃO UNIVERSAL</td>\n    </tr>\n    <tr>\n      <th>1</th>\n      <td>2</td>\n      <td>COMUNHÃO PARCIAL</td>\n    </tr>\n    <tr>\n      <th>2</th>\n      <td>3</td>\n      <td>SEPARAÇÃO DE BENS</td>\n    </tr>\n    <tr>\n      <th>3</th>\n      <td>4</td>\n      <td>SEPARAÇÃO OBRIGATÓRIA DE BE</td>\n    </tr>\n    <tr>\n      <th>4</th>\n      <td>5</td>\n      <td>PARTICIPAÇÃO FINAL NOS AQUES</td>\n    </tr>\n  </tbody>\n</table>\n</div>"
     },
     "metadata": {},
     "execution_count": 27
    }
   ],
   "source": [
    "df_tipo_casamento = pd.DataFrame(data_tipo_casamento)\n",
    "df_tipo_casamento"
   ]
  },
  {
   "source": [
    "### Retorne quantos clientes são homens e quantos são mulheres"
   ],
   "cell_type": "markdown",
   "metadata": {}
  },
  {
   "cell_type": "code",
   "execution_count": 31,
   "metadata": {},
   "outputs": [
    {
     "output_type": "execute_result",
     "data": {
      "text/plain": [
       "               0       1\n",
       "0       FEMININO  165678\n",
       "1      MASCULINO  194357\n",
       "2  NÃO INFORMADO    1874"
      ],
      "text/html": "<div>\n<style scoped>\n    .dataframe tbody tr th:only-of-type {\n        vertical-align: middle;\n    }\n\n    .dataframe tbody tr th {\n        vertical-align: top;\n    }\n\n    .dataframe thead th {\n        text-align: right;\n    }\n</style>\n<table border=\"1\" class=\"dataframe\">\n  <thead>\n    <tr style=\"text-align: right;\">\n      <th></th>\n      <th>0</th>\n      <th>1</th>\n    </tr>\n  </thead>\n  <tbody>\n    <tr>\n      <th>0</th>\n      <td>FEMININO</td>\n      <td>165678</td>\n    </tr>\n    <tr>\n      <th>1</th>\n      <td>MASCULINO</td>\n      <td>194357</td>\n    </tr>\n    <tr>\n      <th>2</th>\n      <td>NÃO INFORMADO</td>\n      <td>1874</td>\n    </tr>\n  </tbody>\n</table>\n</div>"
     },
     "metadata": {},
     "execution_count": 31
    }
   ],
   "source": [
    "cursor = conn.cursor()\n",
    "cursor.execute('SELECT T.DescTipoSexo, COUNT(C.CodTipoSexo) FROM tce.clientefisica C'\n",
    "                ' INNER JOIN tce.tiposexo T on T.CodTipoSexo = C.CodTipoSexo'\n",
    "                ' GROUP BY T.DescTipoSexo;')\n",
    "data2 = cursor.fetchall()\n",
    "df_tipo_sexo = pd.DataFrame(data2)\n",
    "df_tipo_sexo"
   ]
  },
  {
   "source": [
    "### Relacione os tipos de regime de casamento, quantos registros tem para cada tipo"
   ],
   "cell_type": "markdown",
   "metadata": {}
  },
  {
   "cell_type": "code",
   "execution_count": 29,
   "metadata": {},
   "outputs": [
    {
     "output_type": "execute_result",
     "data": {
      "text/plain": [
       "                              0       1\n",
       "0              COMUNHÃO PARCIAL  122332\n",
       "1            COMUNHÃO UNIVERSAL   24844\n",
       "2  PARTICIPAÇÃO FINAL NOS AQUES     122\n",
       "3             SEPARAÇÃO DE BENS    6826\n",
       "4   SEPARAÇÃO OBRIGATÓRIA DE BE    1417"
      ],
      "text/html": "<div>\n<style scoped>\n    .dataframe tbody tr th:only-of-type {\n        vertical-align: middle;\n    }\n\n    .dataframe tbody tr th {\n        vertical-align: top;\n    }\n\n    .dataframe thead th {\n        text-align: right;\n    }\n</style>\n<table border=\"1\" class=\"dataframe\">\n  <thead>\n    <tr style=\"text-align: right;\">\n      <th></th>\n      <th>0</th>\n      <th>1</th>\n    </tr>\n  </thead>\n  <tbody>\n    <tr>\n      <th>0</th>\n      <td>COMUNHÃO PARCIAL</td>\n      <td>122332</td>\n    </tr>\n    <tr>\n      <th>1</th>\n      <td>COMUNHÃO UNIVERSAL</td>\n      <td>24844</td>\n    </tr>\n    <tr>\n      <th>2</th>\n      <td>PARTICIPAÇÃO FINAL NOS AQUES</td>\n      <td>122</td>\n    </tr>\n    <tr>\n      <th>3</th>\n      <td>SEPARAÇÃO DE BENS</td>\n      <td>6826</td>\n    </tr>\n    <tr>\n      <th>4</th>\n      <td>SEPARAÇÃO OBRIGATÓRIA DE BE</td>\n      <td>1417</td>\n    </tr>\n  </tbody>\n</table>\n</div>"
     },
     "metadata": {},
     "execution_count": 29
    }
   ],
   "source": [
    "cursor = conn.cursor()\n",
    "cursor.execute('SELECT R.DescRegimeCasamento, COUNT(C.CodRegimeCasamento) FROM tce.clientefisica C' \n",
    "                ' INNER JOIN tce.RegimeCasamento R on C.CodRegimeCasamento = R.CodRegimeCasamento'\n",
    "                ' GROUP BY R.DescRegimeCasamento;')\n",
    "data3 = cursor.fetchall()\n",
    "df_reg_casamento = pd.DataFrame(data3)\n",
    "df_reg_casamento"
   ]
  },
  {
   "cell_type": "code",
   "execution_count": 31,
   "metadata": {},
   "outputs": [],
   "source": [
    "cursor.close()"
   ]
  }
 ]
}