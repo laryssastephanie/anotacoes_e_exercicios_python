{
 "metadata": {
  "language_info": {
   "codemirror_mode": {
    "name": "ipython",
    "version": 3
   },
   "file_extension": ".py",
   "mimetype": "text/x-python",
   "name": "python",
   "nbconvert_exporter": "python",
   "pygments_lexer": "ipython3",
   "version": 3
  },
  "orig_nbformat": 2
 },
 "nbformat": 4,
 "nbformat_minor": 2,
 "cells": [
  {
   "cell_type": "code",
   "execution_count": null,
   "metadata": {},
   "outputs": [],
   "source": [
    "import imageio\n",
    "\n",
    "face = imageio.imread ('/tmp/face.png')\n",
    "\n",
    "import matplotlib.pyplot as plt \n",
    "\n",
    "plt.imshow(face)\n",
    "\n",
    "x = np.asarray(face)\n",
    "\n",
    "type(x)\n",
    "\n",
    "type(face)\n",
    "\n",
    "x(shape) # (768, 1024, 3) \n",
    "\n",
    "z = x/.5\n",
    "z = x*.5\n",
    "plt.imshow(z)\n",
    "z = x*.2/255\n",
    "plt.imshow(z)\n"
   ]
  }
 ]
}