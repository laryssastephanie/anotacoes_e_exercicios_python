{
 "metadata": {
  "language_info": {
   "codemirror_mode": {
    "name": "ipython",
    "version": 3
   },
   "file_extension": ".py",
   "mimetype": "text/x-python",
   "name": "python",
   "nbconvert_exporter": "python",
   "pygments_lexer": "ipython3",
   "version": "3.8.5"
  },
  "orig_nbformat": 2,
  "kernelspec": {
   "name": "python385jvsc74a57bd031f2aee4e71d21fbe5cf8b01ff0e069b9275f58929596ceb00d14d90e3e16cd6",
   "display_name": "Python 3.8.5 64-bit"
  },
  "metadata": {
   "interpreter": {
    "hash": "31f2aee4e71d21fbe5cf8b01ff0e069b9275f58929596ceb00d14d90e3e16cd6"
   }
  }
 },
 "nbformat": 4,
 "nbformat_minor": 2,
 "cells": [
  {
   "cell_type": "code",
   "execution_count": null,
   "metadata": {},
   "outputs": [],
   "source": [
    "import pandas as pd\n",
    "import numpy as np \n",
    "from scipy import sparse"
   ]
  },
  {
   "cell_type": "code",
   "execution_count": null,
   "metadata": {},
   "outputs": [],
   "source": [
    "def abrir_e_criar_lista(diretorio, separador, coluna):\n",
    "    variavel = open(diretorio, 'r', encoding='iso-8859-1')\n",
    "\n",
    "    lista = []\n",
    "\n",
    "    for linha in variavel:\n",
    "        linha = linha.split(separador)\n",
    "        lista.append(linha[coluna]) # adicionar na lista a coluna que eu escolher\n",
    "\n",
    "    return lista"
   ]
  },
  {
   "cell_type": "code",
   "execution_count": null,
   "metadata": {},
   "outputs": [],
   "source": [
    "userID_data = abrir_e_criar_lista('/home/laryssacosta/workspace/python-warmup/ml-100k/u.data', '\\t', 0) # coluna 0 é o userID\n",
    "movieID_data = abrir_e_criar_lista('/home/laryssacosta/workspace/python-warmup/ml-100k/u.data', '\\t', 1)\n",
    "ratings_data = abrir_e_criar_lista('/home/laryssacosta/workspace/python-warmup/ml-100k/u.data', '\\t', 2)"
   ]
  },
  {
   "cell_type": "code",
   "execution_count": null,
   "metadata": {},
   "outputs": [],
   "source": [
    "array_data = np.array([userID_data, movieID_data, ratings_data])"
   ]
  },
  {
   "cell_type": "code",
   "execution_count": null,
   "metadata": {},
   "outputs": [],
   "source": [
    "array_data.shape"
   ]
  },
  {
   "cell_type": "code",
   "execution_count": null,
   "metadata": {},
   "outputs": [],
   "source": [
    "df_data = pd.DataFrame(data=array_data) # ver dados com pandas\n",
    "df_data = df_data.T # para transpor\n",
    "df_data.columns = 'userID movieID rating'.split() # mudar nomes das colunas\n",
    "df_data"
   ]
  },
  {
   "cell_type": "code",
   "execution_count": null,
   "metadata": {},
   "outputs": [],
   "source": [
    "movieID_unicos = abrir_e_criar_lista('/home/laryssacosta/workspace/python-warmup/ml-100k/u.item', '|', 0)\n",
    "titulo_movie = abrir_e_criar_lista('/home/laryssacosta/workspace/python-warmup/ml-100k/u.item', '|', 1)\n",
    "titulo_movie[:5]"
   ]
  },
  {
   "cell_type": "code",
   "execution_count": null,
   "metadata": {},
   "outputs": [],
   "source": [
    "array_item = np.array([movieID_unicos, titulo_movie]) # lista com ID e nome dos filmes\n",
    "array_item"
   ]
  },
  {
   "cell_type": "code",
   "execution_count": null,
   "metadata": {},
   "outputs": [],
   "source": [
    "df_item = pd.DataFrame(data=array_item)\n",
    "df_item = df_item.T\n",
    "df_item.columns = 'movieID titulo'.split() # renomear colunas - tem que ser o mesmo titulo para poder dar o merge\n",
    "df_item"
   ]
  },
  {
   "cell_type": "code",
   "execution_count": null,
   "metadata": {},
   "outputs": [],
   "source": [
    "df_data_item = pd.merge(df_data, df_item) # para juntar os dados e criar uma nova coluna com o titulo\n",
    "df_data_item"
   ]
  },
  {
   "cell_type": "code",
   "execution_count": null,
   "metadata": {},
   "outputs": [],
   "source": [
    "df_data_item['rating'] = pd.to_numeric(df_data_item['rating'])"
   ]
  },
  {
   "cell_type": "code",
   "execution_count": null,
   "metadata": {},
   "outputs": [],
   "source": [
    "matriz_user_movie = df_data_item.pivot_table(values='rating', columns='titulo', index='userID') # criando a matriz"
   ]
  },
  {
   "cell_type": "code",
   "execution_count": null,
   "metadata": {},
   "outputs": [],
   "source": [
    "matriz_user_movie "
   ]
  },
  {
   "cell_type": "code",
   "execution_count": null,
   "metadata": {},
   "outputs": [],
   "source": [
    "#substituir NaN por 0\n",
    "matriz_user_movie = matriz_user_movie.dropna(thresh=20, axis=1) # ter pelo menos 20 avaliações"
   ]
  },
  {
   "cell_type": "code",
   "execution_count": null,
   "metadata": {},
   "outputs": [],
   "source": [
    "matriz_user_movie.head()"
   ]
  },
  {
   "cell_type": "code",
   "execution_count": null,
   "metadata": {},
   "outputs": [],
   "source": [
    "matriz_user_movie = matriz_user_movie.fillna(0) # onde tem NaN, colocar 0\n",
    "matriz_user_movie.head()"
   ]
  },
  {
   "cell_type": "code",
   "execution_count": null,
   "metadata": {},
   "outputs": [],
   "source": [
    "#zscore\n",
    "# todos os usuarios estao no mesmo nível\n",
    "def padronizacao(linha):\n",
    "    nova_linha = (linha - linha.mean())/(linha.max() - linha.min())\n",
    "    return nova_linha"
   ]
  },
  {
   "cell_type": "code",
   "execution_count": null,
   "metadata": {},
   "outputs": [],
   "source": [
    "matriz_user_movie_std = matriz_user_movie.apply(padronizacao) # aplicar a funçao que criamos"
   ]
  },
  {
   "cell_type": "code",
   "execution_count": null,
   "metadata": {},
   "outputs": [],
   "source": [
    "from sklearn.metrics.pairwise import cosine_similarity"
   ]
  },
  {
   "source": [
    "## Filtro colaborativo --> Item Item --> User User\n",
    "\n",
    "- primeiro item item"
   ],
   "cell_type": "markdown",
   "metadata": {}
  },
  {
   "cell_type": "code",
   "execution_count": null,
   "metadata": {},
   "outputs": [],
   "source": [
    "item_similarity_cos_array = cosine_similarity(matriz_user_movie_std.T) # matriz padronizada transposta"
   ]
  },
  {
   "cell_type": "code",
   "execution_count": null,
   "metadata": {},
   "outputs": [],
   "source": [
    "pd.DataFrame(item_similarity_cos_array, columns = matriz_user_movie.columns, index = matriz_user_movie.columns) # linhas e colunas tem que ser os mesmos para comparar filme com filme"
   ]
  },
  {
   "source": [
    "- user user"
   ],
   "cell_type": "markdown",
   "metadata": {}
  },
  {
   "cell_type": "code",
   "execution_count": null,
   "metadata": {},
   "outputs": [],
   "source": [
    "user_similarity_cos_array = cosine_similarity(matriz_user_movie_std)"
   ]
  },
  {
   "cell_type": "code",
   "execution_count": null,
   "metadata": {},
   "outputs": [],
   "source": [
    "user_similarity_cos = pd.DataFrame(data = user_similarity_cos_array, columns= matriz_user_movie_std.index, index = matriz_user_movie_std.index)"
   ]
  },
  {
   "cell_type": "code",
   "execution_count": null,
   "metadata": {},
   "outputs": [],
   "source": [
    "user_similarity_cos"
   ]
  },
  {
   "source": [
    "- Correlação de Pearson"
   ],
   "cell_type": "markdown",
   "metadata": {}
  },
  {
   "cell_type": "code",
   "execution_count": null,
   "metadata": {},
   "outputs": [],
   "source": [
    "item_similarity_pearson = matriz_user_movie.corr(method='pearson')"
   ]
  },
  {
   "cell_type": "code",
   "execution_count": null,
   "metadata": {},
   "outputs": [],
   "source": [
    "user_similarity_pearson = matriz_user_movie.T\n",
    "user_similarity_pearson = user_similarity_pearson.corr(method='pearson')"
   ]
  },
  {
   "cell_type": "code",
   "execution_count": null,
   "metadata": {},
   "outputs": [],
   "source": [
    "def get_similar_user(user_ID, rating):\n",
    "\n",
    "    similar = user_similarity_pearson[user_ID]*rating\n",
    "    similar = similar.sort_values(ascending=False)\n",
    "\n",
    "    return similar.head()\n"
   ]
  },
  {
   "cell_type": "code",
   "execution_count": null,
   "metadata": {},
   "outputs": [],
   "source": [
    "user_1 = get_similar_user('1', 2)\n",
    "user_1"
   ]
  },
  {
   "cell_type": "code",
   "execution_count": null,
   "metadata": {},
   "outputs": [],
   "source": []
  }
 ]
}