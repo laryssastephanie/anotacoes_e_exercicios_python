{
 "metadata": {
  "language_info": {
   "codemirror_mode": {
    "name": "ipython",
    "version": 3
   },
   "file_extension": ".py",
   "mimetype": "text/x-python",
   "name": "python",
   "nbconvert_exporter": "python",
   "pygments_lexer": "ipython3",
   "version": "3.8.5"
  },
  "orig_nbformat": 2,
  "kernelspec": {
   "name": "python385jvsc74a57bd031f2aee4e71d21fbe5cf8b01ff0e069b9275f58929596ceb00d14d90e3e16cd6",
   "display_name": "Python 3.8.5 64-bit"
  },
  "metadata": {
   "interpreter": {
    "hash": "31f2aee4e71d21fbe5cf8b01ff0e069b9275f58929596ceb00d14d90e3e16cd6"
   }
  }
 },
 "nbformat": 4,
 "nbformat_minor": 2,
 "cells": [
  {
   "cell_type": "code",
   "execution_count": 1,
   "metadata": {},
   "outputs": [],
   "source": [
    "import pandas as pd\n",
    "import numpy as np \n",
    "from scipy import sparse"
   ]
  },
  {
   "cell_type": "code",
   "execution_count": 2,
   "metadata": {},
   "outputs": [],
   "source": [
    "def abrir_e_criar_lista(diretorio, separador, coluna):\n",
    "    variavel = open(diretorio, 'r', encoding='iso-8859-1')\n",
    "\n",
    "    lista = []\n",
    "\n",
    "    for linha in variavel:\n",
    "        linha = linha.split(separador)\n",
    "        lista.append(linha[coluna]) # adicionar na lista a coluna que eu escolher\n",
    "\n",
    "    return lista"
   ]
  },
  {
   "cell_type": "code",
   "execution_count": 3,
   "metadata": {},
   "outputs": [],
   "source": [
    "userID_data = abrir_e_criar_lista('/home/laryssacosta/workspace/python-warmup/ml-100k/u.data', '\\t', 0) # coluna 0 é o userID\n",
    "movieID_data = abrir_e_criar_lista('/home/laryssacosta/workspace/python-warmup/ml-100k/u.data', '\\t', 1)\n",
    "ratings_data = abrir_e_criar_lista('/home/laryssacosta/workspace/python-warmup/ml-100k/u.data', '\\t', 2)"
   ]
  },
  {
   "cell_type": "code",
   "execution_count": 4,
   "metadata": {},
   "outputs": [],
   "source": [
    "array_data = np.array([userID_data, movieID_data, ratings_data])"
   ]
  },
  {
   "cell_type": "code",
   "execution_count": 5,
   "metadata": {},
   "outputs": [
    {
     "output_type": "execute_result",
     "data": {
      "text/plain": [
       "(3, 100000)"
      ]
     },
     "metadata": {},
     "execution_count": 5
    }
   ],
   "source": [
    "array_data.shape"
   ]
  },
  {
   "cell_type": "code",
   "execution_count": 6,
   "metadata": {},
   "outputs": [
    {
     "output_type": "execute_result",
     "data": {
      "text/plain": [
       "      userID movieID rating\n",
       "0        196     242      3\n",
       "1        186     302      3\n",
       "2         22     377      1\n",
       "3        244      51      2\n",
       "4        166     346      1\n",
       "...      ...     ...    ...\n",
       "99995    880     476      3\n",
       "99996    716     204      5\n",
       "99997    276    1090      1\n",
       "99998     13     225      2\n",
       "99999     12     203      3\n",
       "\n",
       "[100000 rows x 3 columns]"
      ],
      "text/html": "<div>\n<style scoped>\n    .dataframe tbody tr th:only-of-type {\n        vertical-align: middle;\n    }\n\n    .dataframe tbody tr th {\n        vertical-align: top;\n    }\n\n    .dataframe thead th {\n        text-align: right;\n    }\n</style>\n<table border=\"1\" class=\"dataframe\">\n  <thead>\n    <tr style=\"text-align: right;\">\n      <th></th>\n      <th>userID</th>\n      <th>movieID</th>\n      <th>rating</th>\n    </tr>\n  </thead>\n  <tbody>\n    <tr>\n      <th>0</th>\n      <td>196</td>\n      <td>242</td>\n      <td>3</td>\n    </tr>\n    <tr>\n      <th>1</th>\n      <td>186</td>\n      <td>302</td>\n      <td>3</td>\n    </tr>\n    <tr>\n      <th>2</th>\n      <td>22</td>\n      <td>377</td>\n      <td>1</td>\n    </tr>\n    <tr>\n      <th>3</th>\n      <td>244</td>\n      <td>51</td>\n      <td>2</td>\n    </tr>\n    <tr>\n      <th>4</th>\n      <td>166</td>\n      <td>346</td>\n      <td>1</td>\n    </tr>\n    <tr>\n      <th>...</th>\n      <td>...</td>\n      <td>...</td>\n      <td>...</td>\n    </tr>\n    <tr>\n      <th>99995</th>\n      <td>880</td>\n      <td>476</td>\n      <td>3</td>\n    </tr>\n    <tr>\n      <th>99996</th>\n      <td>716</td>\n      <td>204</td>\n      <td>5</td>\n    </tr>\n    <tr>\n      <th>99997</th>\n      <td>276</td>\n      <td>1090</td>\n      <td>1</td>\n    </tr>\n    <tr>\n      <th>99998</th>\n      <td>13</td>\n      <td>225</td>\n      <td>2</td>\n    </tr>\n    <tr>\n      <th>99999</th>\n      <td>12</td>\n      <td>203</td>\n      <td>3</td>\n    </tr>\n  </tbody>\n</table>\n<p>100000 rows × 3 columns</p>\n</div>"
     },
     "metadata": {},
     "execution_count": 6
    }
   ],
   "source": [
    "df_data = pd.DataFrame(data=array_data) # ver dados com pandas\n",
    "df_data = df_data.T # para transpor\n",
    "df_data.columns = 'userID movieID rating'.split() # mudar nomes das colunas\n",
    "df_data"
   ]
  },
  {
   "cell_type": "code",
   "execution_count": 7,
   "metadata": {},
   "outputs": [
    {
     "output_type": "execute_result",
     "data": {
      "text/plain": [
       "['Toy Story (1995)',\n",
       " 'GoldenEye (1995)',\n",
       " 'Four Rooms (1995)',\n",
       " 'Get Shorty (1995)',\n",
       " 'Copycat (1995)']"
      ]
     },
     "metadata": {},
     "execution_count": 7
    }
   ],
   "source": [
    "movieID_unicos = abrir_e_criar_lista('/home/laryssacosta/workspace/python-warmup/ml-100k/u.item', '|', 0)\n",
    "titulo_movie = abrir_e_criar_lista('/home/laryssacosta/workspace/python-warmup/ml-100k/u.item', '|', 1)\n",
    "titulo_movie[:5]"
   ]
  },
  {
   "cell_type": "code",
   "execution_count": 8,
   "metadata": {},
   "outputs": [
    {
     "output_type": "execute_result",
     "data": {
      "text/plain": [
       "array([['1', '2', '3', ..., '1680', '1681', '1682'],\n",
       "       ['Toy Story (1995)', 'GoldenEye (1995)', 'Four Rooms (1995)', ...,\n",
       "        'Sliding Doors (1998)', 'You So Crazy (1994)',\n",
       "        'Scream of Stone (Schrei aus Stein) (1991)']], dtype='<U81')"
      ]
     },
     "metadata": {},
     "execution_count": 8
    }
   ],
   "source": [
    "array_item = np.array([movieID_unicos, titulo_movie]) # lista com ID e nome dos filmes\n",
    "array_item"
   ]
  },
  {
   "cell_type": "code",
   "execution_count": 9,
   "metadata": {},
   "outputs": [
    {
     "output_type": "execute_result",
     "data": {
      "text/plain": [
       "     movieID                                     titulo\n",
       "0          1                           Toy Story (1995)\n",
       "1          2                           GoldenEye (1995)\n",
       "2          3                          Four Rooms (1995)\n",
       "3          4                          Get Shorty (1995)\n",
       "4          5                             Copycat (1995)\n",
       "...      ...                                        ...\n",
       "1677    1678                          Mat' i syn (1997)\n",
       "1678    1679                           B. Monkey (1998)\n",
       "1679    1680                       Sliding Doors (1998)\n",
       "1680    1681                        You So Crazy (1994)\n",
       "1681    1682  Scream of Stone (Schrei aus Stein) (1991)\n",
       "\n",
       "[1682 rows x 2 columns]"
      ],
      "text/html": "<div>\n<style scoped>\n    .dataframe tbody tr th:only-of-type {\n        vertical-align: middle;\n    }\n\n    .dataframe tbody tr th {\n        vertical-align: top;\n    }\n\n    .dataframe thead th {\n        text-align: right;\n    }\n</style>\n<table border=\"1\" class=\"dataframe\">\n  <thead>\n    <tr style=\"text-align: right;\">\n      <th></th>\n      <th>movieID</th>\n      <th>titulo</th>\n    </tr>\n  </thead>\n  <tbody>\n    <tr>\n      <th>0</th>\n      <td>1</td>\n      <td>Toy Story (1995)</td>\n    </tr>\n    <tr>\n      <th>1</th>\n      <td>2</td>\n      <td>GoldenEye (1995)</td>\n    </tr>\n    <tr>\n      <th>2</th>\n      <td>3</td>\n      <td>Four Rooms (1995)</td>\n    </tr>\n    <tr>\n      <th>3</th>\n      <td>4</td>\n      <td>Get Shorty (1995)</td>\n    </tr>\n    <tr>\n      <th>4</th>\n      <td>5</td>\n      <td>Copycat (1995)</td>\n    </tr>\n    <tr>\n      <th>...</th>\n      <td>...</td>\n      <td>...</td>\n    </tr>\n    <tr>\n      <th>1677</th>\n      <td>1678</td>\n      <td>Mat' i syn (1997)</td>\n    </tr>\n    <tr>\n      <th>1678</th>\n      <td>1679</td>\n      <td>B. Monkey (1998)</td>\n    </tr>\n    <tr>\n      <th>1679</th>\n      <td>1680</td>\n      <td>Sliding Doors (1998)</td>\n    </tr>\n    <tr>\n      <th>1680</th>\n      <td>1681</td>\n      <td>You So Crazy (1994)</td>\n    </tr>\n    <tr>\n      <th>1681</th>\n      <td>1682</td>\n      <td>Scream of Stone (Schrei aus Stein) (1991)</td>\n    </tr>\n  </tbody>\n</table>\n<p>1682 rows × 2 columns</p>\n</div>"
     },
     "metadata": {},
     "execution_count": 9
    }
   ],
   "source": [
    "df_item = pd.DataFrame(data=array_item)\n",
    "df_item = df_item.T\n",
    "df_item.columns = 'movieID titulo'.split() # renomear colunas - tem que ser o mesmo titulo para poder dar o merge\n",
    "df_item"
   ]
  },
  {
   "cell_type": "code",
   "execution_count": 10,
   "metadata": {},
   "outputs": [
    {
     "output_type": "execute_result",
     "data": {
      "text/plain": [
       "      userID movieID rating                                             titulo\n",
       "0        196     242      3                                       Kolya (1996)\n",
       "1         63     242      3                                       Kolya (1996)\n",
       "2        226     242      5                                       Kolya (1996)\n",
       "3        154     242      3                                       Kolya (1996)\n",
       "4        306     242      5                                       Kolya (1996)\n",
       "...      ...     ...    ...                                                ...\n",
       "99995    840    1674      4                                  Mamma Roma (1962)\n",
       "99996    655    1640      3                             Eighth Day, The (1996)\n",
       "99997    655    1637      3                                  Girls Town (1996)\n",
       "99998    655    1630      3  Silence of the Palace, The (Saimt el Qusur) (1...\n",
       "99999    655    1641      3                                    Dadetown (1995)\n",
       "\n",
       "[100000 rows x 4 columns]"
      ],
      "text/html": "<div>\n<style scoped>\n    .dataframe tbody tr th:only-of-type {\n        vertical-align: middle;\n    }\n\n    .dataframe tbody tr th {\n        vertical-align: top;\n    }\n\n    .dataframe thead th {\n        text-align: right;\n    }\n</style>\n<table border=\"1\" class=\"dataframe\">\n  <thead>\n    <tr style=\"text-align: right;\">\n      <th></th>\n      <th>userID</th>\n      <th>movieID</th>\n      <th>rating</th>\n      <th>titulo</th>\n    </tr>\n  </thead>\n  <tbody>\n    <tr>\n      <th>0</th>\n      <td>196</td>\n      <td>242</td>\n      <td>3</td>\n      <td>Kolya (1996)</td>\n    </tr>\n    <tr>\n      <th>1</th>\n      <td>63</td>\n      <td>242</td>\n      <td>3</td>\n      <td>Kolya (1996)</td>\n    </tr>\n    <tr>\n      <th>2</th>\n      <td>226</td>\n      <td>242</td>\n      <td>5</td>\n      <td>Kolya (1996)</td>\n    </tr>\n    <tr>\n      <th>3</th>\n      <td>154</td>\n      <td>242</td>\n      <td>3</td>\n      <td>Kolya (1996)</td>\n    </tr>\n    <tr>\n      <th>4</th>\n      <td>306</td>\n      <td>242</td>\n      <td>5</td>\n      <td>Kolya (1996)</td>\n    </tr>\n    <tr>\n      <th>...</th>\n      <td>...</td>\n      <td>...</td>\n      <td>...</td>\n      <td>...</td>\n    </tr>\n    <tr>\n      <th>99995</th>\n      <td>840</td>\n      <td>1674</td>\n      <td>4</td>\n      <td>Mamma Roma (1962)</td>\n    </tr>\n    <tr>\n      <th>99996</th>\n      <td>655</td>\n      <td>1640</td>\n      <td>3</td>\n      <td>Eighth Day, The (1996)</td>\n    </tr>\n    <tr>\n      <th>99997</th>\n      <td>655</td>\n      <td>1637</td>\n      <td>3</td>\n      <td>Girls Town (1996)</td>\n    </tr>\n    <tr>\n      <th>99998</th>\n      <td>655</td>\n      <td>1630</td>\n      <td>3</td>\n      <td>Silence of the Palace, The (Saimt el Qusur) (1...</td>\n    </tr>\n    <tr>\n      <th>99999</th>\n      <td>655</td>\n      <td>1641</td>\n      <td>3</td>\n      <td>Dadetown (1995)</td>\n    </tr>\n  </tbody>\n</table>\n<p>100000 rows × 4 columns</p>\n</div>"
     },
     "metadata": {},
     "execution_count": 10
    }
   ],
   "source": [
    "df_data_item = pd.merge(df_data, df_item) # para juntar os dados e criar uma nova coluna com o titulo\n",
    "df_data_item"
   ]
  },
  {
   "cell_type": "code",
   "execution_count": 11,
   "metadata": {},
   "outputs": [],
   "source": [
    "df_data_item['rating'] = pd.to_numeric(df_data_item['rating'])"
   ]
  },
  {
   "cell_type": "code",
   "execution_count": 12,
   "metadata": {},
   "outputs": [],
   "source": [
    "matriz_user_movie = df_data_item.pivot_table(values='rating', columns='titulo', index='userID') # criando a matriz"
   ]
  },
  {
   "cell_type": "code",
   "execution_count": 13,
   "metadata": {},
   "outputs": [
    {
     "output_type": "execute_result",
     "data": {
      "text/plain": [
       "titulo  'Til There Was You (1997)  1-900 (1994)  101 Dalmatians (1996)  \\\n",
       "userID                                                                   \n",
       "1                             NaN           NaN                    2.0   \n",
       "10                            NaN           NaN                    NaN   \n",
       "100                           NaN           NaN                    NaN   \n",
       "101                           NaN           NaN                    3.0   \n",
       "102                           NaN           NaN                    NaN   \n",
       "...                           ...           ...                    ...   \n",
       "95                            NaN           NaN                    NaN   \n",
       "96                            NaN           NaN                    NaN   \n",
       "97                            NaN           NaN                    NaN   \n",
       "98                            NaN           NaN                    NaN   \n",
       "99                            NaN           NaN                    NaN   \n",
       "\n",
       "titulo  12 Angry Men (1957)  187 (1997)  2 Days in the Valley (1996)  \\\n",
       "userID                                                                 \n",
       "1                       5.0         NaN                          NaN   \n",
       "10                      5.0         NaN                          NaN   \n",
       "100                     NaN         NaN                          NaN   \n",
       "101                     NaN         NaN                          NaN   \n",
       "102                     NaN         NaN                          NaN   \n",
       "...                     ...         ...                          ...   \n",
       "95                      5.0         NaN                          NaN   \n",
       "96                      NaN         NaN                          NaN   \n",
       "97                      NaN         NaN                          NaN   \n",
       "98                      NaN         NaN                          NaN   \n",
       "99                      NaN         NaN                          NaN   \n",
       "\n",
       "titulo  20,000 Leagues Under the Sea (1954)  2001: A Space Odyssey (1968)  \\\n",
       "userID                                                                      \n",
       "1                                       3.0                           4.0   \n",
       "10                                      NaN                           5.0   \n",
       "100                                     NaN                           NaN   \n",
       "101                                     NaN                           NaN   \n",
       "102                                     NaN                           NaN   \n",
       "...                                     ...                           ...   \n",
       "95                                      4.0                           3.0   \n",
       "96                                      NaN                           NaN   \n",
       "97                                      NaN                           5.0   \n",
       "98                                      NaN                           NaN   \n",
       "99                                      NaN                           NaN   \n",
       "\n",
       "titulo  3 Ninjas: High Noon At Mega Mountain (1998)  39 Steps, The (1935)  \\\n",
       "userID                                                                      \n",
       "1                                               NaN                   NaN   \n",
       "10                                              NaN                   4.0   \n",
       "100                                             NaN                   NaN   \n",
       "101                                             NaN                   NaN   \n",
       "102                                             NaN                   NaN   \n",
       "...                                             ...                   ...   \n",
       "95                                              NaN                   NaN   \n",
       "96                                              NaN                   NaN   \n",
       "97                                              NaN                   NaN   \n",
       "98                                              NaN                   NaN   \n",
       "99                                              NaN                   NaN   \n",
       "\n",
       "titulo  ...  Yankee Zulu (1994)  Year of the Horse (1997)  \\\n",
       "userID  ...                                                 \n",
       "1       ...                 NaN                       NaN   \n",
       "10      ...                 NaN                       NaN   \n",
       "100     ...                 NaN                       NaN   \n",
       "101     ...                 NaN                       NaN   \n",
       "102     ...                 NaN                       NaN   \n",
       "...     ...                 ...                       ...   \n",
       "95      ...                 NaN                       NaN   \n",
       "96      ...                 NaN                       NaN   \n",
       "97      ...                 NaN                       NaN   \n",
       "98      ...                 NaN                       NaN   \n",
       "99      ...                 NaN                       NaN   \n",
       "\n",
       "titulo  You So Crazy (1994)  Young Frankenstein (1974)  Young Guns (1988)  \\\n",
       "userID                                                                      \n",
       "1                       NaN                        5.0                3.0   \n",
       "10                      NaN                        NaN                NaN   \n",
       "100                     NaN                        NaN                NaN   \n",
       "101                     NaN                        NaN                NaN   \n",
       "102                     NaN                        4.0                NaN   \n",
       "...                     ...                        ...                ...   \n",
       "95                      NaN                        4.0                4.0   \n",
       "96                      NaN                        NaN                NaN   \n",
       "97                      NaN                        5.0                NaN   \n",
       "98                      NaN                        NaN                NaN   \n",
       "99                      NaN                        NaN                4.0   \n",
       "\n",
       "titulo  Young Guns II (1990)  Young Poisoner's Handbook, The (1995)  \\\n",
       "userID                                                                \n",
       "1                        NaN                                    NaN   \n",
       "10                       NaN                                    NaN   \n",
       "100                      NaN                                    NaN   \n",
       "101                      NaN                                    NaN   \n",
       "102                      NaN                                    NaN   \n",
       "...                      ...                                    ...   \n",
       "95                       2.0                                    NaN   \n",
       "96                       NaN                                    NaN   \n",
       "97                       NaN                                    NaN   \n",
       "98                       NaN                                    NaN   \n",
       "99                       NaN                                    NaN   \n",
       "\n",
       "titulo  Zeus and Roxanne (1997)  unknown  Á köldum klaka (Cold Fever) (1994)  \n",
       "userID                                                                        \n",
       "1                           NaN      4.0                                 NaN  \n",
       "10                          NaN      NaN                                 NaN  \n",
       "100                         NaN      NaN                                 NaN  \n",
       "101                         NaN      NaN                                 NaN  \n",
       "102                         NaN      NaN                                 NaN  \n",
       "...                         ...      ...                                 ...  \n",
       "95                          NaN      NaN                                 NaN  \n",
       "96                          NaN      NaN                                 NaN  \n",
       "97                          NaN      NaN                                 NaN  \n",
       "98                          NaN      NaN                                 NaN  \n",
       "99                          NaN      NaN                                 NaN  \n",
       "\n",
       "[943 rows x 1664 columns]"
      ],
      "text/html": "<div>\n<style scoped>\n    .dataframe tbody tr th:only-of-type {\n        vertical-align: middle;\n    }\n\n    .dataframe tbody tr th {\n        vertical-align: top;\n    }\n\n    .dataframe thead th {\n        text-align: right;\n    }\n</style>\n<table border=\"1\" class=\"dataframe\">\n  <thead>\n    <tr style=\"text-align: right;\">\n      <th>titulo</th>\n      <th>'Til There Was You (1997)</th>\n      <th>1-900 (1994)</th>\n      <th>101 Dalmatians (1996)</th>\n      <th>12 Angry Men (1957)</th>\n      <th>187 (1997)</th>\n      <th>2 Days in the Valley (1996)</th>\n      <th>20,000 Leagues Under the Sea (1954)</th>\n      <th>2001: A Space Odyssey (1968)</th>\n      <th>3 Ninjas: High Noon At Mega Mountain (1998)</th>\n      <th>39 Steps, The (1935)</th>\n      <th>...</th>\n      <th>Yankee Zulu (1994)</th>\n      <th>Year of the Horse (1997)</th>\n      <th>You So Crazy (1994)</th>\n      <th>Young Frankenstein (1974)</th>\n      <th>Young Guns (1988)</th>\n      <th>Young Guns II (1990)</th>\n      <th>Young Poisoner's Handbook, The (1995)</th>\n      <th>Zeus and Roxanne (1997)</th>\n      <th>unknown</th>\n      <th>Á köldum klaka (Cold Fever) (1994)</th>\n    </tr>\n    <tr>\n      <th>userID</th>\n      <th></th>\n      <th></th>\n      <th></th>\n      <th></th>\n      <th></th>\n      <th></th>\n      <th></th>\n      <th></th>\n      <th></th>\n      <th></th>\n      <th></th>\n      <th></th>\n      <th></th>\n      <th></th>\n      <th></th>\n      <th></th>\n      <th></th>\n      <th></th>\n      <th></th>\n      <th></th>\n      <th></th>\n    </tr>\n  </thead>\n  <tbody>\n    <tr>\n      <th>1</th>\n      <td>NaN</td>\n      <td>NaN</td>\n      <td>2.0</td>\n      <td>5.0</td>\n      <td>NaN</td>\n      <td>NaN</td>\n      <td>3.0</td>\n      <td>4.0</td>\n      <td>NaN</td>\n      <td>NaN</td>\n      <td>...</td>\n      <td>NaN</td>\n      <td>NaN</td>\n      <td>NaN</td>\n      <td>5.0</td>\n      <td>3.0</td>\n      <td>NaN</td>\n      <td>NaN</td>\n      <td>NaN</td>\n      <td>4.0</td>\n      <td>NaN</td>\n    </tr>\n    <tr>\n      <th>10</th>\n      <td>NaN</td>\n      <td>NaN</td>\n      <td>NaN</td>\n      <td>5.0</td>\n      <td>NaN</td>\n      <td>NaN</td>\n      <td>NaN</td>\n      <td>5.0</td>\n      <td>NaN</td>\n      <td>4.0</td>\n      <td>...</td>\n      <td>NaN</td>\n      <td>NaN</td>\n      <td>NaN</td>\n      <td>NaN</td>\n      <td>NaN</td>\n      <td>NaN</td>\n      <td>NaN</td>\n      <td>NaN</td>\n      <td>NaN</td>\n      <td>NaN</td>\n    </tr>\n    <tr>\n      <th>100</th>\n      <td>NaN</td>\n      <td>NaN</td>\n      <td>NaN</td>\n      <td>NaN</td>\n      <td>NaN</td>\n      <td>NaN</td>\n      <td>NaN</td>\n      <td>NaN</td>\n      <td>NaN</td>\n      <td>NaN</td>\n      <td>...</td>\n      <td>NaN</td>\n      <td>NaN</td>\n      <td>NaN</td>\n      <td>NaN</td>\n      <td>NaN</td>\n      <td>NaN</td>\n      <td>NaN</td>\n      <td>NaN</td>\n      <td>NaN</td>\n      <td>NaN</td>\n    </tr>\n    <tr>\n      <th>101</th>\n      <td>NaN</td>\n      <td>NaN</td>\n      <td>3.0</td>\n      <td>NaN</td>\n      <td>NaN</td>\n      <td>NaN</td>\n      <td>NaN</td>\n      <td>NaN</td>\n      <td>NaN</td>\n      <td>NaN</td>\n      <td>...</td>\n      <td>NaN</td>\n      <td>NaN</td>\n      <td>NaN</td>\n      <td>NaN</td>\n      <td>NaN</td>\n      <td>NaN</td>\n      <td>NaN</td>\n      <td>NaN</td>\n      <td>NaN</td>\n      <td>NaN</td>\n    </tr>\n    <tr>\n      <th>102</th>\n      <td>NaN</td>\n      <td>NaN</td>\n      <td>NaN</td>\n      <td>NaN</td>\n      <td>NaN</td>\n      <td>NaN</td>\n      <td>NaN</td>\n      <td>NaN</td>\n      <td>NaN</td>\n      <td>NaN</td>\n      <td>...</td>\n      <td>NaN</td>\n      <td>NaN</td>\n      <td>NaN</td>\n      <td>4.0</td>\n      <td>NaN</td>\n      <td>NaN</td>\n      <td>NaN</td>\n      <td>NaN</td>\n      <td>NaN</td>\n      <td>NaN</td>\n    </tr>\n    <tr>\n      <th>...</th>\n      <td>...</td>\n      <td>...</td>\n      <td>...</td>\n      <td>...</td>\n      <td>...</td>\n      <td>...</td>\n      <td>...</td>\n      <td>...</td>\n      <td>...</td>\n      <td>...</td>\n      <td>...</td>\n      <td>...</td>\n      <td>...</td>\n      <td>...</td>\n      <td>...</td>\n      <td>...</td>\n      <td>...</td>\n      <td>...</td>\n      <td>...</td>\n      <td>...</td>\n      <td>...</td>\n    </tr>\n    <tr>\n      <th>95</th>\n      <td>NaN</td>\n      <td>NaN</td>\n      <td>NaN</td>\n      <td>5.0</td>\n      <td>NaN</td>\n      <td>NaN</td>\n      <td>4.0</td>\n      <td>3.0</td>\n      <td>NaN</td>\n      <td>NaN</td>\n      <td>...</td>\n      <td>NaN</td>\n      <td>NaN</td>\n      <td>NaN</td>\n      <td>4.0</td>\n      <td>4.0</td>\n      <td>2.0</td>\n      <td>NaN</td>\n      <td>NaN</td>\n      <td>NaN</td>\n      <td>NaN</td>\n    </tr>\n    <tr>\n      <th>96</th>\n      <td>NaN</td>\n      <td>NaN</td>\n      <td>NaN</td>\n      <td>NaN</td>\n      <td>NaN</td>\n      <td>NaN</td>\n      <td>NaN</td>\n      <td>NaN</td>\n      <td>NaN</td>\n      <td>NaN</td>\n      <td>...</td>\n      <td>NaN</td>\n      <td>NaN</td>\n      <td>NaN</td>\n      <td>NaN</td>\n      <td>NaN</td>\n      <td>NaN</td>\n      <td>NaN</td>\n      <td>NaN</td>\n      <td>NaN</td>\n      <td>NaN</td>\n    </tr>\n    <tr>\n      <th>97</th>\n      <td>NaN</td>\n      <td>NaN</td>\n      <td>NaN</td>\n      <td>NaN</td>\n      <td>NaN</td>\n      <td>NaN</td>\n      <td>NaN</td>\n      <td>5.0</td>\n      <td>NaN</td>\n      <td>NaN</td>\n      <td>...</td>\n      <td>NaN</td>\n      <td>NaN</td>\n      <td>NaN</td>\n      <td>5.0</td>\n      <td>NaN</td>\n      <td>NaN</td>\n      <td>NaN</td>\n      <td>NaN</td>\n      <td>NaN</td>\n      <td>NaN</td>\n    </tr>\n    <tr>\n      <th>98</th>\n      <td>NaN</td>\n      <td>NaN</td>\n      <td>NaN</td>\n      <td>NaN</td>\n      <td>NaN</td>\n      <td>NaN</td>\n      <td>NaN</td>\n      <td>NaN</td>\n      <td>NaN</td>\n      <td>NaN</td>\n      <td>...</td>\n      <td>NaN</td>\n      <td>NaN</td>\n      <td>NaN</td>\n      <td>NaN</td>\n      <td>NaN</td>\n      <td>NaN</td>\n      <td>NaN</td>\n      <td>NaN</td>\n      <td>NaN</td>\n      <td>NaN</td>\n    </tr>\n    <tr>\n      <th>99</th>\n      <td>NaN</td>\n      <td>NaN</td>\n      <td>NaN</td>\n      <td>NaN</td>\n      <td>NaN</td>\n      <td>NaN</td>\n      <td>NaN</td>\n      <td>NaN</td>\n      <td>NaN</td>\n      <td>NaN</td>\n      <td>...</td>\n      <td>NaN</td>\n      <td>NaN</td>\n      <td>NaN</td>\n      <td>NaN</td>\n      <td>4.0</td>\n      <td>NaN</td>\n      <td>NaN</td>\n      <td>NaN</td>\n      <td>NaN</td>\n      <td>NaN</td>\n    </tr>\n  </tbody>\n</table>\n<p>943 rows × 1664 columns</p>\n</div>"
     },
     "metadata": {},
     "execution_count": 13
    }
   ],
   "source": [
    "matriz_user_movie "
   ]
  },
  {
   "cell_type": "code",
   "execution_count": 14,
   "metadata": {},
   "outputs": [],
   "source": [
    "#substituir NaN por 0\n",
    "matriz_user_movie = matriz_user_movie.dropna(thresh=20, axis=1) # ter pelo menos 20 avaliações"
   ]
  },
  {
   "cell_type": "code",
   "execution_count": 15,
   "metadata": {},
   "outputs": [
    {
     "output_type": "execute_result",
     "data": {
      "text/plain": [
       "titulo  101 Dalmatians (1996)  12 Angry Men (1957)  187 (1997)  \\\n",
       "userID                                                           \n",
       "1                         2.0                  5.0         NaN   \n",
       "10                        NaN                  5.0         NaN   \n",
       "100                       NaN                  NaN         NaN   \n",
       "101                       3.0                  NaN         NaN   \n",
       "102                       NaN                  NaN         NaN   \n",
       "\n",
       "titulo  2 Days in the Valley (1996)  20,000 Leagues Under the Sea (1954)  \\\n",
       "userID                                                                     \n",
       "1                               NaN                                  3.0   \n",
       "10                              NaN                                  NaN   \n",
       "100                             NaN                                  NaN   \n",
       "101                             NaN                                  NaN   \n",
       "102                             NaN                                  NaN   \n",
       "\n",
       "titulo  2001: A Space Odyssey (1968)  39 Steps, The (1935)  8 1/2 (1963)  \\\n",
       "userID                                                                     \n",
       "1                                4.0                   NaN           NaN   \n",
       "10                               5.0                   4.0           NaN   \n",
       "100                              NaN                   NaN           NaN   \n",
       "101                              NaN                   NaN           NaN   \n",
       "102                              NaN                   NaN           NaN   \n",
       "\n",
       "titulo  Absolute Power (1997)  Abyss, The (1989)  ...  Wishmaster (1997)  \\\n",
       "userID                                            ...                      \n",
       "1                         NaN                3.0  ...                NaN   \n",
       "10                        NaN                4.0  ...                NaN   \n",
       "100                       NaN                NaN  ...                NaN   \n",
       "101                       NaN                NaN  ...                NaN   \n",
       "102                       NaN                3.0  ...                NaN   \n",
       "\n",
       "titulo  With Honors (1994)  Wizard of Oz, The (1939)  Wolf (1994)  \\\n",
       "userID                                                              \n",
       "1                      NaN                       4.0          NaN   \n",
       "10                     NaN                       5.0          NaN   \n",
       "100                    NaN                       NaN          NaN   \n",
       "101                    NaN                       NaN          NaN   \n",
       "102                    NaN                       NaN          NaN   \n",
       "\n",
       "titulo  Wrong Trousers, The (1993)  Wyatt Earp (1994)  \\\n",
       "userID                                                  \n",
       "1                              5.0                NaN   \n",
       "10                             NaN                NaN   \n",
       "100                            NaN                NaN   \n",
       "101                            NaN                NaN   \n",
       "102                            NaN                NaN   \n",
       "\n",
       "titulo  Young Frankenstein (1974)  Young Guns (1988)  Young Guns II (1990)  \\\n",
       "userID                                                                       \n",
       "1                             5.0                3.0                   NaN   \n",
       "10                            NaN                NaN                   NaN   \n",
       "100                           NaN                NaN                   NaN   \n",
       "101                           NaN                NaN                   NaN   \n",
       "102                           4.0                NaN                   NaN   \n",
       "\n",
       "titulo  Young Poisoner's Handbook, The (1995)  \n",
       "userID                                         \n",
       "1                                         NaN  \n",
       "10                                        NaN  \n",
       "100                                       NaN  \n",
       "101                                       NaN  \n",
       "102                                       NaN  \n",
       "\n",
       "[5 rows x 931 columns]"
      ],
      "text/html": "<div>\n<style scoped>\n    .dataframe tbody tr th:only-of-type {\n        vertical-align: middle;\n    }\n\n    .dataframe tbody tr th {\n        vertical-align: top;\n    }\n\n    .dataframe thead th {\n        text-align: right;\n    }\n</style>\n<table border=\"1\" class=\"dataframe\">\n  <thead>\n    <tr style=\"text-align: right;\">\n      <th>titulo</th>\n      <th>101 Dalmatians (1996)</th>\n      <th>12 Angry Men (1957)</th>\n      <th>187 (1997)</th>\n      <th>2 Days in the Valley (1996)</th>\n      <th>20,000 Leagues Under the Sea (1954)</th>\n      <th>2001: A Space Odyssey (1968)</th>\n      <th>39 Steps, The (1935)</th>\n      <th>8 1/2 (1963)</th>\n      <th>Absolute Power (1997)</th>\n      <th>Abyss, The (1989)</th>\n      <th>...</th>\n      <th>Wishmaster (1997)</th>\n      <th>With Honors (1994)</th>\n      <th>Wizard of Oz, The (1939)</th>\n      <th>Wolf (1994)</th>\n      <th>Wrong Trousers, The (1993)</th>\n      <th>Wyatt Earp (1994)</th>\n      <th>Young Frankenstein (1974)</th>\n      <th>Young Guns (1988)</th>\n      <th>Young Guns II (1990)</th>\n      <th>Young Poisoner's Handbook, The (1995)</th>\n    </tr>\n    <tr>\n      <th>userID</th>\n      <th></th>\n      <th></th>\n      <th></th>\n      <th></th>\n      <th></th>\n      <th></th>\n      <th></th>\n      <th></th>\n      <th></th>\n      <th></th>\n      <th></th>\n      <th></th>\n      <th></th>\n      <th></th>\n      <th></th>\n      <th></th>\n      <th></th>\n      <th></th>\n      <th></th>\n      <th></th>\n      <th></th>\n    </tr>\n  </thead>\n  <tbody>\n    <tr>\n      <th>1</th>\n      <td>2.0</td>\n      <td>5.0</td>\n      <td>NaN</td>\n      <td>NaN</td>\n      <td>3.0</td>\n      <td>4.0</td>\n      <td>NaN</td>\n      <td>NaN</td>\n      <td>NaN</td>\n      <td>3.0</td>\n      <td>...</td>\n      <td>NaN</td>\n      <td>NaN</td>\n      <td>4.0</td>\n      <td>NaN</td>\n      <td>5.0</td>\n      <td>NaN</td>\n      <td>5.0</td>\n      <td>3.0</td>\n      <td>NaN</td>\n      <td>NaN</td>\n    </tr>\n    <tr>\n      <th>10</th>\n      <td>NaN</td>\n      <td>5.0</td>\n      <td>NaN</td>\n      <td>NaN</td>\n      <td>NaN</td>\n      <td>5.0</td>\n      <td>4.0</td>\n      <td>NaN</td>\n      <td>NaN</td>\n      <td>4.0</td>\n      <td>...</td>\n      <td>NaN</td>\n      <td>NaN</td>\n      <td>5.0</td>\n      <td>NaN</td>\n      <td>NaN</td>\n      <td>NaN</td>\n      <td>NaN</td>\n      <td>NaN</td>\n      <td>NaN</td>\n      <td>NaN</td>\n    </tr>\n    <tr>\n      <th>100</th>\n      <td>NaN</td>\n      <td>NaN</td>\n      <td>NaN</td>\n      <td>NaN</td>\n      <td>NaN</td>\n      <td>NaN</td>\n      <td>NaN</td>\n      <td>NaN</td>\n      <td>NaN</td>\n      <td>NaN</td>\n      <td>...</td>\n      <td>NaN</td>\n      <td>NaN</td>\n      <td>NaN</td>\n      <td>NaN</td>\n      <td>NaN</td>\n      <td>NaN</td>\n      <td>NaN</td>\n      <td>NaN</td>\n      <td>NaN</td>\n      <td>NaN</td>\n    </tr>\n    <tr>\n      <th>101</th>\n      <td>3.0</td>\n      <td>NaN</td>\n      <td>NaN</td>\n      <td>NaN</td>\n      <td>NaN</td>\n      <td>NaN</td>\n      <td>NaN</td>\n      <td>NaN</td>\n      <td>NaN</td>\n      <td>NaN</td>\n      <td>...</td>\n      <td>NaN</td>\n      <td>NaN</td>\n      <td>NaN</td>\n      <td>NaN</td>\n      <td>NaN</td>\n      <td>NaN</td>\n      <td>NaN</td>\n      <td>NaN</td>\n      <td>NaN</td>\n      <td>NaN</td>\n    </tr>\n    <tr>\n      <th>102</th>\n      <td>NaN</td>\n      <td>NaN</td>\n      <td>NaN</td>\n      <td>NaN</td>\n      <td>NaN</td>\n      <td>NaN</td>\n      <td>NaN</td>\n      <td>NaN</td>\n      <td>NaN</td>\n      <td>3.0</td>\n      <td>...</td>\n      <td>NaN</td>\n      <td>NaN</td>\n      <td>NaN</td>\n      <td>NaN</td>\n      <td>NaN</td>\n      <td>NaN</td>\n      <td>4.0</td>\n      <td>NaN</td>\n      <td>NaN</td>\n      <td>NaN</td>\n    </tr>\n  </tbody>\n</table>\n<p>5 rows × 931 columns</p>\n</div>"
     },
     "metadata": {},
     "execution_count": 15
    }
   ],
   "source": [
    "matriz_user_movie.head()"
   ]
  },
  {
   "cell_type": "code",
   "execution_count": 17,
   "metadata": {},
   "outputs": [
    {
     "output_type": "execute_result",
     "data": {
      "text/plain": [
       "titulo  101 Dalmatians (1996)  12 Angry Men (1957)  187 (1997)  \\\n",
       "userID                                                           \n",
       "1                         2.0                  5.0         0.0   \n",
       "10                        0.0                  5.0         0.0   \n",
       "100                       0.0                  0.0         0.0   \n",
       "101                       3.0                  0.0         0.0   \n",
       "102                       0.0                  0.0         0.0   \n",
       "\n",
       "titulo  2 Days in the Valley (1996)  20,000 Leagues Under the Sea (1954)  \\\n",
       "userID                                                                     \n",
       "1                               0.0                                  3.0   \n",
       "10                              0.0                                  0.0   \n",
       "100                             0.0                                  0.0   \n",
       "101                             0.0                                  0.0   \n",
       "102                             0.0                                  0.0   \n",
       "\n",
       "titulo  2001: A Space Odyssey (1968)  39 Steps, The (1935)  8 1/2 (1963)  \\\n",
       "userID                                                                     \n",
       "1                                4.0                   0.0           0.0   \n",
       "10                               5.0                   4.0           0.0   \n",
       "100                              0.0                   0.0           0.0   \n",
       "101                              0.0                   0.0           0.0   \n",
       "102                              0.0                   0.0           0.0   \n",
       "\n",
       "titulo  Absolute Power (1997)  Abyss, The (1989)  ...  Wishmaster (1997)  \\\n",
       "userID                                            ...                      \n",
       "1                         0.0                3.0  ...                0.0   \n",
       "10                        0.0                4.0  ...                0.0   \n",
       "100                       0.0                0.0  ...                0.0   \n",
       "101                       0.0                0.0  ...                0.0   \n",
       "102                       0.0                3.0  ...                0.0   \n",
       "\n",
       "titulo  With Honors (1994)  Wizard of Oz, The (1939)  Wolf (1994)  \\\n",
       "userID                                                              \n",
       "1                      0.0                       4.0          0.0   \n",
       "10                     0.0                       5.0          0.0   \n",
       "100                    0.0                       0.0          0.0   \n",
       "101                    0.0                       0.0          0.0   \n",
       "102                    0.0                       0.0          0.0   \n",
       "\n",
       "titulo  Wrong Trousers, The (1993)  Wyatt Earp (1994)  \\\n",
       "userID                                                  \n",
       "1                              5.0                0.0   \n",
       "10                             0.0                0.0   \n",
       "100                            0.0                0.0   \n",
       "101                            0.0                0.0   \n",
       "102                            0.0                0.0   \n",
       "\n",
       "titulo  Young Frankenstein (1974)  Young Guns (1988)  Young Guns II (1990)  \\\n",
       "userID                                                                       \n",
       "1                             5.0                3.0                   0.0   \n",
       "10                            0.0                0.0                   0.0   \n",
       "100                           0.0                0.0                   0.0   \n",
       "101                           0.0                0.0                   0.0   \n",
       "102                           4.0                0.0                   0.0   \n",
       "\n",
       "titulo  Young Poisoner's Handbook, The (1995)  \n",
       "userID                                         \n",
       "1                                         0.0  \n",
       "10                                        0.0  \n",
       "100                                       0.0  \n",
       "101                                       0.0  \n",
       "102                                       0.0  \n",
       "\n",
       "[5 rows x 931 columns]"
      ],
      "text/html": "<div>\n<style scoped>\n    .dataframe tbody tr th:only-of-type {\n        vertical-align: middle;\n    }\n\n    .dataframe tbody tr th {\n        vertical-align: top;\n    }\n\n    .dataframe thead th {\n        text-align: right;\n    }\n</style>\n<table border=\"1\" class=\"dataframe\">\n  <thead>\n    <tr style=\"text-align: right;\">\n      <th>titulo</th>\n      <th>101 Dalmatians (1996)</th>\n      <th>12 Angry Men (1957)</th>\n      <th>187 (1997)</th>\n      <th>2 Days in the Valley (1996)</th>\n      <th>20,000 Leagues Under the Sea (1954)</th>\n      <th>2001: A Space Odyssey (1968)</th>\n      <th>39 Steps, The (1935)</th>\n      <th>8 1/2 (1963)</th>\n      <th>Absolute Power (1997)</th>\n      <th>Abyss, The (1989)</th>\n      <th>...</th>\n      <th>Wishmaster (1997)</th>\n      <th>With Honors (1994)</th>\n      <th>Wizard of Oz, The (1939)</th>\n      <th>Wolf (1994)</th>\n      <th>Wrong Trousers, The (1993)</th>\n      <th>Wyatt Earp (1994)</th>\n      <th>Young Frankenstein (1974)</th>\n      <th>Young Guns (1988)</th>\n      <th>Young Guns II (1990)</th>\n      <th>Young Poisoner's Handbook, The (1995)</th>\n    </tr>\n    <tr>\n      <th>userID</th>\n      <th></th>\n      <th></th>\n      <th></th>\n      <th></th>\n      <th></th>\n      <th></th>\n      <th></th>\n      <th></th>\n      <th></th>\n      <th></th>\n      <th></th>\n      <th></th>\n      <th></th>\n      <th></th>\n      <th></th>\n      <th></th>\n      <th></th>\n      <th></th>\n      <th></th>\n      <th></th>\n      <th></th>\n    </tr>\n  </thead>\n  <tbody>\n    <tr>\n      <th>1</th>\n      <td>2.0</td>\n      <td>5.0</td>\n      <td>0.0</td>\n      <td>0.0</td>\n      <td>3.0</td>\n      <td>4.0</td>\n      <td>0.0</td>\n      <td>0.0</td>\n      <td>0.0</td>\n      <td>3.0</td>\n      <td>...</td>\n      <td>0.0</td>\n      <td>0.0</td>\n      <td>4.0</td>\n      <td>0.0</td>\n      <td>5.0</td>\n      <td>0.0</td>\n      <td>5.0</td>\n      <td>3.0</td>\n      <td>0.0</td>\n      <td>0.0</td>\n    </tr>\n    <tr>\n      <th>10</th>\n      <td>0.0</td>\n      <td>5.0</td>\n      <td>0.0</td>\n      <td>0.0</td>\n      <td>0.0</td>\n      <td>5.0</td>\n      <td>4.0</td>\n      <td>0.0</td>\n      <td>0.0</td>\n      <td>4.0</td>\n      <td>...</td>\n      <td>0.0</td>\n      <td>0.0</td>\n      <td>5.0</td>\n      <td>0.0</td>\n      <td>0.0</td>\n      <td>0.0</td>\n      <td>0.0</td>\n      <td>0.0</td>\n      <td>0.0</td>\n      <td>0.0</td>\n    </tr>\n    <tr>\n      <th>100</th>\n      <td>0.0</td>\n      <td>0.0</td>\n      <td>0.0</td>\n      <td>0.0</td>\n      <td>0.0</td>\n      <td>0.0</td>\n      <td>0.0</td>\n      <td>0.0</td>\n      <td>0.0</td>\n      <td>0.0</td>\n      <td>...</td>\n      <td>0.0</td>\n      <td>0.0</td>\n      <td>0.0</td>\n      <td>0.0</td>\n      <td>0.0</td>\n      <td>0.0</td>\n      <td>0.0</td>\n      <td>0.0</td>\n      <td>0.0</td>\n      <td>0.0</td>\n    </tr>\n    <tr>\n      <th>101</th>\n      <td>3.0</td>\n      <td>0.0</td>\n      <td>0.0</td>\n      <td>0.0</td>\n      <td>0.0</td>\n      <td>0.0</td>\n      <td>0.0</td>\n      <td>0.0</td>\n      <td>0.0</td>\n      <td>0.0</td>\n      <td>...</td>\n      <td>0.0</td>\n      <td>0.0</td>\n      <td>0.0</td>\n      <td>0.0</td>\n      <td>0.0</td>\n      <td>0.0</td>\n      <td>0.0</td>\n      <td>0.0</td>\n      <td>0.0</td>\n      <td>0.0</td>\n    </tr>\n    <tr>\n      <th>102</th>\n      <td>0.0</td>\n      <td>0.0</td>\n      <td>0.0</td>\n      <td>0.0</td>\n      <td>0.0</td>\n      <td>0.0</td>\n      <td>0.0</td>\n      <td>0.0</td>\n      <td>0.0</td>\n      <td>3.0</td>\n      <td>...</td>\n      <td>0.0</td>\n      <td>0.0</td>\n      <td>0.0</td>\n      <td>0.0</td>\n      <td>0.0</td>\n      <td>0.0</td>\n      <td>4.0</td>\n      <td>0.0</td>\n      <td>0.0</td>\n      <td>0.0</td>\n    </tr>\n  </tbody>\n</table>\n<p>5 rows × 931 columns</p>\n</div>"
     },
     "metadata": {},
     "execution_count": 17
    }
   ],
   "source": [
    "matriz_user_movie = matriz_user_movie.fillna(0) # onde tem NaN, colocar 0\n",
    "matriz_user_movie.head()"
   ]
  },
  {
   "cell_type": "code",
   "execution_count": 18,
   "metadata": {},
   "outputs": [],
   "source": [
    "#zscore\n",
    "# todos os usuarios estao no mesmo nível\n",
    "def padronizacao(linha):\n",
    "    nova_linha = (linha - linha.mean())/(linha.max() - linha.min())\n",
    "    return nova_linha"
   ]
  },
  {
   "cell_type": "code",
   "execution_count": 19,
   "metadata": {},
   "outputs": [],
   "source": [
    "matriz_user_movie_std = matriz_user_movie.apply(padronizacao) # aplicar a funçao que criamos"
   ]
  },
  {
   "cell_type": "code",
   "execution_count": 20,
   "metadata": {},
   "outputs": [],
   "source": [
    "from sklearn.metrics.pairwise import cosine_similarity"
   ]
  },
  {
   "source": [
    "## Filtro colaborativo --> Item Item --> User User\n",
    "\n",
    "- primeiro item item"
   ],
   "cell_type": "markdown",
   "metadata": {}
  },
  {
   "cell_type": "code",
   "execution_count": 21,
   "metadata": {},
   "outputs": [],
   "source": [
    "item_similarity_cos_array = cosine_similarity(matriz_user_movie_std.T) # matriz padronizada transposta"
   ]
  },
  {
   "cell_type": "code",
   "execution_count": 22,
   "metadata": {},
   "outputs": [
    {
     "output_type": "execute_result",
     "data": {
      "text/plain": [
       "titulo                                 101 Dalmatians (1996)  \\\n",
       "titulo                                                         \n",
       "101 Dalmatians (1996)                               1.000000   \n",
       "12 Angry Men (1957)                                 0.059246   \n",
       "187 (1997)                                         -0.001097   \n",
       "2 Days in the Valley (1996)                         0.052877   \n",
       "20,000 Leagues Under the Sea (1954)                 0.128745   \n",
       "...                                                      ...   \n",
       "Wyatt Earp (1994)                                   0.109054   \n",
       "Young Frankenstein (1974)                           0.155450   \n",
       "Young Guns (1988)                                   0.115195   \n",
       "Young Guns II (1990)                                0.039172   \n",
       "Young Poisoner's Handbook, The (1995)              -0.005917   \n",
       "\n",
       "titulo                                 12 Angry Men (1957)  187 (1997)  \\\n",
       "titulo                                                                   \n",
       "101 Dalmatians (1996)                             0.059246   -0.001097   \n",
       "12 Angry Men (1957)                               1.000000   -0.014343   \n",
       "187 (1997)                                       -0.014343    1.000000   \n",
       "2 Days in the Valley (1996)                       0.066339    0.078770   \n",
       "20,000 Leagues Under the Sea (1954)               0.230274   -0.010333   \n",
       "...                                                    ...         ...   \n",
       "Wyatt Earp (1994)                                 0.160140   -0.000838   \n",
       "Young Frankenstein (1974)                         0.290188   -0.021873   \n",
       "Young Guns (1988)                                 0.164959    0.006811   \n",
       "Young Guns II (1990)                              0.079341    0.053843   \n",
       "Young Poisoner's Handbook, The (1995)             0.038111    0.063789   \n",
       "\n",
       "titulo                                 2 Days in the Valley (1996)  \\\n",
       "titulo                                                               \n",
       "101 Dalmatians (1996)                                     0.052877   \n",
       "12 Angry Men (1957)                                       0.066339   \n",
       "187 (1997)                                                0.078770   \n",
       "2 Days in the Valley (1996)                               1.000000   \n",
       "20,000 Leagues Under the Sea (1954)                       0.056283   \n",
       "...                                                            ...   \n",
       "Wyatt Earp (1994)                                         0.116497   \n",
       "Young Frankenstein (1974)                                 0.061328   \n",
       "Young Guns (1988)                                         0.197620   \n",
       "Young Guns II (1990)                                      0.176032   \n",
       "Young Poisoner's Handbook, The (1995)                     0.146777   \n",
       "\n",
       "titulo                                 20,000 Leagues Under the Sea (1954)  \\\n",
       "titulo                                                                       \n",
       "101 Dalmatians (1996)                                             0.128745   \n",
       "12 Angry Men (1957)                                               0.230274   \n",
       "187 (1997)                                                       -0.010333   \n",
       "2 Days in the Valley (1996)                                       0.056283   \n",
       "20,000 Leagues Under the Sea (1954)                               1.000000   \n",
       "...                                                                    ...   \n",
       "Wyatt Earp (1994)                                                 0.286848   \n",
       "Young Frankenstein (1974)                                         0.309511   \n",
       "Young Guns (1988)                                                 0.243306   \n",
       "Young Guns II (1990)                                              0.057977   \n",
       "Young Poisoner's Handbook, The (1995)                             0.071111   \n",
       "\n",
       "titulo                                 2001: A Space Odyssey (1968)  \\\n",
       "titulo                                                                \n",
       "101 Dalmatians (1996)                                      0.078260   \n",
       "12 Angry Men (1957)                                        0.298716   \n",
       "187 (1997)                                                -0.039939   \n",
       "2 Days in the Valley (1996)                                0.090983   \n",
       "20,000 Leagues Under the Sea (1954)                        0.384535   \n",
       "...                                                             ...   \n",
       "Wyatt Earp (1994)                                          0.183051   \n",
       "Young Frankenstein (1974)                                  0.429298   \n",
       "Young Guns (1988)                                          0.168440   \n",
       "Young Guns II (1990)                                       0.071705   \n",
       "Young Poisoner's Handbook, The (1995)                      0.065870   \n",
       "\n",
       "titulo                                 39 Steps, The (1935)  8 1/2 (1963)  \\\n",
       "titulo                                                                      \n",
       "101 Dalmatians (1996)                              0.015504      0.005750   \n",
       "12 Angry Men (1957)                                0.339195      0.174500   \n",
       "187 (1997)                                        -0.021414     -0.006246   \n",
       "2 Days in the Valley (1996)                       -0.019962     -0.008210   \n",
       "20,000 Leagues Under the Sea (1954)                0.274525      0.118108   \n",
       "...                                                     ...           ...   \n",
       "Wyatt Earp (1994)                                  0.137189      0.041004   \n",
       "Young Frankenstein (1974)                          0.205543      0.170677   \n",
       "Young Guns (1988)                                  0.057132      0.035488   \n",
       "Young Guns II (1990)                               0.025560      0.022169   \n",
       "Young Poisoner's Handbook, The (1995)              0.016375      0.074051   \n",
       "\n",
       "titulo                                 Absolute Power (1997)  \\\n",
       "titulo                                                         \n",
       "101 Dalmatians (1996)                               0.221025   \n",
       "12 Angry Men (1957)                                 0.019790   \n",
       "187 (1997)                                          0.127531   \n",
       "2 Days in the Valley (1996)                         0.245191   \n",
       "20,000 Leagues Under the Sea (1954)                 0.117512   \n",
       "...                                                      ...   \n",
       "Wyatt Earp (1994)                                   0.121793   \n",
       "Young Frankenstein (1974)                           0.100104   \n",
       "Young Guns (1988)                                   0.136609   \n",
       "Young Guns II (1990)                                0.135415   \n",
       "Young Poisoner's Handbook, The (1995)               0.042236   \n",
       "\n",
       "titulo                                 Abyss, The (1989)  ...  \\\n",
       "titulo                                                    ...   \n",
       "101 Dalmatians (1996)                           0.121153  ...   \n",
       "12 Angry Men (1957)                             0.156721  ...   \n",
       "187 (1997)                                      0.017270  ...   \n",
       "2 Days in the Valley (1996)                     0.129204  ...   \n",
       "20,000 Leagues Under the Sea (1954)             0.231247  ...   \n",
       "...                                                  ...  ...   \n",
       "Wyatt Earp (1994)                               0.166022  ...   \n",
       "Young Frankenstein (1974)                       0.204965  ...   \n",
       "Young Guns (1988)                               0.310994  ...   \n",
       "Young Guns II (1990)                            0.210445  ...   \n",
       "Young Poisoner's Handbook, The (1995)           0.046175  ...   \n",
       "\n",
       "titulo                                 Wishmaster (1997)  With Honors (1994)  \\\n",
       "titulo                                                                         \n",
       "101 Dalmatians (1996)                           0.013164            0.112220   \n",
       "12 Angry Men (1957)                            -0.037797            0.113281   \n",
       "187 (1997)                                      0.229842           -0.021639   \n",
       "2 Days in the Valley (1996)                    -0.029181            0.113570   \n",
       "20,000 Leagues Under the Sea (1954)            -0.008650            0.111092   \n",
       "...                                                  ...                 ...   \n",
       "Wyatt Earp (1994)                              -0.018134            0.193267   \n",
       "Young Frankenstein (1974)                      -0.062768            0.129930   \n",
       "Young Guns (1988)                              -0.043065            0.342480   \n",
       "Young Guns II (1990)                           -0.030984            0.310381   \n",
       "Young Poisoner's Handbook, The (1995)          -0.001829           -0.009260   \n",
       "\n",
       "titulo                                 Wizard of Oz, The (1939)  Wolf (1994)  \\\n",
       "titulo                                                                         \n",
       "101 Dalmatians (1996)                                  0.124633     0.057741   \n",
       "12 Angry Men (1957)                                    0.287779     0.048741   \n",
       "187 (1997)                                             0.030288     0.084986   \n",
       "2 Days in the Valley (1996)                            0.069162     0.087568   \n",
       "20,000 Leagues Under the Sea (1954)                    0.338880     0.244088   \n",
       "...                                                         ...          ...   \n",
       "Wyatt Earp (1994)                                      0.246124     0.185584   \n",
       "Young Frankenstein (1974)                              0.444625     0.190200   \n",
       "Young Guns (1988)                                      0.244091     0.331909   \n",
       "Young Guns II (1990)                                   0.107492     0.229470   \n",
       "Young Poisoner's Handbook, The (1995)                  0.012003     0.123769   \n",
       "\n",
       "titulo                                 Wrong Trousers, The (1993)  \\\n",
       "titulo                                                              \n",
       "101 Dalmatians (1996)                                    0.074635   \n",
       "12 Angry Men (1957)                                      0.170189   \n",
       "187 (1997)                                              -0.025833   \n",
       "2 Days in the Valley (1996)                              0.028208   \n",
       "20,000 Leagues Under the Sea (1954)                      0.101581   \n",
       "...                                                           ...   \n",
       "Wyatt Earp (1994)                                        0.048645   \n",
       "Young Frankenstein (1974)                                0.313386   \n",
       "Young Guns (1988)                                        0.090600   \n",
       "Young Guns II (1990)                                     0.033696   \n",
       "Young Poisoner's Handbook, The (1995)                    0.082699   \n",
       "\n",
       "titulo                                 Wyatt Earp (1994)  \\\n",
       "titulo                                                     \n",
       "101 Dalmatians (1996)                           0.109054   \n",
       "12 Angry Men (1957)                             0.160140   \n",
       "187 (1997)                                     -0.000838   \n",
       "2 Days in the Valley (1996)                     0.116497   \n",
       "20,000 Leagues Under the Sea (1954)             0.286848   \n",
       "...                                                  ...   \n",
       "Wyatt Earp (1994)                               1.000000   \n",
       "Young Frankenstein (1974)                       0.242159   \n",
       "Young Guns (1988)                               0.336002   \n",
       "Young Guns II (1990)                            0.202880   \n",
       "Young Poisoner's Handbook, The (1995)           0.018951   \n",
       "\n",
       "titulo                                 Young Frankenstein (1974)  \\\n",
       "titulo                                                             \n",
       "101 Dalmatians (1996)                                   0.155450   \n",
       "12 Angry Men (1957)                                     0.290188   \n",
       "187 (1997)                                             -0.021873   \n",
       "2 Days in the Valley (1996)                             0.061328   \n",
       "20,000 Leagues Under the Sea (1954)                     0.309511   \n",
       "...                                                          ...   \n",
       "Wyatt Earp (1994)                                       0.242159   \n",
       "Young Frankenstein (1974)                               1.000000   \n",
       "Young Guns (1988)                                       0.294564   \n",
       "Young Guns II (1990)                                    0.188973   \n",
       "Young Poisoner's Handbook, The (1995)                   0.051973   \n",
       "\n",
       "titulo                                 Young Guns (1988)  \\\n",
       "titulo                                                     \n",
       "101 Dalmatians (1996)                           0.115195   \n",
       "12 Angry Men (1957)                             0.164959   \n",
       "187 (1997)                                      0.006811   \n",
       "2 Days in the Valley (1996)                     0.197620   \n",
       "20,000 Leagues Under the Sea (1954)             0.243306   \n",
       "...                                                  ...   \n",
       "Wyatt Earp (1994)                               0.336002   \n",
       "Young Frankenstein (1974)                       0.294564   \n",
       "Young Guns (1988)                               1.000000   \n",
       "Young Guns II (1990)                            0.599633   \n",
       "Young Poisoner's Handbook, The (1995)           0.037991   \n",
       "\n",
       "titulo                                 Young Guns II (1990)  \\\n",
       "titulo                                                        \n",
       "101 Dalmatians (1996)                              0.039172   \n",
       "12 Angry Men (1957)                                0.079341   \n",
       "187 (1997)                                         0.053843   \n",
       "2 Days in the Valley (1996)                        0.176032   \n",
       "20,000 Leagues Under the Sea (1954)                0.057977   \n",
       "...                                                     ...   \n",
       "Wyatt Earp (1994)                                  0.202880   \n",
       "Young Frankenstein (1974)                          0.188973   \n",
       "Young Guns (1988)                                  0.599633   \n",
       "Young Guns II (1990)                               1.000000   \n",
       "Young Poisoner's Handbook, The (1995)              0.012340   \n",
       "\n",
       "titulo                                 Young Poisoner's Handbook, The (1995)  \n",
       "titulo                                                                        \n",
       "101 Dalmatians (1996)                                              -0.005917  \n",
       "12 Angry Men (1957)                                                 0.038111  \n",
       "187 (1997)                                                          0.063789  \n",
       "2 Days in the Valley (1996)                                         0.146777  \n",
       "20,000 Leagues Under the Sea (1954)                                 0.071111  \n",
       "...                                                                      ...  \n",
       "Wyatt Earp (1994)                                                   0.018951  \n",
       "Young Frankenstein (1974)                                           0.051973  \n",
       "Young Guns (1988)                                                   0.037991  \n",
       "Young Guns II (1990)                                                0.012340  \n",
       "Young Poisoner's Handbook, The (1995)                               1.000000  \n",
       "\n",
       "[931 rows x 931 columns]"
      ],
      "text/html": "<div>\n<style scoped>\n    .dataframe tbody tr th:only-of-type {\n        vertical-align: middle;\n    }\n\n    .dataframe tbody tr th {\n        vertical-align: top;\n    }\n\n    .dataframe thead th {\n        text-align: right;\n    }\n</style>\n<table border=\"1\" class=\"dataframe\">\n  <thead>\n    <tr style=\"text-align: right;\">\n      <th>titulo</th>\n      <th>101 Dalmatians (1996)</th>\n      <th>12 Angry Men (1957)</th>\n      <th>187 (1997)</th>\n      <th>2 Days in the Valley (1996)</th>\n      <th>20,000 Leagues Under the Sea (1954)</th>\n      <th>2001: A Space Odyssey (1968)</th>\n      <th>39 Steps, The (1935)</th>\n      <th>8 1/2 (1963)</th>\n      <th>Absolute Power (1997)</th>\n      <th>Abyss, The (1989)</th>\n      <th>...</th>\n      <th>Wishmaster (1997)</th>\n      <th>With Honors (1994)</th>\n      <th>Wizard of Oz, The (1939)</th>\n      <th>Wolf (1994)</th>\n      <th>Wrong Trousers, The (1993)</th>\n      <th>Wyatt Earp (1994)</th>\n      <th>Young Frankenstein (1974)</th>\n      <th>Young Guns (1988)</th>\n      <th>Young Guns II (1990)</th>\n      <th>Young Poisoner's Handbook, The (1995)</th>\n    </tr>\n    <tr>\n      <th>titulo</th>\n      <th></th>\n      <th></th>\n      <th></th>\n      <th></th>\n      <th></th>\n      <th></th>\n      <th></th>\n      <th></th>\n      <th></th>\n      <th></th>\n      <th></th>\n      <th></th>\n      <th></th>\n      <th></th>\n      <th></th>\n      <th></th>\n      <th></th>\n      <th></th>\n      <th></th>\n      <th></th>\n      <th></th>\n    </tr>\n  </thead>\n  <tbody>\n    <tr>\n      <th>101 Dalmatians (1996)</th>\n      <td>1.000000</td>\n      <td>0.059246</td>\n      <td>-0.001097</td>\n      <td>0.052877</td>\n      <td>0.128745</td>\n      <td>0.078260</td>\n      <td>0.015504</td>\n      <td>0.005750</td>\n      <td>0.221025</td>\n      <td>0.121153</td>\n      <td>...</td>\n      <td>0.013164</td>\n      <td>0.112220</td>\n      <td>0.124633</td>\n      <td>0.057741</td>\n      <td>0.074635</td>\n      <td>0.109054</td>\n      <td>0.155450</td>\n      <td>0.115195</td>\n      <td>0.039172</td>\n      <td>-0.005917</td>\n    </tr>\n    <tr>\n      <th>12 Angry Men (1957)</th>\n      <td>0.059246</td>\n      <td>1.000000</td>\n      <td>-0.014343</td>\n      <td>0.066339</td>\n      <td>0.230274</td>\n      <td>0.298716</td>\n      <td>0.339195</td>\n      <td>0.174500</td>\n      <td>0.019790</td>\n      <td>0.156721</td>\n      <td>...</td>\n      <td>-0.037797</td>\n      <td>0.113281</td>\n      <td>0.287779</td>\n      <td>0.048741</td>\n      <td>0.170189</td>\n      <td>0.160140</td>\n      <td>0.290188</td>\n      <td>0.164959</td>\n      <td>0.079341</td>\n      <td>0.038111</td>\n    </tr>\n    <tr>\n      <th>187 (1997)</th>\n      <td>-0.001097</td>\n      <td>-0.014343</td>\n      <td>1.000000</td>\n      <td>0.078770</td>\n      <td>-0.010333</td>\n      <td>-0.039939</td>\n      <td>-0.021414</td>\n      <td>-0.006246</td>\n      <td>0.127531</td>\n      <td>0.017270</td>\n      <td>...</td>\n      <td>0.229842</td>\n      <td>-0.021639</td>\n      <td>0.030288</td>\n      <td>0.084986</td>\n      <td>-0.025833</td>\n      <td>-0.000838</td>\n      <td>-0.021873</td>\n      <td>0.006811</td>\n      <td>0.053843</td>\n      <td>0.063789</td>\n    </tr>\n    <tr>\n      <th>2 Days in the Valley (1996)</th>\n      <td>0.052877</td>\n      <td>0.066339</td>\n      <td>0.078770</td>\n      <td>1.000000</td>\n      <td>0.056283</td>\n      <td>0.090983</td>\n      <td>-0.019962</td>\n      <td>-0.008210</td>\n      <td>0.245191</td>\n      <td>0.129204</td>\n      <td>...</td>\n      <td>-0.029181</td>\n      <td>0.113570</td>\n      <td>0.069162</td>\n      <td>0.087568</td>\n      <td>0.028208</td>\n      <td>0.116497</td>\n      <td>0.061328</td>\n      <td>0.197620</td>\n      <td>0.176032</td>\n      <td>0.146777</td>\n    </tr>\n    <tr>\n      <th>20,000 Leagues Under the Sea (1954)</th>\n      <td>0.128745</td>\n      <td>0.230274</td>\n      <td>-0.010333</td>\n      <td>0.056283</td>\n      <td>1.000000</td>\n      <td>0.384535</td>\n      <td>0.274525</td>\n      <td>0.118108</td>\n      <td>0.117512</td>\n      <td>0.231247</td>\n      <td>...</td>\n      <td>-0.008650</td>\n      <td>0.111092</td>\n      <td>0.338880</td>\n      <td>0.244088</td>\n      <td>0.101581</td>\n      <td>0.286848</td>\n      <td>0.309511</td>\n      <td>0.243306</td>\n      <td>0.057977</td>\n      <td>0.071111</td>\n    </tr>\n    <tr>\n      <th>...</th>\n      <td>...</td>\n      <td>...</td>\n      <td>...</td>\n      <td>...</td>\n      <td>...</td>\n      <td>...</td>\n      <td>...</td>\n      <td>...</td>\n      <td>...</td>\n      <td>...</td>\n      <td>...</td>\n      <td>...</td>\n      <td>...</td>\n      <td>...</td>\n      <td>...</td>\n      <td>...</td>\n      <td>...</td>\n      <td>...</td>\n      <td>...</td>\n      <td>...</td>\n      <td>...</td>\n    </tr>\n    <tr>\n      <th>Wyatt Earp (1994)</th>\n      <td>0.109054</td>\n      <td>0.160140</td>\n      <td>-0.000838</td>\n      <td>0.116497</td>\n      <td>0.286848</td>\n      <td>0.183051</td>\n      <td>0.137189</td>\n      <td>0.041004</td>\n      <td>0.121793</td>\n      <td>0.166022</td>\n      <td>...</td>\n      <td>-0.018134</td>\n      <td>0.193267</td>\n      <td>0.246124</td>\n      <td>0.185584</td>\n      <td>0.048645</td>\n      <td>1.000000</td>\n      <td>0.242159</td>\n      <td>0.336002</td>\n      <td>0.202880</td>\n      <td>0.018951</td>\n    </tr>\n    <tr>\n      <th>Young Frankenstein (1974)</th>\n      <td>0.155450</td>\n      <td>0.290188</td>\n      <td>-0.021873</td>\n      <td>0.061328</td>\n      <td>0.309511</td>\n      <td>0.429298</td>\n      <td>0.205543</td>\n      <td>0.170677</td>\n      <td>0.100104</td>\n      <td>0.204965</td>\n      <td>...</td>\n      <td>-0.062768</td>\n      <td>0.129930</td>\n      <td>0.444625</td>\n      <td>0.190200</td>\n      <td>0.313386</td>\n      <td>0.242159</td>\n      <td>1.000000</td>\n      <td>0.294564</td>\n      <td>0.188973</td>\n      <td>0.051973</td>\n    </tr>\n    <tr>\n      <th>Young Guns (1988)</th>\n      <td>0.115195</td>\n      <td>0.164959</td>\n      <td>0.006811</td>\n      <td>0.197620</td>\n      <td>0.243306</td>\n      <td>0.168440</td>\n      <td>0.057132</td>\n      <td>0.035488</td>\n      <td>0.136609</td>\n      <td>0.310994</td>\n      <td>...</td>\n      <td>-0.043065</td>\n      <td>0.342480</td>\n      <td>0.244091</td>\n      <td>0.331909</td>\n      <td>0.090600</td>\n      <td>0.336002</td>\n      <td>0.294564</td>\n      <td>1.000000</td>\n      <td>0.599633</td>\n      <td>0.037991</td>\n    </tr>\n    <tr>\n      <th>Young Guns II (1990)</th>\n      <td>0.039172</td>\n      <td>0.079341</td>\n      <td>0.053843</td>\n      <td>0.176032</td>\n      <td>0.057977</td>\n      <td>0.071705</td>\n      <td>0.025560</td>\n      <td>0.022169</td>\n      <td>0.135415</td>\n      <td>0.210445</td>\n      <td>...</td>\n      <td>-0.030984</td>\n      <td>0.310381</td>\n      <td>0.107492</td>\n      <td>0.229470</td>\n      <td>0.033696</td>\n      <td>0.202880</td>\n      <td>0.188973</td>\n      <td>0.599633</td>\n      <td>1.000000</td>\n      <td>0.012340</td>\n    </tr>\n    <tr>\n      <th>Young Poisoner's Handbook, The (1995)</th>\n      <td>-0.005917</td>\n      <td>0.038111</td>\n      <td>0.063789</td>\n      <td>0.146777</td>\n      <td>0.071111</td>\n      <td>0.065870</td>\n      <td>0.016375</td>\n      <td>0.074051</td>\n      <td>0.042236</td>\n      <td>0.046175</td>\n      <td>...</td>\n      <td>-0.001829</td>\n      <td>-0.009260</td>\n      <td>0.012003</td>\n      <td>0.123769</td>\n      <td>0.082699</td>\n      <td>0.018951</td>\n      <td>0.051973</td>\n      <td>0.037991</td>\n      <td>0.012340</td>\n      <td>1.000000</td>\n    </tr>\n  </tbody>\n</table>\n<p>931 rows × 931 columns</p>\n</div>"
     },
     "metadata": {},
     "execution_count": 22
    }
   ],
   "source": [
    "pd.DataFrame(item_similarity_cos_array, columns = matriz_user_movie.columns, index = matriz_user_movie.columns) # linhas e colunas tem que ser os mesmos para comparar filme com filme"
   ]
  },
  {
   "source": [
    "- user user"
   ],
   "cell_type": "markdown",
   "metadata": {}
  },
  {
   "cell_type": "code",
   "execution_count": 23,
   "metadata": {},
   "outputs": [],
   "source": [
    "user_similarity_cos_array = cosine_similarity(matriz_user_movie_std)"
   ]
  },
  {
   "cell_type": "code",
   "execution_count": 25,
   "metadata": {},
   "outputs": [],
   "source": [
    "user_similarity_cos = pd.DataFrame(data = user_similarity_cos_array, columns= matriz_user_movie_std.index, index = matriz_user_movie_std.index)"
   ]
  },
  {
   "cell_type": "code",
   "execution_count": 26,
   "metadata": {},
   "outputs": [
    {
     "output_type": "execute_result",
     "data": {
      "text/plain": [
       "userID         1        10       100       101       102       103       104  \\\n",
       "userID                                                                         \n",
       "1       1.000000  0.178006 -0.318752 -0.226223  0.132059 -0.214724 -0.137771   \n",
       "10      0.178006  1.000000 -0.229760 -0.300916  0.008036 -0.221145 -0.169165   \n",
       "100    -0.318752 -0.229760  1.000000  0.036681 -0.077775  0.112515  0.313202   \n",
       "101    -0.226223 -0.300916  0.036681  1.000000 -0.142673  0.312585  0.136985   \n",
       "102     0.132059  0.008036 -0.077775 -0.142673  1.000000 -0.091156 -0.109980   \n",
       "...          ...       ...       ...       ...       ...       ...       ...   \n",
       "95      0.286619  0.163921 -0.339362 -0.193674  0.148880 -0.208851 -0.247538   \n",
       "96      0.073220  0.095661 -0.138929 -0.084367 -0.007165  0.062305 -0.162895   \n",
       "97      0.060490  0.054333 -0.131855 -0.092007  0.036193 -0.021983 -0.199783   \n",
       "98     -0.238304 -0.150090  0.167461  0.103540 -0.074618  0.180513 -0.036146   \n",
       "99     -0.012014 -0.093750 -0.031098  0.132460 -0.003681 -0.051440  0.166808   \n",
       "\n",
       "userID       105       106       107  ...        94       940       941  \\\n",
       "userID                                ...                                 \n",
       "1      -0.339268 -0.011707 -0.365434  ...  0.314323  0.012126 -0.273305   \n",
       "10     -0.268118  0.024535 -0.249104  ...  0.226584  0.094162 -0.248245   \n",
       "100     0.600075 -0.000114  0.472718  ... -0.320118  0.121722  0.206765   \n",
       "101     0.126928 -0.054859  0.164268  ... -0.257524 -0.171581  0.271561   \n",
       "102    -0.114632 -0.174891 -0.164364  ...  0.178645  0.026833 -0.133853   \n",
       "...          ...       ...       ...  ...       ...       ...       ...   \n",
       "95     -0.417163 -0.029568 -0.423099  ...  0.372986  0.027153 -0.310877   \n",
       "96     -0.112220 -0.018528 -0.080525  ...  0.017562  0.023318 -0.021039   \n",
       "97     -0.107597 -0.014802 -0.078239  ... -0.012960  0.056900  0.024477   \n",
       "98      0.268451  0.189775  0.343039  ... -0.284980 -0.026047  0.213050   \n",
       "99     -0.148163 -0.085742 -0.161640  ...  0.054415  0.043272 -0.000420   \n",
       "\n",
       "userID       942       943        95        96        97        98        99  \n",
       "userID                                                                        \n",
       "1      -0.116517  0.179387  0.286619  0.073220  0.060490 -0.238304 -0.012014  \n",
       "10     -0.029100 -0.035952  0.163921  0.095661  0.054333 -0.150090 -0.093750  \n",
       "100     0.147925 -0.256714 -0.339362 -0.138929 -0.131855  0.167461 -0.031098  \n",
       "101    -0.068324 -0.018433 -0.193674 -0.084367 -0.092007  0.103540  0.132460  \n",
       "102    -0.064358  0.140316  0.148880 -0.007165  0.036193 -0.074618 -0.003681  \n",
       "...          ...       ...       ...       ...       ...       ...       ...  \n",
       "95     -0.025913  0.173934  1.000000  0.043117  0.059863 -0.236262 -0.017196  \n",
       "96      0.048056  0.039918  0.043117  1.000000  0.126644 -0.005288 -0.068642  \n",
       "97      0.041863  0.011986  0.059863  0.126644  1.000000  0.040461 -0.127295  \n",
       "98      0.045268 -0.162336 -0.236262 -0.005288  0.040461  1.000000 -0.147770  \n",
       "99     -0.080058  0.134622 -0.017196 -0.068642 -0.127295 -0.147770  1.000000  \n",
       "\n",
       "[943 rows x 943 columns]"
      ],
      "text/html": "<div>\n<style scoped>\n    .dataframe tbody tr th:only-of-type {\n        vertical-align: middle;\n    }\n\n    .dataframe tbody tr th {\n        vertical-align: top;\n    }\n\n    .dataframe thead th {\n        text-align: right;\n    }\n</style>\n<table border=\"1\" class=\"dataframe\">\n  <thead>\n    <tr style=\"text-align: right;\">\n      <th>userID</th>\n      <th>1</th>\n      <th>10</th>\n      <th>100</th>\n      <th>101</th>\n      <th>102</th>\n      <th>103</th>\n      <th>104</th>\n      <th>105</th>\n      <th>106</th>\n      <th>107</th>\n      <th>...</th>\n      <th>94</th>\n      <th>940</th>\n      <th>941</th>\n      <th>942</th>\n      <th>943</th>\n      <th>95</th>\n      <th>96</th>\n      <th>97</th>\n      <th>98</th>\n      <th>99</th>\n    </tr>\n    <tr>\n      <th>userID</th>\n      <th></th>\n      <th></th>\n      <th></th>\n      <th></th>\n      <th></th>\n      <th></th>\n      <th></th>\n      <th></th>\n      <th></th>\n      <th></th>\n      <th></th>\n      <th></th>\n      <th></th>\n      <th></th>\n      <th></th>\n      <th></th>\n      <th></th>\n      <th></th>\n      <th></th>\n      <th></th>\n      <th></th>\n    </tr>\n  </thead>\n  <tbody>\n    <tr>\n      <th>1</th>\n      <td>1.000000</td>\n      <td>0.178006</td>\n      <td>-0.318752</td>\n      <td>-0.226223</td>\n      <td>0.132059</td>\n      <td>-0.214724</td>\n      <td>-0.137771</td>\n      <td>-0.339268</td>\n      <td>-0.011707</td>\n      <td>-0.365434</td>\n      <td>...</td>\n      <td>0.314323</td>\n      <td>0.012126</td>\n      <td>-0.273305</td>\n      <td>-0.116517</td>\n      <td>0.179387</td>\n      <td>0.286619</td>\n      <td>0.073220</td>\n      <td>0.060490</td>\n      <td>-0.238304</td>\n      <td>-0.012014</td>\n    </tr>\n    <tr>\n      <th>10</th>\n      <td>0.178006</td>\n      <td>1.000000</td>\n      <td>-0.229760</td>\n      <td>-0.300916</td>\n      <td>0.008036</td>\n      <td>-0.221145</td>\n      <td>-0.169165</td>\n      <td>-0.268118</td>\n      <td>0.024535</td>\n      <td>-0.249104</td>\n      <td>...</td>\n      <td>0.226584</td>\n      <td>0.094162</td>\n      <td>-0.248245</td>\n      <td>-0.029100</td>\n      <td>-0.035952</td>\n      <td>0.163921</td>\n      <td>0.095661</td>\n      <td>0.054333</td>\n      <td>-0.150090</td>\n      <td>-0.093750</td>\n    </tr>\n    <tr>\n      <th>100</th>\n      <td>-0.318752</td>\n      <td>-0.229760</td>\n      <td>1.000000</td>\n      <td>0.036681</td>\n      <td>-0.077775</td>\n      <td>0.112515</td>\n      <td>0.313202</td>\n      <td>0.600075</td>\n      <td>-0.000114</td>\n      <td>0.472718</td>\n      <td>...</td>\n      <td>-0.320118</td>\n      <td>0.121722</td>\n      <td>0.206765</td>\n      <td>0.147925</td>\n      <td>-0.256714</td>\n      <td>-0.339362</td>\n      <td>-0.138929</td>\n      <td>-0.131855</td>\n      <td>0.167461</td>\n      <td>-0.031098</td>\n    </tr>\n    <tr>\n      <th>101</th>\n      <td>-0.226223</td>\n      <td>-0.300916</td>\n      <td>0.036681</td>\n      <td>1.000000</td>\n      <td>-0.142673</td>\n      <td>0.312585</td>\n      <td>0.136985</td>\n      <td>0.126928</td>\n      <td>-0.054859</td>\n      <td>0.164268</td>\n      <td>...</td>\n      <td>-0.257524</td>\n      <td>-0.171581</td>\n      <td>0.271561</td>\n      <td>-0.068324</td>\n      <td>-0.018433</td>\n      <td>-0.193674</td>\n      <td>-0.084367</td>\n      <td>-0.092007</td>\n      <td>0.103540</td>\n      <td>0.132460</td>\n    </tr>\n    <tr>\n      <th>102</th>\n      <td>0.132059</td>\n      <td>0.008036</td>\n      <td>-0.077775</td>\n      <td>-0.142673</td>\n      <td>1.000000</td>\n      <td>-0.091156</td>\n      <td>-0.109980</td>\n      <td>-0.114632</td>\n      <td>-0.174891</td>\n      <td>-0.164364</td>\n      <td>...</td>\n      <td>0.178645</td>\n      <td>0.026833</td>\n      <td>-0.133853</td>\n      <td>-0.064358</td>\n      <td>0.140316</td>\n      <td>0.148880</td>\n      <td>-0.007165</td>\n      <td>0.036193</td>\n      <td>-0.074618</td>\n      <td>-0.003681</td>\n    </tr>\n    <tr>\n      <th>...</th>\n      <td>...</td>\n      <td>...</td>\n      <td>...</td>\n      <td>...</td>\n      <td>...</td>\n      <td>...</td>\n      <td>...</td>\n      <td>...</td>\n      <td>...</td>\n      <td>...</td>\n      <td>...</td>\n      <td>...</td>\n      <td>...</td>\n      <td>...</td>\n      <td>...</td>\n      <td>...</td>\n      <td>...</td>\n      <td>...</td>\n      <td>...</td>\n      <td>...</td>\n      <td>...</td>\n    </tr>\n    <tr>\n      <th>95</th>\n      <td>0.286619</td>\n      <td>0.163921</td>\n      <td>-0.339362</td>\n      <td>-0.193674</td>\n      <td>0.148880</td>\n      <td>-0.208851</td>\n      <td>-0.247538</td>\n      <td>-0.417163</td>\n      <td>-0.029568</td>\n      <td>-0.423099</td>\n      <td>...</td>\n      <td>0.372986</td>\n      <td>0.027153</td>\n      <td>-0.310877</td>\n      <td>-0.025913</td>\n      <td>0.173934</td>\n      <td>1.000000</td>\n      <td>0.043117</td>\n      <td>0.059863</td>\n      <td>-0.236262</td>\n      <td>-0.017196</td>\n    </tr>\n    <tr>\n      <th>96</th>\n      <td>0.073220</td>\n      <td>0.095661</td>\n      <td>-0.138929</td>\n      <td>-0.084367</td>\n      <td>-0.007165</td>\n      <td>0.062305</td>\n      <td>-0.162895</td>\n      <td>-0.112220</td>\n      <td>-0.018528</td>\n      <td>-0.080525</td>\n      <td>...</td>\n      <td>0.017562</td>\n      <td>0.023318</td>\n      <td>-0.021039</td>\n      <td>0.048056</td>\n      <td>0.039918</td>\n      <td>0.043117</td>\n      <td>1.000000</td>\n      <td>0.126644</td>\n      <td>-0.005288</td>\n      <td>-0.068642</td>\n    </tr>\n    <tr>\n      <th>97</th>\n      <td>0.060490</td>\n      <td>0.054333</td>\n      <td>-0.131855</td>\n      <td>-0.092007</td>\n      <td>0.036193</td>\n      <td>-0.021983</td>\n      <td>-0.199783</td>\n      <td>-0.107597</td>\n      <td>-0.014802</td>\n      <td>-0.078239</td>\n      <td>...</td>\n      <td>-0.012960</td>\n      <td>0.056900</td>\n      <td>0.024477</td>\n      <td>0.041863</td>\n      <td>0.011986</td>\n      <td>0.059863</td>\n      <td>0.126644</td>\n      <td>1.000000</td>\n      <td>0.040461</td>\n      <td>-0.127295</td>\n    </tr>\n    <tr>\n      <th>98</th>\n      <td>-0.238304</td>\n      <td>-0.150090</td>\n      <td>0.167461</td>\n      <td>0.103540</td>\n      <td>-0.074618</td>\n      <td>0.180513</td>\n      <td>-0.036146</td>\n      <td>0.268451</td>\n      <td>0.189775</td>\n      <td>0.343039</td>\n      <td>...</td>\n      <td>-0.284980</td>\n      <td>-0.026047</td>\n      <td>0.213050</td>\n      <td>0.045268</td>\n      <td>-0.162336</td>\n      <td>-0.236262</td>\n      <td>-0.005288</td>\n      <td>0.040461</td>\n      <td>1.000000</td>\n      <td>-0.147770</td>\n    </tr>\n    <tr>\n      <th>99</th>\n      <td>-0.012014</td>\n      <td>-0.093750</td>\n      <td>-0.031098</td>\n      <td>0.132460</td>\n      <td>-0.003681</td>\n      <td>-0.051440</td>\n      <td>0.166808</td>\n      <td>-0.148163</td>\n      <td>-0.085742</td>\n      <td>-0.161640</td>\n      <td>...</td>\n      <td>0.054415</td>\n      <td>0.043272</td>\n      <td>-0.000420</td>\n      <td>-0.080058</td>\n      <td>0.134622</td>\n      <td>-0.017196</td>\n      <td>-0.068642</td>\n      <td>-0.127295</td>\n      <td>-0.147770</td>\n      <td>1.000000</td>\n    </tr>\n  </tbody>\n</table>\n<p>943 rows × 943 columns</p>\n</div>"
     },
     "metadata": {},
     "execution_count": 26
    }
   ],
   "source": [
    "user_similarity_cos"
   ]
  },
  {
   "source": [
    "- Correlação de Pearson"
   ],
   "cell_type": "markdown",
   "metadata": {}
  },
  {
   "cell_type": "code",
   "execution_count": 27,
   "metadata": {},
   "outputs": [],
   "source": [
    "item_similarity_pearson = matriz_user_movie.corr(method='pearson')"
   ]
  },
  {
   "cell_type": "code",
   "execution_count": 28,
   "metadata": {},
   "outputs": [],
   "source": [
    "user_similarity_pearson = matriz_user_movie.T\n",
    "user_similarity_pearson = user_similarity_pearson.corr(method='pearson')"
   ]
  },
  {
   "cell_type": "code",
   "execution_count": 29,
   "metadata": {},
   "outputs": [],
   "source": [
    "def get_similar_user(user_ID, rating):\n",
    "\n",
    "    similar = user_similarity_pearson[user_ID]*rating\n",
    "    similar = similar.sort_values(ascending=False)\n",
    "\n",
    "    return similar.head()\n"
   ]
  },
  {
   "cell_type": "code",
   "execution_count": 30,
   "metadata": {},
   "outputs": [
    {
     "output_type": "execute_result",
     "data": {
      "text/plain": [
       "userID\n",
       "1      2.000000\n",
       "738    0.877237\n",
       "916    0.865305\n",
       "823    0.823124\n",
       "864    0.820653\n",
       "Name: 1, dtype: float64"
      ]
     },
     "metadata": {},
     "execution_count": 30
    }
   ],
   "source": [
    "user_1 = get_similar_user('1', 2)\n",
    "user_1"
   ]
  },
  {
   "cell_type": "code",
   "execution_count": null,
   "metadata": {},
   "outputs": [],
   "source": []
  }
 ]
}