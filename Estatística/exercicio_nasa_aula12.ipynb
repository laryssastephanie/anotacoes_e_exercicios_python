{
 "metadata": {
  "language_info": {
   "codemirror_mode": {
    "name": "ipython",
    "version": 3
   },
   "file_extension": ".py",
   "mimetype": "text/x-python",
   "name": "python",
   "nbconvert_exporter": "python",
   "pygments_lexer": "ipython3",
   "version": "3.8.5"
  },
  "orig_nbformat": 2,
  "kernelspec": {
   "name": "python385jvsc74a57bd031f2aee4e71d21fbe5cf8b01ff0e069b9275f58929596ceb00d14d90e3e16cd6",
   "display_name": "Python 3.8.5 64-bit"
  },
  "metadata": {
   "interpreter": {
    "hash": "31f2aee4e71d21fbe5cf8b01ff0e069b9275f58929596ceb00d14d90e3e16cd6"
   }
  }
 },
 "nbformat": 4,
 "nbformat_minor": 2,
 "cells": [
  {
   "cell_type": "code",
   "execution_count": 102,
   "metadata": {},
   "outputs": [],
   "source": [
    "import pandas as pd \n",
    "import numpy as np \n",
    "import requests \n"
   ]
  },
  {
   "cell_type": "code",
   "execution_count": 103,
   "metadata": {},
   "outputs": [],
   "source": [
    "numero_de_paginas = 5\n",
    "near_earth_objects = []\n",
    "\n",
    "for numero in range(1, numero_de_paginas + 1):\n",
    "    url=\"https://api.nasa.gov/neo/rest/v1/neo/browse?page={numero}&api_key=rsTSh621hbpy9PYSGpOdfvQIsobKdfja2EtMB2HW\"\n",
    "    respone=requests.get(url)\n",
    "    data=resp.json()\n",
    "    near_earth_objects += data[\"near_earth_objects\"]"
   ]
  },
  {
   "cell_type": "code",
   "execution_count": 104,
   "metadata": {},
   "outputs": [],
   "source": [
    "# url=\"https://api.nasa.gov/neo/rest/v1/neo/browse?page=0&api_key=rsTSh621hbpy9PYSGpOdfvQIsobKdfja2EtMB2HW\""
   ]
  },
  {
   "cell_type": "code",
   "execution_count": 105,
   "metadata": {},
   "outputs": [],
   "source": [
    "# resp = requests.get(url)"
   ]
  },
  {
   "cell_type": "code",
   "execution_count": 106,
   "metadata": {},
   "outputs": [],
   "source": [
    "# data = resp.json() # retornar o formato da resposta como um json\n",
    "# ja faz onversão para um dicionario do python"
   ]
  },
  {
   "cell_type": "code",
   "execution_count": 107,
   "metadata": {},
   "outputs": [
    {
     "output_type": "execute_result",
     "data": {
      "text/plain": [
       "dict_keys(['links', 'page', 'near_earth_objects'])"
      ]
     },
     "metadata": {},
     "execution_count": 107
    }
   ],
   "source": [
    "data.keys() # vai retornar as chaves"
   ]
  },
  {
   "cell_type": "code",
   "execution_count": 108,
   "metadata": {},
   "outputs": [
    {
     "output_type": "execute_result",
     "data": {
      "text/plain": [
       "{'size': 20, 'total_elements': 25981, 'total_pages': 1300, 'number': 0}"
      ]
     },
     "metadata": {},
     "execution_count": 108
    }
   ],
   "source": [
    "data['page']"
   ]
  },
  {
   "cell_type": "code",
   "execution_count": 187,
   "metadata": {},
   "outputs": [],
   "source": [
    "data['near_earth_objects'] # virá o conjunto de todos os asteroides"
   ]
  },
  {
   "cell_type": "code",
   "execution_count": 110,
   "metadata": {},
   "outputs": [
    {
     "output_type": "execute_result",
     "data": {
      "text/plain": [
       "'433 Eros (A898 PA)'"
      ]
     },
     "metadata": {},
     "execution_count": 110
    }
   ],
   "source": [
    "data['near_earth_objects'][0]['name'] # para saber o nome do asteroide no indice"
   ]
  },
  {
   "cell_type": "code",
   "execution_count": 111,
   "metadata": {},
   "outputs": [],
   "source": [
    "asteroids = {\"id\": [], \"nome\": [], \"perigoso\": [], \"diametro_min\": [], \"diametro_max\": [], \"primeira_obs\": [], \"ultima_obs\": []} \n",
    "# dict para criar dataset no pandas"
   ]
  },
  {
   "cell_type": "code",
   "execution_count": 112,
   "metadata": {},
   "outputs": [],
   "source": [
    "for asteroid in data['near_earth_objects']:\n",
    "    asteroids['id'].append(asteroid['id'])\n",
    "    asteroids['nome'].append(asteroid['name'])\n",
    "    asteroids['perigoso'].append(asteroid['is_potentially_hazardous_asteroid'])\n",
    "    asteroids['diametro_min'].append(asteroid['estimated_diameter']['kilometers']['estimated_diameter_min'])\n",
    "    asteroids['diametro_max'].append(asteroid['estimated_diameter']['kilometers']['estimated_diameter_max'])\n",
    "    asteroids['primeira_obs'].append(asteroid['orbital_data']['first_observation_date'])\n",
    "    asteroids['ultima_obs'].append(asteroid['orbital_data']['last_observation_date'])"
   ]
  },
  {
   "cell_type": "code",
   "execution_count": 188,
   "metadata": {},
   "outputs": [],
   "source": [
    "asteroids # retornará os dados "
   ]
  },
  {
   "cell_type": "code",
   "execution_count": 114,
   "metadata": {},
   "outputs": [],
   "source": [
    "asteroids_data = pd.DataFrame(asteroids, index=asteroids[\"id\"], columns=['nome', 'primeira_obs', 'ultima_obs', 'diametro_min', 'diametro_max', 'perigoso'])\n",
    "\n",
    "#pode dar erro de tamanho, verificar duas sessos acima se rodou mais de 1 vez"
   ]
  },
  {
   "cell_type": "code",
   "execution_count": 115,
   "metadata": {},
   "outputs": [
    {
     "output_type": "execute_result",
     "data": {
      "text/plain": [
       "                           nome primeira_obs  ultima_obs  diametro_min  \\\n",
       "2000433      433 Eros (A898 PA)   1893-10-29  2020-09-03     21.905591   \n",
       "2000719    719 Albert (A911 TB)   1911-10-04  2021-04-17      2.101624   \n",
       "2000887    887 Alinda (A918 AA)   1918-02-03  2021-05-23      4.534767   \n",
       "2001036  1036 Ganymed (A924 UB)   1924-10-23  2021-05-20     37.545248   \n",
       "2001221    1221 Amor (1932 EA1)   1932-03-12  2020-09-14      0.884209   \n",
       "\n",
       "         diametro_max  perigoso  \n",
       "2000433     48.982391     False  \n",
       "2000719      4.699374     False  \n",
       "2000887     10.140047     False  \n",
       "2001036     83.953727     False  \n",
       "2001221      1.977152     False  "
      ],
      "text/html": "<div>\n<style scoped>\n    .dataframe tbody tr th:only-of-type {\n        vertical-align: middle;\n    }\n\n    .dataframe tbody tr th {\n        vertical-align: top;\n    }\n\n    .dataframe thead th {\n        text-align: right;\n    }\n</style>\n<table border=\"1\" class=\"dataframe\">\n  <thead>\n    <tr style=\"text-align: right;\">\n      <th></th>\n      <th>nome</th>\n      <th>primeira_obs</th>\n      <th>ultima_obs</th>\n      <th>diametro_min</th>\n      <th>diametro_max</th>\n      <th>perigoso</th>\n    </tr>\n  </thead>\n  <tbody>\n    <tr>\n      <th>2000433</th>\n      <td>433 Eros (A898 PA)</td>\n      <td>1893-10-29</td>\n      <td>2020-09-03</td>\n      <td>21.905591</td>\n      <td>48.982391</td>\n      <td>False</td>\n    </tr>\n    <tr>\n      <th>2000719</th>\n      <td>719 Albert (A911 TB)</td>\n      <td>1911-10-04</td>\n      <td>2021-04-17</td>\n      <td>2.101624</td>\n      <td>4.699374</td>\n      <td>False</td>\n    </tr>\n    <tr>\n      <th>2000887</th>\n      <td>887 Alinda (A918 AA)</td>\n      <td>1918-02-03</td>\n      <td>2021-05-23</td>\n      <td>4.534767</td>\n      <td>10.140047</td>\n      <td>False</td>\n    </tr>\n    <tr>\n      <th>2001036</th>\n      <td>1036 Ganymed (A924 UB)</td>\n      <td>1924-10-23</td>\n      <td>2021-05-20</td>\n      <td>37.545248</td>\n      <td>83.953727</td>\n      <td>False</td>\n    </tr>\n    <tr>\n      <th>2001221</th>\n      <td>1221 Amor (1932 EA1)</td>\n      <td>1932-03-12</td>\n      <td>2020-09-14</td>\n      <td>0.884209</td>\n      <td>1.977152</td>\n      <td>False</td>\n    </tr>\n  </tbody>\n</table>\n</div>"
     },
     "metadata": {},
     "execution_count": 115
    }
   ],
   "source": [
    "asteroids_data.head()"
   ]
  },
  {
   "cell_type": "code",
   "execution_count": 116,
   "metadata": {},
   "outputs": [
    {
     "output_type": "stream",
     "name": "stdout",
     "text": [
      "<class 'pandas.core.frame.DataFrame'>\nIndex: 20 entries, 2000433 to 2001980\nData columns (total 6 columns):\n #   Column        Non-Null Count  Dtype  \n---  ------        --------------  -----  \n 0   nome          20 non-null     object \n 1   primeira_obs  20 non-null     object \n 2   ultima_obs    20 non-null     object \n 3   diametro_min  20 non-null     float64\n 4   diametro_max  20 non-null     float64\n 5   perigoso      20 non-null     bool   \ndtypes: bool(1), float64(2), object(3)\nmemory usage: 980.0+ bytes\n"
     ]
    }
   ],
   "source": [
    "asteroids_data.info()"
   ]
  },
  {
   "cell_type": "code",
   "execution_count": 117,
   "metadata": {},
   "outputs": [
    {
     "output_type": "execute_result",
     "data": {
      "text/plain": [
       "count        20\n",
       "unique        2\n",
       "top       False\n",
       "freq         17\n",
       "Name: perigoso, dtype: object"
      ]
     },
     "metadata": {},
     "execution_count": 117
    }
   ],
   "source": [
    "asteroids_data['perigoso'].describe()"
   ]
  },
  {
   "cell_type": "code",
   "execution_count": 118,
   "metadata": {},
   "outputs": [],
   "source": [
    "# Criar uma lista para receber os dados de aproximação de cada asteroide\n",
    "\n",
    "close_approach_date_list = []\n",
    "\n",
    "for item in near_earth_objects:\n",
    "    if \"close_approach_data\" in item:\n",
    "        close_approach_date_list.append((item[\"id\"], item[\"close_approach_data\"]))\n",
    "        del item[\"close_approach_data\"]\n",
    "# O item close_approach_data é uma lista de dicionarios de dados de aproximação\n",
    "# Deletar essa lista do dicionário near_earth_objects, pra não ficar em df"
   ]
  },
  {
   "cell_type": "code",
   "execution_count": 119,
   "metadata": {},
   "outputs": [],
   "source": [
    "# Gerar um dataframe com os dados de aproximação, a função json_normalize é usada para fazer um flat no dicionário\n",
    "# Faz com que todos os subdicionarios sejam trazidos para o primeiro nível\n",
    "# o novo nome será algo como key_keyinterna\n",
    "\n",
    "df = pd.json_normalize(near_earth_objects, sep='_')"
   ]
  },
  {
   "cell_type": "code",
   "execution_count": 120,
   "metadata": {},
   "outputs": [
    {
     "output_type": "execute_result",
     "data": {
      "text/plain": [
       "        id neo_reference_id                    name name_limited designation  \\\n",
       "0  2000433          2000433      433 Eros (A898 PA)         Eros         433   \n",
       "1  2000719          2000719    719 Albert (A911 TB)       Albert         719   \n",
       "2  2000887          2000887    887 Alinda (A918 AA)       Alinda         887   \n",
       "3  2001036          2001036  1036 Ganymed (A924 UB)      Ganymed        1036   \n",
       "4  2001221          2001221    1221 Amor (1932 EA1)         Amor        1221   \n",
       "\n",
       "                                    nasa_jpl_url  absolute_magnitude_h  \\\n",
       "0  http://ssd.jpl.nasa.gov/sbdb.cgi?sstr=2000433                 10.42   \n",
       "1  http://ssd.jpl.nasa.gov/sbdb.cgi?sstr=2000719                 15.51   \n",
       "2  http://ssd.jpl.nasa.gov/sbdb.cgi?sstr=2000887                 13.84   \n",
       "3  http://ssd.jpl.nasa.gov/sbdb.cgi?sstr=2001036                  9.25   \n",
       "4  http://ssd.jpl.nasa.gov/sbdb.cgi?sstr=2001221                 17.39   \n",
       "\n",
       "   is_potentially_hazardous_asteroid  is_sentry_object  \\\n",
       "0                              False             False   \n",
       "1                              False             False   \n",
       "2                              False             False   \n",
       "3                              False             False   \n",
       "4                              False             False   \n",
       "\n",
       "                                          links_self  ...  \\\n",
       "0  http://www.neowsapp.com/rest/v1/neo/2000433?ap...  ...   \n",
       "1  http://www.neowsapp.com/rest/v1/neo/2000719?ap...  ...   \n",
       "2  http://www.neowsapp.com/rest/v1/neo/2000887?ap...  ...   \n",
       "3  http://www.neowsapp.com/rest/v1/neo/2001036?ap...  ...   \n",
       "4  http://www.neowsapp.com/rest/v1/neo/2001221?ap...  ...   \n",
       "\n",
       "   orbital_data_perihelion_distance  orbital_data_perihelion_argument  \\\n",
       "0                 1.133004742235244                 178.8689344136611   \n",
       "1                 1.195921798940758                 156.1912159703744   \n",
       "2                 1.062574649224249                 350.5125087573783   \n",
       "3                 1.244392487592923                 132.3785381720509   \n",
       "4                 1.083392203652344                 26.67758290479227   \n",
       "\n",
       "   orbital_data_aphelion_distance  orbital_data_perihelion_time  \\\n",
       "0               1.783329732710202          2459159.335547096931   \n",
       "1               4.080833383699515          2459956.015639686394   \n",
       "2               3.884492912785256          2459258.743607733975   \n",
       "3               4.085994582878027          2458979.250423075115   \n",
       "4                 2.7549388383389          2458896.584345836670   \n",
       "\n",
       "   orbital_data_mean_anomaly  orbital_data_mean_motion  orbital_data_equinox  \\\n",
       "0          23.04174772806651         .5597486691326496                 J2000   \n",
       "1          186.2430805612125         .2299845434184686                 J2000   \n",
       "2          345.2437646475034          .253353731449726                 J2000   \n",
       "3          50.11796125710877          .226522291946004                 J2000   \n",
       "4          112.6648636168215         .3707109590224443                 J2000   \n",
       "\n",
       "   orbital_data_orbit_class_orbit_class_type  \\\n",
       "0                                        AMO   \n",
       "1                                        AMO   \n",
       "2                                        AMO   \n",
       "3                                        AMO   \n",
       "4                                        AMO   \n",
       "\n",
       "    orbital_data_orbit_class_orbit_class_description  \\\n",
       "0  Near-Earth asteroid orbits similar to that of ...   \n",
       "1  Near-Earth asteroid orbits similar to that of ...   \n",
       "2  Near-Earth asteroid orbits similar to that of ...   \n",
       "3  Near-Earth asteroid orbits similar to that of ...   \n",
       "4  Near-Earth asteroid orbits similar to that of ...   \n",
       "\n",
       "  orbital_data_orbit_class_orbit_class_range  \n",
       "0         1.017 AU < q (perihelion) < 1.3 AU  \n",
       "1         1.017 AU < q (perihelion) < 1.3 AU  \n",
       "2         1.017 AU < q (perihelion) < 1.3 AU  \n",
       "3         1.017 AU < q (perihelion) < 1.3 AU  \n",
       "4         1.017 AU < q (perihelion) < 1.3 AU  \n",
       "\n",
       "[5 rows x 43 columns]"
      ],
      "text/html": "<div>\n<style scoped>\n    .dataframe tbody tr th:only-of-type {\n        vertical-align: middle;\n    }\n\n    .dataframe tbody tr th {\n        vertical-align: top;\n    }\n\n    .dataframe thead th {\n        text-align: right;\n    }\n</style>\n<table border=\"1\" class=\"dataframe\">\n  <thead>\n    <tr style=\"text-align: right;\">\n      <th></th>\n      <th>id</th>\n      <th>neo_reference_id</th>\n      <th>name</th>\n      <th>name_limited</th>\n      <th>designation</th>\n      <th>nasa_jpl_url</th>\n      <th>absolute_magnitude_h</th>\n      <th>is_potentially_hazardous_asteroid</th>\n      <th>is_sentry_object</th>\n      <th>links_self</th>\n      <th>...</th>\n      <th>orbital_data_perihelion_distance</th>\n      <th>orbital_data_perihelion_argument</th>\n      <th>orbital_data_aphelion_distance</th>\n      <th>orbital_data_perihelion_time</th>\n      <th>orbital_data_mean_anomaly</th>\n      <th>orbital_data_mean_motion</th>\n      <th>orbital_data_equinox</th>\n      <th>orbital_data_orbit_class_orbit_class_type</th>\n      <th>orbital_data_orbit_class_orbit_class_description</th>\n      <th>orbital_data_orbit_class_orbit_class_range</th>\n    </tr>\n  </thead>\n  <tbody>\n    <tr>\n      <th>0</th>\n      <td>2000433</td>\n      <td>2000433</td>\n      <td>433 Eros (A898 PA)</td>\n      <td>Eros</td>\n      <td>433</td>\n      <td>http://ssd.jpl.nasa.gov/sbdb.cgi?sstr=2000433</td>\n      <td>10.42</td>\n      <td>False</td>\n      <td>False</td>\n      <td>http://www.neowsapp.com/rest/v1/neo/2000433?ap...</td>\n      <td>...</td>\n      <td>1.133004742235244</td>\n      <td>178.8689344136611</td>\n      <td>1.783329732710202</td>\n      <td>2459159.335547096931</td>\n      <td>23.04174772806651</td>\n      <td>.5597486691326496</td>\n      <td>J2000</td>\n      <td>AMO</td>\n      <td>Near-Earth asteroid orbits similar to that of ...</td>\n      <td>1.017 AU &lt; q (perihelion) &lt; 1.3 AU</td>\n    </tr>\n    <tr>\n      <th>1</th>\n      <td>2000719</td>\n      <td>2000719</td>\n      <td>719 Albert (A911 TB)</td>\n      <td>Albert</td>\n      <td>719</td>\n      <td>http://ssd.jpl.nasa.gov/sbdb.cgi?sstr=2000719</td>\n      <td>15.51</td>\n      <td>False</td>\n      <td>False</td>\n      <td>http://www.neowsapp.com/rest/v1/neo/2000719?ap...</td>\n      <td>...</td>\n      <td>1.195921798940758</td>\n      <td>156.1912159703744</td>\n      <td>4.080833383699515</td>\n      <td>2459956.015639686394</td>\n      <td>186.2430805612125</td>\n      <td>.2299845434184686</td>\n      <td>J2000</td>\n      <td>AMO</td>\n      <td>Near-Earth asteroid orbits similar to that of ...</td>\n      <td>1.017 AU &lt; q (perihelion) &lt; 1.3 AU</td>\n    </tr>\n    <tr>\n      <th>2</th>\n      <td>2000887</td>\n      <td>2000887</td>\n      <td>887 Alinda (A918 AA)</td>\n      <td>Alinda</td>\n      <td>887</td>\n      <td>http://ssd.jpl.nasa.gov/sbdb.cgi?sstr=2000887</td>\n      <td>13.84</td>\n      <td>False</td>\n      <td>False</td>\n      <td>http://www.neowsapp.com/rest/v1/neo/2000887?ap...</td>\n      <td>...</td>\n      <td>1.062574649224249</td>\n      <td>350.5125087573783</td>\n      <td>3.884492912785256</td>\n      <td>2459258.743607733975</td>\n      <td>345.2437646475034</td>\n      <td>.253353731449726</td>\n      <td>J2000</td>\n      <td>AMO</td>\n      <td>Near-Earth asteroid orbits similar to that of ...</td>\n      <td>1.017 AU &lt; q (perihelion) &lt; 1.3 AU</td>\n    </tr>\n    <tr>\n      <th>3</th>\n      <td>2001036</td>\n      <td>2001036</td>\n      <td>1036 Ganymed (A924 UB)</td>\n      <td>Ganymed</td>\n      <td>1036</td>\n      <td>http://ssd.jpl.nasa.gov/sbdb.cgi?sstr=2001036</td>\n      <td>9.25</td>\n      <td>False</td>\n      <td>False</td>\n      <td>http://www.neowsapp.com/rest/v1/neo/2001036?ap...</td>\n      <td>...</td>\n      <td>1.244392487592923</td>\n      <td>132.3785381720509</td>\n      <td>4.085994582878027</td>\n      <td>2458979.250423075115</td>\n      <td>50.11796125710877</td>\n      <td>.226522291946004</td>\n      <td>J2000</td>\n      <td>AMO</td>\n      <td>Near-Earth asteroid orbits similar to that of ...</td>\n      <td>1.017 AU &lt; q (perihelion) &lt; 1.3 AU</td>\n    </tr>\n    <tr>\n      <th>4</th>\n      <td>2001221</td>\n      <td>2001221</td>\n      <td>1221 Amor (1932 EA1)</td>\n      <td>Amor</td>\n      <td>1221</td>\n      <td>http://ssd.jpl.nasa.gov/sbdb.cgi?sstr=2001221</td>\n      <td>17.39</td>\n      <td>False</td>\n      <td>False</td>\n      <td>http://www.neowsapp.com/rest/v1/neo/2001221?ap...</td>\n      <td>...</td>\n      <td>1.083392203652344</td>\n      <td>26.67758290479227</td>\n      <td>2.7549388383389</td>\n      <td>2458896.584345836670</td>\n      <td>112.6648636168215</td>\n      <td>.3707109590224443</td>\n      <td>J2000</td>\n      <td>AMO</td>\n      <td>Near-Earth asteroid orbits similar to that of ...</td>\n      <td>1.017 AU &lt; q (perihelion) &lt; 1.3 AU</td>\n    </tr>\n  </tbody>\n</table>\n<p>5 rows × 43 columns</p>\n</div>"
     },
     "metadata": {},
     "execution_count": 120
    }
   ],
   "source": [
    "df.head()"
   ]
  },
  {
   "cell_type": "code",
   "execution_count": 189,
   "metadata": {},
   "outputs": [],
   "source": [
    "# Verificar os objetos perigosos para a Terra através da série booleana abaixo:\n",
    "perigosos = df[\"is_potentially_hazardous_asteroid\"]"
   ]
  },
  {
   "cell_type": "code",
   "execution_count": 122,
   "metadata": {},
   "outputs": [
    {
     "output_type": "execute_result",
     "data": {
      "text/plain": [
       "False    85\n",
       "True     15\n",
       "Name: is_potentially_hazardous_asteroid, dtype: int64"
      ]
     },
     "metadata": {},
     "execution_count": 122
    }
   ],
   "source": [
    "perigosos.value_counts()"
   ]
  },
  {
   "cell_type": "code",
   "execution_count": 139,
   "metadata": {
    "tags": []
   },
   "outputs": [
    {
     "output_type": "execute_result",
     "data": {
      "text/plain": [
       "  close_approach_date close_approach_date_full  epoch_date_close_approach  \\\n",
       "0          1900-12-27        1900-Dec-27 01:30             -2177879400000   \n",
       "1          1907-11-05        1907-Nov-05 03:31             -1961526540000   \n",
       "2          1917-04-20        1917-Apr-20 21:19             -1663036860000   \n",
       "3          1924-03-05        1924-Mar-05 22:13             -1446083220000   \n",
       "4          1931-01-30        1931-Jan-30 04:07             -1228247580000   \n",
       "\n",
       "  orbiting_body       id relative_velocity_kilometers_per_second  \\\n",
       "0         Earth  2000433                            5.5786203614   \n",
       "1         Earth  2000433                            4.3944903402   \n",
       "2         Earth  2000433                            4.8167845832   \n",
       "3         Earth  2000433                            4.5960536047   \n",
       "4         Earth  2000433                              5.92081852   \n",
       "\n",
       "  relative_velocity_kilometers_per_hour relative_velocity_miles_per_hour  \\\n",
       "0                      20083.0333009607                 12478.8158863664   \n",
       "1                      15820.1652245583                  9830.0354418929   \n",
       "2                      17340.4244994036                 10774.6654340878   \n",
       "3                      16545.7929768451                 10280.9123083069   \n",
       "4                      21314.9466719412                 13244.2789473515   \n",
       "\n",
       "  miss_distance_astronomical miss_distance_lunar miss_distance_kilometers  \\\n",
       "0               0.3149291092      122.5074234788       47112723.937317404   \n",
       "1               0.4714855144      183.4078651016       70533228.690094328   \n",
       "2               0.4992572291      194.2110621199       74687818.055462017   \n",
       "3               0.3597865248      139.9569581472       53823297.764782176   \n",
       "4               0.1740731641       67.7144608349       26040974.573520467   \n",
       "\n",
       "   miss_distance_miles  \n",
       "0  29274489.1785480152  \n",
       "1  43827316.0083766064  \n",
       "2  46408858.1323171546  \n",
       "3  33444246.4007229888  \n",
       "4  16181111.2718857646  "
      ],
      "text/html": "<div>\n<style scoped>\n    .dataframe tbody tr th:only-of-type {\n        vertical-align: middle;\n    }\n\n    .dataframe tbody tr th {\n        vertical-align: top;\n    }\n\n    .dataframe thead th {\n        text-align: right;\n    }\n</style>\n<table border=\"1\" class=\"dataframe\">\n  <thead>\n    <tr style=\"text-align: right;\">\n      <th></th>\n      <th>close_approach_date</th>\n      <th>close_approach_date_full</th>\n      <th>epoch_date_close_approach</th>\n      <th>orbiting_body</th>\n      <th>id</th>\n      <th>relative_velocity_kilometers_per_second</th>\n      <th>relative_velocity_kilometers_per_hour</th>\n      <th>relative_velocity_miles_per_hour</th>\n      <th>miss_distance_astronomical</th>\n      <th>miss_distance_lunar</th>\n      <th>miss_distance_kilometers</th>\n      <th>miss_distance_miles</th>\n    </tr>\n  </thead>\n  <tbody>\n    <tr>\n      <th>0</th>\n      <td>1900-12-27</td>\n      <td>1900-Dec-27 01:30</td>\n      <td>-2177879400000</td>\n      <td>Earth</td>\n      <td>2000433</td>\n      <td>5.5786203614</td>\n      <td>20083.0333009607</td>\n      <td>12478.8158863664</td>\n      <td>0.3149291092</td>\n      <td>122.5074234788</td>\n      <td>47112723.937317404</td>\n      <td>29274489.1785480152</td>\n    </tr>\n    <tr>\n      <th>1</th>\n      <td>1907-11-05</td>\n      <td>1907-Nov-05 03:31</td>\n      <td>-1961526540000</td>\n      <td>Earth</td>\n      <td>2000433</td>\n      <td>4.3944903402</td>\n      <td>15820.1652245583</td>\n      <td>9830.0354418929</td>\n      <td>0.4714855144</td>\n      <td>183.4078651016</td>\n      <td>70533228.690094328</td>\n      <td>43827316.0083766064</td>\n    </tr>\n    <tr>\n      <th>2</th>\n      <td>1917-04-20</td>\n      <td>1917-Apr-20 21:19</td>\n      <td>-1663036860000</td>\n      <td>Earth</td>\n      <td>2000433</td>\n      <td>4.8167845832</td>\n      <td>17340.4244994036</td>\n      <td>10774.6654340878</td>\n      <td>0.4992572291</td>\n      <td>194.2110621199</td>\n      <td>74687818.055462017</td>\n      <td>46408858.1323171546</td>\n    </tr>\n    <tr>\n      <th>3</th>\n      <td>1924-03-05</td>\n      <td>1924-Mar-05 22:13</td>\n      <td>-1446083220000</td>\n      <td>Earth</td>\n      <td>2000433</td>\n      <td>4.5960536047</td>\n      <td>16545.7929768451</td>\n      <td>10280.9123083069</td>\n      <td>0.3597865248</td>\n      <td>139.9569581472</td>\n      <td>53823297.764782176</td>\n      <td>33444246.4007229888</td>\n    </tr>\n    <tr>\n      <th>4</th>\n      <td>1931-01-30</td>\n      <td>1931-Jan-30 04:07</td>\n      <td>-1228247580000</td>\n      <td>Earth</td>\n      <td>2000433</td>\n      <td>5.92081852</td>\n      <td>21314.9466719412</td>\n      <td>13244.2789473515</td>\n      <td>0.1740731641</td>\n      <td>67.7144608349</td>\n      <td>26040974.573520467</td>\n      <td>16181111.2718857646</td>\n    </tr>\n  </tbody>\n</table>\n</div>"
     },
     "metadata": {},
     "execution_count": 139
    }
   ],
   "source": [
    "# Distancia de avistamento dos objetos\n",
    "# usar json normalize para trazer os id's dos asteroides para o mesmo nível, no subdicionario, que contém as informações de distância\n",
    "\n",
    "# Implementar um flat manualmente, adicionar o ID do asteroide na lista de avistamentos, porque antes isso era descoberto por hierarquia,\n",
    "# mas agora os dados de avistamento de todos os asteroides estão misturados. \n",
    "# Para saber a origem, foi adicionado o campo \"id\" para rastrear o asteróide. \n",
    "\n",
    "linhas = []\n",
    "\n",
    "for id_asteroid, list_approach in close_approach_date_list:\n",
    "    for item in list_approach:\n",
    "        item[\"id\"] = id_asteroid\n",
    "        linhas.append(item)\n",
    "        \n",
    "\n",
    "# linhas é uma lista com dicionários que contém subdicionarios, também é necessário achatar os dicionários para ficar todos no primeiro nível.\n",
    "df_approach = pd.json_normalize(linhas, sep='_')\n",
    "df_approach.head()\n"
   ]
  },
  {
   "cell_type": "code",
   "execution_count": 140,
   "metadata": {},
   "outputs": [],
   "source": [
    "# Criar lista dos asteroides potencialmente perigosos\n",
    "\n",
    "id_perigosos = list(df[\"id\"][perigosos])"
   ]
  },
  {
   "cell_type": "code",
   "execution_count": 143,
   "metadata": {},
   "outputs": [],
   "source": [
    "#Para cada avistamento no dataframe df_approach verificar se o seu id está na lista dos id_perigosos, isso gera uma série booleana\n",
    "perigosos_approach = df_approach[\"id\"].apply(lambda x: x in id_perigosos)"
   ]
  },
  {
   "cell_type": "code",
   "execution_count": 144,
   "metadata": {},
   "outputs": [],
   "source": [
    "# Selecionar as linhas de asteroides perigosos\n",
    "df_approach_p = df_approach[:][perigosos_approach]"
   ]
  },
  {
   "cell_type": "code",
   "execution_count": 145,
   "metadata": {},
   "outputs": [],
   "source": [
    "# Guardar a coluna miss_distance_kilometers em uma variável\n",
    "distancias = df_approach_p[\"miss_distance_kilometers\"]"
   ]
  },
  {
   "cell_type": "code",
   "execution_count": 147,
   "metadata": {},
   "outputs": [],
   "source": [
    "# Transformar todos os valores da série distancias em float\n",
    "distancias = distancias.apply(float)"
   ]
  },
  {
   "cell_type": "code",
   "execution_count": 148,
   "metadata": {},
   "outputs": [
    {
     "output_type": "execute_result",
     "data": {
      "text/plain": [
       "count    1.375000e+03\n",
       "mean     3.623532e+07\n",
       "std      2.125898e+07\n",
       "min      1.242352e+06\n",
       "25%      1.445085e+07\n",
       "50%      3.626713e+07\n",
       "75%      5.585698e+07\n",
       "max      7.144171e+07\n",
       "Name: miss_distance_kilometers, dtype: float64"
      ]
     },
     "metadata": {},
     "execution_count": 148
    }
   ],
   "source": [
    "# Imprimir a descrição estatística de distâncias dos objetos perigosos e a Terra\n",
    "distancias.describe()"
   ]
  },
  {
   "cell_type": "code",
   "execution_count": 150,
   "metadata": {},
   "outputs": [],
   "source": [
    "# Transformar data de aproximação em datetime\n",
    "import datetime"
   ]
  },
  {
   "cell_type": "code",
   "execution_count": 153,
   "metadata": {},
   "outputs": [],
   "source": [
    "def str_to_date(data):\n",
    "    if data != data:\n",
    "        return data\n",
    "    return datetime.datetime.strptime(data, '%Y-%m-%d') # data de avistamento string ===> objeto de datetime"
   ]
  },
  {
   "cell_type": "code",
   "execution_count": 155,
   "metadata": {},
   "outputs": [],
   "source": [
    "df_approach[\"close_approach_date\"] = df_approach[\"close_approach_date\"].apply(str_to_date)"
   ]
  },
  {
   "cell_type": "code",
   "execution_count": 157,
   "metadata": {},
   "outputs": [],
   "source": [
    "# Histograma mostrando quantos objetos perigosos tiveram aproximações com a terra por ano\n",
    "# Definir intervalo\n",
    "\n",
    "inicio = datetime.datetime.strptime('1994-01-01', '%Y-%m-%d')\n",
    "fim = datetime.datetime.strptime('2012-01-01', '%Y-%m-%d')"
   ]
  },
  {
   "cell_type": "code",
   "execution_count": 159,
   "metadata": {},
   "outputs": [],
   "source": [
    "# Gerar uma série booleana informando se a linha está ou não no intervalo de data desejado\n",
    "intervalo = (inicio <= df_approach[\"close_approach_date\"]) & (df_approach[\"close_approach_date\"] < fim)"
   ]
  },
  {
   "cell_type": "code",
   "execution_count": 160,
   "metadata": {},
   "outputs": [],
   "source": [
    "# Filtrar amostras dentro do intervalo\n",
    "\n",
    "df_approach_intervalo = df_approach[:][intervalo]"
   ]
  },
  {
   "cell_type": "code",
   "execution_count": 161,
   "metadata": {},
   "outputs": [],
   "source": [
    "# Criar uma coluna só com o número do ano\n",
    "\n",
    "df_approach_intervalo[\"year\"] = df_approach[\"close_approach_date\"].apply(lambda x: x.year)"
   ]
  },
  {
   "cell_type": "code",
   "execution_count": 162,
   "metadata": {},
   "outputs": [],
   "source": [
    "# Imprimir histograma\n",
    "\n",
    "grupo = df_approach_intervalo[[\"id\", \"year\"]]"
   ]
  },
  {
   "cell_type": "code",
   "execution_count": 168,
   "metadata": {},
   "outputs": [
    {
     "output_type": "execute_result",
     "data": {
      "text/plain": [
       "array([[<AxesSubplot:title={'center':'year'}>]], dtype=object)"
      ]
     },
     "metadata": {},
     "execution_count": 168
    },
    {
     "output_type": "display_data",
     "data": {
      "text/plain": "<Figure size 432x288 with 1 Axes>",
      "image/svg+xml": "<?xml version=\"1.0\" encoding=\"utf-8\" standalone=\"no\"?>\n<!DOCTYPE svg PUBLIC \"-//W3C//DTD SVG 1.1//EN\"\n  \"http://www.w3.org/Graphics/SVG/1.1/DTD/svg11.dtd\">\n<svg height=\"263.63625pt\" version=\"1.1\" viewBox=\"0 0 368.925 263.63625\" width=\"368.925pt\" xmlns=\"http://www.w3.org/2000/svg\" xmlns:xlink=\"http://www.w3.org/1999/xlink\">\n <metadata>\n  <rdf:RDF xmlns:cc=\"http://creativecommons.org/ns#\" xmlns:dc=\"http://purl.org/dc/elements/1.1/\" xmlns:rdf=\"http://www.w3.org/1999/02/22-rdf-syntax-ns#\">\n   <cc:Work>\n    <dc:type rdf:resource=\"http://purl.org/dc/dcmitype/StillImage\"/>\n    <dc:date>2021-05-25T15:00:31.923271</dc:date>\n    <dc:format>image/svg+xml</dc:format>\n    <dc:creator>\n     <cc:Agent>\n      <dc:title>Matplotlib v3.4.1, https://matplotlib.org/</dc:title>\n     </cc:Agent>\n    </dc:creator>\n   </cc:Work>\n  </rdf:RDF>\n </metadata>\n <defs>\n  <style type=\"text/css\">*{stroke-linecap:butt;stroke-linejoin:round;}</style>\n </defs>\n <g id=\"figure_1\">\n  <g id=\"patch_1\">\n   <path d=\"M -0 263.63625 \nL 368.925 263.63625 \nL 368.925 0 \nL -0 0 \nz\n\" style=\"fill:none;\"/>\n  </g>\n  <g id=\"axes_1\">\n   <g id=\"patch_2\">\n    <path d=\"M 26.925 239.758125 \nL 361.725 239.758125 \nL 361.725 22.318125 \nL 26.925 22.318125 \nz\n\" style=\"fill:#ffffff;\"/>\n   </g>\n   <g id=\"patch_3\">\n    <path clip-path=\"url(#p029d6ff339)\" d=\"M 42.143182 239.758125 \nL 59.052273 239.758125 \nL 59.052273 205.243839 \nL 42.143182 205.243839 \nz\n\" style=\"fill:#1f77b4;\"/>\n   </g>\n   <g id=\"patch_4\">\n    <path clip-path=\"url(#p029d6ff339)\" d=\"M 59.052273 239.758125 \nL 75.961364 239.758125 \nL 75.961364 205.243839 \nL 59.052273 205.243839 \nz\n\" style=\"fill:#1f77b4;\"/>\n   </g>\n   <g id=\"patch_5\">\n    <path clip-path=\"url(#p029d6ff339)\" d=\"M 75.961364 239.758125 \nL 92.870455 239.758125 \nL 92.870455 136.215268 \nL 75.961364 136.215268 \nz\n\" style=\"fill:#1f77b4;\"/>\n   </g>\n   <g id=\"patch_6\">\n    <path clip-path=\"url(#p029d6ff339)\" d=\"M 92.870455 239.758125 \nL 109.779545 239.758125 \nL 109.779545 101.700982 \nL 92.870455 101.700982 \nz\n\" style=\"fill:#1f77b4;\"/>\n   </g>\n   <g id=\"patch_7\">\n    <path clip-path=\"url(#p029d6ff339)\" d=\"M 109.779545 239.758125 \nL 126.688636 239.758125 \nL 126.688636 101.700982 \nL 109.779545 101.700982 \nz\n\" style=\"fill:#1f77b4;\"/>\n   </g>\n   <g id=\"patch_8\">\n    <path clip-path=\"url(#p029d6ff339)\" d=\"M 126.688636 239.758125 \nL 143.597727 239.758125 \nL 143.597727 205.243839 \nL 126.688636 205.243839 \nz\n\" style=\"fill:#1f77b4;\"/>\n   </g>\n   <g id=\"patch_9\">\n    <path clip-path=\"url(#p029d6ff339)\" d=\"M 143.597727 239.758125 \nL 160.506818 239.758125 \nL 160.506818 136.215268 \nL 143.597727 136.215268 \nz\n\" style=\"fill:#1f77b4;\"/>\n   </g>\n   <g id=\"patch_10\">\n    <path clip-path=\"url(#p029d6ff339)\" d=\"M 160.506818 239.758125 \nL 177.415909 239.758125 \nL 177.415909 32.672411 \nL 160.506818 32.672411 \nz\n\" style=\"fill:#1f77b4;\"/>\n   </g>\n   <g id=\"patch_11\">\n    <path clip-path=\"url(#p029d6ff339)\" d=\"M 177.415909 239.758125 \nL 194.325 239.758125 \nL 194.325 136.215268 \nL 177.415909 136.215268 \nz\n\" style=\"fill:#1f77b4;\"/>\n   </g>\n   <g id=\"patch_12\">\n    <path clip-path=\"url(#p029d6ff339)\" d=\"M 194.325 239.758125 \nL 211.234091 239.758125 \nL 211.234091 136.215268 \nL 194.325 136.215268 \nz\n\" style=\"fill:#1f77b4;\"/>\n   </g>\n   <g id=\"patch_13\">\n    <path clip-path=\"url(#p029d6ff339)\" d=\"M 211.234091 239.758125 \nL 228.143182 239.758125 \nL 228.143182 205.243839 \nL 211.234091 205.243839 \nz\n\" style=\"fill:#1f77b4;\"/>\n   </g>\n   <g id=\"patch_14\">\n    <path clip-path=\"url(#p029d6ff339)\" d=\"M 228.143182 239.758125 \nL 245.052273 239.758125 \nL 245.052273 101.700982 \nL 228.143182 101.700982 \nz\n\" style=\"fill:#1f77b4;\"/>\n   </g>\n   <g id=\"patch_15\">\n    <path clip-path=\"url(#p029d6ff339)\" d=\"M 245.052273 239.758125 \nL 261.961364 239.758125 \nL 261.961364 136.215268 \nL 245.052273 136.215268 \nz\n\" style=\"fill:#1f77b4;\"/>\n   </g>\n   <g id=\"patch_16\">\n    <path clip-path=\"url(#p029d6ff339)\" d=\"M 261.961364 239.758125 \nL 278.870455 239.758125 \nL 278.870455 170.729554 \nL 261.961364 170.729554 \nz\n\" style=\"fill:#1f77b4;\"/>\n   </g>\n   <g id=\"patch_17\">\n    <path clip-path=\"url(#p029d6ff339)\" d=\"M 278.870455 239.758125 \nL 295.779545 239.758125 \nL 295.779545 67.186696 \nL 278.870455 67.186696 \nz\n\" style=\"fill:#1f77b4;\"/>\n   </g>\n   <g id=\"patch_18\">\n    <path clip-path=\"url(#p029d6ff339)\" d=\"M 295.779545 239.758125 \nL 312.688636 239.758125 \nL 312.688636 170.729554 \nL 295.779545 170.729554 \nz\n\" style=\"fill:#1f77b4;\"/>\n   </g>\n   <g id=\"patch_19\">\n    <path clip-path=\"url(#p029d6ff339)\" d=\"M 312.688636 239.758125 \nL 329.597727 239.758125 \nL 329.597727 170.729554 \nL 312.688636 170.729554 \nz\n\" style=\"fill:#1f77b4;\"/>\n   </g>\n   <g id=\"patch_20\">\n    <path clip-path=\"url(#p029d6ff339)\" d=\"M 329.597727 239.758125 \nL 346.506818 239.758125 \nL 346.506818 205.243839 \nL 329.597727 205.243839 \nz\n\" style=\"fill:#1f77b4;\"/>\n   </g>\n   <g id=\"matplotlib.axis_1\">\n    <g id=\"xtick_1\">\n     <g id=\"line2d_1\">\n      <path clip-path=\"url(#p029d6ff339)\" d=\"M 60.046925 239.758125 \nL 60.046925 22.318125 \n\" style=\"fill:none;stroke:#b0b0b0;stroke-linecap:square;stroke-width:0.8;\"/>\n     </g>\n     <g id=\"line2d_2\">\n      <defs>\n       <path d=\"M 0 0 \nL 0 3.5 \n\" id=\"m13f5fc58a4\" style=\"stroke:#000000;stroke-width:0.8;\"/>\n      </defs>\n      <g>\n       <use style=\"stroke:#000000;stroke-width:0.8;\" x=\"60.046925\" xlink:href=\"#m13f5fc58a4\" y=\"239.758125\"/>\n      </g>\n     </g>\n     <g id=\"text_1\">\n      <!-- 1995.0 -->\n      <g transform=\"translate(42.551613 254.356563)scale(0.1 -0.1)\">\n       <defs>\n        <path d=\"M 794 531 \nL 1825 531 \nL 1825 4091 \nL 703 3866 \nL 703 4441 \nL 1819 4666 \nL 2450 4666 \nL 2450 531 \nL 3481 531 \nL 3481 0 \nL 794 0 \nL 794 531 \nz\n\" id=\"DejaVuSans-31\" transform=\"scale(0.015625)\"/>\n        <path d=\"M 703 97 \nL 703 672 \nQ 941 559 1184 500 \nQ 1428 441 1663 441 \nQ 2288 441 2617 861 \nQ 2947 1281 2994 2138 \nQ 2813 1869 2534 1725 \nQ 2256 1581 1919 1581 \nQ 1219 1581 811 2004 \nQ 403 2428 403 3163 \nQ 403 3881 828 4315 \nQ 1253 4750 1959 4750 \nQ 2769 4750 3195 4129 \nQ 3622 3509 3622 2328 \nQ 3622 1225 3098 567 \nQ 2575 -91 1691 -91 \nQ 1453 -91 1209 -44 \nQ 966 3 703 97 \nz\nM 1959 2075 \nQ 2384 2075 2632 2365 \nQ 2881 2656 2881 3163 \nQ 2881 3666 2632 3958 \nQ 2384 4250 1959 4250 \nQ 1534 4250 1286 3958 \nQ 1038 3666 1038 3163 \nQ 1038 2656 1286 2365 \nQ 1534 2075 1959 2075 \nz\n\" id=\"DejaVuSans-39\" transform=\"scale(0.015625)\"/>\n        <path d=\"M 691 4666 \nL 3169 4666 \nL 3169 4134 \nL 1269 4134 \nL 1269 2991 \nQ 1406 3038 1543 3061 \nQ 1681 3084 1819 3084 \nQ 2600 3084 3056 2656 \nQ 3513 2228 3513 1497 \nQ 3513 744 3044 326 \nQ 2575 -91 1722 -91 \nQ 1428 -91 1123 -41 \nQ 819 9 494 109 \nL 494 744 \nQ 775 591 1075 516 \nQ 1375 441 1709 441 \nQ 2250 441 2565 725 \nQ 2881 1009 2881 1497 \nQ 2881 1984 2565 2268 \nQ 2250 2553 1709 2553 \nQ 1456 2553 1204 2497 \nQ 953 2441 691 2322 \nL 691 4666 \nz\n\" id=\"DejaVuSans-35\" transform=\"scale(0.015625)\"/>\n        <path d=\"M 684 794 \nL 1344 794 \nL 1344 0 \nL 684 0 \nL 684 794 \nz\n\" id=\"DejaVuSans-2e\" transform=\"scale(0.015625)\"/>\n        <path d=\"M 2034 4250 \nQ 1547 4250 1301 3770 \nQ 1056 3291 1056 2328 \nQ 1056 1369 1301 889 \nQ 1547 409 2034 409 \nQ 2525 409 2770 889 \nQ 3016 1369 3016 2328 \nQ 3016 3291 2770 3770 \nQ 2525 4250 2034 4250 \nz\nM 2034 4750 \nQ 2819 4750 3233 4129 \nQ 3647 3509 3647 2328 \nQ 3647 1150 3233 529 \nQ 2819 -91 2034 -91 \nQ 1250 -91 836 529 \nQ 422 1150 422 2328 \nQ 422 3509 836 4129 \nQ 1250 4750 2034 4750 \nz\n\" id=\"DejaVuSans-30\" transform=\"scale(0.015625)\"/>\n       </defs>\n       <use xlink:href=\"#DejaVuSans-31\"/>\n       <use x=\"63.623047\" xlink:href=\"#DejaVuSans-39\"/>\n       <use x=\"127.246094\" xlink:href=\"#DejaVuSans-39\"/>\n       <use x=\"190.869141\" xlink:href=\"#DejaVuSans-35\"/>\n       <use x=\"254.492188\" xlink:href=\"#DejaVuSans-2e\"/>\n       <use x=\"286.279297\" xlink:href=\"#DejaVuSans-30\"/>\n      </g>\n     </g>\n    </g>\n    <g id=\"xtick_2\">\n     <g id=\"line2d_3\">\n      <path clip-path=\"url(#p029d6ff339)\" d=\"M 104.806283 239.758125 \nL 104.806283 22.318125 \n\" style=\"fill:none;stroke:#b0b0b0;stroke-linecap:square;stroke-width:0.8;\"/>\n     </g>\n     <g id=\"line2d_4\">\n      <g>\n       <use style=\"stroke:#000000;stroke-width:0.8;\" x=\"104.806283\" xlink:href=\"#m13f5fc58a4\" y=\"239.758125\"/>\n      </g>\n     </g>\n     <g id=\"text_2\">\n      <!-- 1997.5 -->\n      <g transform=\"translate(87.310971 254.356563)scale(0.1 -0.1)\">\n       <defs>\n        <path d=\"M 525 4666 \nL 3525 4666 \nL 3525 4397 \nL 1831 0 \nL 1172 0 \nL 2766 4134 \nL 525 4134 \nL 525 4666 \nz\n\" id=\"DejaVuSans-37\" transform=\"scale(0.015625)\"/>\n       </defs>\n       <use xlink:href=\"#DejaVuSans-31\"/>\n       <use x=\"63.623047\" xlink:href=\"#DejaVuSans-39\"/>\n       <use x=\"127.246094\" xlink:href=\"#DejaVuSans-39\"/>\n       <use x=\"190.869141\" xlink:href=\"#DejaVuSans-37\"/>\n       <use x=\"254.492188\" xlink:href=\"#DejaVuSans-2e\"/>\n       <use x=\"286.279297\" xlink:href=\"#DejaVuSans-35\"/>\n      </g>\n     </g>\n    </g>\n    <g id=\"xtick_3\">\n     <g id=\"line2d_5\">\n      <path clip-path=\"url(#p029d6ff339)\" d=\"M 149.565642 239.758125 \nL 149.565642 22.318125 \n\" style=\"fill:none;stroke:#b0b0b0;stroke-linecap:square;stroke-width:0.8;\"/>\n     </g>\n     <g id=\"line2d_6\">\n      <g>\n       <use style=\"stroke:#000000;stroke-width:0.8;\" x=\"149.565642\" xlink:href=\"#m13f5fc58a4\" y=\"239.758125\"/>\n      </g>\n     </g>\n     <g id=\"text_3\">\n      <!-- 2000.0 -->\n      <g transform=\"translate(132.070329 254.356563)scale(0.1 -0.1)\">\n       <defs>\n        <path d=\"M 1228 531 \nL 3431 531 \nL 3431 0 \nL 469 0 \nL 469 531 \nQ 828 903 1448 1529 \nQ 2069 2156 2228 2338 \nQ 2531 2678 2651 2914 \nQ 2772 3150 2772 3378 \nQ 2772 3750 2511 3984 \nQ 2250 4219 1831 4219 \nQ 1534 4219 1204 4116 \nQ 875 4013 500 3803 \nL 500 4441 \nQ 881 4594 1212 4672 \nQ 1544 4750 1819 4750 \nQ 2544 4750 2975 4387 \nQ 3406 4025 3406 3419 \nQ 3406 3131 3298 2873 \nQ 3191 2616 2906 2266 \nQ 2828 2175 2409 1742 \nQ 1991 1309 1228 531 \nz\n\" id=\"DejaVuSans-32\" transform=\"scale(0.015625)\"/>\n       </defs>\n       <use xlink:href=\"#DejaVuSans-32\"/>\n       <use x=\"63.623047\" xlink:href=\"#DejaVuSans-30\"/>\n       <use x=\"127.246094\" xlink:href=\"#DejaVuSans-30\"/>\n       <use x=\"190.869141\" xlink:href=\"#DejaVuSans-30\"/>\n       <use x=\"254.492188\" xlink:href=\"#DejaVuSans-2e\"/>\n       <use x=\"286.279297\" xlink:href=\"#DejaVuSans-30\"/>\n      </g>\n     </g>\n    </g>\n    <g id=\"xtick_4\">\n     <g id=\"line2d_7\">\n      <path clip-path=\"url(#p029d6ff339)\" d=\"M 194.325 239.758125 \nL 194.325 22.318125 \n\" style=\"fill:none;stroke:#b0b0b0;stroke-linecap:square;stroke-width:0.8;\"/>\n     </g>\n     <g id=\"line2d_8\">\n      <g>\n       <use style=\"stroke:#000000;stroke-width:0.8;\" x=\"194.325\" xlink:href=\"#m13f5fc58a4\" y=\"239.758125\"/>\n      </g>\n     </g>\n     <g id=\"text_4\">\n      <!-- 2002.5 -->\n      <g transform=\"translate(176.829687 254.356563)scale(0.1 -0.1)\">\n       <use xlink:href=\"#DejaVuSans-32\"/>\n       <use x=\"63.623047\" xlink:href=\"#DejaVuSans-30\"/>\n       <use x=\"127.246094\" xlink:href=\"#DejaVuSans-30\"/>\n       <use x=\"190.869141\" xlink:href=\"#DejaVuSans-32\"/>\n       <use x=\"254.492188\" xlink:href=\"#DejaVuSans-2e\"/>\n       <use x=\"286.279297\" xlink:href=\"#DejaVuSans-35\"/>\n      </g>\n     </g>\n    </g>\n    <g id=\"xtick_5\">\n     <g id=\"line2d_9\">\n      <path clip-path=\"url(#p029d6ff339)\" d=\"M 239.084358 239.758125 \nL 239.084358 22.318125 \n\" style=\"fill:none;stroke:#b0b0b0;stroke-linecap:square;stroke-width:0.8;\"/>\n     </g>\n     <g id=\"line2d_10\">\n      <g>\n       <use style=\"stroke:#000000;stroke-width:0.8;\" x=\"239.084358\" xlink:href=\"#m13f5fc58a4\" y=\"239.758125\"/>\n      </g>\n     </g>\n     <g id=\"text_5\">\n      <!-- 2005.0 -->\n      <g transform=\"translate(221.589046 254.356563)scale(0.1 -0.1)\">\n       <use xlink:href=\"#DejaVuSans-32\"/>\n       <use x=\"63.623047\" xlink:href=\"#DejaVuSans-30\"/>\n       <use x=\"127.246094\" xlink:href=\"#DejaVuSans-30\"/>\n       <use x=\"190.869141\" xlink:href=\"#DejaVuSans-35\"/>\n       <use x=\"254.492188\" xlink:href=\"#DejaVuSans-2e\"/>\n       <use x=\"286.279297\" xlink:href=\"#DejaVuSans-30\"/>\n      </g>\n     </g>\n    </g>\n    <g id=\"xtick_6\">\n     <g id=\"line2d_11\">\n      <path clip-path=\"url(#p029d6ff339)\" d=\"M 283.843717 239.758125 \nL 283.843717 22.318125 \n\" style=\"fill:none;stroke:#b0b0b0;stroke-linecap:square;stroke-width:0.8;\"/>\n     </g>\n     <g id=\"line2d_12\">\n      <g>\n       <use style=\"stroke:#000000;stroke-width:0.8;\" x=\"283.843717\" xlink:href=\"#m13f5fc58a4\" y=\"239.758125\"/>\n      </g>\n     </g>\n     <g id=\"text_6\">\n      <!-- 2007.5 -->\n      <g transform=\"translate(266.348404 254.356563)scale(0.1 -0.1)\">\n       <use xlink:href=\"#DejaVuSans-32\"/>\n       <use x=\"63.623047\" xlink:href=\"#DejaVuSans-30\"/>\n       <use x=\"127.246094\" xlink:href=\"#DejaVuSans-30\"/>\n       <use x=\"190.869141\" xlink:href=\"#DejaVuSans-37\"/>\n       <use x=\"254.492188\" xlink:href=\"#DejaVuSans-2e\"/>\n       <use x=\"286.279297\" xlink:href=\"#DejaVuSans-35\"/>\n      </g>\n     </g>\n    </g>\n    <g id=\"xtick_7\">\n     <g id=\"line2d_13\">\n      <path clip-path=\"url(#p029d6ff339)\" d=\"M 328.603075 239.758125 \nL 328.603075 22.318125 \n\" style=\"fill:none;stroke:#b0b0b0;stroke-linecap:square;stroke-width:0.8;\"/>\n     </g>\n     <g id=\"line2d_14\">\n      <g>\n       <use style=\"stroke:#000000;stroke-width:0.8;\" x=\"328.603075\" xlink:href=\"#m13f5fc58a4\" y=\"239.758125\"/>\n      </g>\n     </g>\n     <g id=\"text_7\">\n      <!-- 2010.0 -->\n      <g transform=\"translate(311.107762 254.356563)scale(0.1 -0.1)\">\n       <use xlink:href=\"#DejaVuSans-32\"/>\n       <use x=\"63.623047\" xlink:href=\"#DejaVuSans-30\"/>\n       <use x=\"127.246094\" xlink:href=\"#DejaVuSans-31\"/>\n       <use x=\"190.869141\" xlink:href=\"#DejaVuSans-30\"/>\n       <use x=\"254.492188\" xlink:href=\"#DejaVuSans-2e\"/>\n       <use x=\"286.279297\" xlink:href=\"#DejaVuSans-30\"/>\n      </g>\n     </g>\n    </g>\n   </g>\n   <g id=\"matplotlib.axis_2\">\n    <g id=\"ytick_1\">\n     <g id=\"line2d_15\">\n      <path clip-path=\"url(#p029d6ff339)\" d=\"M 26.925 239.758125 \nL 361.725 239.758125 \n\" style=\"fill:none;stroke:#b0b0b0;stroke-linecap:square;stroke-width:0.8;\"/>\n     </g>\n     <g id=\"line2d_16\">\n      <defs>\n       <path d=\"M 0 0 \nL -3.5 0 \n\" id=\"m4ca1a2aaf7\" style=\"stroke:#000000;stroke-width:0.8;\"/>\n      </defs>\n      <g>\n       <use style=\"stroke:#000000;stroke-width:0.8;\" x=\"26.925\" xlink:href=\"#m4ca1a2aaf7\" y=\"239.758125\"/>\n      </g>\n     </g>\n     <g id=\"text_8\">\n      <!-- 0 -->\n      <g transform=\"translate(13.5625 243.557344)scale(0.1 -0.1)\">\n       <use xlink:href=\"#DejaVuSans-30\"/>\n      </g>\n     </g>\n    </g>\n    <g id=\"ytick_2\">\n     <g id=\"line2d_17\">\n      <path clip-path=\"url(#p029d6ff339)\" d=\"M 26.925 205.243839 \nL 361.725 205.243839 \n\" style=\"fill:none;stroke:#b0b0b0;stroke-linecap:square;stroke-width:0.8;\"/>\n     </g>\n     <g id=\"line2d_18\">\n      <g>\n       <use style=\"stroke:#000000;stroke-width:0.8;\" x=\"26.925\" xlink:href=\"#m4ca1a2aaf7\" y=\"205.243839\"/>\n      </g>\n     </g>\n     <g id=\"text_9\">\n      <!-- 5 -->\n      <g transform=\"translate(13.5625 209.043058)scale(0.1 -0.1)\">\n       <use xlink:href=\"#DejaVuSans-35\"/>\n      </g>\n     </g>\n    </g>\n    <g id=\"ytick_3\">\n     <g id=\"line2d_19\">\n      <path clip-path=\"url(#p029d6ff339)\" d=\"M 26.925 170.729554 \nL 361.725 170.729554 \n\" style=\"fill:none;stroke:#b0b0b0;stroke-linecap:square;stroke-width:0.8;\"/>\n     </g>\n     <g id=\"line2d_20\">\n      <g>\n       <use style=\"stroke:#000000;stroke-width:0.8;\" x=\"26.925\" xlink:href=\"#m4ca1a2aaf7\" y=\"170.729554\"/>\n      </g>\n     </g>\n     <g id=\"text_10\">\n      <!-- 10 -->\n      <g transform=\"translate(7.2 174.528772)scale(0.1 -0.1)\">\n       <use xlink:href=\"#DejaVuSans-31\"/>\n       <use x=\"63.623047\" xlink:href=\"#DejaVuSans-30\"/>\n      </g>\n     </g>\n    </g>\n    <g id=\"ytick_4\">\n     <g id=\"line2d_21\">\n      <path clip-path=\"url(#p029d6ff339)\" d=\"M 26.925 136.215268 \nL 361.725 136.215268 \n\" style=\"fill:none;stroke:#b0b0b0;stroke-linecap:square;stroke-width:0.8;\"/>\n     </g>\n     <g id=\"line2d_22\">\n      <g>\n       <use style=\"stroke:#000000;stroke-width:0.8;\" x=\"26.925\" xlink:href=\"#m4ca1a2aaf7\" y=\"136.215268\"/>\n      </g>\n     </g>\n     <g id=\"text_11\">\n      <!-- 15 -->\n      <g transform=\"translate(7.2 140.014487)scale(0.1 -0.1)\">\n       <use xlink:href=\"#DejaVuSans-31\"/>\n       <use x=\"63.623047\" xlink:href=\"#DejaVuSans-35\"/>\n      </g>\n     </g>\n    </g>\n    <g id=\"ytick_5\">\n     <g id=\"line2d_23\">\n      <path clip-path=\"url(#p029d6ff339)\" d=\"M 26.925 101.700982 \nL 361.725 101.700982 \n\" style=\"fill:none;stroke:#b0b0b0;stroke-linecap:square;stroke-width:0.8;\"/>\n     </g>\n     <g id=\"line2d_24\">\n      <g>\n       <use style=\"stroke:#000000;stroke-width:0.8;\" x=\"26.925\" xlink:href=\"#m4ca1a2aaf7\" y=\"101.700982\"/>\n      </g>\n     </g>\n     <g id=\"text_12\">\n      <!-- 20 -->\n      <g transform=\"translate(7.2 105.500201)scale(0.1 -0.1)\">\n       <use xlink:href=\"#DejaVuSans-32\"/>\n       <use x=\"63.623047\" xlink:href=\"#DejaVuSans-30\"/>\n      </g>\n     </g>\n    </g>\n    <g id=\"ytick_6\">\n     <g id=\"line2d_25\">\n      <path clip-path=\"url(#p029d6ff339)\" d=\"M 26.925 67.186696 \nL 361.725 67.186696 \n\" style=\"fill:none;stroke:#b0b0b0;stroke-linecap:square;stroke-width:0.8;\"/>\n     </g>\n     <g id=\"line2d_26\">\n      <g>\n       <use style=\"stroke:#000000;stroke-width:0.8;\" x=\"26.925\" xlink:href=\"#m4ca1a2aaf7\" y=\"67.186696\"/>\n      </g>\n     </g>\n     <g id=\"text_13\">\n      <!-- 25 -->\n      <g transform=\"translate(7.2 70.985915)scale(0.1 -0.1)\">\n       <use xlink:href=\"#DejaVuSans-32\"/>\n       <use x=\"63.623047\" xlink:href=\"#DejaVuSans-35\"/>\n      </g>\n     </g>\n    </g>\n    <g id=\"ytick_7\">\n     <g id=\"line2d_27\">\n      <path clip-path=\"url(#p029d6ff339)\" d=\"M 26.925 32.672411 \nL 361.725 32.672411 \n\" style=\"fill:none;stroke:#b0b0b0;stroke-linecap:square;stroke-width:0.8;\"/>\n     </g>\n     <g id=\"line2d_28\">\n      <g>\n       <use style=\"stroke:#000000;stroke-width:0.8;\" x=\"26.925\" xlink:href=\"#m4ca1a2aaf7\" y=\"32.672411\"/>\n      </g>\n     </g>\n     <g id=\"text_14\">\n      <!-- 30 -->\n      <g transform=\"translate(7.2 36.471629)scale(0.1 -0.1)\">\n       <defs>\n        <path d=\"M 2597 2516 \nQ 3050 2419 3304 2112 \nQ 3559 1806 3559 1356 \nQ 3559 666 3084 287 \nQ 2609 -91 1734 -91 \nQ 1441 -91 1130 -33 \nQ 819 25 488 141 \nL 488 750 \nQ 750 597 1062 519 \nQ 1375 441 1716 441 \nQ 2309 441 2620 675 \nQ 2931 909 2931 1356 \nQ 2931 1769 2642 2001 \nQ 2353 2234 1838 2234 \nL 1294 2234 \nL 1294 2753 \nL 1863 2753 \nQ 2328 2753 2575 2939 \nQ 2822 3125 2822 3475 \nQ 2822 3834 2567 4026 \nQ 2313 4219 1838 4219 \nQ 1578 4219 1281 4162 \nQ 984 4106 628 3988 \nL 628 4550 \nQ 988 4650 1302 4700 \nQ 1616 4750 1894 4750 \nQ 2613 4750 3031 4423 \nQ 3450 4097 3450 3541 \nQ 3450 3153 3228 2886 \nQ 3006 2619 2597 2516 \nz\n\" id=\"DejaVuSans-33\" transform=\"scale(0.015625)\"/>\n       </defs>\n       <use xlink:href=\"#DejaVuSans-33\"/>\n       <use x=\"63.623047\" xlink:href=\"#DejaVuSans-30\"/>\n      </g>\n     </g>\n    </g>\n   </g>\n   <g id=\"patch_21\">\n    <path d=\"M 26.925 239.758125 \nL 26.925 22.318125 \n\" style=\"fill:none;stroke:#000000;stroke-linecap:square;stroke-linejoin:miter;stroke-width:0.8;\"/>\n   </g>\n   <g id=\"patch_22\">\n    <path d=\"M 361.725 239.758125 \nL 361.725 22.318125 \n\" style=\"fill:none;stroke:#000000;stroke-linecap:square;stroke-linejoin:miter;stroke-width:0.8;\"/>\n   </g>\n   <g id=\"patch_23\">\n    <path d=\"M 26.925 239.758125 \nL 361.725 239.758125 \n\" style=\"fill:none;stroke:#000000;stroke-linecap:square;stroke-linejoin:miter;stroke-width:0.8;\"/>\n   </g>\n   <g id=\"patch_24\">\n    <path d=\"M 26.925 22.318125 \nL 361.725 22.318125 \n\" style=\"fill:none;stroke:#000000;stroke-linecap:square;stroke-linejoin:miter;stroke-width:0.8;\"/>\n   </g>\n   <g id=\"text_15\">\n    <!-- year -->\n    <g transform=\"translate(180.938438 16.318125)scale(0.12 -0.12)\">\n     <defs>\n      <path d=\"M 2059 -325 \nQ 1816 -950 1584 -1140 \nQ 1353 -1331 966 -1331 \nL 506 -1331 \nL 506 -850 \nL 844 -850 \nQ 1081 -850 1212 -737 \nQ 1344 -625 1503 -206 \nL 1606 56 \nL 191 3500 \nL 800 3500 \nL 1894 763 \nL 2988 3500 \nL 3597 3500 \nL 2059 -325 \nz\n\" id=\"DejaVuSans-79\" transform=\"scale(0.015625)\"/>\n      <path d=\"M 3597 1894 \nL 3597 1613 \nL 953 1613 \nQ 991 1019 1311 708 \nQ 1631 397 2203 397 \nQ 2534 397 2845 478 \nQ 3156 559 3463 722 \nL 3463 178 \nQ 3153 47 2828 -22 \nQ 2503 -91 2169 -91 \nQ 1331 -91 842 396 \nQ 353 884 353 1716 \nQ 353 2575 817 3079 \nQ 1281 3584 2069 3584 \nQ 2775 3584 3186 3129 \nQ 3597 2675 3597 1894 \nz\nM 3022 2063 \nQ 3016 2534 2758 2815 \nQ 2500 3097 2075 3097 \nQ 1594 3097 1305 2825 \nQ 1016 2553 972 2059 \nL 3022 2063 \nz\n\" id=\"DejaVuSans-65\" transform=\"scale(0.015625)\"/>\n      <path d=\"M 2194 1759 \nQ 1497 1759 1228 1600 \nQ 959 1441 959 1056 \nQ 959 750 1161 570 \nQ 1363 391 1709 391 \nQ 2188 391 2477 730 \nQ 2766 1069 2766 1631 \nL 2766 1759 \nL 2194 1759 \nz\nM 3341 1997 \nL 3341 0 \nL 2766 0 \nL 2766 531 \nQ 2569 213 2275 61 \nQ 1981 -91 1556 -91 \nQ 1019 -91 701 211 \nQ 384 513 384 1019 \nQ 384 1609 779 1909 \nQ 1175 2209 1959 2209 \nL 2766 2209 \nL 2766 2266 \nQ 2766 2663 2505 2880 \nQ 2244 3097 1772 3097 \nQ 1472 3097 1187 3025 \nQ 903 2953 641 2809 \nL 641 3341 \nQ 956 3463 1253 3523 \nQ 1550 3584 1831 3584 \nQ 2591 3584 2966 3190 \nQ 3341 2797 3341 1997 \nz\n\" id=\"DejaVuSans-61\" transform=\"scale(0.015625)\"/>\n      <path d=\"M 2631 2963 \nQ 2534 3019 2420 3045 \nQ 2306 3072 2169 3072 \nQ 1681 3072 1420 2755 \nQ 1159 2438 1159 1844 \nL 1159 0 \nL 581 0 \nL 581 3500 \nL 1159 3500 \nL 1159 2956 \nQ 1341 3275 1631 3429 \nQ 1922 3584 2338 3584 \nQ 2397 3584 2469 3576 \nQ 2541 3569 2628 3553 \nL 2631 2963 \nz\n\" id=\"DejaVuSans-72\" transform=\"scale(0.015625)\"/>\n     </defs>\n     <use xlink:href=\"#DejaVuSans-79\"/>\n     <use x=\"59.179688\" xlink:href=\"#DejaVuSans-65\"/>\n     <use x=\"120.703125\" xlink:href=\"#DejaVuSans-61\"/>\n     <use x=\"181.982422\" xlink:href=\"#DejaVuSans-72\"/>\n    </g>\n   </g>\n  </g>\n </g>\n <defs>\n  <clipPath id=\"p029d6ff339\">\n   <rect height=\"217.44\" width=\"334.8\" x=\"26.925\" y=\"22.318125\"/>\n  </clipPath>\n </defs>\n</svg>\n",
      "image/png": "[encoded data removed]"
     },
     "metadata": {
      "needs_background": "light"
     }
    }
   ],
   "source": [
    "grupo.hist(bins=18)"
   ]
  },
  {
   "cell_type": "code",
   "execution_count": 169,
   "metadata": {},
   "outputs": [],
   "source": [
    "# Histograma de tamanhos de objetos que são perigosos\n",
    "\n",
    "df_perigosos = df[:][perigosos]"
   ]
  },
  {
   "cell_type": "code",
   "execution_count": 170,
   "metadata": {},
   "outputs": [],
   "source": [
    "df_nao_perigosos = df[:][~perigosos]"
   ]
  },
  {
   "cell_type": "code",
   "execution_count": 171,
   "metadata": {},
   "outputs": [],
   "source": [
    "# Criar dataframe só com id e diametro estimado maximo\n",
    "\n",
    "df_diametro_perigosos = df_perigosos[[\"id\", \"estimated_diameter_kilometers_estimated_diameter_max\"]]"
   ]
  },
  {
   "cell_type": "code",
   "execution_count": 172,
   "metadata": {},
   "outputs": [],
   "source": [
    "df_diametro_nao_perigosos = df_nao_perigosos[[\"id\", \"estimated_diameter_kilometers_estimated_diameter_max\"]]"
   ]
  },
  {
   "cell_type": "code",
   "execution_count": 180,
   "metadata": {},
   "outputs": [
    {
     "output_type": "execute_result",
     "data": {
      "text/plain": [
       "array([[<AxesSubplot:title={'center':'estimated_diameter_kilometers_estimated_diameter_max'}>]],\n",
       "      dtype=object)"
      ]
     },
     "metadata": {},
     "execution_count": 180
    },
    {
     "output_type": "display_data",
     "data": {
      "text/plain": "<Figure size 432x288 with 1 Axes>",
      "image/svg+xml": "<?xml version=\"1.0\" encoding=\"utf-8\" standalone=\"no\"?>\n<!DOCTYPE svg PUBLIC \"-//W3C//DTD SVG 1.1//EN\"\n  \"http://www.w3.org/Graphics/SVG/1.1/DTD/svg11.dtd\">\n<svg height=\"263.63625pt\" version=\"1.1\" viewBox=\"0 0 376.188518 263.63625\" width=\"376.188518pt\" xmlns=\"http://www.w3.org/2000/svg\" xmlns:xlink=\"http://www.w3.org/1999/xlink\">\n <metadata>\n  <rdf:RDF xmlns:cc=\"http://creativecommons.org/ns#\" xmlns:dc=\"http://purl.org/dc/elements/1.1/\" xmlns:rdf=\"http://www.w3.org/1999/02/22-rdf-syntax-ns#\">\n   <cc:Work>\n    <dc:type rdf:resource=\"http://purl.org/dc/dcmitype/StillImage\"/>\n    <dc:date>2021-05-25T15:08:31.289868</dc:date>\n    <dc:format>image/svg+xml</dc:format>\n    <dc:creator>\n     <cc:Agent>\n      <dc:title>Matplotlib v3.4.1, https://matplotlib.org/</dc:title>\n     </cc:Agent>\n    </dc:creator>\n   </cc:Work>\n  </rdf:RDF>\n </metadata>\n <defs>\n  <style type=\"text/css\">*{stroke-linecap:butt;stroke-linejoin:round;}</style>\n </defs>\n <g id=\"figure_1\">\n  <g id=\"patch_1\">\n   <path d=\"M -0 263.63625 \nL 376.188518 263.63625 \nL 376.188518 0 \nL -0 0 \nz\n\" style=\"fill:none;\"/>\n  </g>\n  <g id=\"axes_1\">\n   <g id=\"patch_2\">\n    <path d=\"M 26.925 239.758125 \nL 361.725 239.758125 \nL 361.725 22.318125 \nL 26.925 22.318125 \nz\n\" style=\"fill:#ffffff;\"/>\n   </g>\n   <g id=\"patch_3\">\n    <path clip-path=\"url(#p44101425d4)\" d=\"M 42.143182 239.758125 \nL 194.325 239.758125 \nL 194.325 32.672411 \nL 42.143182 32.672411 \nz\n\" style=\"fill:#1f77b4;\"/>\n   </g>\n   <g id=\"patch_4\">\n    <path clip-path=\"url(#p44101425d4)\" d=\"M 194.325 239.758125 \nL 346.506818 239.758125 \nL 346.506818 136.215268 \nL 194.325 136.215268 \nz\n\" style=\"fill:#1f77b4;\"/>\n   </g>\n   <g id=\"matplotlib.axis_1\">\n    <g id=\"xtick_1\">\n     <g id=\"line2d_1\">\n      <path clip-path=\"url(#p44101425d4)\" d=\"M 48.854005 239.758125 \nL 48.854005 22.318125 \n\" style=\"fill:none;stroke:#b0b0b0;stroke-linecap:square;stroke-width:0.8;\"/>\n     </g>\n     <g id=\"line2d_2\">\n      <defs>\n       <path d=\"M 0 0 \nL 0 3.5 \n\" id=\"ma5c53f4e3b\" style=\"stroke:#000000;stroke-width:0.8;\"/>\n      </defs>\n      <g>\n       <use style=\"stroke:#000000;stroke-width:0.8;\" x=\"48.854005\" xlink:href=\"#ma5c53f4e3b\" y=\"239.758125\"/>\n      </g>\n     </g>\n     <g id=\"text_1\">\n      <!-- 3.25 -->\n      <g transform=\"translate(37.721193 254.356563)scale(0.1 -0.1)\">\n       <defs>\n        <path d=\"M 2597 2516 \nQ 3050 2419 3304 2112 \nQ 3559 1806 3559 1356 \nQ 3559 666 3084 287 \nQ 2609 -91 1734 -91 \nQ 1441 -91 1130 -33 \nQ 819 25 488 141 \nL 488 750 \nQ 750 597 1062 519 \nQ 1375 441 1716 441 \nQ 2309 441 2620 675 \nQ 2931 909 2931 1356 \nQ 2931 1769 2642 2001 \nQ 2353 2234 1838 2234 \nL 1294 2234 \nL 1294 2753 \nL 1863 2753 \nQ 2328 2753 2575 2939 \nQ 2822 3125 2822 3475 \nQ 2822 3834 2567 4026 \nQ 2313 4219 1838 4219 \nQ 1578 4219 1281 4162 \nQ 984 4106 628 3988 \nL 628 4550 \nQ 988 4650 1302 4700 \nQ 1616 4750 1894 4750 \nQ 2613 4750 3031 4423 \nQ 3450 4097 3450 3541 \nQ 3450 3153 3228 2886 \nQ 3006 2619 2597 2516 \nz\n\" id=\"DejaVuSans-33\" transform=\"scale(0.015625)\"/>\n        <path d=\"M 684 794 \nL 1344 794 \nL 1344 0 \nL 684 0 \nL 684 794 \nz\n\" id=\"DejaVuSans-2e\" transform=\"scale(0.015625)\"/>\n        <path d=\"M 1228 531 \nL 3431 531 \nL 3431 0 \nL 469 0 \nL 469 531 \nQ 828 903 1448 1529 \nQ 2069 2156 2228 2338 \nQ 2531 2678 2651 2914 \nQ 2772 3150 2772 3378 \nQ 2772 3750 2511 3984 \nQ 2250 4219 1831 4219 \nQ 1534 4219 1204 4116 \nQ 875 4013 500 3803 \nL 500 4441 \nQ 881 4594 1212 4672 \nQ 1544 4750 1819 4750 \nQ 2544 4750 2975 4387 \nQ 3406 4025 3406 3419 \nQ 3406 3131 3298 2873 \nQ 3191 2616 2906 2266 \nQ 2828 2175 2409 1742 \nQ 1991 1309 1228 531 \nz\n\" id=\"DejaVuSans-32\" transform=\"scale(0.015625)\"/>\n        <path d=\"M 691 4666 \nL 3169 4666 \nL 3169 4134 \nL 1269 4134 \nL 1269 2991 \nQ 1406 3038 1543 3061 \nQ 1681 3084 1819 3084 \nQ 2600 3084 3056 2656 \nQ 3513 2228 3513 1497 \nQ 3513 744 3044 326 \nQ 2575 -91 1722 -91 \nQ 1428 -91 1123 -41 \nQ 819 9 494 109 \nL 494 744 \nQ 775 591 1075 516 \nQ 1375 441 1709 441 \nQ 2250 441 2565 725 \nQ 2881 1009 2881 1497 \nQ 2881 1984 2565 2268 \nQ 2250 2553 1709 2553 \nQ 1456 2553 1204 2497 \nQ 953 2441 691 2322 \nL 691 4666 \nz\n\" id=\"DejaVuSans-35\" transform=\"scale(0.015625)\"/>\n       </defs>\n       <use xlink:href=\"#DejaVuSans-33\"/>\n       <use x=\"63.623047\" xlink:href=\"#DejaVuSans-2e\"/>\n       <use x=\"95.410156\" xlink:href=\"#DejaVuSans-32\"/>\n       <use x=\"159.033203\" xlink:href=\"#DejaVuSans-35\"/>\n      </g>\n     </g>\n    </g>\n    <g id=\"xtick_2\">\n     <g id=\"line2d_3\">\n      <path clip-path=\"url(#p44101425d4)\" d=\"M 87.479218 239.758125 \nL 87.479218 22.318125 \n\" style=\"fill:none;stroke:#b0b0b0;stroke-linecap:square;stroke-width:0.8;\"/>\n     </g>\n     <g id=\"line2d_4\">\n      <g>\n       <use style=\"stroke:#000000;stroke-width:0.8;\" x=\"87.479218\" xlink:href=\"#ma5c53f4e3b\" y=\"239.758125\"/>\n      </g>\n     </g>\n     <g id=\"text_2\">\n      <!-- 3.50 -->\n      <g transform=\"translate(76.346405 254.356563)scale(0.1 -0.1)\">\n       <defs>\n        <path d=\"M 2034 4250 \nQ 1547 4250 1301 3770 \nQ 1056 3291 1056 2328 \nQ 1056 1369 1301 889 \nQ 1547 409 2034 409 \nQ 2525 409 2770 889 \nQ 3016 1369 3016 2328 \nQ 3016 3291 2770 3770 \nQ 2525 4250 2034 4250 \nz\nM 2034 4750 \nQ 2819 4750 3233 4129 \nQ 3647 3509 3647 2328 \nQ 3647 1150 3233 529 \nQ 2819 -91 2034 -91 \nQ 1250 -91 836 529 \nQ 422 1150 422 2328 \nQ 422 3509 836 4129 \nQ 1250 4750 2034 4750 \nz\n\" id=\"DejaVuSans-30\" transform=\"scale(0.015625)\"/>\n       </defs>\n       <use xlink:href=\"#DejaVuSans-33\"/>\n       <use x=\"63.623047\" xlink:href=\"#DejaVuSans-2e\"/>\n       <use x=\"95.410156\" xlink:href=\"#DejaVuSans-35\"/>\n       <use x=\"159.033203\" xlink:href=\"#DejaVuSans-30\"/>\n      </g>\n     </g>\n    </g>\n    <g id=\"xtick_3\">\n     <g id=\"line2d_5\">\n      <path clip-path=\"url(#p44101425d4)\" d=\"M 126.10443 239.758125 \nL 126.10443 22.318125 \n\" style=\"fill:none;stroke:#b0b0b0;stroke-linecap:square;stroke-width:0.8;\"/>\n     </g>\n     <g id=\"line2d_6\">\n      <g>\n       <use style=\"stroke:#000000;stroke-width:0.8;\" x=\"126.10443\" xlink:href=\"#ma5c53f4e3b\" y=\"239.758125\"/>\n      </g>\n     </g>\n     <g id=\"text_3\">\n      <!-- 3.75 -->\n      <g transform=\"translate(114.971618 254.356563)scale(0.1 -0.1)\">\n       <defs>\n        <path d=\"M 525 4666 \nL 3525 4666 \nL 3525 4397 \nL 1831 0 \nL 1172 0 \nL 2766 4134 \nL 525 4134 \nL 525 4666 \nz\n\" id=\"DejaVuSans-37\" transform=\"scale(0.015625)\"/>\n       </defs>\n       <use xlink:href=\"#DejaVuSans-33\"/>\n       <use x=\"63.623047\" xlink:href=\"#DejaVuSans-2e\"/>\n       <use x=\"95.410156\" xlink:href=\"#DejaVuSans-37\"/>\n       <use x=\"159.033203\" xlink:href=\"#DejaVuSans-35\"/>\n      </g>\n     </g>\n    </g>\n    <g id=\"xtick_4\">\n     <g id=\"line2d_7\">\n      <path clip-path=\"url(#p44101425d4)\" d=\"M 164.729643 239.758125 \nL 164.729643 22.318125 \n\" style=\"fill:none;stroke:#b0b0b0;stroke-linecap:square;stroke-width:0.8;\"/>\n     </g>\n     <g id=\"line2d_8\">\n      <g>\n       <use style=\"stroke:#000000;stroke-width:0.8;\" x=\"164.729643\" xlink:href=\"#ma5c53f4e3b\" y=\"239.758125\"/>\n      </g>\n     </g>\n     <g id=\"text_4\">\n      <!-- 4.00 -->\n      <g transform=\"translate(153.59683 254.356563)scale(0.1 -0.1)\">\n       <defs>\n        <path d=\"M 2419 4116 \nL 825 1625 \nL 2419 1625 \nL 2419 4116 \nz\nM 2253 4666 \nL 3047 4666 \nL 3047 1625 \nL 3713 1625 \nL 3713 1100 \nL 3047 1100 \nL 3047 0 \nL 2419 0 \nL 2419 1100 \nL 313 1100 \nL 313 1709 \nL 2253 4666 \nz\n\" id=\"DejaVuSans-34\" transform=\"scale(0.015625)\"/>\n       </defs>\n       <use xlink:href=\"#DejaVuSans-34\"/>\n       <use x=\"63.623047\" xlink:href=\"#DejaVuSans-2e\"/>\n       <use x=\"95.410156\" xlink:href=\"#DejaVuSans-30\"/>\n       <use x=\"159.033203\" xlink:href=\"#DejaVuSans-30\"/>\n      </g>\n     </g>\n    </g>\n    <g id=\"xtick_5\">\n     <g id=\"line2d_9\">\n      <path clip-path=\"url(#p44101425d4)\" d=\"M 203.354855 239.758125 \nL 203.354855 22.318125 \n\" style=\"fill:none;stroke:#b0b0b0;stroke-linecap:square;stroke-width:0.8;\"/>\n     </g>\n     <g id=\"line2d_10\">\n      <g>\n       <use style=\"stroke:#000000;stroke-width:0.8;\" x=\"203.354855\" xlink:href=\"#ma5c53f4e3b\" y=\"239.758125\"/>\n      </g>\n     </g>\n     <g id=\"text_5\">\n      <!-- 4.25 -->\n      <g transform=\"translate(192.222043 254.356563)scale(0.1 -0.1)\">\n       <use xlink:href=\"#DejaVuSans-34\"/>\n       <use x=\"63.623047\" xlink:href=\"#DejaVuSans-2e\"/>\n       <use x=\"95.410156\" xlink:href=\"#DejaVuSans-32\"/>\n       <use x=\"159.033203\" xlink:href=\"#DejaVuSans-35\"/>\n      </g>\n     </g>\n    </g>\n    <g id=\"xtick_6\">\n     <g id=\"line2d_11\">\n      <path clip-path=\"url(#p44101425d4)\" d=\"M 241.980068 239.758125 \nL 241.980068 22.318125 \n\" style=\"fill:none;stroke:#b0b0b0;stroke-linecap:square;stroke-width:0.8;\"/>\n     </g>\n     <g id=\"line2d_12\">\n      <g>\n       <use style=\"stroke:#000000;stroke-width:0.8;\" x=\"241.980068\" xlink:href=\"#ma5c53f4e3b\" y=\"239.758125\"/>\n      </g>\n     </g>\n     <g id=\"text_6\">\n      <!-- 4.50 -->\n      <g transform=\"translate(230.847255 254.356563)scale(0.1 -0.1)\">\n       <use xlink:href=\"#DejaVuSans-34\"/>\n       <use x=\"63.623047\" xlink:href=\"#DejaVuSans-2e\"/>\n       <use x=\"95.410156\" xlink:href=\"#DejaVuSans-35\"/>\n       <use x=\"159.033203\" xlink:href=\"#DejaVuSans-30\"/>\n      </g>\n     </g>\n    </g>\n    <g id=\"xtick_7\">\n     <g id=\"line2d_13\">\n      <path clip-path=\"url(#p44101425d4)\" d=\"M 280.605281 239.758125 \nL 280.605281 22.318125 \n\" style=\"fill:none;stroke:#b0b0b0;stroke-linecap:square;stroke-width:0.8;\"/>\n     </g>\n     <g id=\"line2d_14\">\n      <g>\n       <use style=\"stroke:#000000;stroke-width:0.8;\" x=\"280.605281\" xlink:href=\"#ma5c53f4e3b\" y=\"239.758125\"/>\n      </g>\n     </g>\n     <g id=\"text_7\">\n      <!-- 4.75 -->\n      <g transform=\"translate(269.472468 254.356563)scale(0.1 -0.1)\">\n       <use xlink:href=\"#DejaVuSans-34\"/>\n       <use x=\"63.623047\" xlink:href=\"#DejaVuSans-2e\"/>\n       <use x=\"95.410156\" xlink:href=\"#DejaVuSans-37\"/>\n       <use x=\"159.033203\" xlink:href=\"#DejaVuSans-35\"/>\n      </g>\n     </g>\n    </g>\n    <g id=\"xtick_8\">\n     <g id=\"line2d_15\">\n      <path clip-path=\"url(#p44101425d4)\" d=\"M 319.230493 239.758125 \nL 319.230493 22.318125 \n\" style=\"fill:none;stroke:#b0b0b0;stroke-linecap:square;stroke-width:0.8;\"/>\n     </g>\n     <g id=\"line2d_16\">\n      <g>\n       <use style=\"stroke:#000000;stroke-width:0.8;\" x=\"319.230493\" xlink:href=\"#ma5c53f4e3b\" y=\"239.758125\"/>\n      </g>\n     </g>\n     <g id=\"text_8\">\n      <!-- 5.00 -->\n      <g transform=\"translate(308.097681 254.356563)scale(0.1 -0.1)\">\n       <use xlink:href=\"#DejaVuSans-35\"/>\n       <use x=\"63.623047\" xlink:href=\"#DejaVuSans-2e\"/>\n       <use x=\"95.410156\" xlink:href=\"#DejaVuSans-30\"/>\n       <use x=\"159.033203\" xlink:href=\"#DejaVuSans-30\"/>\n      </g>\n     </g>\n    </g>\n    <g id=\"xtick_9\">\n     <g id=\"line2d_17\">\n      <path clip-path=\"url(#p44101425d4)\" d=\"M 357.855706 239.758125 \nL 357.855706 22.318125 \n\" style=\"fill:none;stroke:#b0b0b0;stroke-linecap:square;stroke-width:0.8;\"/>\n     </g>\n     <g id=\"line2d_18\">\n      <g>\n       <use style=\"stroke:#000000;stroke-width:0.8;\" x=\"357.855706\" xlink:href=\"#ma5c53f4e3b\" y=\"239.758125\"/>\n      </g>\n     </g>\n     <g id=\"text_9\">\n      <!-- 5.25 -->\n      <g transform=\"translate(346.722893 254.356563)scale(0.1 -0.1)\">\n       <use xlink:href=\"#DejaVuSans-35\"/>\n       <use x=\"63.623047\" xlink:href=\"#DejaVuSans-2e\"/>\n       <use x=\"95.410156\" xlink:href=\"#DejaVuSans-32\"/>\n       <use x=\"159.033203\" xlink:href=\"#DejaVuSans-35\"/>\n      </g>\n     </g>\n    </g>\n   </g>\n   <g id=\"matplotlib.axis_2\">\n    <g id=\"ytick_1\">\n     <g id=\"line2d_19\">\n      <path clip-path=\"url(#p44101425d4)\" d=\"M 26.925 239.758125 \nL 361.725 239.758125 \n\" style=\"fill:none;stroke:#b0b0b0;stroke-linecap:square;stroke-width:0.8;\"/>\n     </g>\n     <g id=\"line2d_20\">\n      <defs>\n       <path d=\"M 0 0 \nL -3.5 0 \n\" id=\"m08e233b7e2\" style=\"stroke:#000000;stroke-width:0.8;\"/>\n      </defs>\n      <g>\n       <use style=\"stroke:#000000;stroke-width:0.8;\" x=\"26.925\" xlink:href=\"#m08e233b7e2\" y=\"239.758125\"/>\n      </g>\n     </g>\n     <g id=\"text_10\">\n      <!-- 0 -->\n      <g transform=\"translate(13.5625 243.557344)scale(0.1 -0.1)\">\n       <use xlink:href=\"#DejaVuSans-30\"/>\n      </g>\n     </g>\n    </g>\n    <g id=\"ytick_2\">\n     <g id=\"line2d_21\">\n      <path clip-path=\"url(#p44101425d4)\" d=\"M 26.925 198.340982 \nL 361.725 198.340982 \n\" style=\"fill:none;stroke:#b0b0b0;stroke-linecap:square;stroke-width:0.8;\"/>\n     </g>\n     <g id=\"line2d_22\">\n      <g>\n       <use style=\"stroke:#000000;stroke-width:0.8;\" x=\"26.925\" xlink:href=\"#m08e233b7e2\" y=\"198.340982\"/>\n      </g>\n     </g>\n     <g id=\"text_11\">\n      <!-- 2 -->\n      <g transform=\"translate(13.5625 202.140201)scale(0.1 -0.1)\">\n       <use xlink:href=\"#DejaVuSans-32\"/>\n      </g>\n     </g>\n    </g>\n    <g id=\"ytick_3\">\n     <g id=\"line2d_23\">\n      <path clip-path=\"url(#p44101425d4)\" d=\"M 26.925 156.923839 \nL 361.725 156.923839 \n\" style=\"fill:none;stroke:#b0b0b0;stroke-linecap:square;stroke-width:0.8;\"/>\n     </g>\n     <g id=\"line2d_24\">\n      <g>\n       <use style=\"stroke:#000000;stroke-width:0.8;\" x=\"26.925\" xlink:href=\"#m08e233b7e2\" y=\"156.923839\"/>\n      </g>\n     </g>\n     <g id=\"text_12\">\n      <!-- 4 -->\n      <g transform=\"translate(13.5625 160.723058)scale(0.1 -0.1)\">\n       <use xlink:href=\"#DejaVuSans-34\"/>\n      </g>\n     </g>\n    </g>\n    <g id=\"ytick_4\">\n     <g id=\"line2d_25\">\n      <path clip-path=\"url(#p44101425d4)\" d=\"M 26.925 115.506696 \nL 361.725 115.506696 \n\" style=\"fill:none;stroke:#b0b0b0;stroke-linecap:square;stroke-width:0.8;\"/>\n     </g>\n     <g id=\"line2d_26\">\n      <g>\n       <use style=\"stroke:#000000;stroke-width:0.8;\" x=\"26.925\" xlink:href=\"#m08e233b7e2\" y=\"115.506696\"/>\n      </g>\n     </g>\n     <g id=\"text_13\">\n      <!-- 6 -->\n      <g transform=\"translate(13.5625 119.305915)scale(0.1 -0.1)\">\n       <defs>\n        <path d=\"M 2113 2584 \nQ 1688 2584 1439 2293 \nQ 1191 2003 1191 1497 \nQ 1191 994 1439 701 \nQ 1688 409 2113 409 \nQ 2538 409 2786 701 \nQ 3034 994 3034 1497 \nQ 3034 2003 2786 2293 \nQ 2538 2584 2113 2584 \nz\nM 3366 4563 \nL 3366 3988 \nQ 3128 4100 2886 4159 \nQ 2644 4219 2406 4219 \nQ 1781 4219 1451 3797 \nQ 1122 3375 1075 2522 \nQ 1259 2794 1537 2939 \nQ 1816 3084 2150 3084 \nQ 2853 3084 3261 2657 \nQ 3669 2231 3669 1497 \nQ 3669 778 3244 343 \nQ 2819 -91 2113 -91 \nQ 1303 -91 875 529 \nQ 447 1150 447 2328 \nQ 447 3434 972 4092 \nQ 1497 4750 2381 4750 \nQ 2619 4750 2861 4703 \nQ 3103 4656 3366 4563 \nz\n\" id=\"DejaVuSans-36\" transform=\"scale(0.015625)\"/>\n       </defs>\n       <use xlink:href=\"#DejaVuSans-36\"/>\n      </g>\n     </g>\n    </g>\n    <g id=\"ytick_5\">\n     <g id=\"line2d_27\">\n      <path clip-path=\"url(#p44101425d4)\" d=\"M 26.925 74.089554 \nL 361.725 74.089554 \n\" style=\"fill:none;stroke:#b0b0b0;stroke-linecap:square;stroke-width:0.8;\"/>\n     </g>\n     <g id=\"line2d_28\">\n      <g>\n       <use style=\"stroke:#000000;stroke-width:0.8;\" x=\"26.925\" xlink:href=\"#m08e233b7e2\" y=\"74.089554\"/>\n      </g>\n     </g>\n     <g id=\"text_14\">\n      <!-- 8 -->\n      <g transform=\"translate(13.5625 77.888772)scale(0.1 -0.1)\">\n       <defs>\n        <path d=\"M 2034 2216 \nQ 1584 2216 1326 1975 \nQ 1069 1734 1069 1313 \nQ 1069 891 1326 650 \nQ 1584 409 2034 409 \nQ 2484 409 2743 651 \nQ 3003 894 3003 1313 \nQ 3003 1734 2745 1975 \nQ 2488 2216 2034 2216 \nz\nM 1403 2484 \nQ 997 2584 770 2862 \nQ 544 3141 544 3541 \nQ 544 4100 942 4425 \nQ 1341 4750 2034 4750 \nQ 2731 4750 3128 4425 \nQ 3525 4100 3525 3541 \nQ 3525 3141 3298 2862 \nQ 3072 2584 2669 2484 \nQ 3125 2378 3379 2068 \nQ 3634 1759 3634 1313 \nQ 3634 634 3220 271 \nQ 2806 -91 2034 -91 \nQ 1263 -91 848 271 \nQ 434 634 434 1313 \nQ 434 1759 690 2068 \nQ 947 2378 1403 2484 \nz\nM 1172 3481 \nQ 1172 3119 1398 2916 \nQ 1625 2713 2034 2713 \nQ 2441 2713 2670 2916 \nQ 2900 3119 2900 3481 \nQ 2900 3844 2670 4047 \nQ 2441 4250 2034 4250 \nQ 1625 4250 1398 4047 \nQ 1172 3844 1172 3481 \nz\n\" id=\"DejaVuSans-38\" transform=\"scale(0.015625)\"/>\n       </defs>\n       <use xlink:href=\"#DejaVuSans-38\"/>\n      </g>\n     </g>\n    </g>\n    <g id=\"ytick_6\">\n     <g id=\"line2d_29\">\n      <path clip-path=\"url(#p44101425d4)\" d=\"M 26.925 32.672411 \nL 361.725 32.672411 \n\" style=\"fill:none;stroke:#b0b0b0;stroke-linecap:square;stroke-width:0.8;\"/>\n     </g>\n     <g id=\"line2d_30\">\n      <g>\n       <use style=\"stroke:#000000;stroke-width:0.8;\" x=\"26.925\" xlink:href=\"#m08e233b7e2\" y=\"32.672411\"/>\n      </g>\n     </g>\n     <g id=\"text_15\">\n      <!-- 10 -->\n      <g transform=\"translate(7.2 36.471629)scale(0.1 -0.1)\">\n       <defs>\n        <path d=\"M 794 531 \nL 1825 531 \nL 1825 4091 \nL 703 3866 \nL 703 4441 \nL 1819 4666 \nL 2450 4666 \nL 2450 531 \nL 3481 531 \nL 3481 0 \nL 794 0 \nL 794 531 \nz\n\" id=\"DejaVuSans-31\" transform=\"scale(0.015625)\"/>\n       </defs>\n       <use xlink:href=\"#DejaVuSans-31\"/>\n       <use x=\"63.623047\" xlink:href=\"#DejaVuSans-30\"/>\n      </g>\n     </g>\n    </g>\n   </g>\n   <g id=\"patch_5\">\n    <path d=\"M 26.925 239.758125 \nL 26.925 22.318125 \n\" style=\"fill:none;stroke:#000000;stroke-linecap:square;stroke-linejoin:miter;stroke-width:0.8;\"/>\n   </g>\n   <g id=\"patch_6\">\n    <path d=\"M 361.725 239.758125 \nL 361.725 22.318125 \n\" style=\"fill:none;stroke:#000000;stroke-linecap:square;stroke-linejoin:miter;stroke-width:0.8;\"/>\n   </g>\n   <g id=\"patch_7\">\n    <path d=\"M 26.925 239.758125 \nL 361.725 239.758125 \n\" style=\"fill:none;stroke:#000000;stroke-linecap:square;stroke-linejoin:miter;stroke-width:0.8;\"/>\n   </g>\n   <g id=\"patch_8\">\n    <path d=\"M 26.925 22.318125 \nL 361.725 22.318125 \n\" style=\"fill:none;stroke:#000000;stroke-linecap:square;stroke-linejoin:miter;stroke-width:0.8;\"/>\n   </g>\n   <g id=\"text_16\">\n    <!-- estimated_diameter_kilometers_estimated_diameter_max -->\n    <g transform=\"translate(19.779375 16.318125)scale(0.12 -0.12)\">\n     <defs>\n      <path d=\"M 3597 1894 \nL 3597 1613 \nL 953 1613 \nQ 991 1019 1311 708 \nQ 1631 397 2203 397 \nQ 2534 397 2845 478 \nQ 3156 559 3463 722 \nL 3463 178 \nQ 3153 47 2828 -22 \nQ 2503 -91 2169 -91 \nQ 1331 -91 842 396 \nQ 353 884 353 1716 \nQ 353 2575 817 3079 \nQ 1281 3584 2069 3584 \nQ 2775 3584 3186 3129 \nQ 3597 2675 3597 1894 \nz\nM 3022 2063 \nQ 3016 2534 2758 2815 \nQ 2500 3097 2075 3097 \nQ 1594 3097 1305 2825 \nQ 1016 2553 972 2059 \nL 3022 2063 \nz\n\" id=\"DejaVuSans-65\" transform=\"scale(0.015625)\"/>\n      <path d=\"M 2834 3397 \nL 2834 2853 \nQ 2591 2978 2328 3040 \nQ 2066 3103 1784 3103 \nQ 1356 3103 1142 2972 \nQ 928 2841 928 2578 \nQ 928 2378 1081 2264 \nQ 1234 2150 1697 2047 \nL 1894 2003 \nQ 2506 1872 2764 1633 \nQ 3022 1394 3022 966 \nQ 3022 478 2636 193 \nQ 2250 -91 1575 -91 \nQ 1294 -91 989 -36 \nQ 684 19 347 128 \nL 347 722 \nQ 666 556 975 473 \nQ 1284 391 1588 391 \nQ 1994 391 2212 530 \nQ 2431 669 2431 922 \nQ 2431 1156 2273 1281 \nQ 2116 1406 1581 1522 \nL 1381 1569 \nQ 847 1681 609 1914 \nQ 372 2147 372 2553 \nQ 372 3047 722 3315 \nQ 1072 3584 1716 3584 \nQ 2034 3584 2315 3537 \nQ 2597 3491 2834 3397 \nz\n\" id=\"DejaVuSans-73\" transform=\"scale(0.015625)\"/>\n      <path d=\"M 1172 4494 \nL 1172 3500 \nL 2356 3500 \nL 2356 3053 \nL 1172 3053 \nL 1172 1153 \nQ 1172 725 1289 603 \nQ 1406 481 1766 481 \nL 2356 481 \nL 2356 0 \nL 1766 0 \nQ 1100 0 847 248 \nQ 594 497 594 1153 \nL 594 3053 \nL 172 3053 \nL 172 3500 \nL 594 3500 \nL 594 4494 \nL 1172 4494 \nz\n\" id=\"DejaVuSans-74\" transform=\"scale(0.015625)\"/>\n      <path d=\"M 603 3500 \nL 1178 3500 \nL 1178 0 \nL 603 0 \nL 603 3500 \nz\nM 603 4863 \nL 1178 4863 \nL 1178 4134 \nL 603 4134 \nL 603 4863 \nz\n\" id=\"DejaVuSans-69\" transform=\"scale(0.015625)\"/>\n      <path d=\"M 3328 2828 \nQ 3544 3216 3844 3400 \nQ 4144 3584 4550 3584 \nQ 5097 3584 5394 3201 \nQ 5691 2819 5691 2113 \nL 5691 0 \nL 5113 0 \nL 5113 2094 \nQ 5113 2597 4934 2840 \nQ 4756 3084 4391 3084 \nQ 3944 3084 3684 2787 \nQ 3425 2491 3425 1978 \nL 3425 0 \nL 2847 0 \nL 2847 2094 \nQ 2847 2600 2669 2842 \nQ 2491 3084 2119 3084 \nQ 1678 3084 1418 2786 \nQ 1159 2488 1159 1978 \nL 1159 0 \nL 581 0 \nL 581 3500 \nL 1159 3500 \nL 1159 2956 \nQ 1356 3278 1631 3431 \nQ 1906 3584 2284 3584 \nQ 2666 3584 2933 3390 \nQ 3200 3197 3328 2828 \nz\n\" id=\"DejaVuSans-6d\" transform=\"scale(0.015625)\"/>\n      <path d=\"M 2194 1759 \nQ 1497 1759 1228 1600 \nQ 959 1441 959 1056 \nQ 959 750 1161 570 \nQ 1363 391 1709 391 \nQ 2188 391 2477 730 \nQ 2766 1069 2766 1631 \nL 2766 1759 \nL 2194 1759 \nz\nM 3341 1997 \nL 3341 0 \nL 2766 0 \nL 2766 531 \nQ 2569 213 2275 61 \nQ 1981 -91 1556 -91 \nQ 1019 -91 701 211 \nQ 384 513 384 1019 \nQ 384 1609 779 1909 \nQ 1175 2209 1959 2209 \nL 2766 2209 \nL 2766 2266 \nQ 2766 2663 2505 2880 \nQ 2244 3097 1772 3097 \nQ 1472 3097 1187 3025 \nQ 903 2953 641 2809 \nL 641 3341 \nQ 956 3463 1253 3523 \nQ 1550 3584 1831 3584 \nQ 2591 3584 2966 3190 \nQ 3341 2797 3341 1997 \nz\n\" id=\"DejaVuSans-61\" transform=\"scale(0.015625)\"/>\n      <path d=\"M 2906 2969 \nL 2906 4863 \nL 3481 4863 \nL 3481 0 \nL 2906 0 \nL 2906 525 \nQ 2725 213 2448 61 \nQ 2172 -91 1784 -91 \nQ 1150 -91 751 415 \nQ 353 922 353 1747 \nQ 353 2572 751 3078 \nQ 1150 3584 1784 3584 \nQ 2172 3584 2448 3432 \nQ 2725 3281 2906 2969 \nz\nM 947 1747 \nQ 947 1113 1208 752 \nQ 1469 391 1925 391 \nQ 2381 391 2643 752 \nQ 2906 1113 2906 1747 \nQ 2906 2381 2643 2742 \nQ 2381 3103 1925 3103 \nQ 1469 3103 1208 2742 \nQ 947 2381 947 1747 \nz\n\" id=\"DejaVuSans-64\" transform=\"scale(0.015625)\"/>\n      <path d=\"M 3263 -1063 \nL 3263 -1509 \nL -63 -1509 \nL -63 -1063 \nL 3263 -1063 \nz\n\" id=\"DejaVuSans-5f\" transform=\"scale(0.015625)\"/>\n      <path d=\"M 2631 2963 \nQ 2534 3019 2420 3045 \nQ 2306 3072 2169 3072 \nQ 1681 3072 1420 2755 \nQ 1159 2438 1159 1844 \nL 1159 0 \nL 581 0 \nL 581 3500 \nL 1159 3500 \nL 1159 2956 \nQ 1341 3275 1631 3429 \nQ 1922 3584 2338 3584 \nQ 2397 3584 2469 3576 \nQ 2541 3569 2628 3553 \nL 2631 2963 \nz\n\" id=\"DejaVuSans-72\" transform=\"scale(0.015625)\"/>\n      <path d=\"M 581 4863 \nL 1159 4863 \nL 1159 1991 \nL 2875 3500 \nL 3609 3500 \nL 1753 1863 \nL 3688 0 \nL 2938 0 \nL 1159 1709 \nL 1159 0 \nL 581 0 \nL 581 4863 \nz\n\" id=\"DejaVuSans-6b\" transform=\"scale(0.015625)\"/>\n      <path d=\"M 603 4863 \nL 1178 4863 \nL 1178 0 \nL 603 0 \nL 603 4863 \nz\n\" id=\"DejaVuSans-6c\" transform=\"scale(0.015625)\"/>\n      <path d=\"M 1959 3097 \nQ 1497 3097 1228 2736 \nQ 959 2375 959 1747 \nQ 959 1119 1226 758 \nQ 1494 397 1959 397 \nQ 2419 397 2687 759 \nQ 2956 1122 2956 1747 \nQ 2956 2369 2687 2733 \nQ 2419 3097 1959 3097 \nz\nM 1959 3584 \nQ 2709 3584 3137 3096 \nQ 3566 2609 3566 1747 \nQ 3566 888 3137 398 \nQ 2709 -91 1959 -91 \nQ 1206 -91 779 398 \nQ 353 888 353 1747 \nQ 353 2609 779 3096 \nQ 1206 3584 1959 3584 \nz\n\" id=\"DejaVuSans-6f\" transform=\"scale(0.015625)\"/>\n      <path d=\"M 3513 3500 \nL 2247 1797 \nL 3578 0 \nL 2900 0 \nL 1881 1375 \nL 863 0 \nL 184 0 \nL 1544 1831 \nL 300 3500 \nL 978 3500 \nL 1906 2253 \nL 2834 3500 \nL 3513 3500 \nz\n\" id=\"DejaVuSans-78\" transform=\"scale(0.015625)\"/>\n     </defs>\n     <use xlink:href=\"#DejaVuSans-65\"/>\n     <use x=\"61.523438\" xlink:href=\"#DejaVuSans-73\"/>\n     <use x=\"113.623047\" xlink:href=\"#DejaVuSans-74\"/>\n     <use x=\"152.832031\" xlink:href=\"#DejaVuSans-69\"/>\n     <use x=\"180.615234\" xlink:href=\"#DejaVuSans-6d\"/>\n     <use x=\"278.027344\" xlink:href=\"#DejaVuSans-61\"/>\n     <use x=\"339.306641\" xlink:href=\"#DejaVuSans-74\"/>\n     <use x=\"378.515625\" xlink:href=\"#DejaVuSans-65\"/>\n     <use x=\"440.039062\" xlink:href=\"#DejaVuSans-64\"/>\n     <use x=\"503.515625\" xlink:href=\"#DejaVuSans-5f\"/>\n     <use x=\"553.515625\" xlink:href=\"#DejaVuSans-64\"/>\n     <use x=\"616.992188\" xlink:href=\"#DejaVuSans-69\"/>\n     <use x=\"644.775391\" xlink:href=\"#DejaVuSans-61\"/>\n     <use x=\"706.054688\" xlink:href=\"#DejaVuSans-6d\"/>\n     <use x=\"803.466797\" xlink:href=\"#DejaVuSans-65\"/>\n     <use x=\"864.990234\" xlink:href=\"#DejaVuSans-74\"/>\n     <use x=\"904.199219\" xlink:href=\"#DejaVuSans-65\"/>\n     <use x=\"965.722656\" xlink:href=\"#DejaVuSans-72\"/>\n     <use x=\"1006.835938\" xlink:href=\"#DejaVuSans-5f\"/>\n     <use x=\"1056.835938\" xlink:href=\"#DejaVuSans-6b\"/>\n     <use x=\"1114.746094\" xlink:href=\"#DejaVuSans-69\"/>\n     <use x=\"1142.529297\" xlink:href=\"#DejaVuSans-6c\"/>\n     <use x=\"1170.3125\" xlink:href=\"#DejaVuSans-6f\"/>\n     <use x=\"1231.494141\" xlink:href=\"#DejaVuSans-6d\"/>\n     <use x=\"1328.90625\" xlink:href=\"#DejaVuSans-65\"/>\n     <use x=\"1390.429688\" xlink:href=\"#DejaVuSans-74\"/>\n     <use x=\"1429.638672\" xlink:href=\"#DejaVuSans-65\"/>\n     <use x=\"1491.162109\" xlink:href=\"#DejaVuSans-72\"/>\n     <use x=\"1532.275391\" xlink:href=\"#DejaVuSans-73\"/>\n     <use x=\"1584.375\" xlink:href=\"#DejaVuSans-5f\"/>\n     <use x=\"1634.375\" xlink:href=\"#DejaVuSans-65\"/>\n     <use x=\"1695.898438\" xlink:href=\"#DejaVuSans-73\"/>\n     <use x=\"1747.998047\" xlink:href=\"#DejaVuSans-74\"/>\n     <use x=\"1787.207031\" xlink:href=\"#DejaVuSans-69\"/>\n     <use x=\"1814.990234\" xlink:href=\"#DejaVuSans-6d\"/>\n     <use x=\"1912.402344\" xlink:href=\"#DejaVuSans-61\"/>\n     <use x=\"1973.681641\" xlink:href=\"#DejaVuSans-74\"/>\n     <use x=\"2012.890625\" xlink:href=\"#DejaVuSans-65\"/>\n     <use x=\"2074.414062\" xlink:href=\"#DejaVuSans-64\"/>\n     <use x=\"2137.890625\" xlink:href=\"#DejaVuSans-5f\"/>\n     <use x=\"2187.890625\" xlink:href=\"#DejaVuSans-64\"/>\n     <use x=\"2251.367188\" xlink:href=\"#DejaVuSans-69\"/>\n     <use x=\"2279.150391\" xlink:href=\"#DejaVuSans-61\"/>\n     <use x=\"2340.429688\" xlink:href=\"#DejaVuSans-6d\"/>\n     <use x=\"2437.841797\" xlink:href=\"#DejaVuSans-65\"/>\n     <use x=\"2499.365234\" xlink:href=\"#DejaVuSans-74\"/>\n     <use x=\"2538.574219\" xlink:href=\"#DejaVuSans-65\"/>\n     <use x=\"2600.097656\" xlink:href=\"#DejaVuSans-72\"/>\n     <use x=\"2641.210938\" xlink:href=\"#DejaVuSans-5f\"/>\n     <use x=\"2691.210938\" xlink:href=\"#DejaVuSans-6d\"/>\n     <use x=\"2788.623047\" xlink:href=\"#DejaVuSans-61\"/>\n     <use x=\"2849.902344\" xlink:href=\"#DejaVuSans-78\"/>\n    </g>\n   </g>\n  </g>\n </g>\n <defs>\n  <clipPath id=\"p44101425d4\">\n   <rect height=\"217.44\" width=\"334.8\" x=\"26.925\" y=\"22.318125\"/>\n  </clipPath>\n </defs>\n</svg>\n",
      "image/png": "[encoded data removed]"
     },
     "metadata": {
      "needs_background": "light"
     }
    }
   ],
   "source": [
    "# Histograma de tamanhos de objetos que são perigosos;\n",
    "\n",
    "df_diametro_perigosos.hist(bins=2)"
   ]
  },
  {
   "cell_type": "code",
   "execution_count": 186,
   "metadata": {},
   "outputs": [
    {
     "output_type": "execute_result",
     "data": {
      "text/plain": [
       "array([[<AxesSubplot:title={'center':'estimated_diameter_kilometers_estimated_diameter_max'}>]],\n",
       "      dtype=object)"
      ]
     },
     "metadata": {},
     "execution_count": 186
    },
    {
     "output_type": "display_data",
     "data": {
      "text/plain": "<Figure size 432x288 with 1 Axes>",
      "image/svg+xml": "<?xml version=\"1.0\" encoding=\"utf-8\" standalone=\"no\"?>\n<!DOCTYPE svg PUBLIC \"-//W3C//DTD SVG 1.1//EN\"\n  \"http://www.w3.org/Graphics/SVG/1.1/DTD/svg11.dtd\">\n<svg height=\"263.63625pt\" version=\"1.1\" viewBox=\"0 0 376.070625 263.63625\" width=\"376.070625pt\" xmlns=\"http://www.w3.org/2000/svg\" xmlns:xlink=\"http://www.w3.org/1999/xlink\">\n <metadata>\n  <rdf:RDF xmlns:cc=\"http://creativecommons.org/ns#\" xmlns:dc=\"http://purl.org/dc/elements/1.1/\" xmlns:rdf=\"http://www.w3.org/1999/02/22-rdf-syntax-ns#\">\n   <cc:Work>\n    <dc:type rdf:resource=\"http://purl.org/dc/dcmitype/StillImage\"/>\n    <dc:date>2021-05-25T15:09:19.853618</dc:date>\n    <dc:format>image/svg+xml</dc:format>\n    <dc:creator>\n     <cc:Agent>\n      <dc:title>Matplotlib v3.4.1, https://matplotlib.org/</dc:title>\n     </cc:Agent>\n    </dc:creator>\n   </cc:Work>\n  </rdf:RDF>\n </metadata>\n <defs>\n  <style type=\"text/css\">*{stroke-linecap:butt;stroke-linejoin:round;}</style>\n </defs>\n <g id=\"figure_1\">\n  <g id=\"patch_1\">\n   <path d=\"M -0 263.63625 \nL 376.070625 263.63625 \nL 376.070625 0 \nL -0 0 \nz\n\" style=\"fill:none;\"/>\n  </g>\n  <g id=\"axes_1\">\n   <g id=\"patch_2\">\n    <path d=\"M 26.925 239.758125 \nL 361.725 239.758125 \nL 361.725 22.318125 \nL 26.925 22.318125 \nz\n\" style=\"fill:#ffffff;\"/>\n   </g>\n   <g id=\"patch_3\">\n    <path clip-path=\"url(#pfcc521b23a)\" d=\"M 42.143182 239.758125 \nL 72.579545 239.758125 \nL 72.579545 32.672411 \nL 42.143182 32.672411 \nz\n\" style=\"fill:#1f77b4;\"/>\n   </g>\n   <g id=\"patch_4\">\n    <path clip-path=\"url(#pfcc521b23a)\" d=\"M 72.579545 239.758125 \nL 103.015909 239.758125 \nL 103.015909 183.280203 \nL 72.579545 183.280203 \nz\n\" style=\"fill:#1f77b4;\"/>\n   </g>\n   <g id=\"patch_5\">\n    <path clip-path=\"url(#pfcc521b23a)\" d=\"M 103.015909 239.758125 \nL 133.452273 239.758125 \nL 133.452273 220.932151 \nL 103.015909 220.932151 \nz\n\" style=\"fill:#1f77b4;\"/>\n   </g>\n   <g id=\"patch_6\">\n    <path clip-path=\"url(#pfcc521b23a)\" d=\"M 133.452273 239.758125 \nL 163.888636 239.758125 \nL 163.888636 239.758125 \nL 133.452273 239.758125 \nz\n\" style=\"fill:#1f77b4;\"/>\n   </g>\n   <g id=\"patch_7\">\n    <path clip-path=\"url(#pfcc521b23a)\" d=\"M 163.888636 239.758125 \nL 194.325 239.758125 \nL 194.325 239.758125 \nL 163.888636 239.758125 \nz\n\" style=\"fill:#1f77b4;\"/>\n   </g>\n   <g id=\"patch_8\">\n    <path clip-path=\"url(#pfcc521b23a)\" d=\"M 194.325 239.758125 \nL 224.761364 239.758125 \nL 224.761364 220.932151 \nL 194.325 220.932151 \nz\n\" style=\"fill:#1f77b4;\"/>\n   </g>\n   <g id=\"patch_9\">\n    <path clip-path=\"url(#pfcc521b23a)\" d=\"M 224.761364 239.758125 \nL 255.197727 239.758125 \nL 255.197727 239.758125 \nL 224.761364 239.758125 \nz\n\" style=\"fill:#1f77b4;\"/>\n   </g>\n   <g id=\"patch_10\">\n    <path clip-path=\"url(#pfcc521b23a)\" d=\"M 255.197727 239.758125 \nL 285.634091 239.758125 \nL 285.634091 239.758125 \nL 255.197727 239.758125 \nz\n\" style=\"fill:#1f77b4;\"/>\n   </g>\n   <g id=\"patch_11\">\n    <path clip-path=\"url(#pfcc521b23a)\" d=\"M 285.634091 239.758125 \nL 316.070455 239.758125 \nL 316.070455 239.758125 \nL 285.634091 239.758125 \nz\n\" style=\"fill:#1f77b4;\"/>\n   </g>\n   <g id=\"patch_12\">\n    <path clip-path=\"url(#pfcc521b23a)\" d=\"M 316.070455 239.758125 \nL 346.506818 239.758125 \nL 346.506818 220.932151 \nL 316.070455 220.932151 \nz\n\" style=\"fill:#1f77b4;\"/>\n   </g>\n   <g id=\"matplotlib.axis_1\">\n    <g id=\"xtick_1\">\n     <g id=\"line2d_1\">\n      <path clip-path=\"url(#pfcc521b23a)\" d=\"M 38.640814 239.758125 \nL 38.640814 22.318125 \n\" style=\"fill:none;stroke:#b0b0b0;stroke-linecap:square;stroke-width:0.8;\"/>\n     </g>\n     <g id=\"line2d_2\">\n      <defs>\n       <path d=\"M 0 0 \nL 0 3.5 \n\" id=\"m363f3d811a\" style=\"stroke:#000000;stroke-width:0.8;\"/>\n      </defs>\n      <g>\n       <use style=\"stroke:#000000;stroke-width:0.8;\" x=\"38.640814\" xlink:href=\"#m363f3d811a\" y=\"239.758125\"/>\n      </g>\n     </g>\n     <g id=\"text_1\">\n      <!-- 0 -->\n      <g transform=\"translate(35.459564 254.356563)scale(0.1 -0.1)\">\n       <defs>\n        <path d=\"M 2034 4250 \nQ 1547 4250 1301 3770 \nQ 1056 3291 1056 2328 \nQ 1056 1369 1301 889 \nQ 1547 409 2034 409 \nQ 2525 409 2770 889 \nQ 3016 1369 3016 2328 \nQ 3016 3291 2770 3770 \nQ 2525 4250 2034 4250 \nz\nM 2034 4750 \nQ 2819 4750 3233 4129 \nQ 3647 3509 3647 2328 \nQ 3647 1150 3233 529 \nQ 2819 -91 2034 -91 \nQ 1250 -91 836 529 \nQ 422 1150 422 2328 \nQ 422 3509 836 4129 \nQ 1250 4750 2034 4750 \nz\n\" id=\"DejaVuSans-30\" transform=\"scale(0.015625)\"/>\n       </defs>\n       <use xlink:href=\"#DejaVuSans-30\"/>\n      </g>\n     </g>\n    </g>\n    <g id=\"xtick_2\">\n     <g id=\"line2d_3\">\n      <path clip-path=\"url(#pfcc521b23a)\" d=\"M 111.982646 239.758125 \nL 111.982646 22.318125 \n\" style=\"fill:none;stroke:#b0b0b0;stroke-linecap:square;stroke-width:0.8;\"/>\n     </g>\n     <g id=\"line2d_4\">\n      <g>\n       <use style=\"stroke:#000000;stroke-width:0.8;\" x=\"111.982646\" xlink:href=\"#m363f3d811a\" y=\"239.758125\"/>\n      </g>\n     </g>\n     <g id=\"text_2\">\n      <!-- 20 -->\n      <g transform=\"translate(105.620146 254.356563)scale(0.1 -0.1)\">\n       <defs>\n        <path d=\"M 1228 531 \nL 3431 531 \nL 3431 0 \nL 469 0 \nL 469 531 \nQ 828 903 1448 1529 \nQ 2069 2156 2228 2338 \nQ 2531 2678 2651 2914 \nQ 2772 3150 2772 3378 \nQ 2772 3750 2511 3984 \nQ 2250 4219 1831 4219 \nQ 1534 4219 1204 4116 \nQ 875 4013 500 3803 \nL 500 4441 \nQ 881 4594 1212 4672 \nQ 1544 4750 1819 4750 \nQ 2544 4750 2975 4387 \nQ 3406 4025 3406 3419 \nQ 3406 3131 3298 2873 \nQ 3191 2616 2906 2266 \nQ 2828 2175 2409 1742 \nQ 1991 1309 1228 531 \nz\n\" id=\"DejaVuSans-32\" transform=\"scale(0.015625)\"/>\n       </defs>\n       <use xlink:href=\"#DejaVuSans-32\"/>\n       <use x=\"63.623047\" xlink:href=\"#DejaVuSans-30\"/>\n      </g>\n     </g>\n    </g>\n    <g id=\"xtick_3\">\n     <g id=\"line2d_5\">\n      <path clip-path=\"url(#pfcc521b23a)\" d=\"M 185.324477 239.758125 \nL 185.324477 22.318125 \n\" style=\"fill:none;stroke:#b0b0b0;stroke-linecap:square;stroke-width:0.8;\"/>\n     </g>\n     <g id=\"line2d_6\">\n      <g>\n       <use style=\"stroke:#000000;stroke-width:0.8;\" x=\"185.324477\" xlink:href=\"#m363f3d811a\" y=\"239.758125\"/>\n      </g>\n     </g>\n     <g id=\"text_3\">\n      <!-- 40 -->\n      <g transform=\"translate(178.961977 254.356563)scale(0.1 -0.1)\">\n       <defs>\n        <path d=\"M 2419 4116 \nL 825 1625 \nL 2419 1625 \nL 2419 4116 \nz\nM 2253 4666 \nL 3047 4666 \nL 3047 1625 \nL 3713 1625 \nL 3713 1100 \nL 3047 1100 \nL 3047 0 \nL 2419 0 \nL 2419 1100 \nL 313 1100 \nL 313 1709 \nL 2253 4666 \nz\n\" id=\"DejaVuSans-34\" transform=\"scale(0.015625)\"/>\n       </defs>\n       <use xlink:href=\"#DejaVuSans-34\"/>\n       <use x=\"63.623047\" xlink:href=\"#DejaVuSans-30\"/>\n      </g>\n     </g>\n    </g>\n    <g id=\"xtick_4\">\n     <g id=\"line2d_7\">\n      <path clip-path=\"url(#pfcc521b23a)\" d=\"M 258.666309 239.758125 \nL 258.666309 22.318125 \n\" style=\"fill:none;stroke:#b0b0b0;stroke-linecap:square;stroke-width:0.8;\"/>\n     </g>\n     <g id=\"line2d_8\">\n      <g>\n       <use style=\"stroke:#000000;stroke-width:0.8;\" x=\"258.666309\" xlink:href=\"#m363f3d811a\" y=\"239.758125\"/>\n      </g>\n     </g>\n     <g id=\"text_4\">\n      <!-- 60 -->\n      <g transform=\"translate(252.303809 254.356563)scale(0.1 -0.1)\">\n       <defs>\n        <path d=\"M 2113 2584 \nQ 1688 2584 1439 2293 \nQ 1191 2003 1191 1497 \nQ 1191 994 1439 701 \nQ 1688 409 2113 409 \nQ 2538 409 2786 701 \nQ 3034 994 3034 1497 \nQ 3034 2003 2786 2293 \nQ 2538 2584 2113 2584 \nz\nM 3366 4563 \nL 3366 3988 \nQ 3128 4100 2886 4159 \nQ 2644 4219 2406 4219 \nQ 1781 4219 1451 3797 \nQ 1122 3375 1075 2522 \nQ 1259 2794 1537 2939 \nQ 1816 3084 2150 3084 \nQ 2853 3084 3261 2657 \nQ 3669 2231 3669 1497 \nQ 3669 778 3244 343 \nQ 2819 -91 2113 -91 \nQ 1303 -91 875 529 \nQ 447 1150 447 2328 \nQ 447 3434 972 4092 \nQ 1497 4750 2381 4750 \nQ 2619 4750 2861 4703 \nQ 3103 4656 3366 4563 \nz\n\" id=\"DejaVuSans-36\" transform=\"scale(0.015625)\"/>\n       </defs>\n       <use xlink:href=\"#DejaVuSans-36\"/>\n       <use x=\"63.623047\" xlink:href=\"#DejaVuSans-30\"/>\n      </g>\n     </g>\n    </g>\n    <g id=\"xtick_5\">\n     <g id=\"line2d_9\">\n      <path clip-path=\"url(#pfcc521b23a)\" d=\"M 332.008141 239.758125 \nL 332.008141 22.318125 \n\" style=\"fill:none;stroke:#b0b0b0;stroke-linecap:square;stroke-width:0.8;\"/>\n     </g>\n     <g id=\"line2d_10\">\n      <g>\n       <use style=\"stroke:#000000;stroke-width:0.8;\" x=\"332.008141\" xlink:href=\"#m363f3d811a\" y=\"239.758125\"/>\n      </g>\n     </g>\n     <g id=\"text_5\">\n      <!-- 80 -->\n      <g transform=\"translate(325.645641 254.356563)scale(0.1 -0.1)\">\n       <defs>\n        <path d=\"M 2034 2216 \nQ 1584 2216 1326 1975 \nQ 1069 1734 1069 1313 \nQ 1069 891 1326 650 \nQ 1584 409 2034 409 \nQ 2484 409 2743 651 \nQ 3003 894 3003 1313 \nQ 3003 1734 2745 1975 \nQ 2488 2216 2034 2216 \nz\nM 1403 2484 \nQ 997 2584 770 2862 \nQ 544 3141 544 3541 \nQ 544 4100 942 4425 \nQ 1341 4750 2034 4750 \nQ 2731 4750 3128 4425 \nQ 3525 4100 3525 3541 \nQ 3525 3141 3298 2862 \nQ 3072 2584 2669 2484 \nQ 3125 2378 3379 2068 \nQ 3634 1759 3634 1313 \nQ 3634 634 3220 271 \nQ 2806 -91 2034 -91 \nQ 1263 -91 848 271 \nQ 434 634 434 1313 \nQ 434 1759 690 2068 \nQ 947 2378 1403 2484 \nz\nM 1172 3481 \nQ 1172 3119 1398 2916 \nQ 1625 2713 2034 2713 \nQ 2441 2713 2670 2916 \nQ 2900 3119 2900 3481 \nQ 2900 3844 2670 4047 \nQ 2441 4250 2034 4250 \nQ 1625 4250 1398 4047 \nQ 1172 3844 1172 3481 \nz\n\" id=\"DejaVuSans-38\" transform=\"scale(0.015625)\"/>\n       </defs>\n       <use xlink:href=\"#DejaVuSans-38\"/>\n       <use x=\"63.623047\" xlink:href=\"#DejaVuSans-30\"/>\n      </g>\n     </g>\n    </g>\n   </g>\n   <g id=\"matplotlib.axis_2\">\n    <g id=\"ytick_1\">\n     <g id=\"line2d_11\">\n      <path clip-path=\"url(#pfcc521b23a)\" d=\"M 26.925 239.758125 \nL 361.725 239.758125 \n\" style=\"fill:none;stroke:#b0b0b0;stroke-linecap:square;stroke-width:0.8;\"/>\n     </g>\n     <g id=\"line2d_12\">\n      <defs>\n       <path d=\"M 0 0 \nL -3.5 0 \n\" id=\"m0804db2d1a\" style=\"stroke:#000000;stroke-width:0.8;\"/>\n      </defs>\n      <g>\n       <use style=\"stroke:#000000;stroke-width:0.8;\" x=\"26.925\" xlink:href=\"#m0804db2d1a\" y=\"239.758125\"/>\n      </g>\n     </g>\n     <g id=\"text_6\">\n      <!-- 0 -->\n      <g transform=\"translate(13.5625 243.557344)scale(0.1 -0.1)\">\n       <use xlink:href=\"#DejaVuSans-30\"/>\n      </g>\n     </g>\n    </g>\n    <g id=\"ytick_2\">\n     <g id=\"line2d_13\">\n      <path clip-path=\"url(#pfcc521b23a)\" d=\"M 26.925 202.106177 \nL 361.725 202.106177 \n\" style=\"fill:none;stroke:#b0b0b0;stroke-linecap:square;stroke-width:0.8;\"/>\n     </g>\n     <g id=\"line2d_14\">\n      <g>\n       <use style=\"stroke:#000000;stroke-width:0.8;\" x=\"26.925\" xlink:href=\"#m0804db2d1a\" y=\"202.106177\"/>\n      </g>\n     </g>\n     <g id=\"text_7\">\n      <!-- 10 -->\n      <g transform=\"translate(7.2 205.905396)scale(0.1 -0.1)\">\n       <defs>\n        <path d=\"M 794 531 \nL 1825 531 \nL 1825 4091 \nL 703 3866 \nL 703 4441 \nL 1819 4666 \nL 2450 4666 \nL 2450 531 \nL 3481 531 \nL 3481 0 \nL 794 0 \nL 794 531 \nz\n\" id=\"DejaVuSans-31\" transform=\"scale(0.015625)\"/>\n       </defs>\n       <use xlink:href=\"#DejaVuSans-31\"/>\n       <use x=\"63.623047\" xlink:href=\"#DejaVuSans-30\"/>\n      </g>\n     </g>\n    </g>\n    <g id=\"ytick_3\">\n     <g id=\"line2d_15\">\n      <path clip-path=\"url(#pfcc521b23a)\" d=\"M 26.925 164.454229 \nL 361.725 164.454229 \n\" style=\"fill:none;stroke:#b0b0b0;stroke-linecap:square;stroke-width:0.8;\"/>\n     </g>\n     <g id=\"line2d_16\">\n      <g>\n       <use style=\"stroke:#000000;stroke-width:0.8;\" x=\"26.925\" xlink:href=\"#m0804db2d1a\" y=\"164.454229\"/>\n      </g>\n     </g>\n     <g id=\"text_8\">\n      <!-- 20 -->\n      <g transform=\"translate(7.2 168.253448)scale(0.1 -0.1)\">\n       <use xlink:href=\"#DejaVuSans-32\"/>\n       <use x=\"63.623047\" xlink:href=\"#DejaVuSans-30\"/>\n      </g>\n     </g>\n    </g>\n    <g id=\"ytick_4\">\n     <g id=\"line2d_17\">\n      <path clip-path=\"url(#pfcc521b23a)\" d=\"M 26.925 126.802281 \nL 361.725 126.802281 \n\" style=\"fill:none;stroke:#b0b0b0;stroke-linecap:square;stroke-width:0.8;\"/>\n     </g>\n     <g id=\"line2d_18\">\n      <g>\n       <use style=\"stroke:#000000;stroke-width:0.8;\" x=\"26.925\" xlink:href=\"#m0804db2d1a\" y=\"126.802281\"/>\n      </g>\n     </g>\n     <g id=\"text_9\">\n      <!-- 30 -->\n      <g transform=\"translate(7.2 130.6015)scale(0.1 -0.1)\">\n       <defs>\n        <path d=\"M 2597 2516 \nQ 3050 2419 3304 2112 \nQ 3559 1806 3559 1356 \nQ 3559 666 3084 287 \nQ 2609 -91 1734 -91 \nQ 1441 -91 1130 -33 \nQ 819 25 488 141 \nL 488 750 \nQ 750 597 1062 519 \nQ 1375 441 1716 441 \nQ 2309 441 2620 675 \nQ 2931 909 2931 1356 \nQ 2931 1769 2642 2001 \nQ 2353 2234 1838 2234 \nL 1294 2234 \nL 1294 2753 \nL 1863 2753 \nQ 2328 2753 2575 2939 \nQ 2822 3125 2822 3475 \nQ 2822 3834 2567 4026 \nQ 2313 4219 1838 4219 \nQ 1578 4219 1281 4162 \nQ 984 4106 628 3988 \nL 628 4550 \nQ 988 4650 1302 4700 \nQ 1616 4750 1894 4750 \nQ 2613 4750 3031 4423 \nQ 3450 4097 3450 3541 \nQ 3450 3153 3228 2886 \nQ 3006 2619 2597 2516 \nz\n\" id=\"DejaVuSans-33\" transform=\"scale(0.015625)\"/>\n       </defs>\n       <use xlink:href=\"#DejaVuSans-33\"/>\n       <use x=\"63.623047\" xlink:href=\"#DejaVuSans-30\"/>\n      </g>\n     </g>\n    </g>\n    <g id=\"ytick_5\">\n     <g id=\"line2d_19\">\n      <path clip-path=\"url(#pfcc521b23a)\" d=\"M 26.925 89.150333 \nL 361.725 89.150333 \n\" style=\"fill:none;stroke:#b0b0b0;stroke-linecap:square;stroke-width:0.8;\"/>\n     </g>\n     <g id=\"line2d_20\">\n      <g>\n       <use style=\"stroke:#000000;stroke-width:0.8;\" x=\"26.925\" xlink:href=\"#m0804db2d1a\" y=\"89.150333\"/>\n      </g>\n     </g>\n     <g id=\"text_10\">\n      <!-- 40 -->\n      <g transform=\"translate(7.2 92.949552)scale(0.1 -0.1)\">\n       <use xlink:href=\"#DejaVuSans-34\"/>\n       <use x=\"63.623047\" xlink:href=\"#DejaVuSans-30\"/>\n      </g>\n     </g>\n    </g>\n    <g id=\"ytick_6\">\n     <g id=\"line2d_21\">\n      <path clip-path=\"url(#pfcc521b23a)\" d=\"M 26.925 51.498385 \nL 361.725 51.498385 \n\" style=\"fill:none;stroke:#b0b0b0;stroke-linecap:square;stroke-width:0.8;\"/>\n     </g>\n     <g id=\"line2d_22\">\n      <g>\n       <use style=\"stroke:#000000;stroke-width:0.8;\" x=\"26.925\" xlink:href=\"#m0804db2d1a\" y=\"51.498385\"/>\n      </g>\n     </g>\n     <g id=\"text_11\">\n      <!-- 50 -->\n      <g transform=\"translate(7.2 55.297603)scale(0.1 -0.1)\">\n       <defs>\n        <path d=\"M 691 4666 \nL 3169 4666 \nL 3169 4134 \nL 1269 4134 \nL 1269 2991 \nQ 1406 3038 1543 3061 \nQ 1681 3084 1819 3084 \nQ 2600 3084 3056 2656 \nQ 3513 2228 3513 1497 \nQ 3513 744 3044 326 \nQ 2575 -91 1722 -91 \nQ 1428 -91 1123 -41 \nQ 819 9 494 109 \nL 494 744 \nQ 775 591 1075 516 \nQ 1375 441 1709 441 \nQ 2250 441 2565 725 \nQ 2881 1009 2881 1497 \nQ 2881 1984 2565 2268 \nQ 2250 2553 1709 2553 \nQ 1456 2553 1204 2497 \nQ 953 2441 691 2322 \nL 691 4666 \nz\n\" id=\"DejaVuSans-35\" transform=\"scale(0.015625)\"/>\n       </defs>\n       <use xlink:href=\"#DejaVuSans-35\"/>\n       <use x=\"63.623047\" xlink:href=\"#DejaVuSans-30\"/>\n      </g>\n     </g>\n    </g>\n   </g>\n   <g id=\"patch_13\">\n    <path d=\"M 26.925 239.758125 \nL 26.925 22.318125 \n\" style=\"fill:none;stroke:#000000;stroke-linecap:square;stroke-linejoin:miter;stroke-width:0.8;\"/>\n   </g>\n   <g id=\"patch_14\">\n    <path d=\"M 361.725 239.758125 \nL 361.725 22.318125 \n\" style=\"fill:none;stroke:#000000;stroke-linecap:square;stroke-linejoin:miter;stroke-width:0.8;\"/>\n   </g>\n   <g id=\"patch_15\">\n    <path d=\"M 26.925 239.758125 \nL 361.725 239.758125 \n\" style=\"fill:none;stroke:#000000;stroke-linecap:square;stroke-linejoin:miter;stroke-width:0.8;\"/>\n   </g>\n   <g id=\"patch_16\">\n    <path d=\"M 26.925 22.318125 \nL 361.725 22.318125 \n\" style=\"fill:none;stroke:#000000;stroke-linecap:square;stroke-linejoin:miter;stroke-width:0.8;\"/>\n   </g>\n   <g id=\"text_12\">\n    <!-- estimated_diameter_kilometers_estimated_diameter_max -->\n    <g transform=\"translate(19.779375 16.318125)scale(0.12 -0.12)\">\n     <defs>\n      <path d=\"M 3597 1894 \nL 3597 1613 \nL 953 1613 \nQ 991 1019 1311 708 \nQ 1631 397 2203 397 \nQ 2534 397 2845 478 \nQ 3156 559 3463 722 \nL 3463 178 \nQ 3153 47 2828 -22 \nQ 2503 -91 2169 -91 \nQ 1331 -91 842 396 \nQ 353 884 353 1716 \nQ 353 2575 817 3079 \nQ 1281 3584 2069 3584 \nQ 2775 3584 3186 3129 \nQ 3597 2675 3597 1894 \nz\nM 3022 2063 \nQ 3016 2534 2758 2815 \nQ 2500 3097 2075 3097 \nQ 1594 3097 1305 2825 \nQ 1016 2553 972 2059 \nL 3022 2063 \nz\n\" id=\"DejaVuSans-65\" transform=\"scale(0.015625)\"/>\n      <path d=\"M 2834 3397 \nL 2834 2853 \nQ 2591 2978 2328 3040 \nQ 2066 3103 1784 3103 \nQ 1356 3103 1142 2972 \nQ 928 2841 928 2578 \nQ 928 2378 1081 2264 \nQ 1234 2150 1697 2047 \nL 1894 2003 \nQ 2506 1872 2764 1633 \nQ 3022 1394 3022 966 \nQ 3022 478 2636 193 \nQ 2250 -91 1575 -91 \nQ 1294 -91 989 -36 \nQ 684 19 347 128 \nL 347 722 \nQ 666 556 975 473 \nQ 1284 391 1588 391 \nQ 1994 391 2212 530 \nQ 2431 669 2431 922 \nQ 2431 1156 2273 1281 \nQ 2116 1406 1581 1522 \nL 1381 1569 \nQ 847 1681 609 1914 \nQ 372 2147 372 2553 \nQ 372 3047 722 3315 \nQ 1072 3584 1716 3584 \nQ 2034 3584 2315 3537 \nQ 2597 3491 2834 3397 \nz\n\" id=\"DejaVuSans-73\" transform=\"scale(0.015625)\"/>\n      <path d=\"M 1172 4494 \nL 1172 3500 \nL 2356 3500 \nL 2356 3053 \nL 1172 3053 \nL 1172 1153 \nQ 1172 725 1289 603 \nQ 1406 481 1766 481 \nL 2356 481 \nL 2356 0 \nL 1766 0 \nQ 1100 0 847 248 \nQ 594 497 594 1153 \nL 594 3053 \nL 172 3053 \nL 172 3500 \nL 594 3500 \nL 594 4494 \nL 1172 4494 \nz\n\" id=\"DejaVuSans-74\" transform=\"scale(0.015625)\"/>\n      <path d=\"M 603 3500 \nL 1178 3500 \nL 1178 0 \nL 603 0 \nL 603 3500 \nz\nM 603 4863 \nL 1178 4863 \nL 1178 4134 \nL 603 4134 \nL 603 4863 \nz\n\" id=\"DejaVuSans-69\" transform=\"scale(0.015625)\"/>\n      <path d=\"M 3328 2828 \nQ 3544 3216 3844 3400 \nQ 4144 3584 4550 3584 \nQ 5097 3584 5394 3201 \nQ 5691 2819 5691 2113 \nL 5691 0 \nL 5113 0 \nL 5113 2094 \nQ 5113 2597 4934 2840 \nQ 4756 3084 4391 3084 \nQ 3944 3084 3684 2787 \nQ 3425 2491 3425 1978 \nL 3425 0 \nL 2847 0 \nL 2847 2094 \nQ 2847 2600 2669 2842 \nQ 2491 3084 2119 3084 \nQ 1678 3084 1418 2786 \nQ 1159 2488 1159 1978 \nL 1159 0 \nL 581 0 \nL 581 3500 \nL 1159 3500 \nL 1159 2956 \nQ 1356 3278 1631 3431 \nQ 1906 3584 2284 3584 \nQ 2666 3584 2933 3390 \nQ 3200 3197 3328 2828 \nz\n\" id=\"DejaVuSans-6d\" transform=\"scale(0.015625)\"/>\n      <path d=\"M 2194 1759 \nQ 1497 1759 1228 1600 \nQ 959 1441 959 1056 \nQ 959 750 1161 570 \nQ 1363 391 1709 391 \nQ 2188 391 2477 730 \nQ 2766 1069 2766 1631 \nL 2766 1759 \nL 2194 1759 \nz\nM 3341 1997 \nL 3341 0 \nL 2766 0 \nL 2766 531 \nQ 2569 213 2275 61 \nQ 1981 -91 1556 -91 \nQ 1019 -91 701 211 \nQ 384 513 384 1019 \nQ 384 1609 779 1909 \nQ 1175 2209 1959 2209 \nL 2766 2209 \nL 2766 2266 \nQ 2766 2663 2505 2880 \nQ 2244 3097 1772 3097 \nQ 1472 3097 1187 3025 \nQ 903 2953 641 2809 \nL 641 3341 \nQ 956 3463 1253 3523 \nQ 1550 3584 1831 3584 \nQ 2591 3584 2966 3190 \nQ 3341 2797 3341 1997 \nz\n\" id=\"DejaVuSans-61\" transform=\"scale(0.015625)\"/>\n      <path d=\"M 2906 2969 \nL 2906 4863 \nL 3481 4863 \nL 3481 0 \nL 2906 0 \nL 2906 525 \nQ 2725 213 2448 61 \nQ 2172 -91 1784 -91 \nQ 1150 -91 751 415 \nQ 353 922 353 1747 \nQ 353 2572 751 3078 \nQ 1150 3584 1784 3584 \nQ 2172 3584 2448 3432 \nQ 2725 3281 2906 2969 \nz\nM 947 1747 \nQ 947 1113 1208 752 \nQ 1469 391 1925 391 \nQ 2381 391 2643 752 \nQ 2906 1113 2906 1747 \nQ 2906 2381 2643 2742 \nQ 2381 3103 1925 3103 \nQ 1469 3103 1208 2742 \nQ 947 2381 947 1747 \nz\n\" id=\"DejaVuSans-64\" transform=\"scale(0.015625)\"/>\n      <path d=\"M 3263 -1063 \nL 3263 -1509 \nL -63 -1509 \nL -63 -1063 \nL 3263 -1063 \nz\n\" id=\"DejaVuSans-5f\" transform=\"scale(0.015625)\"/>\n      <path d=\"M 2631 2963 \nQ 2534 3019 2420 3045 \nQ 2306 3072 2169 3072 \nQ 1681 3072 1420 2755 \nQ 1159 2438 1159 1844 \nL 1159 0 \nL 581 0 \nL 581 3500 \nL 1159 3500 \nL 1159 2956 \nQ 1341 3275 1631 3429 \nQ 1922 3584 2338 3584 \nQ 2397 3584 2469 3576 \nQ 2541 3569 2628 3553 \nL 2631 2963 \nz\n\" id=\"DejaVuSans-72\" transform=\"scale(0.015625)\"/>\n      <path d=\"M 581 4863 \nL 1159 4863 \nL 1159 1991 \nL 2875 3500 \nL 3609 3500 \nL 1753 1863 \nL 3688 0 \nL 2938 0 \nL 1159 1709 \nL 1159 0 \nL 581 0 \nL 581 4863 \nz\n\" id=\"DejaVuSans-6b\" transform=\"scale(0.015625)\"/>\n      <path d=\"M 603 4863 \nL 1178 4863 \nL 1178 0 \nL 603 0 \nL 603 4863 \nz\n\" id=\"DejaVuSans-6c\" transform=\"scale(0.015625)\"/>\n      <path d=\"M 1959 3097 \nQ 1497 3097 1228 2736 \nQ 959 2375 959 1747 \nQ 959 1119 1226 758 \nQ 1494 397 1959 397 \nQ 2419 397 2687 759 \nQ 2956 1122 2956 1747 \nQ 2956 2369 2687 2733 \nQ 2419 3097 1959 3097 \nz\nM 1959 3584 \nQ 2709 3584 3137 3096 \nQ 3566 2609 3566 1747 \nQ 3566 888 3137 398 \nQ 2709 -91 1959 -91 \nQ 1206 -91 779 398 \nQ 353 888 353 1747 \nQ 353 2609 779 3096 \nQ 1206 3584 1959 3584 \nz\n\" id=\"DejaVuSans-6f\" transform=\"scale(0.015625)\"/>\n      <path d=\"M 3513 3500 \nL 2247 1797 \nL 3578 0 \nL 2900 0 \nL 1881 1375 \nL 863 0 \nL 184 0 \nL 1544 1831 \nL 300 3500 \nL 978 3500 \nL 1906 2253 \nL 2834 3500 \nL 3513 3500 \nz\n\" id=\"DejaVuSans-78\" transform=\"scale(0.015625)\"/>\n     </defs>\n     <use xlink:href=\"#DejaVuSans-65\"/>\n     <use x=\"61.523438\" xlink:href=\"#DejaVuSans-73\"/>\n     <use x=\"113.623047\" xlink:href=\"#DejaVuSans-74\"/>\n     <use x=\"152.832031\" xlink:href=\"#DejaVuSans-69\"/>\n     <use x=\"180.615234\" xlink:href=\"#DejaVuSans-6d\"/>\n     <use x=\"278.027344\" xlink:href=\"#DejaVuSans-61\"/>\n     <use x=\"339.306641\" xlink:href=\"#DejaVuSans-74\"/>\n     <use x=\"378.515625\" xlink:href=\"#DejaVuSans-65\"/>\n     <use x=\"440.039062\" xlink:href=\"#DejaVuSans-64\"/>\n     <use x=\"503.515625\" xlink:href=\"#DejaVuSans-5f\"/>\n     <use x=\"553.515625\" xlink:href=\"#DejaVuSans-64\"/>\n     <use x=\"616.992188\" xlink:href=\"#DejaVuSans-69\"/>\n     <use x=\"644.775391\" xlink:href=\"#DejaVuSans-61\"/>\n     <use x=\"706.054688\" xlink:href=\"#DejaVuSans-6d\"/>\n     <use x=\"803.466797\" xlink:href=\"#DejaVuSans-65\"/>\n     <use x=\"864.990234\" xlink:href=\"#DejaVuSans-74\"/>\n     <use x=\"904.199219\" xlink:href=\"#DejaVuSans-65\"/>\n     <use x=\"965.722656\" xlink:href=\"#DejaVuSans-72\"/>\n     <use x=\"1006.835938\" xlink:href=\"#DejaVuSans-5f\"/>\n     <use x=\"1056.835938\" xlink:href=\"#DejaVuSans-6b\"/>\n     <use x=\"1114.746094\" xlink:href=\"#DejaVuSans-69\"/>\n     <use x=\"1142.529297\" xlink:href=\"#DejaVuSans-6c\"/>\n     <use x=\"1170.3125\" xlink:href=\"#DejaVuSans-6f\"/>\n     <use x=\"1231.494141\" xlink:href=\"#DejaVuSans-6d\"/>\n     <use x=\"1328.90625\" xlink:href=\"#DejaVuSans-65\"/>\n     <use x=\"1390.429688\" xlink:href=\"#DejaVuSans-74\"/>\n     <use x=\"1429.638672\" xlink:href=\"#DejaVuSans-65\"/>\n     <use x=\"1491.162109\" xlink:href=\"#DejaVuSans-72\"/>\n     <use x=\"1532.275391\" xlink:href=\"#DejaVuSans-73\"/>\n     <use x=\"1584.375\" xlink:href=\"#DejaVuSans-5f\"/>\n     <use x=\"1634.375\" xlink:href=\"#DejaVuSans-65\"/>\n     <use x=\"1695.898438\" xlink:href=\"#DejaVuSans-73\"/>\n     <use x=\"1747.998047\" xlink:href=\"#DejaVuSans-74\"/>\n     <use x=\"1787.207031\" xlink:href=\"#DejaVuSans-69\"/>\n     <use x=\"1814.990234\" xlink:href=\"#DejaVuSans-6d\"/>\n     <use x=\"1912.402344\" xlink:href=\"#DejaVuSans-61\"/>\n     <use x=\"1973.681641\" xlink:href=\"#DejaVuSans-74\"/>\n     <use x=\"2012.890625\" xlink:href=\"#DejaVuSans-65\"/>\n     <use x=\"2074.414062\" xlink:href=\"#DejaVuSans-64\"/>\n     <use x=\"2137.890625\" xlink:href=\"#DejaVuSans-5f\"/>\n     <use x=\"2187.890625\" xlink:href=\"#DejaVuSans-64\"/>\n     <use x=\"2251.367188\" xlink:href=\"#DejaVuSans-69\"/>\n     <use x=\"2279.150391\" xlink:href=\"#DejaVuSans-61\"/>\n     <use x=\"2340.429688\" xlink:href=\"#DejaVuSans-6d\"/>\n     <use x=\"2437.841797\" xlink:href=\"#DejaVuSans-65\"/>\n     <use x=\"2499.365234\" xlink:href=\"#DejaVuSans-74\"/>\n     <use x=\"2538.574219\" xlink:href=\"#DejaVuSans-65\"/>\n     <use x=\"2600.097656\" xlink:href=\"#DejaVuSans-72\"/>\n     <use x=\"2641.210938\" xlink:href=\"#DejaVuSans-5f\"/>\n     <use x=\"2691.210938\" xlink:href=\"#DejaVuSans-6d\"/>\n     <use x=\"2788.623047\" xlink:href=\"#DejaVuSans-61\"/>\n     <use x=\"2849.902344\" xlink:href=\"#DejaVuSans-78\"/>\n    </g>\n   </g>\n  </g>\n </g>\n <defs>\n  <clipPath id=\"pfcc521b23a\">\n   <rect height=\"217.44\" width=\"334.8\" x=\"26.925\" y=\"22.318125\"/>\n  </clipPath>\n </defs>\n</svg>\n",
      "image/png": "[encoded data removed]"
     },
     "metadata": {
      "needs_background": "light"
     }
    }
   ],
   "source": [
    "df_diametro_nao_perigosos.hist()"
   ]
  },
  {
   "cell_type": "code",
   "execution_count": null,
   "metadata": {},
   "outputs": [],
   "source": []
  }
 ]
}