{
 "cells": [
  {
   "cell_type": "markdown",
   "id": "073de90e",
   "metadata": {},
   "source": [
    "# Restricted Boltzmann Machines\n",
    "\n",
    "Baseado em: https://blog.paperspace.com/beginners-guide-to-boltzmann-machines-pytorch/\n",
    "\n",
    "\n",
    "Boltzmann Machine pode ser considerada uma juncao entre os campos de deep learning e fisica, e pode ser muito util para reducao de dimensionalidade, classificacao, regressao, filtragem colaborative, etc. "
   ]
  },
  {
   "cell_type": "markdown",
   "id": "be6ca3d5",
   "metadata": {},
   "source": [
    "## Trabalhando com Maquinas de Boltzmann\n",
    "\n",
    "As maquinas de Boltzmann sao inspiradas na distribuicao de Boltzmann, a qual diz que o estado do sistema depende de sua energia e da temperatura em que esta operando, por isso, dizemos que o modelo e baseado em energia. O termo energia aqui e equivalente ao desvio da saida esperada. Quanto maior a energia, maior e o desvio. Sendo assim, o modelo e treinado com o objetivo de minimizar essa energia. \n",
    "\n",
    "<img src='assets/bm.png' width=800px>"
   ]
  },
  {
   "cell_type": "markdown",
   "id": "cc01266b",
   "metadata": {},
   "source": [
    "## A intuicao por traz das maquinas de Boltzmann\n",
    "\n",
    "As maquinas de Boltzmann tem uma arquitetura diferente das demais redes neurais. Nao existe uma demarcacao clara entre camada de entrada e de saida. Na verdade, nao tem camada de saida. Os nos em uma maquina de Boltzmann sao categorizados apenas como visiveis ou escondidos. Os nos visiveis recebem os dados de entrada, e sao reconstruidos como sendo os nos de saida. \n",
    "\n",
    "Na versao original da maquina de Boltzmann, todos os nos sao conectados, sejam eles das camadas visivel ou invisivel, e todas as conexoes sao bi-direcionais.\n",
    "\n",
    "<img src='assets/bmGraph.png' width=600px>\n",
    "\n",
    "Alem disso, cada no pode assumir apenas dois estados possiveis, ligado ou desligado. O estado de um no e determinado pelos pesos e bias associados a ele. "
   ]
  },
  {
   "cell_type": "markdown",
   "id": "ffafc3ee",
   "metadata": {},
   "source": [
    "## Tipos de maquinas de Boltzmann\n",
    "\n",
    "Existem diversas variacoes de Maquinas de Boltzmann que evoluiram com o tempo para resolver diversos tipos de problemas. Entre as mais conhecidas, podemos citar a Maquina de Boltzmann Restrita ( _Restricted Boltzmann Machine - RBM_ ), Maquina de Crenca Profunda ( _Deep Belief Network - DBN_ ) e a Maquina de Boltzmann Profunda ( _Deep Boltzmann Machine - DBM_ ). "
   ]
  },
  {
   "cell_type": "markdown",
   "id": "36e4e691",
   "metadata": {},
   "source": [
    "### Restricted Boltzmann Machines\n",
    "\n",
    "O maior problema da maquina de Boltzmann convencional e a enorme quantidade de calculos a serem executados mesmo para uma pequena quantidade de dados. Nesses casos, atualizar os pesos da rede se torna uma tarefa muito demorada devido as dependencias entre os nos. Para reduzir essa dependencia, uma restricao foi imposta ao modelo para remover as conexoes intra-camadas. \n",
    "\n",
    "<img src='assets/bm_rbm.png' width=600px>\n",
    "\n",
    "Essa restricao imposta as conexoes tornam as unidades de entrada e os nos esondidos independentes dentro de suas camadas. Sendo assim, os pesos podem ser atualizados em paralelo.\n",
    "\n",
    "<img src='assets/rbmCon.png' width=600px>"
   ]
  },
  {
   "cell_type": "markdown",
   "id": "7f1b7f3b",
   "metadata": {},
   "source": [
    "### Deep Belief Network e Deep Boltzmann Machines\n",
    "\n",
    "Deep Belief Network e Deep Boltzmann Machines sao versoes empilhadas da RBM, criando modelos em profundidade. DBNs sao inicializadas aleatoriamente e utilizam cadeias de Markov para definir a ocorrencia de possiveis eventos, que sao ajustados durante o processo de treinamento. O processo e lento, e as DBMs tentam oferecer uma solucao mais pratica com um treinamento mais refinado.\n",
    "\n",
    "<img src='assets/dbn_dbm.png' width=600px>\n",
    "\n",
    "Apesar das duas arquiteturas serem confundidas frequentemente, a diferenca pode ser notada nas conexoes. As conexoes da DBN nas camadas superiores tem uma unica direcao, enquanto nas DBMs sao bi-direcionais."
   ]
  },
  {
   "cell_type": "markdown",
   "id": "237dd012",
   "metadata": {},
   "source": [
    "## Implementando RBMs com PyTorch\n",
    "\n",
    "\n",
    "Vamos implementar a RBM em PyTorch para reconstrucao de digitos usando o dataset MNIST.\n",
    "\n",
    "### Passo 1: Importando os pacotes necessarios\n",
    "\n",
    "Nesse passo, importamos todos os pacotes. Note que usaremos `torchvision.utils` para visualizacao dos resultados."
   ]
  },
  {
   "cell_type": "code",
   "execution_count": 1,
   "id": "5062e30e",
   "metadata": {},
   "outputs": [],
   "source": [
    "import numpy as np\n",
    "import torch\n",
    "import torch.utils.data\n",
    "import torch.nn as nn\n",
    "import torch.nn.functional as F\n",
    "import torch.optim as optim\n",
    "from torch.autograd import Variable\n",
    "from torchvision import datasets, transforms\n",
    "from torchvision.utils import make_grid , save_image\n",
    "%matplotlib inline\n",
    "import matplotlib.pyplot as plt"
   ]
  },
  {
   "cell_type": "markdown",
   "id": "f9028816",
   "metadata": {},
   "source": [
    "### Passo 2: Carregando o dataset MNIST\n",
    "\n",
    "Esse passo carrega o conjunto de treinamento e teste do dataset MNIST usando a classe Dataloader do pacote `torch.utils.data`. Vamos utilizar um batch de tamanho 64 e aplicar as transformacoes necessarias.\n"
   ]
  },
  {
   "cell_type": "code",
   "execution_count": 4,
   "id": "d9aeec8c",
   "metadata": {},
   "outputs": [],
   "source": [
    "batch_size = 64\n",
    "train_loader = torch.utils.data.DataLoader(\n",
    "datasets.MNIST('./data',\n",
    "    train=True,\n",
    "    download = True,\n",
    "    transform = transforms.Compose(\n",
    "        [transforms.ToTensor()])\n",
    "     ),\n",
    "     batch_size=batch_size\n",
    ")\n",
    "\n",
    "test_loader = torch.utils.data.DataLoader(\n",
    "datasets.MNIST('./data',\n",
    "    train=False,\n",
    "    transform=transforms.Compose(\n",
    "    [transforms.ToTensor()])\n",
    "    ),\n",
    "    batch_size=batch_size)"
   ]
  },
  {
   "cell_type": "markdown",
   "id": "925e9731",
   "metadata": {},
   "source": [
    "### Passo 3: Definindo o modelo\n",
    "\n",
    "Nesse passo, comecaremos a construir nosso modelo. Vamos definir as transformacoes associadas com os neuronios visiveis e escondidos. Alem disso, pela RBM ser um modelo baseado em energia, vamos tambem definir uma funcao para computar a diferenca de energia. Na inicializacao da funcao, tambem inicializaremos os pesos e os bias para os neuronios visiveis e escondidos."
   ]
  },
  {
   "cell_type": "code",
   "execution_count": 5,
   "id": "8f614b32",
   "metadata": {},
   "outputs": [],
   "source": [
    "class RBM(nn.Module):\n",
    "    def __init__(self,\n",
    "               n_vis=784,\n",
    "               n_hin=500,\n",
    "               k=5):\n",
    "        super(RBM, self).__init__()\n",
    "        self.W = nn.Parameter(torch.randn(n_hin,n_vis)*1e-2)\n",
    "        self.v_bias = nn.Parameter(torch.zeros(n_vis))\n",
    "        self.h_bias = nn.Parameter(torch.zeros(n_hin))\n",
    "        self.k = k\n",
    "    \n",
    "    def sample_from_p(self,p):\n",
    "        return F.relu(torch.sign(p - Variable(torch.rand(p.size()))))\n",
    "    \n",
    "    def v_to_h(self,v):\n",
    "        p_h = torch.sigmoid(F.linear(v,self.W,self.h_bias))\n",
    "        sample_h = self.sample_from_p(p_h)\n",
    "        return p_h,sample_h\n",
    "    \n",
    "    def h_to_v(self,h):\n",
    "        p_v = torch.sigmoid(F.linear(h,self.W.t(),self.v_bias))\n",
    "        sample_v = self.sample_from_p(p_v)\n",
    "        return p_v,sample_v\n",
    "        \n",
    "    def forward(self,v):\n",
    "        pre_h1,h1 = self.v_to_h(v)\n",
    "        \n",
    "        h_ = h1\n",
    "        for _ in range(self.k):\n",
    "            pre_v_,v_ = self.h_to_v(h_)\n",
    "            pre_h_,h_ = self.v_to_h(v_)\n",
    "        \n",
    "        return v,v_\n",
    "    \n",
    "    def free_energy(self,v):\n",
    "        vbias_term = v.mv(self.v_bias)\n",
    "        wx_b = F.linear(v,self.W,self.h_bias)\n",
    "        hidden_term = wx_b.exp().add(1).log().sum(1)\n",
    "        return (-hidden_term - vbias_term).mean()\n"
   ]
  },
  {
   "cell_type": "markdown",
   "id": "231a8b37",
   "metadata": {},
   "source": [
    "Sempre precisamos definir o metodo forward, o qual e usado pela rede para propagar os pesos e os bias pela rede e computar todos os valores. O processo e repetido por $k$ vezes, o que define o numero de vezes em que computamos a divergencia constrastiva. Uma vez que as RBMs sao modelos baseados em energia, no fim definimos um metodo que calcula a energia do modelo.\n"
   ]
  },
  {
   "cell_type": "markdown",
   "id": "143211a0",
   "metadata": {},
   "source": [
    "### Passo 4: Inicializando e treinando o modelo\n",
    "\n",
    "A classe da RBM que criamos e inicializada com $k=1$. Vamos usar o otimizador SGD no exemplo. No fim do processo, todas os custos sao acumulados em um vetor 1D. Extrairemos a distribuicao de Bernoulli usando o metodo `data.bernoulli()`. Esse e o padrao de entrada com o qual comecaremos.\n",
    "\n",
    "Uma amostra de entrada e usada para alimentar a RBM, a qual retorna o padrao reconstruido como saida. O erro e calculado como a diferenca entre as energias desses dois padroes e adicionada em uma lista. O erro e propagado usando o metodo `backward()`. Ja o metodo `optimizer.step()` executa a atualizacao dos parametros baseando-se no gradiente acumulado, armazenado no atributo `.grad`, executando a atualizacao de todos os parametros."
   ]
  },
  {
   "cell_type": "code",
   "execution_count": 6,
   "id": "2213d103",
   "metadata": {},
   "outputs": [
    {
     "name": "stdout",
     "output_type": "stream",
     "text": [
      "Training loss for 0 epoch: -8.378804206848145\n",
      "Training loss for 1 epoch: -6.64418888092041\n",
      "Training loss for 2 epoch: -4.56675910949707\n",
      "Training loss for 3 epoch: -3.1676511764526367\n",
      "Training loss for 4 epoch: -2.252711534500122\n",
      "Training loss for 5 epoch: -1.5957361459732056\n",
      "Training loss for 6 epoch: -1.0273723602294922\n",
      "Training loss for 7 epoch: -0.6958441734313965\n",
      "Training loss for 8 epoch: -0.5142412185668945\n",
      "Training loss for 9 epoch: -0.25620394945144653\n"
     ]
    }
   ],
   "source": [
    "rbm = RBM(k=1)\n",
    "train_op = optim.SGD(rbm.parameters(),0.1)\n",
    "\n",
    "for epoch in range(10):\n",
    "    loss_ = []\n",
    "    for _, (data,target) in enumerate(train_loader):\n",
    "        data = Variable(data.view(-1,784))\n",
    "        sample_data = data.bernoulli()\n",
    "        \n",
    "        v,v1 = rbm(sample_data)\n",
    "        loss = rbm.free_energy(v) - rbm.free_energy(v1)\n",
    "        loss_.append(loss.data)\n",
    "        train_op.zero_grad()\n",
    "        loss.backward()\n",
    "        train_op.step()\n",
    "\n",
    "    print(\"Training loss for {} epoch: {}\".format(epoch, np.mean(loss_)))\n"
   ]
  },
  {
   "cell_type": "markdown",
   "id": "021809f5",
   "metadata": {},
   "source": [
    "Na sequencia, definimos uma funcao auxiliar para transpor a imagem para uma dimensao apropriada e armazena-la."
   ]
  },
  {
   "cell_type": "code",
   "execution_count": 7,
   "id": "7b90081d",
   "metadata": {},
   "outputs": [],
   "source": [
    "def show_adn_save(file_name,img):\n",
    "    npimg = np.transpose(img.numpy(),(1,2,0))\n",
    "    f = \"./%s.png\" % file_name\n",
    "    plt.imshow(npimg)\n",
    "    plt.imsave(f,npimg)"
   ]
  },
  {
   "cell_type": "markdown",
   "id": "8e485e03",
   "metadata": {},
   "source": [
    "### Passo 5: visualizando as saidas\n",
    "\n",
    "Nesse passo, vamos visualizar as saidas"
   ]
  },
  {
   "cell_type": "code",
   "execution_count": 8,
   "id": "f68b8fb8",
   "metadata": {},
   "outputs": [
    {
     "data": {
      "image/png": "[encoded data removed]",
      "text/plain": [
       "<Figure size 432x288 with 1 Axes>"
      ]
     },
     "metadata": {
      "needs_background": "light"
     },
     "output_type": "display_data"
    }
   ],
   "source": [
    "show_adn_save(\"real\",make_grid(v.view(32,1,28,28).data))"
   ]
  },
  {
   "cell_type": "code",
   "execution_count": 9,
   "id": "d59ee848",
   "metadata": {},
   "outputs": [
    {
     "data": {
      "image/png": "[encoded data removed]",
      "text/plain": [
       "<Figure size 432x288 with 1 Axes>"
      ]
     },
     "metadata": {
      "needs_background": "light"
     },
     "output_type": "display_data"
    }
   ],
   "source": [
    "show_adn_save(\"geradas\",make_grid(v1.view(32,1,28,28).data))"
   ]
  },
  {
   "cell_type": "markdown",
   "id": "7ff751fa",
   "metadata": {},
   "source": [
    "Como podemos ver, na imagem de cima temos as imagens reais de amostras do dataset MNIST, enquanto a imagem de baixo apresenta as amostras geradas pela RBM."
   ]
  },
  {
   "cell_type": "markdown",
   "id": "274feec6",
   "metadata": {},
   "source": [
    "# Exercicios"
   ]
  }
 ],
 "metadata": {
  "kernelspec": {
   "display_name": "Python 3",
   "language": "python",
   "name": "python3"
  },
  "language_info": {
   "codemirror_mode": {
    "name": "ipython",
    "version": 3
   },
   "file_extension": ".py",
   "mimetype": "text/x-python",
   "name": "python",
   "nbconvert_exporter": "python",
   "pygments_lexer": "ipython3",
   "version": "3.7.4"
  }
 },
 "nbformat": 4,
 "nbformat_minor": 5
}
