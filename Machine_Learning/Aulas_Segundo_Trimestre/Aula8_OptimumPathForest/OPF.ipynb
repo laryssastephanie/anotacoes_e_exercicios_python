{
 "cells": [
  {
   "cell_type": "markdown",
   "metadata": {},
   "source": [
    "# Floresta de Caminhos Ótimos (Optimum-Path Forest)\n",
    "\n",
    "O OPF é um *framework* para o desenvolvimento de classificadores *supervisionados* e *não-supervisionados* (a versão supervisionada foi criada pelo professor *João Paulo Papa*). A base destes métodos é a representação dos conjuntos de amostras como grafos."
   ]
  },
  {
   "cell_type": "markdown",
   "metadata": {},
   "source": [
    "## OPF Supervisionado\n",
    "\n",
    "O OPF supervisionado é utilizado para tarefas de classificação, como já estamos acostumados a fazer. Basicamente, o treinamento desse modelo se divide nas seguintes etapas:"
   ]
  },
  {
   "cell_type": "markdown",
   "metadata": {},
   "source": [
    "### 1 - Representação dos dados\n",
    "\n",
    "O conjunto de dados é representado por um grafo, onde cada vértice (ou nó) representa uma amostra e sua posição no grafo é representado pelo valor de cada uma de suas características. Esses vértices são conectados por arestas, cujos pesos são representados pela distância entre o par de vértices. \n",
    "\n",
    "\n",
    "<img src='assets/graphOPF.jpeg' width=400px>\n",
    "\n",
    "Note que este grafo pode ser completo, i.e., todos os vértices são conectados a todos os outros vértices, ou $k$-nn, ou seja, cada vértice está conectado aos $k$ vizinhos mais próximos.\n",
    "\n",
    "- Grafo Completo\n",
    "<img src='assets/grafoCompleto.jpeg' width=400px>\n",
    "\n",
    "- Grafo $k$-nn\n",
    "<img src='assets/grafoknn.jpeg' width=400px>"
   ]
  },
  {
   "cell_type": "markdown",
   "metadata": {},
   "source": [
    "### 2 - Obtenção dos protótipos\n",
    "\n",
    "Os protótipos são as amostras mais representativas de cada classe, e iniciam o processo de conquista das demais amostras. Esses protótipos podem ser encontrados em um processo de 2 etapas:\n",
    "\n",
    "1. Computar a árvore geradora mínima ( _Minimum spanning tree (MST)_ ). Essa árvore pode ser computada utilizando diversos algoritmos, como por exemplo Dijkstra, Prim ou Kruskal. Geralmente Dijkstra é o utilizado. \n",
    "\n",
    "<img src='assets/Dijkstra_Animation.gif' width=400px>\n",
    "\n",
    "2. Seleciona os vértices na região de fronteira entre as classes como protótipos:\n",
    "\n",
    "<img src='assets/prototipos.png' width=400px>\n"
   ]
  },
  {
   "cell_type": "markdown",
   "metadata": {},
   "source": [
    "### 3 - Conquista e classificação\n",
    "\n",
    "Após a definição dos protótipos, cada amostra recebe um custo associado, definido da seguinte maneira:\n",
    "\n",
    "\\begin{eqnarray}\n",
    " \\label{e.fmax}\n",
    "f_{max}(\\langle\n",
    "q\\rangle) & = & \\left\\{ \\begin{array}{ll}\n",
    "  0 & \\mbox{if q $\\in {\\cal P}$,} \\\\\n",
    "  +\\infty & \\mbox{otherwise}\n",
    "  \\end{array}\\right. \\nonumber \\\\\n",
    "  f_{max}(\\phi_{q} \\cdot \\langle q,u \\rangle) & = & \\max\\{f_{max}(\\phi_{q}),d(q,u)\\}, \n",
    "\\end{eqnarray}\n",
    "\n",
    "\n",
    "onde ${\\cal P}$ é o conjunto de protótipos, $\\phi_{q}$ é um caminho, i.e., uma sequência de nós adjacentes iniciado em ${\\cal P}$ e terminando em ${q}$, e $d(q,u)$ entre os nós $q$ e $u$. Além disso, $\\phi_{q} \\cdot \\langle q,u \\rangle$ é a concatenação entre o caminho $\\phi_{q}$ e a aresta $\\langle q,u \\rangle$. Resumindo, $f_{max}(\\phi_{q})$ é a distância máxima de todas as amostras no caminho $\\phi_{q}$.\n",
    "\n",
    "Na sequência, é estabelecida uma competição entre os protótipos para definir a conquista das damais amostras. O processo é executado de forma a minimizar o custo associado a cada amostra, da seguinte maneira:\n",
    "\n",
    "\\begin{equation}\n",
    "\\label{e.conquering_function}\n",
    "\tC(u)  =  \\min_{\\forall q \\in {\\cal V}}\\{\\max\\{C(q),d(q,u)\\}\\}, \n",
    "\\end{equation}\n",
    "onde ${\\cal V}$ é o conjunto de vizinhos de $u$."
   ]
  },
  {
   "cell_type": "markdown",
   "metadata": {},
   "source": [
    "## Classificação com OPF utilizando OPFython\n",
    "\n",
    "O código para executar o OPF está disponível em Python atravéz do pacote [OPFython](https://arxiv.org/abs/2001.10420), que pode ser clonado do repositório [Github](https://github.com/gugarosa/opfython) ou instalado via pip com o comando `pip install opfython`."
   ]
  },
  {
   "cell_type": "code",
   "execution_count": 18,
   "metadata": {},
   "outputs": [],
   "source": [
    "%matplotlib inline\n",
    "import numpy as np\n",
    "import matplotlib.pyplot as plt\n",
    "\n",
    "# importando função para dividir o conjunto em treinamento e teste, assim como \n",
    "#   fazemos com a função train_test_split do scikit-learn\n",
    "import opfython.stream.splitter as s\n",
    "\n",
    "# Importando o OPF supervisionado para classificação\n",
    "from opfython.models.supervised import SupervisedOPF\n",
    "\n",
    "\n",
    "# usando as configurações padrões do seaborn para plotagem\n",
    "import seaborn as sns; sns.set()"
   ]
  },
  {
   "cell_type": "code",
   "execution_count": 45,
   "metadata": {},
   "outputs": [],
   "source": [
    "from sklearn.datasets import make_circles\n",
    "\n",
    "X, y = make_circles(200, factor=.1, noise=.1)\n",
    "\n",
    "plt.scatter(X[:, 0], X[:, 1], c=y, s=50, cmap='autumn')"
   ]
  },
  {
   "cell_type": "code",
   "execution_count": 21,
   "metadata": {},
   "outputs": [],
   "source": [
    "# Dividindo os dados em treinamento e teste\n",
    "X_train, X_test, Y_train, Y_test = s.split(\n",
    "    X, y, percentage=0.8, random_state=1)\n",
    "\n",
    "\n",
    "# Cria uma instancia do OPF supervisionado\n",
    "opf = SupervisedOPF()\n",
    "\n",
    "# Ajusta o classificador considerando o conjunto de treinamento\n",
    "opf.fit(X_train, Y_train)\n",
    "\n",
    "# Predição no conjunto de testes\n",
    "preds = opf.predict(X_test)"
   ]
  },
  {
   "cell_type": "code",
   "execution_count": 46,
   "metadata": {},
   "outputs": [],
   "source": [
    "from sklearn.metrics import classification_report\n",
    "print(classification_report(Y_test, preds))"
   ]
  },
  {
   "cell_type": "markdown",
   "metadata": {},
   "source": [
    "## Aprendizado não supervisionado\n",
    "\n",
    "Em problemas de aprendizado não-supervisionado, temos apenas os dados de entrada ($X$) sem rótulos, e gostariamos que o algoritmo seja capaz de encontras alguma estrutura que represente os dados. Um algoritmo de agrupamento, como o OPF não-supervisionado, por exemplo, tenta juntar amostras em **agrupamentos** ( _clusters_ ) de acordo com alguma similaridade.\n",
    "\n",
    "\n",
    "Exemplos: Análise de redes sociais, organização de _clusters_ de computadores, análise de dados astronômicos.\n",
    "\n",
    "\n",
    "\n"
   ]
  },
  {
   "cell_type": "markdown",
   "metadata": {},
   "source": [
    "### Clustering (agrupamento)\n",
    "\n",
    "Dado um conjunto de pontos, a ideia é agrupá-los de modo que:\n",
    "\n",
    "- amostras dentro de cada agrupamento são similares entre si;\n",
    "- amostras de agrupamentos diferentes são dissimilares;\n",
    "\n",
    "Similaridade é definida usando alguma métrica de distância:\n",
    "\n",
    "- euclidiana;\n",
    "- cossenos;\n",
    "- mahalanobis ...\n",
    "\n",
    "\n",
    "<img src='assets/clustering1.jpg' width=900px>\n"
   ]
  },
  {
   "cell_type": "markdown",
   "metadata": {},
   "source": [
    "## OPF Não-supervisionado\n",
    "\n",
    "De forma similar a versão supervisionada, na versão não-supervisionada as amostras também são representadas como nós em um grafo, são escolhidos os protótipos, seguido pela etapa de conquista. No entanto, existem algumas diferenças:"
   ]
  },
  {
   "cell_type": "markdown",
   "metadata": {},
   "source": [
    "### Obtenção dos protótipos\n",
    "\n",
    "Na versão não-supervisionada, o peso inicial de cada amostra é dado pelo valor de sua densidade, a qual é computada usando a seguinte função de distribuição de probabilidade:\n",
    "\n",
    "\\begin{eqnarray}\n",
    "  \\rho(q) & = & \\frac{1}{\\sqrt{2\\pi\\psi^2}k} \\sum_{\\forall u\\in {\\cal A}_k(q)} \\exp\\left(\\frac{-d^2(q,u)}{2\\psi^2}\\right), \\label{e.density}\n",
    "\\end{eqnarray}\n",
    "\n",
    "onde ${\\cal A}_k(q)$ representa os $k$ vizinhos mais próximos da amostra $q$, $\\psi = \\frac{d_f}{3}$, e $d_f$ é o peso máximo entre as arestas no grafo. Note que o número de vizinhos ideal $k^*$ é escolhido de acordo com uma métrica de corte no grafo, onde todos os valores de $k$ no intervalo [$k_{min}$,$k_{max}$] ($k_{min}$ e $k_{max}$ são hiperparâmetros) são testados em uma busca axaustiva.\n",
    "\n",
    "Todas as amostras são adicionadas em uma lista ordenada pelo valor de suas respectivas densidades de forma decrescente. A primeira amostra (com maior densidade) é removida dessa lista e automáticamente se transforma em um protótipo e tenta conquistar as amostras vizinhas. As proximas amostras são removidas consecutivamente da lista e é verificado se essa amostra já foi conquistada. Caso não tenha sido conquistada, ela também se transforma em um protótipo."
   ]
  },
  {
   "cell_type": "markdown",
   "metadata": {},
   "source": [
    "## Conquista\n",
    "\n",
    "Para conquistar uma amostra durante o treinamento, um protótipo ou uma amostra conquistada deve oferecer um custo melhor ao que essa amostra já possui. Esse custo é computado da seguinte forma:\n",
    "\n",
    "\n",
    "\\begin{eqnarray}\n",
    "\\label{e.pf2}\n",
    "f_{min}(\\langle u \\rangle) & = & \\left\\{ \\begin{array}{ll} \n",
    "    \\rho(u)           & \\mbox{if $u \\in {\\cal P}$} \\\\\n",
    "    \\rho(u) - \\delta  & \\mbox{otherwise,}\n",
    " \\end{array}\\right. \\nonumber \\\\\n",
    "f_{min}(\\langle \\phi_q\\cdot \\langle q,u\\rangle\\rangle)&=& \\min \\{f_{min}(\\phi_{q}), \\rho(u)\\},\n",
    "\\end{eqnarray}\n",
    "onde $\\delta$ é uma constante pequena. A Figura abaixo ilusta o procedimento:\n",
    "\n",
    "<img src='assets/naoSup.jpeg' width=600px>\n",
    "\n",
    "- (a) densidades\n",
    "- (b) removeu 1° amostra, que se tornou protótipo\n",
    "- (c) após processo de conquista"
   ]
  },
  {
   "cell_type": "markdown",
   "metadata": {},
   "source": [
    "## Clustering com OPF utilizando OPFython"
   ]
  },
  {
   "cell_type": "code",
   "execution_count": 23,
   "metadata": {},
   "outputs": [],
   "source": [
    "import opfython.math.general as g\n",
    "import opfython.stream.parser as p\n",
    "from opfython.models import UnsupervisedOPF\n",
    "\n",
    "from sklearn.datasets import make_blobs\n",
    "\n",
    "# Para não ficar mostrando um monte de logs\n",
    "import logging\n",
    "logging.disable()"
   ]
  },
  {
   "cell_type": "code",
   "execution_count": 47,
   "metadata": {},
   "outputs": [],
   "source": [
    "X, y_true = make_blobs(n_samples=300, centers=4,\n",
    "                       cluster_std=0.60, random_state=0)\n",
    "plt.scatter(X[:, 0], X[:, 1], s=50);"
   ]
  },
  {
   "cell_type": "code",
   "execution_count": 40,
   "metadata": {},
   "outputs": [],
   "source": [
    "# Cria uma instância do opf não supervisionado\n",
    "opf = UnsupervisedOPF(\n",
    "    min_k=1, max_k=20)"
   ]
  },
  {
   "cell_type": "code",
   "execution_count": 41,
   "metadata": {},
   "outputs": [],
   "source": [
    "# Ajusta o modelo aos dados\n",
    "opf.fit(X, y_true)"
   ]
  },
  {
   "cell_type": "code",
   "execution_count": 42,
   "metadata": {},
   "outputs": [],
   "source": [
    "# Se os dados estiverem rotulados, propaga o rótulo real de cada protótipo para todas as amostras por ele\n",
    "#   conquistadas\n",
    "opf.propagate_labels()"
   ]
  },
  {
   "cell_type": "code",
   "execution_count": 48,
   "metadata": {},
   "outputs": [],
   "source": [
    "# faz a estimativa dos rótulos baseado no agrupamento\n",
    "preds, clusters = opf.predict(X)\n",
    "\n",
    "\n",
    "print('Número de agrupamentos = ',len(np.unique(clusters)))\n",
    "\n",
    "plt.scatter(X[:, 0], X[:, 1], c=clusters, s=50, cmap='rainbow')\n"
   ]
  },
  {
   "cell_type": "markdown",
   "metadata": {},
   "source": [
    "## Classificando com os rótulos propagados\n",
    "\n",
    "Caso tenha propagado os rótulos, é possível utilizar essa abordagem para executar tarefas de classificação:"
   ]
  },
  {
   "cell_type": "code",
   "execution_count": 49,
   "metadata": {},
   "outputs": [],
   "source": [
    "print(classification_report(y_true, preds))"
   ]
  },
  {
   "cell_type": "markdown",
   "metadata": {},
   "source": [
    "# Exercícios:\n",
    "\n",
    "Baixe os datasets Breast Tissue e Landsat Satellite do repositório UCI.\n",
    "\n",
    "1. Separar em treinamento e teste e classificar as amostras de teste utilizando o OPF supervisionado. \n",
    "\n",
    "2. Agrupar os dados utilizando o OPF-não supervisionado e propagar o rótulo considerando um conjunto de treinamento. Classificar as amostras de teste considerando os rótulos propagados."
   ]
  }
 ],
 "metadata": {
  "kernelspec": {
   "display_name": "Python 3",
   "language": "python",
   "name": "python3"
  },
  "language_info": {
   "codemirror_mode": {
    "name": "ipython",
    "version": 3
   },
   "file_extension": ".py",
   "mimetype": "text/x-python",
   "name": "python",
   "nbconvert_exporter": "python",
   "pygments_lexer": "ipython3",
   "version": "3.7.9"
  }
 },
 "nbformat": 4,
 "nbformat_minor": 4
}
