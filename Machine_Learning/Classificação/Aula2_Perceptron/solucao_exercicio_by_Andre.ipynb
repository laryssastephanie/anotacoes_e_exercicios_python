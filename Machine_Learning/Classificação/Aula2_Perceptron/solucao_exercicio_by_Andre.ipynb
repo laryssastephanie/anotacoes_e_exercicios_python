{
 "cells": [
  {
   "cell_type": "markdown",
   "id": "512e9a09-15a5-4099-8138-d68f7dc49bcf",
   "metadata": {},
   "source": [
    "## Importação das Bibliotecas"
   ]
  },
  {
   "cell_type": "code",
   "execution_count": 1,
   "id": "56afb7b4-b2bf-434c-b302-121332372baf",
   "metadata": {},
   "outputs": [],
   "source": [
    "import pandas as pd\n",
    "import numpy as np\n",
    "from sklearn import model_selection as ms\n",
    "from sklearn.preprocessing import StandardScaler\n",
    "from sklearn.metrics import confusion_matrix\n",
    "from sklearn.linear_model import Perceptron\n",
    "\n",
    "import seaborn as sn\n",
    "import matplotlib.pyplot as plt"
   ]
  },
  {
   "cell_type": "code",
   "execution_count": 2,
   "id": "b3485476-e5e0-4dd2-ab7d-b7c7cb7f0f51",
   "metadata": {},
   "outputs": [],
   "source": [
    "def fit_predict_cm(X, y):\n",
    "    model = Perceptron(tol=1e-3, random_state=0)\n",
    "    model.fit(X, y)\n",
    "\n",
    "    expected = y\n",
    "    predicted = model.predict(X)\n",
    "\n",
    "    cm = confusion_matrix(expected, predicted)\n",
    "    class_names = [\"Não Foi\", \"Foi\"]\n",
    "\n",
    "    print(\"coef_\", model.coef_)\n",
    "    print(\"intercept_\", model.intercept_)\n",
    "    \n",
    "    df_cm = pd.DataFrame(cm, index = class_names, columns = class_names)\n",
    "    plt.figure(figsize = (3,3))\n",
    "    sn.heatmap(df_cm, annot=True)"
   ]
  },
  {
   "cell_type": "markdown",
   "id": "749bafab-577d-4299-8830-b21c8ea2eefe",
   "metadata": {},
   "source": [
    "## Definição das bases de treinamento"
   ]
  },
  {
   "cell_type": "code",
   "execution_count": 3,
   "id": "58cc496b-08ad-4076-9678-cfa6ad7bc4a0",
   "metadata": {},
   "outputs": [],
   "source": [
    "# [\"Clima\", \"Transporte\", \"Namorada(o)\"]\n",
    "#              C T N\n",
    "X = np.array([[0,0,0],\n",
    "              [0,0,1],\n",
    "              [0,1,0],\n",
    "              [0,1,1],\n",
    "              [1,0,0],\n",
    "              [1,0,1],\n",
    "              [1,1,0],\n",
    "              [1,1,1]])"
   ]
  },
  {
   "cell_type": "markdown",
   "id": "6b58faf8-ad46-45ff-a804-72b97187adb5",
   "metadata": {},
   "source": [
    "1. Você adora queijo e vá mesmo que seu/ua namorado/a não vá e não exista transporte público próximo. No entanto, se chover fica muito ruim e com certeza não irá."
   ]
  },
  {
   "cell_type": "code",
   "execution_count": 4,
   "id": "78e160e3-eac5-4d37-90c6-999df1e49e5f",
   "metadata": {},
   "outputs": [
    {
     "data": {
      "text/plain": [
       "array([0, 0, 0, 0, 1, 1, 1, 1])"
      ]
     },
     "execution_count": 4,
     "metadata": {},
     "output_type": "execute_result"
    }
   ],
   "source": [
    "y1 = np.array([c for c,t,n in X])\n",
    "y1"
   ]
  },
  {
   "cell_type": "code",
   "execution_count": 5,
   "id": "53097250-fb7b-47c8-924a-a330e161b32d",
   "metadata": {},
   "outputs": [
    {
     "name": "stdout",
     "output_type": "stream",
     "text": [
      "coef_ [[2. 0. 0.]]\n",
      "intercept_ [-1.]\n"
     ]
    },
    {
     "data": {
      "image/png": "[encoded data removed]",
      "text/plain": [
       "<Figure size 216x216 with 2 Axes>"
      ]
     },
     "metadata": {
      "needs_background": "light"
     },
     "output_type": "display_data"
    }
   ],
   "source": [
    "fit_predict_cm(X, y1)"
   ]
  },
  {
   "cell_type": "markdown",
   "id": "568c2d6e-b0d3-43a3-8a61-88ae6211c49a",
   "metadata": {},
   "source": [
    "2. Você vai ao festival se o tempo estiver bom OU se seu/ua namorado/a quiser ir E tiver transporte público."
   ]
  },
  {
   "cell_type": "code",
   "execution_count": 6,
   "id": "e966fab5-16f0-47c6-a21d-8dd5c359e042",
   "metadata": {},
   "outputs": [
    {
     "data": {
      "text/plain": [
       "array([0, 0, 0, 1, 1, 1, 1, 1])"
      ]
     },
     "execution_count": 6,
     "metadata": {},
     "output_type": "execute_result"
    }
   ],
   "source": [
    "y2 = np.array([c or n and t for c,t,n in X])\n",
    "y2"
   ]
  },
  {
   "cell_type": "code",
   "execution_count": 7,
   "id": "279f3ef0-aa01-4955-85d2-a1c946bc6e0d",
   "metadata": {},
   "outputs": [
    {
     "name": "stdout",
     "output_type": "stream",
     "text": [
      "coef_ [[4. 2. 2.]]\n",
      "intercept_ [-3.]\n"
     ]
    },
    {
     "data": {
      "image/png": "[encoded data removed]",
      "text/plain": [
       "<Figure size 216x216 with 2 Axes>"
      ]
     },
     "metadata": {
      "needs_background": "light"
     },
     "output_type": "display_data"
    }
   ],
   "source": [
    "fit_predict_cm(X, y2)"
   ]
  }
 ],
 "metadata": {
  "kernelspec": {
   "display_name": "Python 3",
   "language": "python",
   "name": "python3"
  },
  "language_info": {
   "codemirror_mode": {
    "name": "ipython",
    "version": 3
   },
   "file_extension": ".py",
   "mimetype": "text/x-python",
   "name": "python",
   "nbconvert_exporter": "python",
   "pygments_lexer": "ipython3",
   "version": "3.8.5"
  }
 },
 "nbformat": 4,
 "nbformat_minor": 5
}
