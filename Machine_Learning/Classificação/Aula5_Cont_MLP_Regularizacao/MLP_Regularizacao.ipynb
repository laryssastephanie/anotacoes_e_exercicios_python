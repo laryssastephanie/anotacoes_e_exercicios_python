{
 "cells": [
  {
   "cell_type": "markdown",
   "metadata": {},
   "source": [
    "# Inferência e validação\n",
    "\n",
    "Agora que treinamos a rede, podemos usá-la para fazer predições. Esse processo é chamado de **inferência**, um termo emprestado da estatística. No entanto, redes neurais tem uma tendencia de aprender *muito bem* o comportamento dos dados de treinamento, e as vezes apresentam dificuldade para generalizar esse conhecimento para dados desconhecidos, i.e., conjunto de testes. Esse problema é chamado de **overfitting**, o qual prejudica a performance da inferência. Para testar se está ocorrendo overfitting enquanto treinamos o modelo, podemos avaliar a sua performance em um conjunto especial de dados chamado conjunto de **validação**. Podemos evitar o _overfitting_ usando técnicas de regularização, como por exemplo **dropout**, enquanto monitoramos a performance da validação durante o treinamento.\n",
    "\n",
    "Como de costume, vamos começar carregando o conjunto de dados utilizando torchvision. Podemos baixar o conjunto de testes setando `train=False`:\n",
    "\n",
    "```python\n",
    "testset = datasets.FashionMNIST('~/.pytorch/F_MNIST_data/', download=True, train=False, transform=transform)\n",
    "```\n",
    "\n",
    "O conjunto de teste geralmente contém 20% a 30% do tamanho total do dataset, e é usado para validar e testar o modelo."
   ]
  },
  {
   "cell_type": "code",
   "execution_count": 1,
   "metadata": {},
   "outputs": [],
   "source": [
    "import torch\n",
    "from torchvision import datasets, transforms\n",
    "\n",
    "# Define as transformações para normalizar os dados\n",
    "transform = transforms.Compose([transforms.ToTensor(),\n",
    "                                transforms.Normalize((0.5,), (0.5,))])\n",
    "# Baixa e carrega o conjunto de treinamento\n",
    "trainset = datasets.FashionMNIST('~/.pytorch/F_MNIST_data/', download=True, train=True, transform=transform)\n",
    "trainloader = torch.utils.data.DataLoader(trainset, batch_size=64, shuffle=True)\n",
    "\n",
    "# baixa e carrega o conjunto de testes\n",
    "testset = datasets.FashionMNIST('~/.pytorch/F_MNIST_data/', download=True, train=False, transform=transform)\n",
    "testloader = torch.utils.data.DataLoader(testset, batch_size=64, shuffle=True)"
   ]
  },
  {
   "cell_type": "markdown",
   "metadata": {},
   "source": [
    "Vamos criar um model MLP com 3 camadas escondidas, uma com 256, uma com 128 e uma com 64 neurônios."
   ]
  },
  {
   "cell_type": "code",
   "execution_count": 2,
   "metadata": {},
   "outputs": [],
   "source": [
    "from torch import nn, optim\n",
    "import torch.nn.functional as F\n",
    "\n",
    "class Classifier(nn.Module):\n",
    "    def __init__(self):\n",
    "        super().__init__()\n",
    "        self.fc1 = nn.Linear(784, 256)\n",
    "        self.fc2 = nn.Linear(256, 128)\n",
    "        self.fc3 = nn.Linear(128, 64)\n",
    "        self.fc4 = nn.Linear(64, 10)\n",
    "        \n",
    "    def forward(self, x):\n",
    "        # certificar que o tensor com as imagens foi 'achatado'\n",
    "        x = x.view(x.shape[0], -1)\n",
    "        \n",
    "        x = F.relu(self.fc1(x))\n",
    "        x = F.relu(self.fc2(x))\n",
    "        x = F.relu(self.fc3(x))\n",
    "        x = F.log_softmax(self.fc4(x), dim=1)\n",
    "        \n",
    "        return x"
   ]
  },
  {
   "cell_type": "markdown",
   "metadata": {},
   "source": [
    "O objetivo do conjunto de validação é medir a performance do modelo durante o treinamento sem usar as amostras empregadas para ajustar os pesos. Essa performance pode ser medida pela acurácia, taxa de acerto, entre outras opções. No exemplo usaremos a acurácia. Vamos começar fazendo o passo _forward_ sobre o conjunto de testes."
   ]
  },
  {
   "cell_type": "code",
   "execution_count": 47,
   "metadata": {},
   "outputs": [],
   "source": [
    "model = Classifier()\n",
    "\n",
    "images, labels = next(iter(testloader))\n",
    "# Computa a probabilidade das classes (lembrando que usa exp por que a saída da rede é log_softmax)\n",
    "ps = torch.exp(model(images))\n",
    "# confirmando se o formato da saída é apropriada, i.e., 64 amostras com probabilidade de pertencer a 10 classes\n",
    "print(ps.shape)"
   ]
  },
  {
   "cell_type": "markdown",
   "metadata": {},
   "source": [
    "Com esse vetor de probabilidades, podemos pegar a classe mais provável usando o método `ps.topk`, o qual retorna os $k$ maiores valores. Como queremos saber qual é a (única) classe mais provavel, usamos `ps.topk(1)`. A função retorna uma tupla com os $k$ maiores valores e seus indices. "
   ]
  },
  {
   "cell_type": "code",
   "execution_count": 48,
   "metadata": {},
   "outputs": [],
   "source": [
    "top_p, top_class = ps.topk(1, dim=1)\n",
    "# Veja as classes mais prováveis para as 10 primeiras amostras\n",
    "print(top_class[:10,:])"
   ]
  },
  {
   "cell_type": "markdown",
   "metadata": {},
   "source": [
    "Para verificar se a classe estimada corresponde ao rótulo, comparamos `top_class` e `labels`. Lembre que `top_class` é um tensor 2D com formato `(64, 1)`, enquanto `labels` é 1D com formato `(64)`, e para igualá-los, precisamos ajustar o formato do nosso tensor labels:"
   ]
  },
  {
   "cell_type": "code",
   "execution_count": 49,
   "metadata": {},
   "outputs": [],
   "source": [
    "equals = top_class == labels.view(*top_class.shape)\n",
    "# * quer dizer que está desempacotando os valores da lista top_class.shape, ou seja, é o mesmo que \n",
    "#   fazer labels.view(top_class.shape[0],top_class.shape[1])\n",
    "\n",
    "print('top_class.shape = ', top_class.shape)\n",
    "print('*top_class.shape = ', *top_class.shape)\n",
    "print('equals.shape = ', equals.shape)\n",
    "#print('equals = ', equals)"
   ]
  },
  {
   "cell_type": "markdown",
   "metadata": {},
   "source": [
    "Agora precisamos calcular a porcentagem de predições corretas. `equals` é composto por uma lista de valores binarios, o que significa que se somarmos os acertos e dividir pelo tamanho do vetor teremos a porcentagem de estimativas corretas, ou seja, é o mesmo que computar a média, o que poderia ser feito usando `torch.mean`. No entanto, usando `torch.mean(equals)` teremos o erro:\n",
    "\n",
    "```\n",
    "RuntimeError: mean is not implemented for type torch.ByteTensor \n",
    "```\n",
    "ou\n",
    "```\n",
    "RuntimeError: Can only calculate the mean of floating types. Got Bool instead.\n",
    "```\n",
    "\n",
    "Isso porque `equals` é do tipo `torch.ByteTensor` ou `torch.bool`, mas `torch.mean` não funciona pra esses tipos de dados. Então devemos converter `equals` para tensor de floats. Note que `torch.mean` retorna um tensor com um escalar, e para pegar o valor de fato desse tensor devemos usar `accuracy.item()`."
   ]
  },
  {
   "cell_type": "code",
   "execution_count": 50,
   "metadata": {},
   "outputs": [],
   "source": [
    "accuracy = torch.mean(equals.type(torch.FloatTensor))\n",
    "print(f'Acurácia: {accuracy.item()*100}%')"
   ]
  },
  {
   "cell_type": "markdown",
   "metadata": {},
   "source": [
    "A rede não foi treinada, por isso apresentou resultados ruins. Agora vamos treinar a rede e incluir um passo de validação para avaliar o quanto a rede progride sobre dados desconhecidos. Visto que não vamos computar os gradientes nessa etapa, devemos desligar o autograd para deixar o processo mais rápido usando `torch.no_grad()`:\n",
    "\n",
    "```python\n",
    "# desligando o calculo dos gradientes\n",
    "with torch.no_grad():\n",
    "    # passo de validação\n",
    "    for images, labels in testloader:\n",
    "        ...\n",
    "```"
   ]
  },
  {
   "cell_type": "code",
   "execution_count": 26,
   "metadata": {},
   "outputs": [
    {
     "name": "stdout",
     "output_type": "stream",
     "text": [
      "Epoch: 1/30..  Training Loss: 0.518..  Test Loss: 0.440..  Test Accuracy: 0.836\n",
      "Epoch: 2/30..  Training Loss: 0.392..  Test Loss: 0.409..  Test Accuracy: 0.855\n",
      "Epoch: 3/30..  Training Loss: 0.353..  Test Loss: 0.394..  Test Accuracy: 0.861\n",
      "Epoch: 4/30..  Training Loss: 0.333..  Test Loss: 0.393..  Test Accuracy: 0.858\n",
      "Epoch: 5/30..  Training Loss: 0.316..  Test Loss: 0.367..  Test Accuracy: 0.870\n",
      "Epoch: 6/30..  Training Loss: 0.301..  Test Loss: 0.355..  Test Accuracy: 0.875\n",
      "Epoch: 7/30..  Training Loss: 0.291..  Test Loss: 0.379..  Test Accuracy: 0.866\n",
      "Epoch: 8/30..  Training Loss: 0.282..  Test Loss: 0.367..  Test Accuracy: 0.867\n",
      "Epoch: 9/30..  Training Loss: 0.274..  Test Loss: 0.355..  Test Accuracy: 0.878\n",
      "Epoch: 10/30..  Training Loss: 0.261..  Test Loss: 0.356..  Test Accuracy: 0.877\n",
      "Epoch: 11/30..  Training Loss: 0.259..  Test Loss: 0.347..  Test Accuracy: 0.881\n",
      "Epoch: 12/30..  Training Loss: 0.250..  Test Loss: 0.367..  Test Accuracy: 0.878\n",
      "Epoch: 13/30..  Training Loss: 0.245..  Test Loss: 0.339..  Test Accuracy: 0.886\n",
      "Epoch: 14/30..  Training Loss: 0.245..  Test Loss: 0.377..  Test Accuracy: 0.875\n",
      "Epoch: 15/30..  Training Loss: 0.231..  Test Loss: 0.376..  Test Accuracy: 0.881\n",
      "Epoch: 16/30..  Training Loss: 0.232..  Test Loss: 0.381..  Test Accuracy: 0.878\n",
      "Epoch: 17/30..  Training Loss: 0.228..  Test Loss: 0.369..  Test Accuracy: 0.880\n",
      "Epoch: 18/30..  Training Loss: 0.219..  Test Loss: 0.378..  Test Accuracy: 0.881\n",
      "Epoch: 19/30..  Training Loss: 0.216..  Test Loss: 0.389..  Test Accuracy: 0.879\n",
      "Epoch: 20/30..  Training Loss: 0.220..  Test Loss: 0.372..  Test Accuracy: 0.884\n",
      "Epoch: 21/30..  Training Loss: 0.208..  Test Loss: 0.391..  Test Accuracy: 0.877\n",
      "Epoch: 22/30..  Training Loss: 0.205..  Test Loss: 0.388..  Test Accuracy: 0.881\n",
      "Epoch: 23/30..  Training Loss: 0.201..  Test Loss: 0.358..  Test Accuracy: 0.882\n",
      "Epoch: 24/30..  Training Loss: 0.204..  Test Loss: 0.381..  Test Accuracy: 0.891\n",
      "Epoch: 25/30..  Training Loss: 0.192..  Test Loss: 0.398..  Test Accuracy: 0.883\n",
      "Epoch: 26/30..  Training Loss: 0.192..  Test Loss: 0.423..  Test Accuracy: 0.878\n",
      "Epoch: 27/30..  Training Loss: 0.188..  Test Loss: 0.419..  Test Accuracy: 0.886\n",
      "Epoch: 28/30..  Training Loss: 0.187..  Test Loss: 0.420..  Test Accuracy: 0.878\n",
      "Epoch: 29/30..  Training Loss: 0.185..  Test Loss: 0.427..  Test Accuracy: 0.884\n",
      "Epoch: 30/30..  Training Loss: 0.180..  Test Loss: 0.413..  Test Accuracy: 0.885\n"
     ]
    }
   ],
   "source": [
    "model = Classifier()\n",
    "criterion = nn.NLLLoss()\n",
    "optimizer = optim.Adam(model.parameters(), lr=0.003)\n",
    "\n",
    "epochs = 30\n",
    "steps = 0\n",
    "\n",
    "train_losses, test_losses = [], []\n",
    "for e in range(epochs):\n",
    "    running_loss = 0\n",
    "    for images, labels in trainloader:\n",
    "        \n",
    "        optimizer.zero_grad()\n",
    "        \n",
    "        log_ps = model(images)\n",
    "        loss = criterion(log_ps, labels)\n",
    "        loss.backward()\n",
    "        optimizer.step()\n",
    "        \n",
    "        running_loss += loss.item()\n",
    "        \n",
    "    else:\n",
    "        # else pode ser usado em laços tipo for no python, e só será executado se não cair em nenhum break\n",
    "        test_loss = 0\n",
    "        accuracy = 0\n",
    "        with torch.no_grad():\n",
    "            # passo de validação\n",
    "            for images, labels in testloader:\n",
    "                log_ps = model(images)\n",
    "                ps = torch.exp(log_ps)\n",
    "                \n",
    "                test_loss += criterion(log_ps, labels)  \n",
    "                top_p, top_class = ps.topk(1, dim=1)\n",
    "                equals = top_class == labels.view(*top_class.shape)\n",
    "                accuracy+= torch.mean(equals.type(torch.FloatTensor))\n",
    "                \n",
    "        train_losses.append(running_loss / len(trainloader))\n",
    "        test_losses.append(test_loss / len(testloader))\n",
    "                \n",
    "        print(\"Epoch: {}/{}.. \".format(e+1, epochs),\n",
    "              \"Training Loss: {:.3f}.. \".format(train_losses[-1]),\n",
    "              \"Test Loss: {:.3f}.. \".format(test_losses[-1]),\n",
    "              \"Test Accuracy: {:.3f}\".format(accuracy/len(testloader)))"
   ]
  },
  {
   "cell_type": "markdown",
   "metadata": {},
   "source": [
    "## Overfitting\n",
    "\n",
    "Se olharmos para os valores de loss sobre o conjunto de treinamento e de teste veremos um fenômeno conhecido como overfitting:\n",
    "\n",
    "<img src='assets/overfitting.png' width=450px>\n",
    "\n",
    "A rede aprende o comportamento do conjunto de treinamento cada vez melhor, reduzindo o erro nesse contexto. No entanto, tem problemas para generalizar e classificar corretamente os dados desconhecidos. O objetivo maior dos algoritmos de aprendizado de máquina é poder predizer e fazer estimativas sobre dados desconhecidos, por isso o objetivo deve ser minimizar o erro sobre o conjunto de validação/testes. Uma possível solução, chamada *parada-antecipada* (_early-stop_) seria salvar o modelo a cada época e usar a rede com melhor resultado sobre o conjunto de validação, no entanto não é a melhor opção.\n",
    "\n",
    "A abordagem mais comum para reduzir overfitting é a utilização de técnicas de regularização. Veremos a seguir como usar uma técnica chamada *dropout* para essa tarefa, a qual seleciona de forma aleatória, a cada iteração, alguns neurônios para serem desligados. Dropout força a rede a compartilhar informações pelos pesos, reforçando seu poder de generalização. Adicionar dropout ou PyTorch é bem simples, basta utilizar o módulo [`nn.Dropout`](https://pytorch.org/docs/stable/nn.html#torch.nn.Dropout).\n",
    "\n",
    "\n",
    "<img src='assets/dropout.png' width=550px>\n",
    "\n",
    "```python\n",
    "class Classifier(nn.Module):\n",
    "    def __init__(self):\n",
    "        super().__init__()\n",
    "        self.fc1 = nn.Linear(784, 256)\n",
    "        self.fc2 = nn.Linear(256, 128)\n",
    "        self.fc3 = nn.Linear(128, 64)\n",
    "        self.fc4 = nn.Linear(64, 10)\n",
    "        \n",
    "        # Módulo Dropout com probabilidade de 0.2 para desligar um neurônio\n",
    "        self.dropout = nn.Dropout(p=0.2)\n",
    "        \n",
    "    def forward(self, x):\n",
    "        # aplicando 'flattening' nas imagens\n",
    "        x = x.view(x.shape[0], -1)\n",
    "        \n",
    "        # Agora com dropout\n",
    "        x = self.dropout(F.relu(self.fc1(x)))\n",
    "        x = self.dropout(F.relu(self.fc2(x)))\n",
    "        x = self.dropout(F.relu(self.fc3(x)))\n",
    "        \n",
    "        # saída - não há dropout aqui\n",
    "        x = F.log_softmax(self.fc4(x), dim=1)\n",
    "        \n",
    "        return x\n",
    "```\n",
    "\n",
    "Durante o treinamento nos queremos usar dropout para evitar overfitting, mas durante a inferência, queremos usar a rede completa. Sendo assim, precisamos desligar o dropout durante o processo de validação, teste, ou qualquer etapa em que usemos a rede para fazer predições. Para isso, usaremos `model.eval()`, que seta o modelo para o modo de avaliação e desliga o dropout. O dropout pode ser religado voltando ao modo de treino com `model.train()`. No geral, o padrão para o laço de validação tem o formato a seguir, onde a desligamos a computação do gradiente e setamos o modelo para modo de avaliação, calculamos o loss e as métricas, e depois setamos de volta para o modo de treinamento.\n",
    "\n",
    "```python\n",
    "# desligar a computação dos gradientes\n",
    "with torch.no_grad():\n",
    "    \n",
    "    # setar para modo de avaliação\n",
    "    model.eval()\n",
    "    \n",
    "    # passagem das amostras de validação/teste\n",
    "    for images, labels in testloader:\n",
    "        ...\n",
    "\n",
    "# volta o modelo para modo treinamento\n",
    "model.train()\n",
    "```"
   ]
  },
  {
   "cell_type": "code",
   "execution_count": 27,
   "metadata": {},
   "outputs": [],
   "source": [
    "from torch import nn, optim\n",
    "import torch.nn.functional as F\n",
    "\n",
    "class Classifier(nn.Module):\n",
    "    def __init__(self):\n",
    "        super().__init__()\n",
    "        \n",
    "        self.fc1 = nn.Linear(784,256)\n",
    "        self.fc2 = nn.Linear(256,128)\n",
    "        self.fc3 = nn.Linear(128,64)\n",
    "        self.fc4 = nn.Linear(64,10)\n",
    "        \n",
    "        self.dropout = nn.Dropout(p=0.2)\n",
    "        \n",
    "    def forward(self,x):\n",
    "        x = x.view(x.shape[0],-1)\n",
    "        \n",
    "        x = self.dropout(F.relu(self.fc1(x)))\n",
    "        x = self.dropout(F.relu(self.fc2(x)))\n",
    "        x = self.dropout(F.relu(self.fc3(x)))\n",
    "        \n",
    "        x = F.log_softmax(self.fc4(x))\n",
    "        \n",
    "        return x\n"
   ]
  },
  {
   "cell_type": "code",
   "execution_count": 28,
   "metadata": {},
   "outputs": [
    {
     "name": "stderr",
     "output_type": "stream",
     "text": [
      "/media/leandro/hd_linux/miniconda3/envs/torchEnv/lib/python3.7/site-packages/ipykernel_launcher.py:22: UserWarning: Implicit dimension choice for log_softmax has been deprecated. Change the call to include dim=X as an argument.\n"
     ]
    },
    {
     "name": "stdout",
     "output_type": "stream",
     "text": [
      "Epoch: 1/30..  Training Loss: 0.610..  Test Loss: 0.456..  Test Accuracy: 0.834\n",
      "Epoch: 2/30..  Training Loss: 0.482..  Test Loss: 0.434..  Test Accuracy: 0.840\n",
      "Epoch: 3/30..  Training Loss: 0.457..  Test Loss: 0.428..  Test Accuracy: 0.847\n",
      "Epoch: 4/30..  Training Loss: 0.431..  Test Loss: 0.410..  Test Accuracy: 0.855\n",
      "Epoch: 5/30..  Training Loss: 0.421..  Test Loss: 0.411..  Test Accuracy: 0.850\n",
      "Epoch: 6/30..  Training Loss: 0.414..  Test Loss: 0.428..  Test Accuracy: 0.856\n",
      "Epoch: 7/30..  Training Loss: 0.409..  Test Loss: 0.399..  Test Accuracy: 0.858\n",
      "Epoch: 8/30..  Training Loss: 0.401..  Test Loss: 0.394..  Test Accuracy: 0.860\n",
      "Epoch: 9/30..  Training Loss: 0.392..  Test Loss: 0.387..  Test Accuracy: 0.866\n",
      "Epoch: 10/30..  Training Loss: 0.385..  Test Loss: 0.395..  Test Accuracy: 0.856\n",
      "Epoch: 11/30..  Training Loss: 0.390..  Test Loss: 0.396..  Test Accuracy: 0.859\n",
      "Epoch: 12/30..  Training Loss: 0.384..  Test Loss: 0.383..  Test Accuracy: 0.867\n",
      "Epoch: 13/30..  Training Loss: 0.378..  Test Loss: 0.390..  Test Accuracy: 0.869\n",
      "Epoch: 14/30..  Training Loss: 0.373..  Test Loss: 0.372..  Test Accuracy: 0.870\n",
      "Epoch: 15/30..  Training Loss: 0.372..  Test Loss: 0.402..  Test Accuracy: 0.868\n",
      "Epoch: 16/30..  Training Loss: 0.366..  Test Loss: 0.395..  Test Accuracy: 0.865\n",
      "Epoch: 17/30..  Training Loss: 0.363..  Test Loss: 0.376..  Test Accuracy: 0.870\n",
      "Epoch: 18/30..  Training Loss: 0.362..  Test Loss: 0.429..  Test Accuracy: 0.858\n",
      "Epoch: 19/30..  Training Loss: 0.363..  Test Loss: 0.378..  Test Accuracy: 0.870\n",
      "Epoch: 20/30..  Training Loss: 0.358..  Test Loss: 0.365..  Test Accuracy: 0.875\n",
      "Epoch: 21/30..  Training Loss: 0.362..  Test Loss: 0.379..  Test Accuracy: 0.874\n",
      "Epoch: 22/30..  Training Loss: 0.354..  Test Loss: 0.368..  Test Accuracy: 0.869\n",
      "Epoch: 23/30..  Training Loss: 0.358..  Test Loss: 0.383..  Test Accuracy: 0.873\n",
      "Epoch: 24/30..  Training Loss: 0.357..  Test Loss: 0.404..  Test Accuracy: 0.874\n",
      "Epoch: 25/30..  Training Loss: 0.349..  Test Loss: 0.369..  Test Accuracy: 0.870\n",
      "Epoch: 26/30..  Training Loss: 0.351..  Test Loss: 0.385..  Test Accuracy: 0.869\n",
      "Epoch: 27/30..  Training Loss: 0.359..  Test Loss: 0.382..  Test Accuracy: 0.865\n",
      "Epoch: 28/30..  Training Loss: 0.347..  Test Loss: 0.369..  Test Accuracy: 0.874\n",
      "Epoch: 29/30..  Training Loss: 0.344..  Test Loss: 0.374..  Test Accuracy: 0.869\n",
      "Epoch: 30/30..  Training Loss: 0.340..  Test Loss: 0.372..  Test Accuracy: 0.873\n"
     ]
    }
   ],
   "source": [
    "model = Classifier()\n",
    "criterion = nn.NLLLoss()\n",
    "optimizer = optim.Adam(model.parameters(), lr=0.003)\n",
    "\n",
    "epochs = 30\n",
    "train_losses, test_losses = [], []\n",
    "for e in range(epochs):\n",
    "    running_loss = 0\n",
    "    for image, label in trainloader:\n",
    "        optimizer.zero_grad()\n",
    "        log_ps = model(image)\n",
    "        loss = criterion(log_ps, label)\n",
    "        loss.backward()\n",
    "        optimizer.step()\n",
    "        \n",
    "        running_loss+=loss.item()\n",
    "    else:\n",
    "        test_loss = 0\n",
    "        accuracy = 0\n",
    "        with torch.no_grad():\n",
    "            model.eval()\n",
    "            for image, label in testloader:         \n",
    "                \n",
    "                log_ps = model.forward(image)\n",
    "                prob = torch.exp(log_ps)\n",
    "                \n",
    "                test_loss+= criterion(log_ps, label)\n",
    "                \n",
    "                \n",
    "                k_prob, k_class = prob.topk(1, dim=1)\n",
    "                equals = k_class == label.view(*k_class.shape)\n",
    "                \n",
    "                accuracy+= torch.mean(equals.type(torch.FloatTensor))\n",
    "        \n",
    "        model.train()\n",
    "    train_losses.append(running_loss/len(trainloader))\n",
    "    test_losses.append(test_loss/len(testloader))\n",
    "    print(\"Epoch: {}/{}.. \".format(e+1, epochs),\n",
    "          \"Training Loss: {:.3f}.. \".format(train_losses[-1]),\n",
    "          \"Test Loss: {:.3f}.. \".format(test_losses[-1]),\n",
    "          \"Test Accuracy: {:.3f}\".format(accuracy/len(testloader)))"
   ]
  },
  {
   "cell_type": "markdown",
   "metadata": {},
   "source": [
    "## Inferência\n",
    "\n",
    "Agora que treinamos o modelo, podemos usá-lo para inferência. Já fizemos isso antes, mas agora precisamos lembrar de setar o modelo para o mode de inferência com `model.eval()`. Precisamos também desligar o autograd usando `torch.no_grad()`.\n"
   ]
  },
  {
   "cell_type": "code",
   "execution_count": 29,
   "metadata": {},
   "outputs": [
    {
     "name": "stderr",
     "output_type": "stream",
     "text": [
      "/media/leandro/hd_linux/miniconda3/envs/torchEnv/lib/python3.7/site-packages/ipykernel_launcher.py:22: UserWarning: Implicit dimension choice for log_softmax has been deprecated. Change the call to include dim=X as an argument.\n"
     ]
    },
    {
     "data": {
      "image/png": "[encoded data removed]",
      "text/plain": [
       "<Figure size 432x648 with 2 Axes>"
      ]
     },
     "metadata": {
      "needs_background": "light"
     },
     "output_type": "display_data"
    }
   ],
   "source": [
    "# Importando o módulo helper para ajudar a plotar\n",
    "import helper\n",
    "\n",
    "# Testando nossa rede\n",
    "\n",
    "model.eval()\n",
    "\n",
    "dataiter = iter(testloader)\n",
    "images, labels = dataiter.next()\n",
    "img = images[0]\n",
    "# Convertendo imagens 2D em tensores 1D\n",
    "img = img.view(1, 784)\n",
    "\n",
    "# Computando o log das probabilidades para cada imagem (com log_softmax)\n",
    "with torch.no_grad():\n",
    "    output = model.forward(img)\n",
    "\n",
    "# computa as probabilidades fazendo o exponencial do log das probabilidades \n",
    "ps = torch.exp(output)\n",
    "\n",
    "# plotando as probabilidades\n",
    "helper.view_classify(img.view(1, 28, 28), ps, version='Fashion')"
   ]
  },
  {
   "cell_type": "markdown",
   "metadata": {},
   "source": [
    "# Salvando e carregando modelos\n",
    "\n",
    "Agora aprenderemos a salvar e a carregar os modelos treinados. É muito importante pois, frequentemente, precisaremos salvar os modelos após treiná-los para usá-lo em predições sobre novos dados."
   ]
  },
  {
   "cell_type": "code",
   "execution_count": 30,
   "metadata": {},
   "outputs": [],
   "source": [
    "%matplotlib inline\n",
    "%config InlineBackend.figure_format = 'retina'\n",
    "\n",
    "import matplotlib.pyplot as plt\n",
    "\n",
    "import torch\n",
    "from torch import nn\n",
    "from torch import optim\n",
    "import torch.nn.functional as F\n",
    "from torchvision import datasets, transforms\n",
    "\n",
    "import helper\n",
    "import fc_model"
   ]
  },
  {
   "cell_type": "code",
   "execution_count": 31,
   "metadata": {},
   "outputs": [],
   "source": [
    "# Define a transformação para normalizar os dados\n",
    "transform = transforms.Compose([transforms.ToTensor(),\n",
    "                                transforms.Normalize((0.5,), (0.5,))])\n",
    "# download e carrega os dados de treinamento\n",
    "trainset = datasets.FashionMNIST('~/.pytorch/F_MNIST_data/', download=True, train=True, transform=transform)\n",
    "trainloader = torch.utils.data.DataLoader(trainset, batch_size=64, shuffle=True)\n",
    "\n",
    "# download e carrega os dados de validação/teste\n",
    "testset = datasets.FashionMNIST('~/.pytorch/F_MNIST_data/', download=True, train=False, transform=transform)\n",
    "testloader = torch.utils.data.DataLoader(testset, batch_size=64, shuffle=True)"
   ]
  },
  {
   "cell_type": "markdown",
   "metadata": {},
   "source": [
    "Visualizando uma das imagens"
   ]
  },
  {
   "cell_type": "code",
   "execution_count": 51,
   "metadata": {},
   "outputs": [],
   "source": [
    "image, label = next(iter(trainloader))\n",
    "helper.imshow(image[0,:]);"
   ]
  },
  {
   "cell_type": "markdown",
   "metadata": {},
   "source": [
    "# Treinando a rede\n",
    "\n",
    "Para não ficar muito confuso com muito código, a parte de modelagem da rede que já apredemos foi escrita no arquivo `fc_model`. Com esse arquivo, podemos criar uma rede chamando `fc_model.Network` e treiná-la com o comando `fc_model.train`. Após treiná-lo, será usado como exemplo para demonstrar como salvar e carregar modelos."
   ]
  },
  {
   "cell_type": "code",
   "execution_count": 35,
   "metadata": {},
   "outputs": [],
   "source": [
    "# Criando a rede, definindo o criterion (função loss) e o otimizador\n",
    "model = fc_model.Network(784, 10, [512, 256, 128])\n",
    "criterion = nn.NLLLoss()\n",
    "optimizer = optim.Adam(model.parameters(), lr=0.001)"
   ]
  },
  {
   "cell_type": "code",
   "execution_count": 52,
   "metadata": {},
   "outputs": [],
   "source": [
    "fc_model.train(model, trainloader, testloader, criterion, optimizer, epochs=2)"
   ]
  },
  {
   "cell_type": "markdown",
   "metadata": {},
   "source": [
    "## Salvando e carregando o modelo\n",
    "\n",
    "Como já devem ter percebido, não é prático ficar treinando a rede toda hora que precisar usá-la. Em vez disso, podemos salvar o modelo treinado e carregá-lo para usar mais tarde para continuar o treinamento ou fazer predições.\n",
    "\n",
    "Os parâmetros da rede são armazenados em um `state_dict`. Esse 'dicionário de estados' contém os pesos e biases para cada uma das camadas."
   ]
  },
  {
   "cell_type": "code",
   "execution_count": 53,
   "metadata": {},
   "outputs": [],
   "source": [
    "print(\"Nosso modelo: \\n\\n\", model, '\\n')\n",
    "print(\"As chaves do dicionário: \\n\\n\", model.state_dict().keys())"
   ]
  },
  {
   "cell_type": "markdown",
   "metadata": {},
   "source": [
    "O modo mais simples de salvar o modelo é usando `torch.save`. Podemos, por exemplo, salvá-lo num arquivo `'checkpoint.pth'`."
   ]
  },
  {
   "cell_type": "code",
   "execution_count": 39,
   "metadata": {},
   "outputs": [],
   "source": [
    "torch.save(model.state_dict(), 'checkpoint.pth')"
   ]
  },
  {
   "cell_type": "markdown",
   "metadata": {},
   "source": [
    "E depois carregá-lo usando `torch.load`."
   ]
  },
  {
   "cell_type": "code",
   "execution_count": 54,
   "metadata": {},
   "outputs": [],
   "source": [
    "state_dict = torch.load('checkpoint.pth')\n",
    "print(state_dict.keys())"
   ]
  },
  {
   "cell_type": "markdown",
   "metadata": {},
   "source": [
    "Na sequência, carregamos nosso state_dict na rede, usando o comando `model.load_state_dict(state_dict)`."
   ]
  },
  {
   "cell_type": "code",
   "execution_count": 55,
   "metadata": {},
   "outputs": [],
   "source": [
    "model.load_state_dict(state_dict)"
   ]
  },
  {
   "cell_type": "markdown",
   "metadata": {},
   "source": [
    "Parece bem simples, mas como já estamos acostumados, nunca é tão fácil. Carregar o dicionário de estados só funciona se a arquitetura for exatamente a mesma que a do modelo salvo no checkpoint. Se criar um novo modelo com alguma diferença na arquitetura o método falha."
   ]
  },
  {
   "cell_type": "code",
   "execution_count": 56,
   "metadata": {},
   "outputs": [],
   "source": [
    "# Testando uma nova rede\n",
    "model = fc_model.Network(784, 10, [400, 200, 100])\n",
    "# Vai dar erro porque o número de neurônios nas camadas escondidas são diferentes\n",
    "model.load_state_dict(state_dict)"
   ]
  },
  {
   "cell_type": "markdown",
   "metadata": {},
   "source": [
    "Isso significa que precisaremos reconstruir exatamente o mesmo modelo usado no treinamento, salvando também as informações sobre a arquitetura do modelo no checkpoint, junto com o state dict. Para isso, construiremos um dicionário com todas as informações necessárias reconstruir o modelo completamente."
   ]
  },
  {
   "cell_type": "code",
   "execution_count": 44,
   "metadata": {},
   "outputs": [],
   "source": [
    "checkpoint = {'input_size': 784,\n",
    "              'output_size': 10,\n",
    "              'hidden_layers': [each.out_features for each in model.hidden_layers],\n",
    "              'state_dict': model.state_dict()}\n",
    "\n",
    "torch.save(checkpoint, 'checkpoint.pth')"
   ]
  },
  {
   "cell_type": "markdown",
   "metadata": {},
   "source": [
    "Agora o checkpoint tem todas as informações necessárias para reconstruir o modelo treinado. Podemos criar uma função para fazer o processo, assim como podemos, de forma similar, criar uma função para carregar os checkpoints."
   ]
  },
  {
   "cell_type": "code",
   "execution_count": 45,
   "metadata": {},
   "outputs": [],
   "source": [
    "def load_checkpoint(filepath):\n",
    "    checkpoint = torch.load(filepath)\n",
    "    model = fc_model.Network(checkpoint['input_size'],\n",
    "                             checkpoint['output_size'],\n",
    "                             checkpoint['hidden_layers'])\n",
    "    model.load_state_dict(checkpoint['state_dict'])\n",
    "    \n",
    "    return model"
   ]
  },
  {
   "cell_type": "code",
   "execution_count": 57,
   "metadata": {},
   "outputs": [],
   "source": [
    "model = load_checkpoint('checkpoint.pth')\n",
    "print(model)"
   ]
  },
  {
   "cell_type": "markdown",
   "metadata": {},
   "source": [
    "## Exercício em grupo\n",
    "\n",
    "Cada grupo deve desenvolver uma rede neural MLP para classificar o dataset Kuzushiji-MNIST. O objetivo é conseguir a melhor acurácia no conjunto de teste.\n",
    "\n",
    "Sugestões:\n",
    "\n",
    "- Testar diferentes configurações, como número de camadas escondidas e neurônios por camadas;\n",
    "- Testar como funciona com ou sem dropout;\n",
    "- Testar diferentes otimizadores (não apenas SGD) e diferentes valores de taxa de aprendizado;\n",
    "- Testar possiveis transformações no dataset;\n",
    "- Testar diferente números de épocas.\n",
    "\n",
    "Apresentação:\n",
    "\n",
    "- Carregar o modelo treinado e executar o passo de inferência sobre o conjunto de testes;\n",
    "- Mostrar gráfico de convergência durante as épocas, considerando o conjunto de treinamento e o conjunto de testes;\n",
    "- Mostrar matriz de confusão, acurácia, e demais métricas que acharem necessárias.\n",
    "\n",
    "\n"
   ]
  }
 ],
 "metadata": {
  "kernelspec": {
   "display_name": "Python 3.7.7 64-bit ('torchEnv': conda)",
   "language": "python",
   "name": "python37764bittorchenvconda44a76b6c90fa48eea1939354f840259c"
  },
  "language_info": {
   "codemirror_mode": {
    "name": "ipython",
    "version": 3
   },
   "file_extension": ".py",
   "mimetype": "text/x-python",
   "name": "python",
   "nbconvert_exporter": "python",
   "pygments_lexer": "ipython3",
   "version": "3.7.7"
  }
 },
 "nbformat": 4,
 "nbformat_minor": 4
}
