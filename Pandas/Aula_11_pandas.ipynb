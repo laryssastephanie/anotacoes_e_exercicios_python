{
 "metadata": {
  "language_info": {
   "codemirror_mode": {
    "name": "ipython",
    "version": 3
   },
   "file_extension": ".py",
   "mimetype": "text/x-python",
   "name": "python",
   "nbconvert_exporter": "python",
   "pygments_lexer": "ipython3",
   "version": "3.8.5"
  },
  "orig_nbformat": 2,
  "kernelspec": {
   "name": "python385jvsc74a57bd031f2aee4e71d21fbe5cf8b01ff0e069b9275f58929596ceb00d14d90e3e16cd6",
   "display_name": "Python 3.8.5 64-bit"
  },
  "metadata": {
   "interpreter": {
    "hash": "31f2aee4e71d21fbe5cf8b01ff0e069b9275f58929596ceb00d14d90e3e16cd6"
   }
  }
 },
 "nbformat": 4,
 "nbformat_minor": 2,
 "cells": [
  {
   "source": [
    "## Lidando com Dados Ausentes\n",
    "\n",
    "Como resolver problemas com os NA's"
   ],
   "cell_type": "markdown",
   "metadata": {}
  },
  {
   "cell_type": "code",
   "execution_count": null,
   "metadata": {},
   "outputs": [],
   "source": [
    "import numpy as np\n",
    "from numpy import nan as NA\n",
    "import pandas as pd"
   ]
  },
  {
   "cell_type": "code",
   "execution_count": null,
   "metadata": {},
   "outputs": [],
   "source": [
    "data = pd.DataFrame([[1, 6.5, 3], [1, NA, NA], [NA, NA, NA], [NA, 6.5, 3]])"
   ]
  },
  {
   "cell_type": "code",
   "execution_count": null,
   "metadata": {},
   "outputs": [],
   "source": [
    "data"
   ]
  },
  {
   "cell_type": "code",
   "execution_count": null,
   "metadata": {},
   "outputs": [],
   "source": [
    "data.dropna() # dropa todas as linhas nas quais possuem valores de NA"
   ]
  },
  {
   "cell_type": "code",
   "execution_count": null,
   "metadata": {},
   "outputs": [],
   "source": [
    "data.dropna(how=\"all\") # faça os drops nas linhas nas quais TODOS os valores forem NA's"
   ]
  },
  {
   "source": [
    "#### Fazendo drop nas colunas"
   ],
   "cell_type": "markdown",
   "metadata": {}
  },
  {
   "cell_type": "code",
   "execution_count": null,
   "metadata": {},
   "outputs": [],
   "source": [
    "data[3] = NA # adicionando coluna nova só de na's\n",
    "data"
   ]
  },
  {
   "cell_type": "code",
   "execution_count": null,
   "metadata": {},
   "outputs": [],
   "source": [
    "data.dropna(axis=1, how=\"all\") # remove a coluna em que TODOS os dados são NA's"
   ]
  },
  {
   "source": [
    "#### Utilizando um threshhold - número de dados faltando que seja aceitável"
   ],
   "cell_type": "markdown",
   "metadata": {}
  },
  {
   "cell_type": "code",
   "execution_count": null,
   "metadata": {},
   "outputs": [],
   "source": [
    "df = pd.DataFrame(np.random.randn(7,3))"
   ]
  },
  {
   "cell_type": "code",
   "execution_count": null,
   "metadata": {},
   "outputs": [],
   "source": [
    "df"
   ]
  },
  {
   "source": [
    "#### Introduzir NA's"
   ],
   "cell_type": "markdown",
   "metadata": {}
  },
  {
   "cell_type": "code",
   "execution_count": null,
   "metadata": {},
   "outputs": [],
   "source": [
    "df.iloc[:4, 1] = NA\n",
    "df.iloc[:2, 2] = NA"
   ]
  },
  {
   "cell_type": "code",
   "execution_count": null,
   "metadata": {},
   "outputs": [],
   "source": [
    "df"
   ]
  },
  {
   "cell_type": "code",
   "execution_count": null,
   "metadata": {},
   "outputs": [],
   "source": [
    "# quero dizer que é aceitável que a gente possua alguns NA's no nosso dataset\n",
    "df.dropna(thresh=2) # remover as linhas em que tenho 2 ou mais ocorrencias de NA"
   ]
  },
  {
   "source": [
    "## Preenchimento de valores faltantes"
   ],
   "cell_type": "markdown",
   "metadata": {}
  },
  {
   "cell_type": "code",
   "execution_count": null,
   "metadata": {},
   "outputs": [],
   "source": [
    "df.fillna(0) # onde tem valor faltando, virou 0"
   ]
  },
  {
   "cell_type": "code",
   "execution_count": null,
   "metadata": {},
   "outputs": [],
   "source": [
    "df.fillna({1: 0.5, 2:0}) # especifica coluna e o valor que quero substituir"
   ]
  },
  {
   "source": [
    "#### Substituir pela média\n"
   ],
   "cell_type": "markdown",
   "metadata": {}
  },
  {
   "cell_type": "code",
   "execution_count": null,
   "metadata": {},
   "outputs": [],
   "source": [
    "df.fillna(df.mean()) # substituem pela média dos valores da coluna. Posso colocar pelo eixo também"
   ]
  },
  {
   "source": [
    "## Lidando com valores duplicados"
   ],
   "cell_type": "markdown",
   "metadata": {}
  },
  {
   "cell_type": "code",
   "execution_count": null,
   "metadata": {},
   "outputs": [],
   "source": [
    "data = pd.DataFrame({'k1': ['one', 'two'] * 3 + [ 'two'],\n",
    "                    'k2': [1,1,2,3,3,4,4]})"
   ]
  },
  {
   "cell_type": "code",
   "execution_count": null,
   "metadata": {},
   "outputs": [],
   "source": [
    "data"
   ]
  },
  {
   "cell_type": "code",
   "execution_count": null,
   "metadata": {},
   "outputs": [],
   "source": [
    "data.duplicated() # retorna uma serie do pandas onde tenho um booleano para cada um dos indices informando se ele é duplicado"
   ]
  },
  {
   "cell_type": "code",
   "execution_count": null,
   "metadata": {},
   "outputs": [],
   "source": [
    "data.drop_duplicates() # remove a sexta linha"
   ]
  },
  {
   "cell_type": "code",
   "execution_count": null,
   "metadata": {},
   "outputs": [],
   "source": [
    "data.drop_duplicates(['k1']) # especificando qual coluna. Remove os duplicados, mantendo a primeira ocorrência"
   ]
  },
  {
   "cell_type": "code",
   "execution_count": null,
   "metadata": {},
   "outputs": [],
   "source": [
    "data.drop_duplicates(['k1'], keep='last') # mantenha a ultima ocorrencia do duplicado"
   ]
  },
  {
   "source": [
    "## Troca de valores"
   ],
   "cell_type": "markdown",
   "metadata": {}
  },
  {
   "cell_type": "code",
   "execution_count": null,
   "metadata": {},
   "outputs": [],
   "source": [
    "data = pd.Series([1, -999, 2, -999, 1000, 3])"
   ]
  },
  {
   "cell_type": "code",
   "execution_count": null,
   "metadata": {},
   "outputs": [],
   "source": [
    "data"
   ]
  },
  {
   "cell_type": "code",
   "execution_count": null,
   "metadata": {},
   "outputs": [],
   "source": [
    "data.replace(-999, NA) # substituir o -999 por NA"
   ]
  },
  {
   "cell_type": "code",
   "execution_count": null,
   "metadata": {},
   "outputs": [],
   "source": [
    "# Múltiplas substituições ao mesmo tempo:\n",
    "data.replace({-999: NA, 1000: 0})"
   ]
  },
  {
   "source": [
    "## Aplicando Funções\n",
    "https://www.kaggle.com/stefanoleone992/imdb-extensive-dataset"
   ],
   "cell_type": "markdown",
   "metadata": {}
  },
  {
   "cell_type": "code",
   "execution_count": null,
   "metadata": {},
   "outputs": [],
   "source": [
    "imdb_dataset = pd.read_csv('/tmp/imdb.scv', index_col='title') # mudar diretorio depois"
   ]
  },
  {
   "cell_type": "code",
   "execution_count": null,
   "metadata": {},
   "outputs": [],
   "source": [
    "imdb_dataset.info() # mostra colunas"
   ]
  },
  {
   "cell_type": "code",
   "execution_count": null,
   "metadata": {},
   "outputs": [],
   "source": [
    "imdb_dataset['avg_vote'] # notas que vão de 0 a 10"
   ]
  },
  {
   "cell_type": "code",
   "execution_count": null,
   "metadata": {},
   "outputs": [],
   "source": [
    "def classificar_filme(nota_filme): # receber um valor e retornar uma string dizendo se é bom ou ruim\n",
    "    if nota_filme['n1'] >= 8.0 and nota_filme['n2'] >= 8.0:\n",
    "        return \"bom\"\n",
    "    else:\n",
    "        return \"ruim\""
   ]
  },
  {
   "cell_type": "code",
   "execution_count": null,
   "metadata": {},
   "outputs": [],
   "source": [
    "# aplicar essa função na nossa coluna do avarage vote\n",
    "imdb_dataset[\"avg_vote\"].apply(classificar_filme)\n",
    "\n",
    "#posso aplicar a minha função por eixo"
   ]
  },
  {
   "cell_type": "code",
   "execution_count": null,
   "metadata": {},
   "outputs": [],
   "source": [
    "data = pd.DataFrame({\"filme\": [\"Miss Jerry\", \"The story of the Kelly Gang\", \"Cleopatra\"],\n",
    "                    \"n1\": [2, 5, 10],\n",
    "                    \"n2\": [10, 5, 8]})"
   ]
  },
  {
   "cell_type": "code",
   "execution_count": null,
   "metadata": {},
   "outputs": [],
   "source": [
    "data"
   ]
  },
  {
   "cell_type": "code",
   "execution_count": null,
   "metadata": {},
   "outputs": [],
   "source": [
    "data.loc[:, 'n1':] # selecionar todas as linhas na coluna N1 até o final"
   ]
  },
  {
   "cell_type": "code",
   "execution_count": null,
   "metadata": {},
   "outputs": [],
   "source": [
    "data.loc[:, 'n1':].apply(classificar_filme, axis=1)"
   ]
  },
  {
   "source": [
    "## Discretização/binning\n",
    "- agrupar valores de x que são contínuos em categorias\n"
   ],
   "cell_type": "markdown",
   "metadata": {}
  },
  {
   "cell_type": "code",
   "execution_count": null,
   "metadata": {},
   "outputs": [],
   "source": [
    "idades = [20, 22, 25, 27, 21, 23, 37, 31, 61, 45, 41, 32]"
   ]
  },
  {
   "cell_type": "code",
   "execution_count": null,
   "metadata": {},
   "outputs": [],
   "source": [
    "bins = [18, 25, 35, 60, 100]"
   ]
  },
  {
   "cell_type": "code",
   "execution_count": null,
   "metadata": {},
   "outputs": [],
   "source": [
    "pd.cut(idades, bins) # numero 20, esta entre 18 e 25 / numero 22 também, etc/ Esta retornando as categorias"
   ]
  },
  {
   "cell_type": "code",
   "execution_count": null,
   "metadata": {},
   "outputs": [],
   "source": [
    "cats = pd.cut(idades, bins)"
   ]
  },
  {
   "cell_type": "code",
   "execution_count": null,
   "metadata": {},
   "outputs": [],
   "source": [
    "cats.codes # os tres primeiros correspondem a categoria 0, depois a categoria 1, etc..."
   ]
  },
  {
   "cell_type": "code",
   "execution_count": null,
   "metadata": {},
   "outputs": [],
   "source": [
    "cats.categories # quais categorias foram geradas\n",
    "# fechado a direita = valor a direita incluso. Aberto a esquerda = valor a esquerda nao incluso"
   ]
  },
  {
   "cell_type": "code",
   "execution_count": null,
   "metadata": {},
   "outputs": [],
   "source": [
    "pd.value_counts(cats) # mostra os valores agrupados. Quantas ocorrencias em cada categoria"
   ]
  },
  {
   "cell_type": "code",
   "execution_count": null,
   "metadata": {},
   "outputs": [],
   "source": [
    "grupos = ['Jovem', 'Adulto', 'Meia-Idade', 'Senior']"
   ]
  },
  {
   "cell_type": "code",
   "execution_count": null,
   "metadata": {},
   "outputs": [],
   "source": [
    "pd.cut(idades, bins, labels = grupos)"
   ]
  },
  {
   "source": [
    "## Detecção de Outliers\n"
   ],
   "cell_type": "markdown",
   "metadata": {}
  },
  {
   "cell_type": "code",
   "execution_count": null,
   "metadata": {},
   "outputs": [],
   "source": [
    "data = pd.DataFrame(np.random.randn(1000,4))"
   ]
  },
  {
   "cell_type": "code",
   "execution_count": null,
   "metadata": {},
   "outputs": [],
   "source": [
    "data.describe()"
   ]
  },
  {
   "source": [
    "- procurando valores (em módulo) maiores do que 3, na coluina de índice 2"
   ],
   "cell_type": "markdown",
   "metadata": {}
  },
  {
   "cell_type": "code",
   "execution_count": null,
   "metadata": {},
   "outputs": [],
   "source": [
    "col = data[2]"
   ]
  },
  {
   "cell_type": "code",
   "execution_count": null,
   "metadata": {},
   "outputs": [],
   "source": [
    "col"
   ]
  },
  {
   "cell_type": "code",
   "execution_count": null,
   "metadata": {},
   "outputs": [],
   "source": [
    "col[np.abs(col) > 3] # valores onde possuem valores maiores que 3 naquela coluna"
   ]
  },
  {
   "source": [
    "- Generalizando para o dataset inteiro"
   ],
   "cell_type": "markdown",
   "metadata": {}
  },
  {
   "cell_type": "code",
   "execution_count": null,
   "metadata": {},
   "outputs": [],
   "source": [
    "data[(np.abs(data)>3).any(axis=1)] # as linhas que possuem dados com valor maior que 3"
   ]
  },
  {
   "cell_type": "code",
   "execution_count": null,
   "metadata": {},
   "outputs": [],
   "source": [
    "data[(np.abs(data)>3).any(axis=1)] = np.sign(data) * 3 # substituir tudo que está maior que 3 e menores que -3 com o limte de 3 e -3"
   ]
  },
  {
   "cell_type": "code",
   "execution_count": null,
   "metadata": {},
   "outputs": [],
   "source": [
    "data.describe() # valor máximo está com 3, e mínimo com -3"
   ]
  },
  {
   "source": [
    "## Amostragem"
   ],
   "cell_type": "markdown",
   "metadata": {}
  },
  {
   "cell_type": "code",
   "execution_count": null,
   "metadata": {},
   "outputs": [],
   "source": [
    "df = pd.DataFrame(np.arange(5*4).reshape(5,4))"
   ]
  },
  {
   "cell_type": "code",
   "execution_count": null,
   "metadata": {},
   "outputs": [],
   "source": [
    "df"
   ]
  },
  {
   "cell_type": "code",
   "execution_count": null,
   "metadata": {},
   "outputs": [],
   "source": [
    "df.sample(n=3) # não terei valores repetidos. Sempre que sorteio uma linha, ela nao será sorteada denovo"
   ]
  },
  {
   "cell_type": "code",
   "execution_count": null,
   "metadata": {},
   "outputs": [],
   "source": [
    "df.sample(n=6, replace=True) # aqui tem repetição"
   ]
  },
  {
   "source": [
    "## Consumo de dados via API REST\n",
    "\n",
    "- Nasa API's (api.nasa.gov)\n",
    "    - Consulta de dados\n",
    "    - Vamos utilizar NeoWs - Near Earth Objects\n",
    "    - Conjunto de dados que dizem o nome dos asteróides e as menores distancias que ele já esteve da Terra\n",
    "    - Example query - depois de Neo - Browse\n",
    "    - Authentication: 1000 requisições por hora\n",
    "    - Gerar uma chave de API para identificar quem está fazendo a consulta\n",
    "\n",
    "- Dados Json:\n",
    "```Json\n",
    "[\"valor1\", \"valor2\"] - somente strings com aspas duplas\n",
    "{\"k1\": 1,}\n",
    "1\n",
    "2\n",
    "3\n",
    "\"valor 1\"\n",
    "\"valor 1\"\n",
    "``` "
   ],
   "cell_type": "markdown",
   "metadata": {}
  },
  {
   "cell_type": "code",
   "execution_count": 51,
   "metadata": {},
   "outputs": [],
   "source": [
    "url=\"https://api.nasa.gov/neo/rest/v1/neo/browse?api_key=rsTSh621hbpy9PYSGpOdfvQIsobKdfja2EtMB2HW\""
   ]
  },
  {
   "cell_type": "code",
   "execution_count": 52,
   "metadata": {},
   "outputs": [],
   "source": [
    "import requests"
   ]
  },
  {
   "cell_type": "code",
   "execution_count": 53,
   "metadata": {},
   "outputs": [],
   "source": [
    "resp = requests.get(url)"
   ]
  },
  {
   "cell_type": "code",
   "execution_count": 54,
   "metadata": {},
   "outputs": [],
   "source": [
    "data = resp.json() # retornar o formato da resposta como um json\n",
    "# ja faz onversão para um dicionario do python"
   ]
  },
  {
   "cell_type": "code",
   "execution_count": 55,
   "metadata": {},
   "outputs": [
    {
     "output_type": "execute_result",
     "data": {
      "text/plain": [
       "dict_keys(['links', 'page', 'near_earth_objects'])"
      ]
     },
     "metadata": {},
     "execution_count": 55
    }
   ],
   "source": [
    "data.keys() # vai retornar as chaves\n"
   ]
  },
  {
   "cell_type": "code",
   "execution_count": 56,
   "metadata": {},
   "outputs": [
    {
     "output_type": "execute_result",
     "data": {
      "text/plain": [
       "{'size': 20, 'total_elements': 25979, 'total_pages': 1299, 'number': 0}"
      ]
     },
     "metadata": {},
     "execution_count": 56
    }
   ],
   "source": [
    "data['page']"
   ]
  },
  {
   "cell_type": "code",
   "execution_count": 57,
   "metadata": {},
   "outputs": [
    {
     "output_type": "execute_result",
     "data": {
      "text/plain": [
       "approach_date': '2127-05-24',\n",
       "    'close_approach_date_full': '2127-May-24 21:52',\n",
       "    'epoch_date_close_approach': 4966869120000,\n",
       "    'relative_velocity': {'kilometers_per_second': '5.7506342234',\n",
       "     'kilometers_per_hour': '20702.2832040983',\n",
       "     'miles_per_hour': '12863.5936942354'},\n",
       "    'miss_distance': {'astronomical': '0.0650667019',\n",
       "     'lunar': '25.3109470391',\n",
       "     'kilometers': '9733840.012164953',\n",
       "     'miles': '6048327.7188762314'},\n",
       "    'orbiting_body': 'Earth'},\n",
       "   {'close_approach_date': '2139-05-20',\n",
       "    'close_approach_date_full': '2139-May-20 15:24',\n",
       "    'epoch_date_close_approach': 5345191440000,\n",
       "    'relative_velocity': {'kilometers_per_second': '5.4042162537',\n",
       "     'kilometers_per_hour': '19455.178513355',\n",
       "     'miles_per_hour': '12088.6913379233'},\n",
       "    'miss_distance': {'astronomical': '0.0683516664',\n",
       "     'lunar': '26.5887982296',\n",
       "     'kilometers': '10225263.704390568',\n",
       "     'miles': '6353684.2416551184'},\n",
       "    'orbiting_body': 'Earth'},\n",
       "   {'close_approach_date': '2151-05-10',\n",
       "    'close_approach_date_full': '2151-May-10 11:55',\n",
       "    'epoch_date_close_approach': 5723006100000,\n",
       "    'relative_velocity': {'kilometers_per_second': '6.2679658412',\n",
       "     'kilometers_per_hour': '22564.6770284345',\n",
       "     'miles_per_hour': '14020.8127902514'},\n",
       "    'miss_distance': {'astronomical': '0.148159464',\n",
       "     'lunar': '57.634031496',\n",
       "     'kilometers': '22164340.23474168',\n",
       "     'miles': '13772282.392647984'},\n",
       "    'orbiting_body': 'Earth'},\n",
       "   {'close_approach_date': '2163-04-25',\n",
       "    'close_approach_date_full': '2163-Apr-25 13:36',\n",
       "    'epoch_date_close_approach': 6100407360000,\n",
       "    'relative_velocity': {'kilometers_per_second': '10.0377662274',\n",
       "     'kilometers_per_hour': '36135.9584186879',\n",
       "     'miles_per_hour': '22453.4792741008'},\n",
       "    'miss_distance': {'astronomical': '0.2978484824',\n",
       "     'lunar': '115.8630596536',\n",
       "     'kilometers': '44557498.549772488',\n",
       "     'miles': '27686745.7473688144'},\n",
       "    'orbiting_body': 'Earth'},\n",
       "   {'close_approach_date': '2168-02-03',\n",
       "    'close_approach_date_full': '2168-Feb-03 10:34',\n",
       "    'epoch_date_close_approach': 6251164440000,\n",
       "    'relative_velocity': {'kilometers_per_second': '6.2394377057',\n",
       "     'kilometers_per_hour': '22461.9757404802',\n",
       "     'miles_per_hour': '13956.9982038556'},\n",
       "    'miss_distance': {'astronomical': '0.4867145139',\n",
       "     'lunar': '189.3319459071',\n",
       "     'kilometers': '72811454.577525393',\n",
       "     'miles': '45242939.9314727034'},\n",
       "    'orbiting_body': 'Earth'},\n",
       "   {'close_approach_date': '2175-04-12',\n",
       "    'close_approach_date_full': '2175-Apr-12 16:51',\n",
       "    'epoch_date_close_approach': 6477987060000,\n",
       "    'relative_velocity': {'kilometers_per_second': '14.9806240359',\n",
       "     'kilometers_per_hour': '53930.2465292911',\n",
       "     'miles_per_hour': '33510.1579059365'},\n",
       "    'miss_distance': {'astronomical': '0.4683843325',\n",
       "     'lunar': '182.2015053425',\n",
       "     'kilometers': '70069298.483371775',\n",
       "     'miles': '43539043.145309495'},\n",
       "    'orbiting_body': 'Earth'},\n",
       "   {'close_approach_date': '2175-08-03',\n",
       "    'close_approach_date_full': '2175-Aug-03 19:04',\n",
       "    'epoch_date_close_approach': 6487758240000,\n",
       "    'relative_velocity': {'kilometers_per_second': '4.1854490636',\n",
       "     'kilometers_per_hour': '15067.6166291055',\n",
       "     'miles_per_hour': '9362.4310104573'},\n",
       "    'miss_distance': {'astronomical': '0.4511289169',\n",
       "     'lunar': '175.4891486741',\n",
       "     'kilometers': '67487925.063647003',\n",
       "     'miles': '41935052.0803465214'},\n",
       "    'orbiting_body': 'Earth'},\n",
       "   {'close_approach_date': '2180-02-23',\n",
       "    'close_approach_date_full': '2180-Feb-23 19:42',\n",
       "    'epoch_date_close_approach': 6631616520000,\n",
       "    'relative_velocity': {'kilometers_per_second': '3.671843669',\n",
       "     'kilometers_per_hour': '13218.6372082952',\n",
       "     'miles_per_hour': '8213.547103121'},\n",
       "    'miss_distance': {'astronomical': '0.4035399535',\n",
       "     'lunar': '156.9770419115',\n",
       "     'kilometers': '60368717.503499045',\n",
       "     'miles': '37511381.630795021'},\n",
       "    'orbiting_body': 'Earth'},\n",
       "   {'close_approach_date': '2180-06-16',\n",
       "    'close_approach_date_full': '2180-Jun-16 03:59',\n",
       "    'epoch_date_close_approach': 6641409540000,\n",
       "    'relative_velocity': {'kilometers_per_second': '13.414743744',\n",
       "     'kilometers_per_hour': '48293.077478535',\n",
       "     'miles_per_hour': '30007.4402810375'},\n",
       "    'miss_distance': {'astronomical': '0.366968488',\n",
       "     'lunar': '142.750741832',\n",
       "     'kilometers': '54897704.16192056',\n",
       "     'miles': '34111851.578641328'},\n",
       "    'orbiting_body': 'Earth'},\n",
       "   {'close_approach_date': '2192-06-06',\n",
       "    'close_approach_date_full': '2192-Jun-06 02:00',\n",
       "    'epoch_date_close_approach': 7019229600000,\n",
       "    'relative_velocity': {'kilometers_per_second': '9.0786925305',\n",
       "     'kilometers_per_hour': '32683.2931098996',\n",
       "     'miles_per_hour': '20308.1273215373'},\n",
       "    'miss_distance': {'astronomical': '0.2038450821',\n",
       "     'lunar': '79.2957369369',\n",
       "     'kilometers': '30494790.092135127',\n",
       "     'miles': '18948583.9057416726'},\n",
       "    'orbiting_body': 'Earth'}],\n",
       "  'orbital_data': {'orbit_id': '553',\n",
       "   'orbit_determination_date': '2021-05-19 06:23:14',\n",
       "   'first_observation_date': '1973-03-10',\n",
       "   'last_observation_date': '2021-05-18',\n",
       "   'data_arc_in_days': 17601,\n",
       "   'observations_used': 3768,\n",
       "   'orbit_uncertainty': '0',\n",
       "   'minimum_orbit_intersection': '.0611846',\n",
       "   'jupiter_tisserand_invariant': '4.639',\n",
       "   'epoch_osculation': '2459200.5',\n",
       "   'eccentricity': '.2559038074969538',\n",
       "   'semi_major_axis': '1.430558085296052',\n",
       "   'inclination': '8.705521025403852',\n",
       "   'ascending_node_longitude': '246.3282486154245',\n",
       "   'orbital_period': '624.9664031940811',\n",
       "   'perihelion_distance': '1.06447282442324',\n",
       "   'perihelion_argument': '338.3691838161117',\n",
       "   'aphelion_distance': '1.796643346168864',\n",
       "   'perihelion_time': '2459298.674504985801',\n",
       "   'mean_anomaly': '303.4484452056011',\n",
       "   'mean_motion': '.5760309644808271',\n",
       "   'equinox': 'J2000',\n",
       "   'orbit_class': {'orbit_class_type': 'AMO',\n",
       "    'orbit_class_description': 'Near-Earth asteroid orbits similar to that of 1221 Amor',\n",
       "    'orbit_class_range': '1.017 AU < q (perihelion) < 1.3 AU'}},\n",
       "  'is_sentry_object': False},\n",
       " {'links': {'self': 'http://www.neowsapp.com/rest/v1/neo/2001980?api_key=rsTSh621hbpy9PYSGpOdfvQIsobKdfja2EtMB2HW'},\n",
       "  'id': '2001980',\n",
       "  'neo_reference_id': '2001980',\n",
       "  'name': '1980 Tezcatlipoca (1950 LA)',\n",
       "  'name_limited': 'Tezcatlipoca',\n",
       "  'designation': '1980',\n",
       "  'nasa_jpl_url': 'http://ssd.jpl.nasa.gov/sbdb.cgi?sstr=2001980',\n",
       "  'absolute_magnitude_h': 13.81,\n",
       "  'estimated_diameter': {'kilometers': {'estimated_diameter_min': 4.5978518828,\n",
       "    'estimated_diameter_max': 10.2811093604},\n",
       "   'meters': {'estimated_diameter_min': 4597.8518827937,\n",
       "    'estimated_diameter_max': 10281.1093604022},\n",
       "   'miles': {'estimated_diameter_min': 2.8569718223,\n",
       "    'estimated_diameter_max': 6.3883832044},\n",
       "   'feet': {'estimated_diameter_min': 15084.816371145,\n",
       "    'estimated_diameter_max': 33730.6748339819}},\n",
       "  'is_potentially_hazardous_asteroid': False,\n",
       "  'close_approach_data': [{'close_approach_date': '1921-07-08',\n",
       "    'close_approach_date_full': '1921-Jul-08 00:32',\n",
       "    'epoch_date_close_approach': -1530055680000,\n",
       "    'relative_velocity': {'kilometers_per_second': '12.9006029055',\n",
       "     'kilometers_per_hour': '46442.1704598637',\n",
       "     'miles_per_hour': '28857.3586393525'},\n",
       "    'miss_distance': {'astronomical': '0.4790089051',\n",
       "     'lunar': '186.3344640839',\n",
       "     'kilometers': '71658711.913992137',\n",
       "     'miles': '44526658.8547480106'},\n",
       "    'orbiting_body': 'Earth'},\n",
       "   {'close_approach_date': '1921-11-16',\n",
       "    'close_approach_date_full': '1921-Nov-16 02:26',\n",
       "    'epoch_date_close_approach': -1518730440000,\n",
       "    'relative_velocity': {'kilometers_per_second': '16.7529353996',\n",
       "     'kilometers_per_hour': '60310.5674385053',\n",
       "     'miles_per_hour': '37474.6411953312'},\n",
       "    'miss_distance': {'astronomical': '0.2701654864',\n",
       "     'lunar': '105.0943742096',\n",
       "     'kilometers': '40416181.312953968',\n",
       "     'miles': '25113450.5416940384'},\n",
       "    'orbiting_body': 'Earth'},\n",
       "   {'close_approach_date': '1930-11-17',\n",
       "    'close_approach_date_full': '1930-Nov-17 10:44',\n",
       "    'epoch_date_close_approach': -1234617360000,\n",
       "    'relative_velocity': {'kilometers_per_second': '13.8569947527',\n",
       "     'kilometers_per_hour': '49885.1811098212',\n",
       "     'miles_per_hour': '30996.7115623775'},\n",
       "    'miss_distance': {'astronomical': '0.3391659028',\n",
       "     'lunar': '131.9355361892',\n",
       "     'kilometers': '50738496.635507036',\n",
       "     'miles': '31527439.8624916568'},\n",
       "    'orbiting_body': 'Earth'},\n",
       "   {'close_approach_date': '1959-07-08',\n",
       "    'close_approach_date_full': '1959-Jul-08 17:04',\n",
       "    'epoch_date_close_approach': -330850560000,\n",
       "    'relative_velocity': {'kilometers_per_second': '12.8672038368',\n",
       "     'kilometers_per_hour': '46321.9338125239',\n",
       "     'miles_per_hour': '28782.6482625652'},\n",
       "    'miss_distance': {'astronomical': '0.4819694837',\n",
       "     'lunar': '187.4861291593',\n",
       "     'kilometers': '72101608.166519719',\n",
       "     'miles': '44801861.8247373622'},\n",
       "    'orbiting_body': 'Earth'},\n",
       "   {'close_approach_date': '1959-11-16',\n",
       "    'close_approach_date_full': '1959-Nov-16 16:37',\n",
       "    'epoch_date_close_approach': -319533780000,\n",
       "    'relative_velocity': {'kilometers_per_second': '16.8143110753',\n",
       "     'kilometers_per_hour': '60531.5198712089',\n",
       "     'miles_per_hour': '37611.9324444187'},\n",
       "    'miss_distance': {'astronomical': '0.2726656843',\n",
       "     'lunar': '106.0669511927',\n",
       "     'kilometers': '40790205.593372441',\n",
       "     'miles': '25345858.4526480458'},\n",
       "    'orbiting_body': 'Earth'},\n",
       "   {'close_approach_date': '1968-11-16',\n",
       "    'close_approach_date_full': '1968-Nov-16 22:23',\n",
       "    'epoch_date_close_approach': -35429820000,\n",
       "    'relative_velocity': {'kilometers_per_second': '13.8743396302',\n",
       "     'kilometers_per_hour': '49947.6226686444',\n",
       "     'miles_per_hour': '31035.5103187474'},\n",
       "    'miss_distance': {'astronomical': '0.3369656757',\n",
       "     'lunar': '131.0796478473',\n",
       "     'kilometers': '50409347.347830759',\n",
       "     'miles': '31322915.9790281142'},\n",
       "    'orbiting_body': 'Earth'},\n",
       "   {'close_approach_date': '1997-07-08',\n",
       "    'close_approach_date_full': '1997-Jul-08 05:19',\n",
       "    'epoch_date_close_approach': 868339140000,\n",
       "    'relative_velocity': {'kilometers_per_second': '12.8440002892',\n",
       "     'kilometers_per_hour': '46238.4010412266',\n",
       "     'miles_per_hour': '28730.7442469777'},\n",
       "    'miss_distance': {'astronomical': '0.4838779431',\n",
       "     'lunar': '188.2285198659',\n",
       "     'kilometers': '72387109.627741197',\n",
       "     'miles': '44979264.2064826386'},\n",
       "    'orbiting_body': 'Earth'},\n",
       "   {'close_approach_date': '1997-11-16',\n",
       "    'close_approach_date_full': '1997-Nov-16 07:56',\n",
       "    'epoch_date_close_approach': 879666960000,\n",
       "    'relative_velocity': {'kilometers_per_second': '16.8865767896',\n",
       "     'kilometers_per_hour': '60791.6764426694',\n",
       "     'miles_per_hour': '37773.5836207242'},\n",
       "    'miss_distance': {'astronomical': '0.2742866588',\n",
       "     'lunar': '106.6975102732',\n",
       "     'kilometers': '41032699.925896756',\n",
       "     'miles': '25496537.4438009928'},\n",
       "    'orbiting_body': 'Earth'},\n",
       "   {'close_approach_date': '2006-11-17',\n",
       "    'close_approach_date_full': '2006-Nov-17 07:34',\n",
       "    'epoch_date_close_approach': 1163748840000,\n",
       "    'relative_velocity': {'kilometers_per_second': '13.9179423553',\n",
       "     'kilometers_per_hour': '50104.5924792582',\n",
       "     'miles_per_hour': '31133.0452546813'},\n",
       "    'miss_distance': {'astronomical': '0.3304057411',\n",
       "     'lunar': '128.5278332879',\n",
       "     'kilometers': '49427995.104331457',\n",
       "     'miles': '30713131.9709778266'},\n",
       "    'orbiting_body': 'Earth'},\n",
       "   {'close_approach_date': '2035-07-08',\n",
       "    'close_approach_date_full': '2035-Jul-08 15:27',\n",
       "    'epoch_date_close_approach': 2067521220000,\n",
       "    'relative_velocity': {'kilometers_per_second': '12.8046673382',\n",
       "     'kilometers_per_hour': '46096.8024175625',\n",
       "     'miles_per_hour': '28642.760368846'},\n",
       "    'miss_distance': {'astronomical': '0.4869480746',\n",
       "     'lunar': '189.4228010194',\n",
       "     'kilometers': '72846394.760761102',\n",
       "     'miles': '45264650.7545911276'},\n",
       "    'orbiting_body': 'Earth'},\n",
       "   {'close_approach_date': '2035-11-17',\n",
       "    'close_approach_date_full': '2035-Nov-17 00:45',\n",
       "    'epoch_date_close_approach': 2078873100000,\n",
       "    'relative_velocity': {'kilometers_per_second': '17.0299235491',\n",
       "     'kilometers_per_hour': '61307.7247767222',\n",
       "     'miles_per_hour': '38094.2359869583'},\n",
       "    'miss_distance': {'astronomical': '0.2784577155',\n",
       "     'lunar': '108.3200513295',\n",
       "     'kilometers': '41656681.123865985',\n",
       "     'miles': '25884261.381221193'},\n",
       "    'orbiting_body': 'Earth'},\n",
       "   {'close_approach_date': '2044-11-16',\n",
       "    'close_approach_date_full': '2044-Nov-16 18:05',\n",
       "    'epoch_date_close_approach': 2362932300000,\n",
       "    'relative_velocity': {'kilometers_per_second': '13.948711132',\n",
       "     'kilometers_per_hour': '50215.3600750474',\n",
       "     'miles_per_hour': '31201.871931076'},\n",
       "    'miss_distance': {'astronomical': '0.3259072538',\n",
       "     'lunar': '126.7779217282',\n",
       "     'kilometers': '48755030.986029406',\n",
       "     'miles': '30294971.4582255628'},\n",
       "    'orbiting_body': 'Earth'},\n",
       "   {'close_approach_date': '2073-07-08',\n",
       "    'close_approach_date_full': '2073-Jul-08 02:32',\n",
       "    'epoch_date_close_approach': 3266706720000,\n",
       "    'relative_velocity': {'kilometers_per_second': '12.775729918',\n",
       "     'kilometers_per_hour': '45992.6277047291',\n",
       "     'miles_per_hour': '28578.0302535301'},\n",
       "    'miss_distance': {'astronomical': '0.4895920114',\n",
       "     'lunar': '190.4512924346',\n",
       "     'kilometers': '73241922.074455718',\n",
       "     'miles': '45510420.0308481884'},\n",
       "    'orbiting_body': 'Earth'},\n",
       "   {'close_approach_date': '2073-11-16',\n",
       "    'close_approach_date_full': '2073-Nov-16 16:09',\n",
       "    'epoch_date_close_approach': 3278074140000,\n",
       "    'relative_velocity': {'kilometers_per_second': '17.1490922652',\n",
       "     'kilometers_per_hour': '61736.7321546185',\n",
       "     'miles_per_hour': '38360.8044879628'},\n",
       "    'miss_distance': {'astronomical': '0.2828993519',\n",
       "     'lunar': '110.0478478891',\n",
       "     'kilometers': '42321140.468620453',\n",
       "     'miles': '26297137.2727421314'},\n",
       "    'orbiting_body': 'Earth'},\n",
       "   {'close_approach_date': '2082-11-17',\n",
       "    'close_approach_date_full': '2082-Nov-17 03:15',\n",
       "    'epoch_date_close_approach': 3562110900000,\n",
       "    'relative_velocity': {'kilometers_per_second': '13.9996667847',\n",
       "     'kilometers_per_hour': '50398.8004247422',\n",
       "     'miles_per_hour': '31315.8546305849'},\n",
       "    'miss_distance': {'astronomical': '0.3182762118',\n",
       "     'lunar': '123.8094463902',\n",
       "     'kilometers': '47613443.356948866',\n",
       "     'miles': '29585621.7984957108'},\n",
       "    'orbiting_body': 'Earth'},\n",
       "   {'close_approach_date': '2111-07-09',\n",
       "    'close_approach_date_full': '2111-Jul-09 07:57',\n",
       "    'epoch_date_close_approach': 4465871820000,\n",
       "    'relative_velocity': {'kilometers_per_second': '12.7465202154',\n",
       "     'kilometers_per_hour': '45887.4727752672',\n",
       "     'miles_per_hour': '28512.6910697209'},\n",
       "    'miss_distance': {'astronomical': '0.4926367862',\n",
       "     'lunar': '191.6357098318',\n",
       "     'kilometers': '73697413.899165394',\n",
       "     'miles': '45793449.5264706772'},\n",
       "    'orbiting_body': 'Earth'},\n",
       "   {'close_approach_date': '2111-11-18',\n",
       "    'close_approach_date_full': '2111-Nov-18 10:05',\n",
       "    'epoch_date_close_approach': 4477284300000,\n",
       "    'relative_velocity': {'kilometers_per_second': '17.3358658209',\n",
       "     'kilometers_per_hour': '62409.1169552594',\n",
       "     'miles_per_hour': '38778.5982547833'},\n",
       "    'miss_distance': {'astronomical': '0.2881641343',\n",
       "     'lunar': '112.0958482427',\n",
       "     'kilometers': '43108740.701673941',\n",
       "     'miles': '26786529.3641487458'},\n",
       "    'orbiting_body': 'Earth'},\n",
       "   {'close_approach_date': '2120-11-17',\n",
       "    'close_approach_date_full': '2120-Nov-17 12:34',\n",
       "    'epoch_date_close_approach': 4761290040000,\n",
       "    'relative_velocity': {'kilometers_per_second': '14.0535045083',\n",
       "     'kilometers_per_hour': '50592.616229952',\n",
       "     'miles_per_hour': '31436.284234661'},\n",
       "    'miss_distance': {'astronomical': '0.3109060123',\n",
       "     'lunar': '120.9424387847',\n",
       "     'kilometers': '46510877.210273801',\n",
       "     'miles': '28900518.9635924138'},\n",
       "    'orbiting_body': 'Earth'},\n",
       "   {'close_approach_date': '2149-07-08',\n",
       "    'close_approach_date_full': '2149-Jul-08 14:56',\n",
       "    'epoch_date_close_approach': 5665042560000,\n",
       "    'relative_velocity': {'kilometers_per_second': '12.7121029624',\n",
       "     'kilometers_per_hour': '45763.5706646231',\n",
       "     'miles_per_hour': '28435.703116582'},\n",
       "    'miss_distance': {'astronomical': '0.4966513269',\n",
       "     'lunar': '193.1973661641',\n",
       "     'kilometers': '74297980.636913703',\n",
       "     'miles': '46166624.3929589814'},\n",
       "    'orbiting_body': 'Earth'},\n",
       "   {'close_approach_date': '2149-11-18',\n",
       "    'close_approach_date_full': '2149-Nov-18 03:26',\n",
       "    'epoch_date_close_approach': 5676492360000,\n",
       "    'relative_velocity': {'kilometers_per_second': '17.5471606595',\n",
       "     'kilometers_per_hour': '63169.7783742778',\n",
       "     'miles_per_hour': '39251.2436792839'},\n",
       "    'miss_distance': {'astronomical': '0.2969568722',\n",
       "     'lunar': '115.5162232858',\n",
       "     'kilometers': '44424115.562982214',\n",
       "     'miles': '27603865.4025899932'},\n",
       "    'orbiting_body': 'Earth'},\n",
       "   {'close_approach_date': '2158-11-17',\n",
       "    'close_approach_date_full': '2158-Nov-17 21:28',\n",
       "    'epoch_date_close_approach': 5960467680000,\n",
       "    'relative_velocity': {'kilometers_per_second': '14.1153605186',\n",
       "     'kilometers_per_hour': '50815.2978670824',\n",
       "     'miles_per_hour': '31574.6499441324'},\n",
       "    'miss_distance': {'astronomical': '0.3029140008',\n",
       "     'lunar': '117.8335463112',\n",
       "     'kilometers': '45315289.312858296',\n",
       "     'miles': '28157615.0930486448'},\n",
       "    'orbiting_body': 'Earth'},\n",
       "   {'close_approach_date': '2187-07-08',\n",
       "    'close_approach_date_full': '2187-Jul-08 20:39',\n",
       "    'epoch_date_close_approach': 6864208740000,\n",
       "    'relative_velocity': {'kilometers_per_second': '12.6971431094',\n",
       "     'kilometers_per_hour': '45709.7151938285',\n",
       "     'miles_per_hour': '28402.2394214097'},\n",
       "    'miss_distance': {'astronomical': '0.4995149233',\n",
       "     'lunar': '194.3113051637',\n",
       "     'kilometers': '74726368.558893371',\n",
       "     'miles': '46432812.3043796798'},\n",
       "    'orbiting_body': 'Earth'},\n",
       "   {'close_approach_date': '2187-11-18',\n",
       "    'close_approach_date_full': '2187-Nov-18 21:15',\n",
       "    'epoch_date_close_approach': 6875702100000,\n",
       "    'relative_velocity': {'kilometers_per_second': '17.7225627277',\n",
       "     'kilometers_per_hour': '63801.2258197758',\n",
       "     'miles_per_hour': '39643.6005656268'},\n",
       "    'miss_distance': {'astronomical': '0.3028491637',\n",
       "     'lunar': '117.8083246793',\n",
       "     'kilometers': '45305589.820801319',\n",
       "     'miles': '28151588.1081594422'},\n",
       "    'orbiting_body': 'Earth'},\n",
       "   {'close_approach_date': '2196-11-17',\n",
       "    'close_approach_date_full': '2196-Nov-17 06:40',\n",
       "    'epoch_date_close_approach': 7159646400000,\n",
       "    'relative_velocity': {'kilometers_per_second': '14.1957539142',\n",
       "     'kilometers_per_hour': '51104.714091129',\n",
       "     'miles_per_hour': '31754.4819306796'},\n",
       "    'miss_distance': {'astronomical': '0.2941986989',\n",
       "     'lunar': '114.4432938721',\n",
       "     'kilometers': '44011498.712211343',\n",
       "     'miles': '27347477.1804008134'},\n",
       "    'orbiting_body': 'Earth'}],\n",
       "  'orbital_data': {'orbit_id': '569',\n",
       "   'orbit_determination_date': '2021-05-22 05:50:59',\n",
       "   'first_observation_date': '1950-06-19',\n",
       "   'last_observation_date': '2021-05-21',\n",
       "   'data_arc_in_days': 25904,\n",
       "   'observations_used': 3676,\n",
       "   'orbit_uncertainty': '0',\n",
       "   'minimum_orbit_intersection': '.245238',\n",
       "   'jupiter_tisserand_invariant': '3.996',\n",
       "   'epoch_osculation': '2459200.5',\n",
       "   'eccentricity': '.3646327096541181',\n",
       "   'semi_major_axis': '1.709606148906738',\n",
       "   'inclination': '26.8661492430689',\n",
       "   'ascending_node_longitude': '246.5682163273341',\n",
       "   'orbital_period': '816.4743273528758',\n",
       "   'perihelion_distance': '1.086227826389532',\n",
       "   'perihelion_argument': '115.4512302440383',\n",
       "   'aphelion_distance': '2.332984471423944',\n",
       "   'perihelion_time': '2458888.034594338803',\n",
       "   'mean_anomaly': '137.7723000828837',\n",
       "   'mean_motion': '.4409201709589209',\n",
       "   'equinox': 'J2000',\n",
       "   'orbit_class': {'orbit_class_type': 'AMO',\n",
       "    'orbit_class_description': 'Near-Earth asteroid orbits similar to that of 1221 Amor',\n",
       "    'orbit_class_range': '1.017 AU < q (perihelion) < 1.3 AU'}},\n",
       "  'is_sentry_object': False}]"
      ]
     },
     "metadata": {},
     "execution_count": 57
    }
   ],
   "source": [
    "data['near_earth_objects'] # virá o conjunto de todos os asteroides"
   ]
  },
  {
   "cell_type": "code",
   "execution_count": 58,
   "metadata": {},
   "outputs": [
    {
     "output_type": "execute_result",
     "data": {
      "text/plain": [
       "'433 Eros (A898 PA)'"
      ]
     },
     "metadata": {},
     "execution_count": 58
    }
   ],
   "source": [
    "data['near_earth_objects'][0]['name'] # para saber o nome do asteroide no indice"
   ]
  },
  {
   "cell_type": "code",
   "execution_count": 59,
   "metadata": {},
   "outputs": [],
   "source": [
    "asteroids = {\"id\": [], \"nome\": [], \"perigoso\": [], \"diametro_min\": [], \"diametro_max\": [], \"primeira_obs\": [], \"ultima_obs\": []} \n",
    "# dict para criar dataset no pandas"
   ]
  },
  {
   "cell_type": "code",
   "execution_count": 60,
   "metadata": {},
   "outputs": [],
   "source": [
    "for asteroid in data['near_earth_objects']:\n",
    "    asteroids['id'].append(asteroid['id'])\n",
    "    asteroids['nome'].append(asteroid['name'])\n",
    "    asteroids['perigoso'].append(asteroid['is_potentially_hazardous_asteroid'])\n",
    "    asteroids['diametro_min'].append(asteroid['estimated_diameter']['kilometers']['estimated_diameter_min'])\n",
    "    asteroids['diametro_max'].append(asteroid['estimated_diameter']['kilometers']['estimated_diameter_max'])\n",
    "    asteroids['primeira_obs'].append(asteroid['orbital_data']['first_observation_date'])\n",
    "    asteroids['ultima_obs'].append(asteroid['orbital_data']['last_observation_date'])"
   ]
  },
  {
   "cell_type": "code",
   "execution_count": 61,
   "metadata": {},
   "outputs": [
    {
     "output_type": "execute_result",
     "data": {
      "text/plain": [
       "{'id': ['2000433',\n",
       "  '2000719',\n",
       "  '2000887',\n",
       "  '2001036',\n",
       "  '2001221',\n",
       "  '2001566',\n",
       "  '2001580',\n",
       "  '2001620',\n",
       "  '2001627',\n",
       "  '2001685',\n",
       "  '2001862',\n",
       "  '2001863',\n",
       "  '2001864',\n",
       "  '2001865',\n",
       "  '2001866',\n",
       "  '2001915',\n",
       "  '2001916',\n",
       "  '2001917',\n",
       "  '2001943',\n",
       "  '2001980'],\n",
       " 'nome': ['433 Eros (A898 PA)',\n",
       "  '719 Albert (A911 TB)',\n",
       "  '887 Alinda (A918 AA)',\n",
       "  '1036 Ganymed (A924 UB)',\n",
       "  '1221 Amor (1932 EA1)',\n",
       "  '1566 Icarus (1949 MA)',\n",
       "  '1580 Betulia (1950 KA)',\n",
       "  '1620 Geographos (1951 RA)',\n",
       "  '1627 Ivar (1929 SH)',\n",
       "  '1685 Toro (1948 OA)',\n",
       "  '1862 Apollo (1932 HA)',\n",
       "  '1863 Antinous (1948 EA)',\n",
       "  '1864 Daedalus (1971 FA)',\n",
       "  '1865 Cerberus (1971 UA)',\n",
       "  '1866 Sisyphus (1972 XA)',\n",
       "  '1915 Quetzalcoatl (1953 EA)',\n",
       "  '1916 Boreas (1953 RA)',\n",
       "  '1917 Cuyo (1968 AA)',\n",
       "  '1943 Anteros (1973 EC)',\n",
       "  '1980 Tezcatlipoca (1950 LA)'],\n",
       " 'perigoso': [False,\n",
       "  False,\n",
       "  False,\n",
       "  False,\n",
       "  False,\n",
       "  True,\n",
       "  False,\n",
       "  True,\n",
       "  False,\n",
       "  False,\n",
       "  True,\n",
       "  False,\n",
       "  False,\n",
       "  False,\n",
       "  False,\n",
       "  False,\n",
       "  False,\n",
       "  False,\n",
       "  False,\n",
       "  False],\n",
       " 'diametro_min': [21.905591097,\n",
       "  2.1016237932,\n",
       "  4.53476699,\n",
       "  37.5452479361,\n",
       "  0.8842090927,\n",
       "  1.4340192346,\n",
       "  3.0658787593,\n",
       "  2.3150212221,\n",
       "  7.7723970203,\n",
       "  3.618719966,\n",
       "  1.5942446807,\n",
       "  2.2108281036,\n",
       "  3.0238133257,\n",
       "  1.1982708007,\n",
       "  8.6408203645,\n",
       "  0.4271249851,\n",
       "  2.821986791,\n",
       "  3.6354232184,\n",
       "  1.9794975866,\n",
       "  4.5978518828],\n",
       " 'diametro_max': [48.9823907803,\n",
       "  4.6993736648,\n",
       "  10.1400472517,\n",
       "  83.9537266171,\n",
       "  1.9771516375,\n",
       "  3.2065644897,\n",
       "  6.8555133165,\n",
       "  5.176544822,\n",
       "  17.3796080855,\n",
       "  8.0917038355,\n",
       "  3.5648394788,\n",
       "  4.9435619262,\n",
       "  6.7614521476,\n",
       "  2.6794149658,\n",
       "  19.3214617164,\n",
       "  0.9550805015,\n",
       "  6.3101542964,\n",
       "  8.1290534434,\n",
       "  4.426291165,\n",
       "  10.2811093604],\n",
       " 'primeira_obs': ['1893-10-29',\n",
       "  '1911-10-04',\n",
       "  '1918-02-03',\n",
       "  '1924-10-23',\n",
       "  '1932-03-12',\n",
       "  '1949-07-01',\n",
       "  '1950-05-22',\n",
       "  '1951-09-14',\n",
       "  '1929-09-25',\n",
       "  '1948-07-17',\n",
       "  '1930-12-13',\n",
       "  '1948-03-05',\n",
       "  '1971-03-24',\n",
       "  '1971-10-26',\n",
       "  '1955-01-26',\n",
       "  '1953-03-09',\n",
       "  '1953-09-01',\n",
       "  '1954-05-06',\n",
       "  '1973-03-10',\n",
       "  '1950-06-19'],\n",
       " 'ultima_obs': ['2020-09-03',\n",
       "  '2021-04-17',\n",
       "  '2021-05-18',\n",
       "  '2021-05-20',\n",
       "  '2020-09-14',\n",
       "  '2020-09-08',\n",
       "  '2021-03-23',\n",
       "  '2020-04-17',\n",
       "  '2020-06-22',\n",
       "  '2021-05-16',\n",
       "  '2021-05-14',\n",
       "  '2021-01-16',\n",
       "  '2021-04-10',\n",
       "  '2021-01-12',\n",
       "  '2021-05-21',\n",
       "  '2004-10-09',\n",
       "  '2021-05-13',\n",
       "  '2020-09-26',\n",
       "  '2021-05-18',\n",
       "  '2021-05-21']}"
      ]
     },
     "metadata": {},
     "execution_count": 61
    }
   ],
   "source": [
    "asteroids # retornará os dados "
   ]
  },
  {
   "cell_type": "code",
   "execution_count": 62,
   "metadata": {},
   "outputs": [],
   "source": [
    "asteroids_data = pd.DataFrame(asteroids, index=asteroids[\"id\"], columns=['nome', 'primeira_obs', 'ultima_obs', 'diametro_min', 'diametro_max', 'perigoso'])\n",
    "\n",
    "#pode dar erro de tamanho, verificar duas sessos acima se rodou mais de 1 vez"
   ]
  },
  {
   "cell_type": "code",
   "execution_count": 63,
   "metadata": {},
   "outputs": [
    {
     "output_type": "stream",
     "name": "stdout",
     "text": [
      "<class 'pandas.core.frame.DataFrame'>\nIndex: 20 entries, 2000433 to 2001980\nData columns (total 6 columns):\n #   Column        Non-Null Count  Dtype  \n---  ------        --------------  -----  \n 0   nome          20 non-null     object \n 1   primeira_obs  20 non-null     object \n 2   ultima_obs    20 non-null     object \n 3   diametro_min  20 non-null     float64\n 4   diametro_max  20 non-null     float64\n 5   perigoso      20 non-null     bool   \ndtypes: bool(1), float64(2), object(3)\nmemory usage: 980.0+ bytes\n"
     ]
    }
   ],
   "source": [
    "asteroids_data.info()"
   ]
  },
  {
   "cell_type": "code",
   "execution_count": 64,
   "metadata": {},
   "outputs": [
    {
     "output_type": "execute_result",
     "data": {
      "text/plain": [
       "count        20\n",
       "unique        2\n",
       "top       False\n",
       "freq         17\n",
       "Name: perigoso, dtype: object"
      ]
     },
     "metadata": {},
     "execution_count": 64
    }
   ],
   "source": [
    "asteroids_data['perigoso'].describe()"
   ]
  },
  {
   "cell_type": "code",
   "execution_count": null,
   "metadata": {},
   "outputs": [],
   "source": []
  }
 ]
}