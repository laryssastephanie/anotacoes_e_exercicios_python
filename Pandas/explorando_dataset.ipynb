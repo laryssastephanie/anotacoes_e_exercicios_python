{
 "metadata": {
  "language_info": {
   "codemirror_mode": {
    "name": "ipython",
    "version": 3
   },
   "file_extension": ".py",
   "mimetype": "text/x-python",
   "name": "python",
   "nbconvert_exporter": "python",
   "pygments_lexer": "ipython3",
   "version": 3
  },
  "orig_nbformat": 2
 },
 "nbformat": 4,
 "nbformat_minor": 2,
 "cells": [
  {
   "cell_type": "code",
   "execution_count": null,
   "metadata": {},
   "outputs": [],
   "source": [
    "filmes_data = pd.read_csv(\"local onde esta o arquivo csv = /tmp/imdb...\") # vai dar um warning - não precisa se preocupar agora"
   ]
  },
  {
   "cell_type": "code",
   "execution_count": null,
   "metadata": {},
   "outputs": [],
   "source": [
    "filmes_data # retorna os dados relacionados aos filmes"
   ]
  },
  {
   "cell_type": "code",
   "execution_count": null,
   "metadata": {},
   "outputs": [],
   "source": [
    "filmes_data.index # 85855 indices, 22 colunas"
   ]
  },
  {
   "cell_type": "code",
   "execution_count": null,
   "metadata": {},
   "outputs": [],
   "source": [
    "filmes_data = pd.read_csv(\"local onde esta o arquivo csv = /tmp/imdb...\", index_col=\"title\") # vai retornar os indices com os nomes dos filmes "
   ]
  },
  {
   "cell_type": "code",
   "execution_count": null,
   "metadata": {},
   "outputs": [],
   "source": [
    "# a primeira linha é um cabeçalho\n",
    "filmes_data.columns"
   ]
  },
  {
   "cell_type": "code",
   "execution_count": null,
   "metadata": {},
   "outputs": [],
   "source": [
    "# header=False : para dizer que meu csv nao tem cabeçalho"
   ]
  },
  {
   "cell_type": "code",
   "execution_count": null,
   "metadata": {},
   "outputs": [],
   "source": [
    "filmes_data.head() # para mostrar as 5 primeiras linhas"
   ]
  },
  {
   "cell_type": "code",
   "execution_count": null,
   "metadata": {},
   "outputs": [],
   "source": [
    "filmes_data.info() # diz o numero de valores não-nulos, tipo do objeto\n",
    "#o warning anterior dizia que a coluna 3 tem tipos misturados. A coluna 3 é ano, entao provavelmente tem algum erro no dataset que impede que o ano seja mostrado como tipo inteiro"
   ]
  },
  {
   "cell_type": "code",
   "execution_count": null,
   "metadata": {},
   "outputs": [],
   "source": [
    "filmes_data.shape"
   ]
  },
  {
   "cell_type": "code",
   "execution_count": null,
   "metadata": {},
   "outputs": [],
   "source": [
    "filmes_data.isnull().sum(axis=0) # mostra quantos valores nulos existem nas colunas, dirigido por linhas"
   ]
  },
  {
   "cell_type": "code",
   "execution_count": null,
   "metadata": {},
   "outputs": [],
   "source": [
    "filmes_data.isnull().sum(axis=1) # mostra quantos valores nulos existem nas linhas, dirigido por colunas"
   ]
  },
  {
   "cell_type": "code",
   "execution_count": null,
   "metadata": {},
   "outputs": [],
   "source": [
    "filmes.data.describe() # sumario estatístico. Sem especificar nada, pega os valores numericos apenas"
   ]
  },
  {
   "cell_type": "code",
   "execution_count": null,
   "metadata": {},
   "outputs": [],
   "source": [
    "filmes_data['genre'].describe() # para especificar um tipo"
   ]
  },
  {
   "cell_type": "code",
   "execution_count": null,
   "metadata": {},
   "outputs": [],
   "source": [
    "filmes_data['director'].value_counts() # vai dizer qual o valor (diretor, no caso) e a contagem (quantas vezes ele aparece)"
   ]
  }
 ]
}