{
 "metadata": {
  "language_info": {
   "codemirror_mode": {
    "name": "ipython",
    "version": 3
   },
   "file_extension": ".py",
   "mimetype": "text/x-python",
   "name": "python",
   "nbconvert_exporter": "python",
   "pygments_lexer": "ipython3",
   "version": "3.8.5"
  },
  "orig_nbformat": 2,
  "kernelspec": {
   "name": "python3",
   "display_name": "Python 3",
   "language": "python"
  }
 },
 "nbformat": 4,
 "nbformat_minor": 2,
 "cells": [
  {
   "cell_type": "code",
   "execution_count": 10,
   "metadata": {},
   "outputs": [],
   "source": [
    "import pandas as pd\n",
    "import numpy as np"
   ]
  },
  {
   "cell_type": "code",
   "execution_count": 11,
   "metadata": {},
   "outputs": [],
   "source": [
    "filmes = pd.read_csv(\"movies.csv\", sep=\"|\", header=None)"
   ]
  },
  {
   "cell_type": "code",
   "execution_count": 12,
   "metadata": {},
   "outputs": [],
   "source": [
    "filmes.columns = [\"filmeID\", \"titulos\", \"lançamento\", \"estreia\", \"IMDb URL\", \"unknown\", \"action\", \"adventure\", \"animation\", \"children\", \"comedy\", \"crime\", \"documentary\", \"drama\", \"fantasy\", \"film-noir\", \"horror\", \"musical\", \"mystery\", \"romance\", \"sci-fi\", \"thriller\", \"war\", \"western\"]\n",
    "filmes = filmes.set_index(\"filmeID\")"
   ]
  },
  {
   "cell_type": "code",
   "execution_count": 13,
   "metadata": {},
   "outputs": [
    {
     "output_type": "execute_result",
     "data": {
      "text/plain": [
       "                   titulos   lançamento  estreia  \\\n",
       "filmeID                                            \n",
       "1         Toy Story (1995)  01-Jan-1995      NaN   \n",
       "2         GoldenEye (1995)  01-Jan-1995      NaN   \n",
       "3        Four Rooms (1995)  01-Jan-1995      NaN   \n",
       "4        Get Shorty (1995)  01-Jan-1995      NaN   \n",
       "5           Copycat (1995)  01-Jan-1995      NaN   \n",
       "\n",
       "                                                  IMDb URL  unknown  action  \\\n",
       "filmeID                                                                       \n",
       "1        http://us.imdb.com/M/title-exact?Toy%20Story%2...        0       0   \n",
       "2        http://us.imdb.com/M/title-exact?GoldenEye%20(...        0       1   \n",
       "3        http://us.imdb.com/M/title-exact?Four%20Rooms%...        0       0   \n",
       "4        http://us.imdb.com/M/title-exact?Get%20Shorty%...        0       1   \n",
       "5        http://us.imdb.com/M/title-exact?Copycat%20(1995)        0       0   \n",
       "\n",
       "         adventure  animation  children  comedy  ...  fantasy  film-noir  \\\n",
       "filmeID                                          ...                       \n",
       "1                0          1         1       1  ...        0          0   \n",
       "2                1          0         0       0  ...        0          0   \n",
       "3                0          0         0       0  ...        0          0   \n",
       "4                0          0         0       1  ...        0          0   \n",
       "5                0          0         0       0  ...        0          0   \n",
       "\n",
       "         horror  musical  mystery  romance  sci-fi  thriller  war  western  \n",
       "filmeID                                                                     \n",
       "1             0        0        0        0       0         0    0        0  \n",
       "2             0        0        0        0       0         1    0        0  \n",
       "3             0        0        0        0       0         1    0        0  \n",
       "4             0        0        0        0       0         0    0        0  \n",
       "5             0        0        0        0       0         1    0        0  \n",
       "\n",
       "[5 rows x 23 columns]"
      ],
      "text/html": "<div>\n<style scoped>\n    .dataframe tbody tr th:only-of-type {\n        vertical-align: middle;\n    }\n\n    .dataframe tbody tr th {\n        vertical-align: top;\n    }\n\n    .dataframe thead th {\n        text-align: right;\n    }\n</style>\n<table border=\"1\" class=\"dataframe\">\n  <thead>\n    <tr style=\"text-align: right;\">\n      <th></th>\n      <th>titulos</th>\n      <th>lançamento</th>\n      <th>estreia</th>\n      <th>IMDb URL</th>\n      <th>unknown</th>\n      <th>action</th>\n      <th>adventure</th>\n      <th>animation</th>\n      <th>children</th>\n      <th>comedy</th>\n      <th>...</th>\n      <th>fantasy</th>\n      <th>film-noir</th>\n      <th>horror</th>\n      <th>musical</th>\n      <th>mystery</th>\n      <th>romance</th>\n      <th>sci-fi</th>\n      <th>thriller</th>\n      <th>war</th>\n      <th>western</th>\n    </tr>\n    <tr>\n      <th>filmeID</th>\n      <th></th>\n      <th></th>\n      <th></th>\n      <th></th>\n      <th></th>\n      <th></th>\n      <th></th>\n      <th></th>\n      <th></th>\n      <th></th>\n      <th></th>\n      <th></th>\n      <th></th>\n      <th></th>\n      <th></th>\n      <th></th>\n      <th></th>\n      <th></th>\n      <th></th>\n      <th></th>\n      <th></th>\n    </tr>\n  </thead>\n  <tbody>\n    <tr>\n      <th>1</th>\n      <td>Toy Story (1995)</td>\n      <td>01-Jan-1995</td>\n      <td>NaN</td>\n      <td>http://us.imdb.com/M/title-exact?Toy%20Story%2...</td>\n      <td>0</td>\n      <td>0</td>\n      <td>0</td>\n      <td>1</td>\n      <td>1</td>\n      <td>1</td>\n      <td>...</td>\n      <td>0</td>\n      <td>0</td>\n      <td>0</td>\n      <td>0</td>\n      <td>0</td>\n      <td>0</td>\n      <td>0</td>\n      <td>0</td>\n      <td>0</td>\n      <td>0</td>\n    </tr>\n    <tr>\n      <th>2</th>\n      <td>GoldenEye (1995)</td>\n      <td>01-Jan-1995</td>\n      <td>NaN</td>\n      <td>http://us.imdb.com/M/title-exact?GoldenEye%20(...</td>\n      <td>0</td>\n      <td>1</td>\n      <td>1</td>\n      <td>0</td>\n      <td>0</td>\n      <td>0</td>\n      <td>...</td>\n      <td>0</td>\n      <td>0</td>\n      <td>0</td>\n      <td>0</td>\n      <td>0</td>\n      <td>0</td>\n      <td>0</td>\n      <td>1</td>\n      <td>0</td>\n      <td>0</td>\n    </tr>\n    <tr>\n      <th>3</th>\n      <td>Four Rooms (1995)</td>\n      <td>01-Jan-1995</td>\n      <td>NaN</td>\n      <td>http://us.imdb.com/M/title-exact?Four%20Rooms%...</td>\n      <td>0</td>\n      <td>0</td>\n      <td>0</td>\n      <td>0</td>\n      <td>0</td>\n      <td>0</td>\n      <td>...</td>\n      <td>0</td>\n      <td>0</td>\n      <td>0</td>\n      <td>0</td>\n      <td>0</td>\n      <td>0</td>\n      <td>0</td>\n      <td>1</td>\n      <td>0</td>\n      <td>0</td>\n    </tr>\n    <tr>\n      <th>4</th>\n      <td>Get Shorty (1995)</td>\n      <td>01-Jan-1995</td>\n      <td>NaN</td>\n      <td>http://us.imdb.com/M/title-exact?Get%20Shorty%...</td>\n      <td>0</td>\n      <td>1</td>\n      <td>0</td>\n      <td>0</td>\n      <td>0</td>\n      <td>1</td>\n      <td>...</td>\n      <td>0</td>\n      <td>0</td>\n      <td>0</td>\n      <td>0</td>\n      <td>0</td>\n      <td>0</td>\n      <td>0</td>\n      <td>0</td>\n      <td>0</td>\n      <td>0</td>\n    </tr>\n    <tr>\n      <th>5</th>\n      <td>Copycat (1995)</td>\n      <td>01-Jan-1995</td>\n      <td>NaN</td>\n      <td>http://us.imdb.com/M/title-exact?Copycat%20(1995)</td>\n      <td>0</td>\n      <td>0</td>\n      <td>0</td>\n      <td>0</td>\n      <td>0</td>\n      <td>0</td>\n      <td>...</td>\n      <td>0</td>\n      <td>0</td>\n      <td>0</td>\n      <td>0</td>\n      <td>0</td>\n      <td>0</td>\n      <td>0</td>\n      <td>1</td>\n      <td>0</td>\n      <td>0</td>\n    </tr>\n  </tbody>\n</table>\n<p>5 rows × 23 columns</p>\n</div>"
     },
     "metadata": {},
     "execution_count": 13
    }
   ],
   "source": [
    "filmes.head()"
   ]
  },
  {
   "cell_type": "code",
   "execution_count": 14,
   "metadata": {},
   "outputs": [
    {
     "output_type": "execute_result",
     "data": {
      "text/plain": [
       "(1682, 23)"
      ]
     },
     "metadata": {},
     "execution_count": 14
    }
   ],
   "source": [
    "filmes.shape"
   ]
  },
  {
   "cell_type": "code",
   "execution_count": 15,
   "metadata": {},
   "outputs": [
    {
     "output_type": "execute_result",
     "data": {
      "text/plain": [
       "unknown          2\n",
       "action         251\n",
       "adventure      135\n",
       "animation       42\n",
       "children       122\n",
       "comedy         505\n",
       "crime          109\n",
       "documentary     50\n",
       "drama          725\n",
       "fantasy         22\n",
       "film-noir       24\n",
       "horror          92\n",
       "musical         56\n",
       "mystery         61\n",
       "romance        247\n",
       "sci-fi         101\n",
       "thriller       251\n",
       "war             71\n",
       "western         27\n",
       "dtype: int64"
      ]
     },
     "metadata": {},
     "execution_count": 15
    }
   ],
   "source": [
    "filmes.loc[:, 'unknown':'western'].sum()\n",
    "# frequência de gêneros. O value counts mostra os valores de zeros também, portanto utilizei a soma para comar apenas os valores de '1', onde quer dizer true para aquele genero, naquele filme."
   ]
  },
  {
   "cell_type": "code",
   "execution_count": 16,
   "metadata": {},
   "outputs": [
    {
     "output_type": "stream",
     "name": "stdout",
     "text": [
      "<class 'pandas.core.frame.DataFrame'>\nInt64Index: 1682 entries, 1 to 1682\nData columns (total 23 columns):\n #   Column       Non-Null Count  Dtype  \n---  ------       --------------  -----  \n 0   titulos      1682 non-null   object \n 1   lançamento   1681 non-null   object \n 2   estreia      0 non-null      float64\n 3   IMDb URL     1679 non-null   object \n 4   unknown      1682 non-null   int64  \n 5   action       1682 non-null   int64  \n 6   adventure    1682 non-null   int64  \n 7   animation    1682 non-null   int64  \n 8   children     1682 non-null   int64  \n 9   comedy       1682 non-null   int64  \n 10  crime        1682 non-null   int64  \n 11  documentary  1682 non-null   int64  \n 12  drama        1682 non-null   int64  \n 13  fantasy      1682 non-null   int64  \n 14  film-noir    1682 non-null   int64  \n 15  horror       1682 non-null   int64  \n 16  musical      1682 non-null   int64  \n 17  mystery      1682 non-null   int64  \n 18  romance      1682 non-null   int64  \n 19  sci-fi       1682 non-null   int64  \n 20  thriller     1682 non-null   int64  \n 21  war          1682 non-null   int64  \n 22  western      1682 non-null   int64  \ndtypes: float64(1), int64(19), object(3)\nmemory usage: 315.4+ KB\n"
     ]
    }
   ],
   "source": [
    "filmes.info()"
   ]
  },
  {
   "cell_type": "code",
   "execution_count": 17,
   "metadata": {},
   "outputs": [
    {
     "output_type": "execute_result",
     "data": {
      "text/plain": [
       "titulos           0\n",
       "lançamento        1\n",
       "estreia        1682\n",
       "IMDb URL          3\n",
       "unknown           0\n",
       "action            0\n",
       "adventure         0\n",
       "animation         0\n",
       "children          0\n",
       "comedy            0\n",
       "crime             0\n",
       "documentary       0\n",
       "drama             0\n",
       "fantasy           0\n",
       "film-noir         0\n",
       "horror            0\n",
       "musical           0\n",
       "mystery           0\n",
       "romance           0\n",
       "sci-fi            0\n",
       "thriller          0\n",
       "war               0\n",
       "western           0\n",
       "dtype: int64"
      ]
     },
     "metadata": {},
     "execution_count": 17
    }
   ],
   "source": [
    "filmes.isnull().sum(axis=0) "
   ]
  },
  {
   "cell_type": "code",
   "execution_count": 18,
   "metadata": {},
   "outputs": [
    {
     "output_type": "execute_result",
     "data": {
      "text/plain": [
       "True"
      ]
     },
     "metadata": {},
     "execution_count": 18
    }
   ],
   "source": [
    "filmes.isnull().values.any()"
   ]
  },
  {
   "cell_type": "code",
   "execution_count": 19,
   "metadata": {},
   "outputs": [],
   "source": [
    "del(filmes['estreia']) # coluna de estreia removida, pois não haviam dados"
   ]
  },
  {
   "cell_type": "code",
   "execution_count": 20,
   "metadata": {},
   "outputs": [
    {
     "output_type": "execute_result",
     "data": {
      "text/plain": [
       "                   titulos   lançamento  \\\n",
       "filmeID                                   \n",
       "1         Toy Story (1995)  01-Jan-1995   \n",
       "2         GoldenEye (1995)  01-Jan-1995   \n",
       "3        Four Rooms (1995)  01-Jan-1995   \n",
       "4        Get Shorty (1995)  01-Jan-1995   \n",
       "5           Copycat (1995)  01-Jan-1995   \n",
       "\n",
       "                                                  IMDb URL  unknown  action  \\\n",
       "filmeID                                                                       \n",
       "1        http://us.imdb.com/M/title-exact?Toy%20Story%2...        0       0   \n",
       "2        http://us.imdb.com/M/title-exact?GoldenEye%20(...        0       1   \n",
       "3        http://us.imdb.com/M/title-exact?Four%20Rooms%...        0       0   \n",
       "4        http://us.imdb.com/M/title-exact?Get%20Shorty%...        0       1   \n",
       "5        http://us.imdb.com/M/title-exact?Copycat%20(1995)        0       0   \n",
       "\n",
       "         adventure  animation  children  comedy  crime  ...  fantasy  \\\n",
       "filmeID                                                 ...            \n",
       "1                0          1         1       1      0  ...        0   \n",
       "2                1          0         0       0      0  ...        0   \n",
       "3                0          0         0       0      0  ...        0   \n",
       "4                0          0         0       1      0  ...        0   \n",
       "5                0          0         0       0      1  ...        0   \n",
       "\n",
       "         film-noir  horror  musical  mystery  romance  sci-fi  thriller  war  \\\n",
       "filmeID                                                                        \n",
       "1                0       0        0        0        0       0         0    0   \n",
       "2                0       0        0        0        0       0         1    0   \n",
       "3                0       0        0        0        0       0         1    0   \n",
       "4                0       0        0        0        0       0         0    0   \n",
       "5                0       0        0        0        0       0         1    0   \n",
       "\n",
       "         western  \n",
       "filmeID           \n",
       "1              0  \n",
       "2              0  \n",
       "3              0  \n",
       "4              0  \n",
       "5              0  \n",
       "\n",
       "[5 rows x 22 columns]"
      ],
      "text/html": "<div>\n<style scoped>\n    .dataframe tbody tr th:only-of-type {\n        vertical-align: middle;\n    }\n\n    .dataframe tbody tr th {\n        vertical-align: top;\n    }\n\n    .dataframe thead th {\n        text-align: right;\n    }\n</style>\n<table border=\"1\" class=\"dataframe\">\n  <thead>\n    <tr style=\"text-align: right;\">\n      <th></th>\n      <th>titulos</th>\n      <th>lançamento</th>\n      <th>IMDb URL</th>\n      <th>unknown</th>\n      <th>action</th>\n      <th>adventure</th>\n      <th>animation</th>\n      <th>children</th>\n      <th>comedy</th>\n      <th>crime</th>\n      <th>...</th>\n      <th>fantasy</th>\n      <th>film-noir</th>\n      <th>horror</th>\n      <th>musical</th>\n      <th>mystery</th>\n      <th>romance</th>\n      <th>sci-fi</th>\n      <th>thriller</th>\n      <th>war</th>\n      <th>western</th>\n    </tr>\n    <tr>\n      <th>filmeID</th>\n      <th></th>\n      <th></th>\n      <th></th>\n      <th></th>\n      <th></th>\n      <th></th>\n      <th></th>\n      <th></th>\n      <th></th>\n      <th></th>\n      <th></th>\n      <th></th>\n      <th></th>\n      <th></th>\n      <th></th>\n      <th></th>\n      <th></th>\n      <th></th>\n      <th></th>\n      <th></th>\n      <th></th>\n    </tr>\n  </thead>\n  <tbody>\n    <tr>\n      <th>1</th>\n      <td>Toy Story (1995)</td>\n      <td>01-Jan-1995</td>\n      <td>http://us.imdb.com/M/title-exact?Toy%20Story%2...</td>\n      <td>0</td>\n      <td>0</td>\n      <td>0</td>\n      <td>1</td>\n      <td>1</td>\n      <td>1</td>\n      <td>0</td>\n      <td>...</td>\n      <td>0</td>\n      <td>0</td>\n      <td>0</td>\n      <td>0</td>\n      <td>0</td>\n      <td>0</td>\n      <td>0</td>\n      <td>0</td>\n      <td>0</td>\n      <td>0</td>\n    </tr>\n    <tr>\n      <th>2</th>\n      <td>GoldenEye (1995)</td>\n      <td>01-Jan-1995</td>\n      <td>http://us.imdb.com/M/title-exact?GoldenEye%20(...</td>\n      <td>0</td>\n      <td>1</td>\n      <td>1</td>\n      <td>0</td>\n      <td>0</td>\n      <td>0</td>\n      <td>0</td>\n      <td>...</td>\n      <td>0</td>\n      <td>0</td>\n      <td>0</td>\n      <td>0</td>\n      <td>0</td>\n      <td>0</td>\n      <td>0</td>\n      <td>1</td>\n      <td>0</td>\n      <td>0</td>\n    </tr>\n    <tr>\n      <th>3</th>\n      <td>Four Rooms (1995)</td>\n      <td>01-Jan-1995</td>\n      <td>http://us.imdb.com/M/title-exact?Four%20Rooms%...</td>\n      <td>0</td>\n      <td>0</td>\n      <td>0</td>\n      <td>0</td>\n      <td>0</td>\n      <td>0</td>\n      <td>0</td>\n      <td>...</td>\n      <td>0</td>\n      <td>0</td>\n      <td>0</td>\n      <td>0</td>\n      <td>0</td>\n      <td>0</td>\n      <td>0</td>\n      <td>1</td>\n      <td>0</td>\n      <td>0</td>\n    </tr>\n    <tr>\n      <th>4</th>\n      <td>Get Shorty (1995)</td>\n      <td>01-Jan-1995</td>\n      <td>http://us.imdb.com/M/title-exact?Get%20Shorty%...</td>\n      <td>0</td>\n      <td>1</td>\n      <td>0</td>\n      <td>0</td>\n      <td>0</td>\n      <td>1</td>\n      <td>0</td>\n      <td>...</td>\n      <td>0</td>\n      <td>0</td>\n      <td>0</td>\n      <td>0</td>\n      <td>0</td>\n      <td>0</td>\n      <td>0</td>\n      <td>0</td>\n      <td>0</td>\n      <td>0</td>\n    </tr>\n    <tr>\n      <th>5</th>\n      <td>Copycat (1995)</td>\n      <td>01-Jan-1995</td>\n      <td>http://us.imdb.com/M/title-exact?Copycat%20(1995)</td>\n      <td>0</td>\n      <td>0</td>\n      <td>0</td>\n      <td>0</td>\n      <td>0</td>\n      <td>0</td>\n      <td>1</td>\n      <td>...</td>\n      <td>0</td>\n      <td>0</td>\n      <td>0</td>\n      <td>0</td>\n      <td>0</td>\n      <td>0</td>\n      <td>0</td>\n      <td>1</td>\n      <td>0</td>\n      <td>0</td>\n    </tr>\n  </tbody>\n</table>\n<p>5 rows × 22 columns</p>\n</div>"
     },
     "metadata": {},
     "execution_count": 20
    }
   ],
   "source": [
    "filmes.head()"
   ]
  },
  {
   "cell_type": "code",
   "execution_count": 21,
   "metadata": {},
   "outputs": [
    {
     "output_type": "execute_result",
     "data": {
      "text/plain": [
       "array(['unknown', 'action', 'adventure', 'animation', 'children',\n",
       "       'comedy', 'crime', 'documentary', 'drama', 'fantasy', 'film-noir',\n",
       "       'horror', 'musical', 'mystery', 'romance', 'sci-fi', 'thriller',\n",
       "       'war', 'western'], dtype=object)"
      ]
     },
     "metadata": {},
     "execution_count": 21
    }
   ],
   "source": [
    "# Novo DF que condense informações sobre o gênero do filme:\n",
    "\n",
    "generos = np.array(filmes.columns[3:]) # cria uma lista de generos\n",
    "generos"
   ]
  },
  {
   "cell_type": "code",
   "execution_count": 22,
   "metadata": {},
   "outputs": [
    {
     "output_type": "execute_result",
     "data": {
      "text/plain": [
       "filmeID\n",
       "1       [animation, children, comedy]\n",
       "2       [action, adventure, thriller]\n",
       "3                          [thriller]\n",
       "4             [action, comedy, drama]\n",
       "5            [crime, drama, thriller]\n",
       "                    ...              \n",
       "1678                          [drama]\n",
       "1679              [romance, thriller]\n",
       "1680                 [drama, romance]\n",
       "1681                         [comedy]\n",
       "1682                          [drama]\n",
       "Name: Genero, Length: 1682, dtype: object"
      ]
     },
     "metadata": {},
     "execution_count": 22
    }
   ],
   "source": [
    "gen_cond = filmes.copy()\n",
    "gen_cond['Genero'] = gen_cond.loc[:, 'unknown':].apply(lambda x: generos[x==1], axis=1) # retorna uma função que irá aplicar a lista e pegar os valores booleanos para selecionar quais generos pertencem aquele filme na linha, dirigido por colunas.\n",
    "gen_cond.Genero"
   ]
  },
  {
   "cell_type": "code",
   "execution_count": 23,
   "metadata": {},
   "outputs": [],
   "source": [
    "gen_cond['Genero'] = gen_cond.Genero.apply(lambda x: \", \".join(x)) # transformar lista em string, utilizando separador."
   ]
  },
  {
   "cell_type": "code",
   "execution_count": 24,
   "metadata": {},
   "outputs": [
    {
     "output_type": "execute_result",
     "data": {
      "text/plain": [
       "filmeID\n",
       "1       animation, children, comedy\n",
       "2       action, adventure, thriller\n",
       "3                          thriller\n",
       "4             action, comedy, drama\n",
       "5            crime, drama, thriller\n",
       "                   ...             \n",
       "1678                          drama\n",
       "1679              romance, thriller\n",
       "1680                 drama, romance\n",
       "1681                         comedy\n",
       "1682                          drama\n",
       "Name: Genero, Length: 1682, dtype: object"
      ]
     },
     "metadata": {},
     "execution_count": 24
    }
   ],
   "source": [
    "gen_cond.Genero"
   ]
  },
  {
   "cell_type": "code",
   "execution_count": 25,
   "metadata": {},
   "outputs": [],
   "source": [
    "gen_cond.drop(columns=generos, inplace=True)"
   ]
  },
  {
   "cell_type": "code",
   "execution_count": 26,
   "metadata": {},
   "outputs": [
    {
     "output_type": "execute_result",
     "data": {
      "text/plain": [
       "                   titulos   lançamento  \\\n",
       "filmeID                                   \n",
       "1         Toy Story (1995)  01-Jan-1995   \n",
       "2         GoldenEye (1995)  01-Jan-1995   \n",
       "3        Four Rooms (1995)  01-Jan-1995   \n",
       "4        Get Shorty (1995)  01-Jan-1995   \n",
       "5           Copycat (1995)  01-Jan-1995   \n",
       "\n",
       "                                                  IMDb URL  \\\n",
       "filmeID                                                      \n",
       "1        http://us.imdb.com/M/title-exact?Toy%20Story%2...   \n",
       "2        http://us.imdb.com/M/title-exact?GoldenEye%20(...   \n",
       "3        http://us.imdb.com/M/title-exact?Four%20Rooms%...   \n",
       "4        http://us.imdb.com/M/title-exact?Get%20Shorty%...   \n",
       "5        http://us.imdb.com/M/title-exact?Copycat%20(1995)   \n",
       "\n",
       "                              Genero  \n",
       "filmeID                               \n",
       "1        animation, children, comedy  \n",
       "2        action, adventure, thriller  \n",
       "3                           thriller  \n",
       "4              action, comedy, drama  \n",
       "5             crime, drama, thriller  "
      ],
      "text/html": "<div>\n<style scoped>\n    .dataframe tbody tr th:only-of-type {\n        vertical-align: middle;\n    }\n\n    .dataframe tbody tr th {\n        vertical-align: top;\n    }\n\n    .dataframe thead th {\n        text-align: right;\n    }\n</style>\n<table border=\"1\" class=\"dataframe\">\n  <thead>\n    <tr style=\"text-align: right;\">\n      <th></th>\n      <th>titulos</th>\n      <th>lançamento</th>\n      <th>IMDb URL</th>\n      <th>Genero</th>\n    </tr>\n    <tr>\n      <th>filmeID</th>\n      <th></th>\n      <th></th>\n      <th></th>\n      <th></th>\n    </tr>\n  </thead>\n  <tbody>\n    <tr>\n      <th>1</th>\n      <td>Toy Story (1995)</td>\n      <td>01-Jan-1995</td>\n      <td>http://us.imdb.com/M/title-exact?Toy%20Story%2...</td>\n      <td>animation, children, comedy</td>\n    </tr>\n    <tr>\n      <th>2</th>\n      <td>GoldenEye (1995)</td>\n      <td>01-Jan-1995</td>\n      <td>http://us.imdb.com/M/title-exact?GoldenEye%20(...</td>\n      <td>action, adventure, thriller</td>\n    </tr>\n    <tr>\n      <th>3</th>\n      <td>Four Rooms (1995)</td>\n      <td>01-Jan-1995</td>\n      <td>http://us.imdb.com/M/title-exact?Four%20Rooms%...</td>\n      <td>thriller</td>\n    </tr>\n    <tr>\n      <th>4</th>\n      <td>Get Shorty (1995)</td>\n      <td>01-Jan-1995</td>\n      <td>http://us.imdb.com/M/title-exact?Get%20Shorty%...</td>\n      <td>action, comedy, drama</td>\n    </tr>\n    <tr>\n      <th>5</th>\n      <td>Copycat (1995)</td>\n      <td>01-Jan-1995</td>\n      <td>http://us.imdb.com/M/title-exact?Copycat%20(1995)</td>\n      <td>crime, drama, thriller</td>\n    </tr>\n  </tbody>\n</table>\n</div>"
     },
     "metadata": {},
     "execution_count": 26
    }
   ],
   "source": [
    "gen_cond.head()"
   ]
  },
  {
   "cell_type": "code",
   "execution_count": 27,
   "metadata": {},
   "outputs": [],
   "source": [
    "new_filmes = gen_cond # atualizando a tabela completa com novo nome"
   ]
  },
  {
   "source": [
    "## Arquivo de notas"
   ],
   "cell_type": "markdown",
   "metadata": {}
  },
  {
   "cell_type": "code",
   "execution_count": 28,
   "metadata": {},
   "outputs": [],
   "source": [
    "notas = pd.read_csv(\"ml-100k.csv\", sep='\\t', header=None)\n",
    "notas_por_usuario = notas"
   ]
  },
  {
   "cell_type": "code",
   "execution_count": 29,
   "metadata": {},
   "outputs": [
    {
     "output_type": "execute_result",
     "data": {
      "text/plain": [
       "   0     1     2     3     4     5     6     7     8     9     ...  1672  \\\n",
       "0   5.0   3.0   4.0   3.0   3.0   5.0   4.0   1.0   5.0   3.0  ...   0.0   \n",
       "1   4.0   0.0   0.0   0.0   0.0   0.0   0.0   0.0   0.0   2.0  ...   0.0   \n",
       "2   0.0   0.0   0.0   0.0   0.0   0.0   0.0   0.0   0.0   0.0  ...   0.0   \n",
       "3   0.0   0.0   0.0   0.0   0.0   0.0   0.0   0.0   0.0   0.0  ...   0.0   \n",
       "4   4.0   3.0   0.0   0.0   0.0   0.0   0.0   0.0   0.0   0.0  ...   0.0   \n",
       "\n",
       "   1673  1674  1675  1676  1677  1678  1679  1680  1681  \n",
       "0   0.0   0.0   0.0   0.0   0.0   0.0   0.0   0.0   0.0  \n",
       "1   0.0   0.0   0.0   0.0   0.0   0.0   0.0   0.0   0.0  \n",
       "2   0.0   0.0   0.0   0.0   0.0   0.0   0.0   0.0   0.0  \n",
       "3   0.0   0.0   0.0   0.0   0.0   0.0   0.0   0.0   0.0  \n",
       "4   0.0   0.0   0.0   0.0   0.0   0.0   0.0   0.0   0.0  \n",
       "\n",
       "[5 rows x 1682 columns]"
      ],
      "text/html": "<div>\n<style scoped>\n    .dataframe tbody tr th:only-of-type {\n        vertical-align: middle;\n    }\n\n    .dataframe tbody tr th {\n        vertical-align: top;\n    }\n\n    .dataframe thead th {\n        text-align: right;\n    }\n</style>\n<table border=\"1\" class=\"dataframe\">\n  <thead>\n    <tr style=\"text-align: right;\">\n      <th></th>\n      <th>0</th>\n      <th>1</th>\n      <th>2</th>\n      <th>3</th>\n      <th>4</th>\n      <th>5</th>\n      <th>6</th>\n      <th>7</th>\n      <th>8</th>\n      <th>9</th>\n      <th>...</th>\n      <th>1672</th>\n      <th>1673</th>\n      <th>1674</th>\n      <th>1675</th>\n      <th>1676</th>\n      <th>1677</th>\n      <th>1678</th>\n      <th>1679</th>\n      <th>1680</th>\n      <th>1681</th>\n    </tr>\n  </thead>\n  <tbody>\n    <tr>\n      <th>0</th>\n      <td>5.0</td>\n      <td>3.0</td>\n      <td>4.0</td>\n      <td>3.0</td>\n      <td>3.0</td>\n      <td>5.0</td>\n      <td>4.0</td>\n      <td>1.0</td>\n      <td>5.0</td>\n      <td>3.0</td>\n      <td>...</td>\n      <td>0.0</td>\n      <td>0.0</td>\n      <td>0.0</td>\n      <td>0.0</td>\n      <td>0.0</td>\n      <td>0.0</td>\n      <td>0.0</td>\n      <td>0.0</td>\n      <td>0.0</td>\n      <td>0.0</td>\n    </tr>\n    <tr>\n      <th>1</th>\n      <td>4.0</td>\n      <td>0.0</td>\n      <td>0.0</td>\n      <td>0.0</td>\n      <td>0.0</td>\n      <td>0.0</td>\n      <td>0.0</td>\n      <td>0.0</td>\n      <td>0.0</td>\n      <td>2.0</td>\n      <td>...</td>\n      <td>0.0</td>\n      <td>0.0</td>\n      <td>0.0</td>\n      <td>0.0</td>\n      <td>0.0</td>\n      <td>0.0</td>\n      <td>0.0</td>\n      <td>0.0</td>\n      <td>0.0</td>\n      <td>0.0</td>\n    </tr>\n    <tr>\n      <th>2</th>\n      <td>0.0</td>\n      <td>0.0</td>\n      <td>0.0</td>\n      <td>0.0</td>\n      <td>0.0</td>\n      <td>0.0</td>\n      <td>0.0</td>\n      <td>0.0</td>\n      <td>0.0</td>\n      <td>0.0</td>\n      <td>...</td>\n      <td>0.0</td>\n      <td>0.0</td>\n      <td>0.0</td>\n      <td>0.0</td>\n      <td>0.0</td>\n      <td>0.0</td>\n      <td>0.0</td>\n      <td>0.0</td>\n      <td>0.0</td>\n      <td>0.0</td>\n    </tr>\n    <tr>\n      <th>3</th>\n      <td>0.0</td>\n      <td>0.0</td>\n      <td>0.0</td>\n      <td>0.0</td>\n      <td>0.0</td>\n      <td>0.0</td>\n      <td>0.0</td>\n      <td>0.0</td>\n      <td>0.0</td>\n      <td>0.0</td>\n      <td>...</td>\n      <td>0.0</td>\n      <td>0.0</td>\n      <td>0.0</td>\n      <td>0.0</td>\n      <td>0.0</td>\n      <td>0.0</td>\n      <td>0.0</td>\n      <td>0.0</td>\n      <td>0.0</td>\n      <td>0.0</td>\n    </tr>\n    <tr>\n      <th>4</th>\n      <td>4.0</td>\n      <td>3.0</td>\n      <td>0.0</td>\n      <td>0.0</td>\n      <td>0.0</td>\n      <td>0.0</td>\n      <td>0.0</td>\n      <td>0.0</td>\n      <td>0.0</td>\n      <td>0.0</td>\n      <td>...</td>\n      <td>0.0</td>\n      <td>0.0</td>\n      <td>0.0</td>\n      <td>0.0</td>\n      <td>0.0</td>\n      <td>0.0</td>\n      <td>0.0</td>\n      <td>0.0</td>\n      <td>0.0</td>\n      <td>0.0</td>\n    </tr>\n  </tbody>\n</table>\n<p>5 rows × 1682 columns</p>\n</div>"
     },
     "metadata": {},
     "execution_count": 29
    }
   ],
   "source": [
    "notas_por_usuario.head()"
   ]
  },
  {
   "cell_type": "code",
   "execution_count": 30,
   "metadata": {},
   "outputs": [
    {
     "output_type": "execute_result",
     "data": {
      "text/plain": [
       "   0     1     2     3     4     5     6     7     8     9     ...  1672  \\\n",
       "0   5.0   3.0   4.0   3.0   3.0   5.0   4.0   1.0   5.0   3.0  ...   NaN   \n",
       "1   4.0   NaN   NaN   NaN   NaN   NaN   NaN   NaN   NaN   2.0  ...   NaN   \n",
       "2   NaN   NaN   NaN   NaN   NaN   NaN   NaN   NaN   NaN   NaN  ...   NaN   \n",
       "3   NaN   NaN   NaN   NaN   NaN   NaN   NaN   NaN   NaN   NaN  ...   NaN   \n",
       "4   4.0   3.0   NaN   NaN   NaN   NaN   NaN   NaN   NaN   NaN  ...   NaN   \n",
       "\n",
       "   1673  1674  1675  1676  1677  1678  1679  1680  1681  \n",
       "0   NaN   NaN   NaN   NaN   NaN   NaN   NaN   NaN   NaN  \n",
       "1   NaN   NaN   NaN   NaN   NaN   NaN   NaN   NaN   NaN  \n",
       "2   NaN   NaN   NaN   NaN   NaN   NaN   NaN   NaN   NaN  \n",
       "3   NaN   NaN   NaN   NaN   NaN   NaN   NaN   NaN   NaN  \n",
       "4   NaN   NaN   NaN   NaN   NaN   NaN   NaN   NaN   NaN  \n",
       "\n",
       "[5 rows x 1682 columns]"
      ],
      "text/html": "<div>\n<style scoped>\n    .dataframe tbody tr th:only-of-type {\n        vertical-align: middle;\n    }\n\n    .dataframe tbody tr th {\n        vertical-align: top;\n    }\n\n    .dataframe thead th {\n        text-align: right;\n    }\n</style>\n<table border=\"1\" class=\"dataframe\">\n  <thead>\n    <tr style=\"text-align: right;\">\n      <th></th>\n      <th>0</th>\n      <th>1</th>\n      <th>2</th>\n      <th>3</th>\n      <th>4</th>\n      <th>5</th>\n      <th>6</th>\n      <th>7</th>\n      <th>8</th>\n      <th>9</th>\n      <th>...</th>\n      <th>1672</th>\n      <th>1673</th>\n      <th>1674</th>\n      <th>1675</th>\n      <th>1676</th>\n      <th>1677</th>\n      <th>1678</th>\n      <th>1679</th>\n      <th>1680</th>\n      <th>1681</th>\n    </tr>\n  </thead>\n  <tbody>\n    <tr>\n      <th>0</th>\n      <td>5.0</td>\n      <td>3.0</td>\n      <td>4.0</td>\n      <td>3.0</td>\n      <td>3.0</td>\n      <td>5.0</td>\n      <td>4.0</td>\n      <td>1.0</td>\n      <td>5.0</td>\n      <td>3.0</td>\n      <td>...</td>\n      <td>NaN</td>\n      <td>NaN</td>\n      <td>NaN</td>\n      <td>NaN</td>\n      <td>NaN</td>\n      <td>NaN</td>\n      <td>NaN</td>\n      <td>NaN</td>\n      <td>NaN</td>\n      <td>NaN</td>\n    </tr>\n    <tr>\n      <th>1</th>\n      <td>4.0</td>\n      <td>NaN</td>\n      <td>NaN</td>\n      <td>NaN</td>\n      <td>NaN</td>\n      <td>NaN</td>\n      <td>NaN</td>\n      <td>NaN</td>\n      <td>NaN</td>\n      <td>2.0</td>\n      <td>...</td>\n      <td>NaN</td>\n      <td>NaN</td>\n      <td>NaN</td>\n      <td>NaN</td>\n      <td>NaN</td>\n      <td>NaN</td>\n      <td>NaN</td>\n      <td>NaN</td>\n      <td>NaN</td>\n      <td>NaN</td>\n    </tr>\n    <tr>\n      <th>2</th>\n      <td>NaN</td>\n      <td>NaN</td>\n      <td>NaN</td>\n      <td>NaN</td>\n      <td>NaN</td>\n      <td>NaN</td>\n      <td>NaN</td>\n      <td>NaN</td>\n      <td>NaN</td>\n      <td>NaN</td>\n      <td>...</td>\n      <td>NaN</td>\n      <td>NaN</td>\n      <td>NaN</td>\n      <td>NaN</td>\n      <td>NaN</td>\n      <td>NaN</td>\n      <td>NaN</td>\n      <td>NaN</td>\n      <td>NaN</td>\n      <td>NaN</td>\n    </tr>\n    <tr>\n      <th>3</th>\n      <td>NaN</td>\n      <td>NaN</td>\n      <td>NaN</td>\n      <td>NaN</td>\n      <td>NaN</td>\n      <td>NaN</td>\n      <td>NaN</td>\n      <td>NaN</td>\n      <td>NaN</td>\n      <td>NaN</td>\n      <td>...</td>\n      <td>NaN</td>\n      <td>NaN</td>\n      <td>NaN</td>\n      <td>NaN</td>\n      <td>NaN</td>\n      <td>NaN</td>\n      <td>NaN</td>\n      <td>NaN</td>\n      <td>NaN</td>\n      <td>NaN</td>\n    </tr>\n    <tr>\n      <th>4</th>\n      <td>4.0</td>\n      <td>3.0</td>\n      <td>NaN</td>\n      <td>NaN</td>\n      <td>NaN</td>\n      <td>NaN</td>\n      <td>NaN</td>\n      <td>NaN</td>\n      <td>NaN</td>\n      <td>NaN</td>\n      <td>...</td>\n      <td>NaN</td>\n      <td>NaN</td>\n      <td>NaN</td>\n      <td>NaN</td>\n      <td>NaN</td>\n      <td>NaN</td>\n      <td>NaN</td>\n      <td>NaN</td>\n      <td>NaN</td>\n      <td>NaN</td>\n    </tr>\n  </tbody>\n</table>\n<p>5 rows × 1682 columns</p>\n</div>"
     },
     "metadata": {},
     "execution_count": 30
    }
   ],
   "source": [
    "notas_por_usuario[notas==0] = np.nan # transformar os valores de 0 em NaN para obter estatísticas mais reais, pois onde havia 0, não havia avaliação\n",
    "notas_por_usuario.head()"
   ]
  },
  {
   "cell_type": "code",
   "execution_count": 31,
   "metadata": {},
   "outputs": [
    {
     "output_type": "execute_result",
     "data": {
      "text/plain": [
       "   1     2     3     4     5     6     7     8     9     10    ...  1673  \\\n",
       "1   5.0   3.0   4.0   3.0   3.0   5.0   4.0   1.0   5.0   3.0  ...   NaN   \n",
       "2   4.0   NaN   NaN   NaN   NaN   NaN   NaN   NaN   NaN   2.0  ...   NaN   \n",
       "3   NaN   NaN   NaN   NaN   NaN   NaN   NaN   NaN   NaN   NaN  ...   NaN   \n",
       "4   NaN   NaN   NaN   NaN   NaN   NaN   NaN   NaN   NaN   NaN  ...   NaN   \n",
       "5   4.0   3.0   NaN   NaN   NaN   NaN   NaN   NaN   NaN   NaN  ...   NaN   \n",
       "\n",
       "   1674  1675  1676  1677  1678  1679  1680  1681  1682  \n",
       "1   NaN   NaN   NaN   NaN   NaN   NaN   NaN   NaN   NaN  \n",
       "2   NaN   NaN   NaN   NaN   NaN   NaN   NaN   NaN   NaN  \n",
       "3   NaN   NaN   NaN   NaN   NaN   NaN   NaN   NaN   NaN  \n",
       "4   NaN   NaN   NaN   NaN   NaN   NaN   NaN   NaN   NaN  \n",
       "5   NaN   NaN   NaN   NaN   NaN   NaN   NaN   NaN   NaN  \n",
       "\n",
       "[5 rows x 1682 columns]"
      ],
      "text/html": "<div>\n<style scoped>\n    .dataframe tbody tr th:only-of-type {\n        vertical-align: middle;\n    }\n\n    .dataframe tbody tr th {\n        vertical-align: top;\n    }\n\n    .dataframe thead th {\n        text-align: right;\n    }\n</style>\n<table border=\"1\" class=\"dataframe\">\n  <thead>\n    <tr style=\"text-align: right;\">\n      <th></th>\n      <th>1</th>\n      <th>2</th>\n      <th>3</th>\n      <th>4</th>\n      <th>5</th>\n      <th>6</th>\n      <th>7</th>\n      <th>8</th>\n      <th>9</th>\n      <th>10</th>\n      <th>...</th>\n      <th>1673</th>\n      <th>1674</th>\n      <th>1675</th>\n      <th>1676</th>\n      <th>1677</th>\n      <th>1678</th>\n      <th>1679</th>\n      <th>1680</th>\n      <th>1681</th>\n      <th>1682</th>\n    </tr>\n  </thead>\n  <tbody>\n    <tr>\n      <th>1</th>\n      <td>5.0</td>\n      <td>3.0</td>\n      <td>4.0</td>\n      <td>3.0</td>\n      <td>3.0</td>\n      <td>5.0</td>\n      <td>4.0</td>\n      <td>1.0</td>\n      <td>5.0</td>\n      <td>3.0</td>\n      <td>...</td>\n      <td>NaN</td>\n      <td>NaN</td>\n      <td>NaN</td>\n      <td>NaN</td>\n      <td>NaN</td>\n      <td>NaN</td>\n      <td>NaN</td>\n      <td>NaN</td>\n      <td>NaN</td>\n      <td>NaN</td>\n    </tr>\n    <tr>\n      <th>2</th>\n      <td>4.0</td>\n      <td>NaN</td>\n      <td>NaN</td>\n      <td>NaN</td>\n      <td>NaN</td>\n      <td>NaN</td>\n      <td>NaN</td>\n      <td>NaN</td>\n      <td>NaN</td>\n      <td>2.0</td>\n      <td>...</td>\n      <td>NaN</td>\n      <td>NaN</td>\n      <td>NaN</td>\n      <td>NaN</td>\n      <td>NaN</td>\n      <td>NaN</td>\n      <td>NaN</td>\n      <td>NaN</td>\n      <td>NaN</td>\n      <td>NaN</td>\n    </tr>\n    <tr>\n      <th>3</th>\n      <td>NaN</td>\n      <td>NaN</td>\n      <td>NaN</td>\n      <td>NaN</td>\n      <td>NaN</td>\n      <td>NaN</td>\n      <td>NaN</td>\n      <td>NaN</td>\n      <td>NaN</td>\n      <td>NaN</td>\n      <td>...</td>\n      <td>NaN</td>\n      <td>NaN</td>\n      <td>NaN</td>\n      <td>NaN</td>\n      <td>NaN</td>\n      <td>NaN</td>\n      <td>NaN</td>\n      <td>NaN</td>\n      <td>NaN</td>\n      <td>NaN</td>\n    </tr>\n    <tr>\n      <th>4</th>\n      <td>NaN</td>\n      <td>NaN</td>\n      <td>NaN</td>\n      <td>NaN</td>\n      <td>NaN</td>\n      <td>NaN</td>\n      <td>NaN</td>\n      <td>NaN</td>\n      <td>NaN</td>\n      <td>NaN</td>\n      <td>...</td>\n      <td>NaN</td>\n      <td>NaN</td>\n      <td>NaN</td>\n      <td>NaN</td>\n      <td>NaN</td>\n      <td>NaN</td>\n      <td>NaN</td>\n      <td>NaN</td>\n      <td>NaN</td>\n      <td>NaN</td>\n    </tr>\n    <tr>\n      <th>5</th>\n      <td>4.0</td>\n      <td>3.0</td>\n      <td>NaN</td>\n      <td>NaN</td>\n      <td>NaN</td>\n      <td>NaN</td>\n      <td>NaN</td>\n      <td>NaN</td>\n      <td>NaN</td>\n      <td>NaN</td>\n      <td>...</td>\n      <td>NaN</td>\n      <td>NaN</td>\n      <td>NaN</td>\n      <td>NaN</td>\n      <td>NaN</td>\n      <td>NaN</td>\n      <td>NaN</td>\n      <td>NaN</td>\n      <td>NaN</td>\n      <td>NaN</td>\n    </tr>\n  </tbody>\n</table>\n<p>5 rows × 1682 columns</p>\n</div>"
     },
     "metadata": {},
     "execution_count": 31
    }
   ],
   "source": [
    "notas_por_usuario.index += 1 # para deixar os índices começando de 1 e não de 0 (soma 1 em todos)\n",
    "notas_por_usuario.columns += 1\n",
    "notas_por_usuario.head()"
   ]
  },
  {
   "cell_type": "code",
   "execution_count": 32,
   "metadata": {},
   "outputs": [
    {
     "output_type": "execute_result",
     "data": {
      "text/plain": [
       "1    1       5.0\n",
       "     2       3.0\n",
       "     3       4.0\n",
       "     4       3.0\n",
       "     5       3.0\n",
       "            ... \n",
       "943  1067    2.0\n",
       "     1074    4.0\n",
       "     1188    3.0\n",
       "     1228    3.0\n",
       "     1330    3.0\n",
       "Length: 100000, dtype: float64"
      ]
     },
     "metadata": {},
     "execution_count": 32
    }
   ],
   "source": [
    "notas_por_usuario.stack() # retorna uma série com todos os valores do data frame"
   ]
  },
  {
   "cell_type": "code",
   "execution_count": 71,
   "metadata": {},
   "outputs": [
    {
     "output_type": "execute_result",
     "data": {
      "text/plain": [
       "3.485725545701696"
      ]
     },
     "metadata": {},
     "execution_count": 71
    }
   ],
   "source": [
    "notas_por_usuario.stack().mean() # retorna a média da série"
   ]
  },
  {
   "cell_type": "code",
   "execution_count": 34,
   "metadata": {},
   "outputs": [
    {
     "output_type": "execute_result",
     "data": {
      "text/plain": [
       "1.125673599144316"
      ]
     },
     "metadata": {},
     "execution_count": 34
    }
   ],
   "source": [
    "notas_por_usuario.stack().std() # desvio padrão da série"
   ]
  },
  {
   "cell_type": "code",
   "execution_count": 35,
   "metadata": {},
   "outputs": [
    {
     "output_type": "execute_result",
     "data": {
      "text/plain": [
       "1.2671410518105182"
      ]
     },
     "metadata": {},
     "execution_count": 35
    }
   ],
   "source": [
    "notas_por_usuario.stack().var() # variância"
   ]
  },
  {
   "cell_type": "code",
   "execution_count": 36,
   "metadata": {},
   "outputs": [
    {
     "output_type": "execute_result",
     "data": {
      "text/plain": [
       "1      3.610294\n",
       "2      3.709677\n",
       "3      2.796296\n",
       "4      4.333333\n",
       "5      2.874286\n",
       "         ...   \n",
       "939    4.265306\n",
       "940    3.457944\n",
       "941    4.045455\n",
       "942    4.265823\n",
       "943    3.410714\n",
       "Name: media, Length: 943, dtype: float64"
      ]
     },
     "metadata": {},
     "execution_count": 36
    }
   ],
   "source": [
    "media = notas_por_usuario['media'] = notas_por_usuario.mean(axis=1)\n",
    "notas_por_usuario['media']"
   ]
  },
  {
   "cell_type": "code",
   "execution_count": 37,
   "metadata": {},
   "outputs": [
    {
     "output_type": "execute_result",
     "data": {
      "text/plain": [
       "1      1.263585\n",
       "2      1.030472\n",
       "3      1.219026\n",
       "4      0.916831\n",
       "5      1.362963\n",
       "         ...   \n",
       "939    0.974156\n",
       "940    1.012007\n",
       "941    0.898532\n",
       "942    0.763072\n",
       "943    1.258886\n",
       "Name: desvio_padrao, Length: 943, dtype: float64"
      ]
     },
     "metadata": {},
     "execution_count": 37
    }
   ],
   "source": [
    "desvio_padrao = notas_por_usuario['desvio_padrao'] = notas_por_usuario.loc[:, :1682].std(axis=1)\n",
    "notas_por_usuario['desvio_padrao']"
   ]
  },
  {
   "cell_type": "code",
   "execution_count": 38,
   "metadata": {},
   "outputs": [
    {
     "output_type": "execute_result",
     "data": {
      "text/plain": [
       "                1           2          3           4          5          6  \\\n",
       "count  452.000000  131.000000  90.000000  209.000000  86.000000  26.000000   \n",
       "mean     3.878319    3.206107   3.033333    3.550239   3.302326   3.576923   \n",
       "std      0.927897    0.966497   1.212760    0.965069   0.946446   1.301478   \n",
       "min      1.000000    1.000000   1.000000    1.000000   1.000000   1.000000   \n",
       "25%      3.000000    3.000000   2.000000    3.000000   3.000000   3.000000   \n",
       "50%      4.000000    3.000000   3.000000    4.000000   3.000000   4.000000   \n",
       "75%      5.000000    4.000000   4.000000    4.000000   4.000000   5.000000   \n",
       "max      5.000000    5.000000   5.000000    5.000000   5.000000   5.000000   \n",
       "\n",
       "                7           8           9         10  ...  1675  1676  1677  \\\n",
       "count  392.000000  219.000000  299.000000  89.000000  ...   1.0   1.0   1.0   \n",
       "mean     3.798469    3.995434    3.896321   3.831461  ...   3.0   2.0   3.0   \n",
       "std      0.982037    1.002281    1.042368   1.013948  ...   NaN   NaN   NaN   \n",
       "min      1.000000    1.000000    1.000000   1.000000  ...   3.0   2.0   3.0   \n",
       "25%      3.000000    3.000000    3.000000   3.000000  ...   3.0   2.0   3.0   \n",
       "50%      4.000000    4.000000    4.000000   4.000000  ...   3.0   2.0   3.0   \n",
       "75%      5.000000    5.000000    5.000000   5.000000  ...   3.0   2.0   3.0   \n",
       "max      5.000000    5.000000    5.000000   5.000000  ...   3.0   2.0   3.0   \n",
       "\n",
       "       1678  1679  1680  1681  1682       media  desvio_padrao  \n",
       "count   1.0   1.0   1.0   1.0   1.0  943.000000     943.000000  \n",
       "mean    1.0   3.0   2.0   3.0   3.0    3.588191       1.019883  \n",
       "std     NaN   NaN   NaN   NaN   NaN    0.445233       0.205150  \n",
       "min     1.0   3.0   2.0   3.0   3.0    1.491954       0.344350  \n",
       "25%     1.0   3.0   2.0   3.0   3.0    3.323054       0.875950  \n",
       "50%     1.0   3.0   2.0   3.0   3.0    3.620690       1.012007  \n",
       "75%     1.0   3.0   2.0   3.0   3.0    3.869565       1.139879  \n",
       "max     1.0   3.0   2.0   3.0   3.0    4.869565       1.749906  \n",
       "\n",
       "[8 rows x 1684 columns]"
      ],
      "text/html": "<div>\n<style scoped>\n    .dataframe tbody tr th:only-of-type {\n        vertical-align: middle;\n    }\n\n    .dataframe tbody tr th {\n        vertical-align: top;\n    }\n\n    .dataframe thead th {\n        text-align: right;\n    }\n</style>\n<table border=\"1\" class=\"dataframe\">\n  <thead>\n    <tr style=\"text-align: right;\">\n      <th></th>\n      <th>1</th>\n      <th>2</th>\n      <th>3</th>\n      <th>4</th>\n      <th>5</th>\n      <th>6</th>\n      <th>7</th>\n      <th>8</th>\n      <th>9</th>\n      <th>10</th>\n      <th>...</th>\n      <th>1675</th>\n      <th>1676</th>\n      <th>1677</th>\n      <th>1678</th>\n      <th>1679</th>\n      <th>1680</th>\n      <th>1681</th>\n      <th>1682</th>\n      <th>media</th>\n      <th>desvio_padrao</th>\n    </tr>\n  </thead>\n  <tbody>\n    <tr>\n      <th>count</th>\n      <td>452.000000</td>\n      <td>131.000000</td>\n      <td>90.000000</td>\n      <td>209.000000</td>\n      <td>86.000000</td>\n      <td>26.000000</td>\n      <td>392.000000</td>\n      <td>219.000000</td>\n      <td>299.000000</td>\n      <td>89.000000</td>\n      <td>...</td>\n      <td>1.0</td>\n      <td>1.0</td>\n      <td>1.0</td>\n      <td>1.0</td>\n      <td>1.0</td>\n      <td>1.0</td>\n      <td>1.0</td>\n      <td>1.0</td>\n      <td>943.000000</td>\n      <td>943.000000</td>\n    </tr>\n    <tr>\n      <th>mean</th>\n      <td>3.878319</td>\n      <td>3.206107</td>\n      <td>3.033333</td>\n      <td>3.550239</td>\n      <td>3.302326</td>\n      <td>3.576923</td>\n      <td>3.798469</td>\n      <td>3.995434</td>\n      <td>3.896321</td>\n      <td>3.831461</td>\n      <td>...</td>\n      <td>3.0</td>\n      <td>2.0</td>\n      <td>3.0</td>\n      <td>1.0</td>\n      <td>3.0</td>\n      <td>2.0</td>\n      <td>3.0</td>\n      <td>3.0</td>\n      <td>3.588191</td>\n      <td>1.019883</td>\n    </tr>\n    <tr>\n      <th>std</th>\n      <td>0.927897</td>\n      <td>0.966497</td>\n      <td>1.212760</td>\n      <td>0.965069</td>\n      <td>0.946446</td>\n      <td>1.301478</td>\n      <td>0.982037</td>\n      <td>1.002281</td>\n      <td>1.042368</td>\n      <td>1.013948</td>\n      <td>...</td>\n      <td>NaN</td>\n      <td>NaN</td>\n      <td>NaN</td>\n      <td>NaN</td>\n      <td>NaN</td>\n      <td>NaN</td>\n      <td>NaN</td>\n      <td>NaN</td>\n      <td>0.445233</td>\n      <td>0.205150</td>\n    </tr>\n    <tr>\n      <th>min</th>\n      <td>1.000000</td>\n      <td>1.000000</td>\n      <td>1.000000</td>\n      <td>1.000000</td>\n      <td>1.000000</td>\n      <td>1.000000</td>\n      <td>1.000000</td>\n      <td>1.000000</td>\n      <td>1.000000</td>\n      <td>1.000000</td>\n      <td>...</td>\n      <td>3.0</td>\n      <td>2.0</td>\n      <td>3.0</td>\n      <td>1.0</td>\n      <td>3.0</td>\n      <td>2.0</td>\n      <td>3.0</td>\n      <td>3.0</td>\n      <td>1.491954</td>\n      <td>0.344350</td>\n    </tr>\n    <tr>\n      <th>25%</th>\n      <td>3.000000</td>\n      <td>3.000000</td>\n      <td>2.000000</td>\n      <td>3.000000</td>\n      <td>3.000000</td>\n      <td>3.000000</td>\n      <td>3.000000</td>\n      <td>3.000000</td>\n      <td>3.000000</td>\n      <td>3.000000</td>\n      <td>...</td>\n      <td>3.0</td>\n      <td>2.0</td>\n      <td>3.0</td>\n      <td>1.0</td>\n      <td>3.0</td>\n      <td>2.0</td>\n      <td>3.0</td>\n      <td>3.0</td>\n      <td>3.323054</td>\n      <td>0.875950</td>\n    </tr>\n    <tr>\n      <th>50%</th>\n      <td>4.000000</td>\n      <td>3.000000</td>\n      <td>3.000000</td>\n      <td>4.000000</td>\n      <td>3.000000</td>\n      <td>4.000000</td>\n      <td>4.000000</td>\n      <td>4.000000</td>\n      <td>4.000000</td>\n      <td>4.000000</td>\n      <td>...</td>\n      <td>3.0</td>\n      <td>2.0</td>\n      <td>3.0</td>\n      <td>1.0</td>\n      <td>3.0</td>\n      <td>2.0</td>\n      <td>3.0</td>\n      <td>3.0</td>\n      <td>3.620690</td>\n      <td>1.012007</td>\n    </tr>\n    <tr>\n      <th>75%</th>\n      <td>5.000000</td>\n      <td>4.000000</td>\n      <td>4.000000</td>\n      <td>4.000000</td>\n      <td>4.000000</td>\n      <td>5.000000</td>\n      <td>5.000000</td>\n      <td>5.000000</td>\n      <td>5.000000</td>\n      <td>5.000000</td>\n      <td>...</td>\n      <td>3.0</td>\n      <td>2.0</td>\n      <td>3.0</td>\n      <td>1.0</td>\n      <td>3.0</td>\n      <td>2.0</td>\n      <td>3.0</td>\n      <td>3.0</td>\n      <td>3.869565</td>\n      <td>1.139879</td>\n    </tr>\n    <tr>\n      <th>max</th>\n      <td>5.000000</td>\n      <td>5.000000</td>\n      <td>5.000000</td>\n      <td>5.000000</td>\n      <td>5.000000</td>\n      <td>5.000000</td>\n      <td>5.000000</td>\n      <td>5.000000</td>\n      <td>5.000000</td>\n      <td>5.000000</td>\n      <td>...</td>\n      <td>3.0</td>\n      <td>2.0</td>\n      <td>3.0</td>\n      <td>1.0</td>\n      <td>3.0</td>\n      <td>2.0</td>\n      <td>3.0</td>\n      <td>3.0</td>\n      <td>4.869565</td>\n      <td>1.749906</td>\n    </tr>\n  </tbody>\n</table>\n<p>8 rows × 1684 columns</p>\n</div>"
     },
     "metadata": {},
     "execution_count": 38
    }
   ],
   "source": [
    "notas_por_usuario.describe()"
   ]
  },
  {
   "cell_type": "code",
   "execution_count": 39,
   "metadata": {},
   "outputs": [
    {
     "output_type": "execute_result",
     "data": {
      "text/plain": [
       "       1    2    3    4    5    6    7    8    9   10  ...  1675  1676  1677  \\\n",
       "181  3.0  NaN  2.0  NaN  NaN  1.0  4.0  NaN  4.0  2.0  ...   NaN   NaN   NaN   \n",
       "405  NaN  1.0  NaN  4.0  4.0  NaN  NaN  4.0  NaN  NaN  ...   NaN   NaN   NaN   \n",
       "445  3.0  NaN  NaN  NaN  NaN  NaN  1.0  NaN  2.0  NaN  ...   NaN   NaN   NaN   \n",
       "685  NaN  NaN  NaN  NaN  NaN  NaN  NaN  NaN  NaN  NaN  ...   NaN   NaN   NaN   \n",
       "774  NaN  1.0  NaN  2.0  NaN  NaN  2.0  1.0  NaN  NaN  ...   NaN   NaN   NaN   \n",
       "..   ...  ...  ...  ...  ...  ...  ...  ...  ...  ...  ...   ...   ...   ...   \n",
       "928  NaN  NaN  NaN  NaN  NaN  NaN  NaN  5.0  5.0  NaN  ...   NaN   NaN   NaN   \n",
       "628  NaN  NaN  NaN  NaN  NaN  NaN  NaN  2.0  NaN  NaN  ...   NaN   NaN   NaN   \n",
       "507  NaN  NaN  NaN  NaN  NaN  NaN  NaN  NaN  NaN  NaN  ...   NaN   NaN   NaN   \n",
       "688  NaN  NaN  NaN  NaN  NaN  NaN  NaN  NaN  NaN  NaN  ...   NaN   NaN   NaN   \n",
       "849  NaN  NaN  NaN  NaN  NaN  NaN  NaN  NaN  NaN  NaN  ...   NaN   NaN   NaN   \n",
       "\n",
       "     1678  1679  1680  1681  1682     media  desvio_padrao  \n",
       "181   NaN   NaN   NaN   NaN   NaN  1.491954       0.846138  \n",
       "405   NaN   NaN   NaN   NaN   NaN  1.834464       1.345183  \n",
       "445   NaN   NaN   NaN   NaN   NaN  1.985185       1.099424  \n",
       "685   NaN   NaN   NaN   NaN   NaN  2.050000       0.759155  \n",
       "774   NaN   NaN   NaN   NaN   NaN  2.058036       1.140855  \n",
       "..    ...   ...   ...   ...   ...       ...            ...  \n",
       "928   NaN   NaN   NaN   NaN   NaN  4.687500       0.692704  \n",
       "628   NaN   NaN   NaN   NaN   NaN  4.703704       0.724028  \n",
       "507   NaN   NaN   NaN   NaN   NaN  4.724138       0.767614  \n",
       "688   NaN   NaN   NaN   NaN   NaN  4.833333       0.637022  \n",
       "849   NaN   NaN   NaN   NaN   NaN  4.869565       0.344350  \n",
       "\n",
       "[943 rows x 1684 columns]"
      ],
      "text/html": "<div>\n<style scoped>\n    .dataframe tbody tr th:only-of-type {\n        vertical-align: middle;\n    }\n\n    .dataframe tbody tr th {\n        vertical-align: top;\n    }\n\n    .dataframe thead th {\n        text-align: right;\n    }\n</style>\n<table border=\"1\" class=\"dataframe\">\n  <thead>\n    <tr style=\"text-align: right;\">\n      <th></th>\n      <th>1</th>\n      <th>2</th>\n      <th>3</th>\n      <th>4</th>\n      <th>5</th>\n      <th>6</th>\n      <th>7</th>\n      <th>8</th>\n      <th>9</th>\n      <th>10</th>\n      <th>...</th>\n      <th>1675</th>\n      <th>1676</th>\n      <th>1677</th>\n      <th>1678</th>\n      <th>1679</th>\n      <th>1680</th>\n      <th>1681</th>\n      <th>1682</th>\n      <th>media</th>\n      <th>desvio_padrao</th>\n    </tr>\n  </thead>\n  <tbody>\n    <tr>\n      <th>181</th>\n      <td>3.0</td>\n      <td>NaN</td>\n      <td>2.0</td>\n      <td>NaN</td>\n      <td>NaN</td>\n      <td>1.0</td>\n      <td>4.0</td>\n      <td>NaN</td>\n      <td>4.0</td>\n      <td>2.0</td>\n      <td>...</td>\n      <td>NaN</td>\n      <td>NaN</td>\n      <td>NaN</td>\n      <td>NaN</td>\n      <td>NaN</td>\n      <td>NaN</td>\n      <td>NaN</td>\n      <td>NaN</td>\n      <td>1.491954</td>\n      <td>0.846138</td>\n    </tr>\n    <tr>\n      <th>405</th>\n      <td>NaN</td>\n      <td>1.0</td>\n      <td>NaN</td>\n      <td>4.0</td>\n      <td>4.0</td>\n      <td>NaN</td>\n      <td>NaN</td>\n      <td>4.0</td>\n      <td>NaN</td>\n      <td>NaN</td>\n      <td>...</td>\n      <td>NaN</td>\n      <td>NaN</td>\n      <td>NaN</td>\n      <td>NaN</td>\n      <td>NaN</td>\n      <td>NaN</td>\n      <td>NaN</td>\n      <td>NaN</td>\n      <td>1.834464</td>\n      <td>1.345183</td>\n    </tr>\n    <tr>\n      <th>445</th>\n      <td>3.0</td>\n      <td>NaN</td>\n      <td>NaN</td>\n      <td>NaN</td>\n      <td>NaN</td>\n      <td>NaN</td>\n      <td>1.0</td>\n      <td>NaN</td>\n      <td>2.0</td>\n      <td>NaN</td>\n      <td>...</td>\n      <td>NaN</td>\n      <td>NaN</td>\n      <td>NaN</td>\n      <td>NaN</td>\n      <td>NaN</td>\n      <td>NaN</td>\n      <td>NaN</td>\n      <td>NaN</td>\n      <td>1.985185</td>\n      <td>1.099424</td>\n    </tr>\n    <tr>\n      <th>685</th>\n      <td>NaN</td>\n      <td>NaN</td>\n      <td>NaN</td>\n      <td>NaN</td>\n      <td>NaN</td>\n      <td>NaN</td>\n      <td>NaN</td>\n      <td>NaN</td>\n      <td>NaN</td>\n      <td>NaN</td>\n      <td>...</td>\n      <td>NaN</td>\n      <td>NaN</td>\n      <td>NaN</td>\n      <td>NaN</td>\n      <td>NaN</td>\n      <td>NaN</td>\n      <td>NaN</td>\n      <td>NaN</td>\n      <td>2.050000</td>\n      <td>0.759155</td>\n    </tr>\n    <tr>\n      <th>774</th>\n      <td>NaN</td>\n      <td>1.0</td>\n      <td>NaN</td>\n      <td>2.0</td>\n      <td>NaN</td>\n      <td>NaN</td>\n      <td>2.0</td>\n      <td>1.0</td>\n      <td>NaN</td>\n      <td>NaN</td>\n      <td>...</td>\n      <td>NaN</td>\n      <td>NaN</td>\n      <td>NaN</td>\n      <td>NaN</td>\n      <td>NaN</td>\n      <td>NaN</td>\n      <td>NaN</td>\n      <td>NaN</td>\n      <td>2.058036</td>\n      <td>1.140855</td>\n    </tr>\n    <tr>\n      <th>...</th>\n      <td>...</td>\n      <td>...</td>\n      <td>...</td>\n      <td>...</td>\n      <td>...</td>\n      <td>...</td>\n      <td>...</td>\n      <td>...</td>\n      <td>...</td>\n      <td>...</td>\n      <td>...</td>\n      <td>...</td>\n      <td>...</td>\n      <td>...</td>\n      <td>...</td>\n      <td>...</td>\n      <td>...</td>\n      <td>...</td>\n      <td>...</td>\n      <td>...</td>\n      <td>...</td>\n    </tr>\n    <tr>\n      <th>928</th>\n      <td>NaN</td>\n      <td>NaN</td>\n      <td>NaN</td>\n      <td>NaN</td>\n      <td>NaN</td>\n      <td>NaN</td>\n      <td>NaN</td>\n      <td>5.0</td>\n      <td>5.0</td>\n      <td>NaN</td>\n      <td>...</td>\n      <td>NaN</td>\n      <td>NaN</td>\n      <td>NaN</td>\n      <td>NaN</td>\n      <td>NaN</td>\n      <td>NaN</td>\n      <td>NaN</td>\n      <td>NaN</td>\n      <td>4.687500</td>\n      <td>0.692704</td>\n    </tr>\n    <tr>\n      <th>628</th>\n      <td>NaN</td>\n      <td>NaN</td>\n      <td>NaN</td>\n      <td>NaN</td>\n      <td>NaN</td>\n      <td>NaN</td>\n      <td>NaN</td>\n      <td>2.0</td>\n      <td>NaN</td>\n      <td>NaN</td>\n      <td>...</td>\n      <td>NaN</td>\n      <td>NaN</td>\n      <td>NaN</td>\n      <td>NaN</td>\n      <td>NaN</td>\n      <td>NaN</td>\n      <td>NaN</td>\n      <td>NaN</td>\n      <td>4.703704</td>\n      <td>0.724028</td>\n    </tr>\n    <tr>\n      <th>507</th>\n      <td>NaN</td>\n      <td>NaN</td>\n      <td>NaN</td>\n      <td>NaN</td>\n      <td>NaN</td>\n      <td>NaN</td>\n      <td>NaN</td>\n      <td>NaN</td>\n      <td>NaN</td>\n      <td>NaN</td>\n      <td>...</td>\n      <td>NaN</td>\n      <td>NaN</td>\n      <td>NaN</td>\n      <td>NaN</td>\n      <td>NaN</td>\n      <td>NaN</td>\n      <td>NaN</td>\n      <td>NaN</td>\n      <td>4.724138</td>\n      <td>0.767614</td>\n    </tr>\n    <tr>\n      <th>688</th>\n      <td>NaN</td>\n      <td>NaN</td>\n      <td>NaN</td>\n      <td>NaN</td>\n      <td>NaN</td>\n      <td>NaN</td>\n      <td>NaN</td>\n      <td>NaN</td>\n      <td>NaN</td>\n      <td>NaN</td>\n      <td>...</td>\n      <td>NaN</td>\n      <td>NaN</td>\n      <td>NaN</td>\n      <td>NaN</td>\n      <td>NaN</td>\n      <td>NaN</td>\n      <td>NaN</td>\n      <td>NaN</td>\n      <td>4.833333</td>\n      <td>0.637022</td>\n    </tr>\n    <tr>\n      <th>849</th>\n      <td>NaN</td>\n      <td>NaN</td>\n      <td>NaN</td>\n      <td>NaN</td>\n      <td>NaN</td>\n      <td>NaN</td>\n      <td>NaN</td>\n      <td>NaN</td>\n      <td>NaN</td>\n      <td>NaN</td>\n      <td>...</td>\n      <td>NaN</td>\n      <td>NaN</td>\n      <td>NaN</td>\n      <td>NaN</td>\n      <td>NaN</td>\n      <td>NaN</td>\n      <td>NaN</td>\n      <td>NaN</td>\n      <td>4.869565</td>\n      <td>0.344350</td>\n    </tr>\n  </tbody>\n</table>\n<p>943 rows × 1684 columns</p>\n</div>"
     },
     "metadata": {},
     "execution_count": 39
    }
   ],
   "source": [
    "notas_por_usuario.sort_values('media', ascending=True) # para verificar usuários que avaliam mais negativamente"
   ]
  },
  {
   "cell_type": "code",
   "execution_count": 40,
   "metadata": {},
   "outputs": [
    {
     "output_type": "execute_result",
     "data": {
      "text/plain": [
       "       1    2    3    4    5    6    7    8    9   10  ...  1675  1676  1677  \\\n",
       "849  NaN  NaN  NaN  NaN  NaN  NaN  NaN  NaN  NaN  NaN  ...   NaN   NaN   NaN   \n",
       "688  NaN  NaN  NaN  NaN  NaN  NaN  NaN  NaN  NaN  NaN  ...   NaN   NaN   NaN   \n",
       "507  NaN  NaN  NaN  NaN  NaN  NaN  NaN  NaN  NaN  NaN  ...   NaN   NaN   NaN   \n",
       "628  NaN  NaN  NaN  NaN  NaN  NaN  NaN  2.0  NaN  NaN  ...   NaN   NaN   NaN   \n",
       "928  NaN  NaN  NaN  NaN  NaN  NaN  NaN  5.0  5.0  NaN  ...   NaN   NaN   NaN   \n",
       "..   ...  ...  ...  ...  ...  ...  ...  ...  ...  ...  ...   ...   ...   ...   \n",
       "774  NaN  1.0  NaN  2.0  NaN  NaN  2.0  1.0  NaN  NaN  ...   NaN   NaN   NaN   \n",
       "685  NaN  NaN  NaN  NaN  NaN  NaN  NaN  NaN  NaN  NaN  ...   NaN   NaN   NaN   \n",
       "445  3.0  NaN  NaN  NaN  NaN  NaN  1.0  NaN  2.0  NaN  ...   NaN   NaN   NaN   \n",
       "405  NaN  1.0  NaN  4.0  4.0  NaN  NaN  4.0  NaN  NaN  ...   NaN   NaN   NaN   \n",
       "181  3.0  NaN  2.0  NaN  NaN  1.0  4.0  NaN  4.0  2.0  ...   NaN   NaN   NaN   \n",
       "\n",
       "     1678  1679  1680  1681  1682     media  desvio_padrao  \n",
       "849   NaN   NaN   NaN   NaN   NaN  4.869565       0.344350  \n",
       "688   NaN   NaN   NaN   NaN   NaN  4.833333       0.637022  \n",
       "507   NaN   NaN   NaN   NaN   NaN  4.724138       0.767614  \n",
       "628   NaN   NaN   NaN   NaN   NaN  4.703704       0.724028  \n",
       "928   NaN   NaN   NaN   NaN   NaN  4.687500       0.692704  \n",
       "..    ...   ...   ...   ...   ...       ...            ...  \n",
       "774   NaN   NaN   NaN   NaN   NaN  2.058036       1.140855  \n",
       "685   NaN   NaN   NaN   NaN   NaN  2.050000       0.759155  \n",
       "445   NaN   NaN   NaN   NaN   NaN  1.985185       1.099424  \n",
       "405   NaN   NaN   NaN   NaN   NaN  1.834464       1.345183  \n",
       "181   NaN   NaN   NaN   NaN   NaN  1.491954       0.846138  \n",
       "\n",
       "[943 rows x 1684 columns]"
      ],
      "text/html": "<div>\n<style scoped>\n    .dataframe tbody tr th:only-of-type {\n        vertical-align: middle;\n    }\n\n    .dataframe tbody tr th {\n        vertical-align: top;\n    }\n\n    .dataframe thead th {\n        text-align: right;\n    }\n</style>\n<table border=\"1\" class=\"dataframe\">\n  <thead>\n    <tr style=\"text-align: right;\">\n      <th></th>\n      <th>1</th>\n      <th>2</th>\n      <th>3</th>\n      <th>4</th>\n      <th>5</th>\n      <th>6</th>\n      <th>7</th>\n      <th>8</th>\n      <th>9</th>\n      <th>10</th>\n      <th>...</th>\n      <th>1675</th>\n      <th>1676</th>\n      <th>1677</th>\n      <th>1678</th>\n      <th>1679</th>\n      <th>1680</th>\n      <th>1681</th>\n      <th>1682</th>\n      <th>media</th>\n      <th>desvio_padrao</th>\n    </tr>\n  </thead>\n  <tbody>\n    <tr>\n      <th>849</th>\n      <td>NaN</td>\n      <td>NaN</td>\n      <td>NaN</td>\n      <td>NaN</td>\n      <td>NaN</td>\n      <td>NaN</td>\n      <td>NaN</td>\n      <td>NaN</td>\n      <td>NaN</td>\n      <td>NaN</td>\n      <td>...</td>\n      <td>NaN</td>\n      <td>NaN</td>\n      <td>NaN</td>\n      <td>NaN</td>\n      <td>NaN</td>\n      <td>NaN</td>\n      <td>NaN</td>\n      <td>NaN</td>\n      <td>4.869565</td>\n      <td>0.344350</td>\n    </tr>\n    <tr>\n      <th>688</th>\n      <td>NaN</td>\n      <td>NaN</td>\n      <td>NaN</td>\n      <td>NaN</td>\n      <td>NaN</td>\n      <td>NaN</td>\n      <td>NaN</td>\n      <td>NaN</td>\n      <td>NaN</td>\n      <td>NaN</td>\n      <td>...</td>\n      <td>NaN</td>\n      <td>NaN</td>\n      <td>NaN</td>\n      <td>NaN</td>\n      <td>NaN</td>\n      <td>NaN</td>\n      <td>NaN</td>\n      <td>NaN</td>\n      <td>4.833333</td>\n      <td>0.637022</td>\n    </tr>\n    <tr>\n      <th>507</th>\n      <td>NaN</td>\n      <td>NaN</td>\n      <td>NaN</td>\n      <td>NaN</td>\n      <td>NaN</td>\n      <td>NaN</td>\n      <td>NaN</td>\n      <td>NaN</td>\n      <td>NaN</td>\n      <td>NaN</td>\n      <td>...</td>\n      <td>NaN</td>\n      <td>NaN</td>\n      <td>NaN</td>\n      <td>NaN</td>\n      <td>NaN</td>\n      <td>NaN</td>\n      <td>NaN</td>\n      <td>NaN</td>\n      <td>4.724138</td>\n      <td>0.767614</td>\n    </tr>\n    <tr>\n      <th>628</th>\n      <td>NaN</td>\n      <td>NaN</td>\n      <td>NaN</td>\n      <td>NaN</td>\n      <td>NaN</td>\n      <td>NaN</td>\n      <td>NaN</td>\n      <td>2.0</td>\n      <td>NaN</td>\n      <td>NaN</td>\n      <td>...</td>\n      <td>NaN</td>\n      <td>NaN</td>\n      <td>NaN</td>\n      <td>NaN</td>\n      <td>NaN</td>\n      <td>NaN</td>\n      <td>NaN</td>\n      <td>NaN</td>\n      <td>4.703704</td>\n      <td>0.724028</td>\n    </tr>\n    <tr>\n      <th>928</th>\n      <td>NaN</td>\n      <td>NaN</td>\n      <td>NaN</td>\n      <td>NaN</td>\n      <td>NaN</td>\n      <td>NaN</td>\n      <td>NaN</td>\n      <td>5.0</td>\n      <td>5.0</td>\n      <td>NaN</td>\n      <td>...</td>\n      <td>NaN</td>\n      <td>NaN</td>\n      <td>NaN</td>\n      <td>NaN</td>\n      <td>NaN</td>\n      <td>NaN</td>\n      <td>NaN</td>\n      <td>NaN</td>\n      <td>4.687500</td>\n      <td>0.692704</td>\n    </tr>\n    <tr>\n      <th>...</th>\n      <td>...</td>\n      <td>...</td>\n      <td>...</td>\n      <td>...</td>\n      <td>...</td>\n      <td>...</td>\n      <td>...</td>\n      <td>...</td>\n      <td>...</td>\n      <td>...</td>\n      <td>...</td>\n      <td>...</td>\n      <td>...</td>\n      <td>...</td>\n      <td>...</td>\n      <td>...</td>\n      <td>...</td>\n      <td>...</td>\n      <td>...</td>\n      <td>...</td>\n      <td>...</td>\n    </tr>\n    <tr>\n      <th>774</th>\n      <td>NaN</td>\n      <td>1.0</td>\n      <td>NaN</td>\n      <td>2.0</td>\n      <td>NaN</td>\n      <td>NaN</td>\n      <td>2.0</td>\n      <td>1.0</td>\n      <td>NaN</td>\n      <td>NaN</td>\n      <td>...</td>\n      <td>NaN</td>\n      <td>NaN</td>\n      <td>NaN</td>\n      <td>NaN</td>\n      <td>NaN</td>\n      <td>NaN</td>\n      <td>NaN</td>\n      <td>NaN</td>\n      <td>2.058036</td>\n      <td>1.140855</td>\n    </tr>\n    <tr>\n      <th>685</th>\n      <td>NaN</td>\n      <td>NaN</td>\n      <td>NaN</td>\n      <td>NaN</td>\n      <td>NaN</td>\n      <td>NaN</td>\n      <td>NaN</td>\n      <td>NaN</td>\n      <td>NaN</td>\n      <td>NaN</td>\n      <td>...</td>\n      <td>NaN</td>\n      <td>NaN</td>\n      <td>NaN</td>\n      <td>NaN</td>\n      <td>NaN</td>\n      <td>NaN</td>\n      <td>NaN</td>\n      <td>NaN</td>\n      <td>2.050000</td>\n      <td>0.759155</td>\n    </tr>\n    <tr>\n      <th>445</th>\n      <td>3.0</td>\n      <td>NaN</td>\n      <td>NaN</td>\n      <td>NaN</td>\n      <td>NaN</td>\n      <td>NaN</td>\n      <td>1.0</td>\n      <td>NaN</td>\n      <td>2.0</td>\n      <td>NaN</td>\n      <td>...</td>\n      <td>NaN</td>\n      <td>NaN</td>\n      <td>NaN</td>\n      <td>NaN</td>\n      <td>NaN</td>\n      <td>NaN</td>\n      <td>NaN</td>\n      <td>NaN</td>\n      <td>1.985185</td>\n      <td>1.099424</td>\n    </tr>\n    <tr>\n      <th>405</th>\n      <td>NaN</td>\n      <td>1.0</td>\n      <td>NaN</td>\n      <td>4.0</td>\n      <td>4.0</td>\n      <td>NaN</td>\n      <td>NaN</td>\n      <td>4.0</td>\n      <td>NaN</td>\n      <td>NaN</td>\n      <td>...</td>\n      <td>NaN</td>\n      <td>NaN</td>\n      <td>NaN</td>\n      <td>NaN</td>\n      <td>NaN</td>\n      <td>NaN</td>\n      <td>NaN</td>\n      <td>NaN</td>\n      <td>1.834464</td>\n      <td>1.345183</td>\n    </tr>\n    <tr>\n      <th>181</th>\n      <td>3.0</td>\n      <td>NaN</td>\n      <td>2.0</td>\n      <td>NaN</td>\n      <td>NaN</td>\n      <td>1.0</td>\n      <td>4.0</td>\n      <td>NaN</td>\n      <td>4.0</td>\n      <td>2.0</td>\n      <td>...</td>\n      <td>NaN</td>\n      <td>NaN</td>\n      <td>NaN</td>\n      <td>NaN</td>\n      <td>NaN</td>\n      <td>NaN</td>\n      <td>NaN</td>\n      <td>NaN</td>\n      <td>1.491954</td>\n      <td>0.846138</td>\n    </tr>\n  </tbody>\n</table>\n<p>943 rows × 1684 columns</p>\n</div>"
     },
     "metadata": {},
     "execution_count": 40
    }
   ],
   "source": [
    "notas_por_usuario.sort_values('media', ascending=False) # para verificar usuários que avaliam mais positivamente"
   ]
  },
  {
   "cell_type": "code",
   "execution_count": 41,
   "metadata": {},
   "outputs": [
    {
     "output_type": "execute_result",
     "data": {
      "text/plain": [
       "849    0.344350\n",
       "355    0.483576\n",
       "477    0.505433\n",
       "469    0.549841\n",
       "33     0.550033\n",
       "         ...   \n",
       "38     1.598036\n",
       "68     1.604639\n",
       "531    1.654322\n",
       "762    1.687489\n",
       "609    1.749906\n",
       "Name: desvio_padrao, Length: 943, dtype: float64"
      ]
     },
     "metadata": {},
     "execution_count": 41
    }
   ],
   "source": [
    "notas_por_usuario['desvio_padrao'].sort_values() # usuários que avaliam filmes de forma mais uniformes, de acordo com desvio padrão"
   ]
  },
  {
   "cell_type": "code",
   "execution_count": 42,
   "metadata": {},
   "outputs": [],
   "source": [
    "variancia = notas_por_usuario['variancia'] = notas_por_usuario.var(axis=1)"
   ]
  },
  {
   "cell_type": "code",
   "execution_count": 43,
   "metadata": {},
   "outputs": [
    {
     "output_type": "execute_result",
     "data": {
      "text/plain": [
       "     1    2    3    4    5    6    7    8    9   10  ...  1676  1677  1678  \\\n",
       "1  5.0  3.0  4.0  3.0  3.0  5.0  4.0  1.0  5.0  3.0  ...   NaN   NaN   NaN   \n",
       "2  4.0  NaN  NaN  NaN  NaN  NaN  NaN  NaN  NaN  2.0  ...   NaN   NaN   NaN   \n",
       "3  NaN  NaN  NaN  NaN  NaN  NaN  NaN  NaN  NaN  NaN  ...   NaN   NaN   NaN   \n",
       "4  NaN  NaN  NaN  NaN  NaN  NaN  NaN  NaN  NaN  NaN  ...   NaN   NaN   NaN   \n",
       "5  4.0  3.0  NaN  NaN  NaN  NaN  NaN  NaN  NaN  NaN  ...   NaN   NaN   NaN   \n",
       "\n",
       "   1679  1680  1681  1682     media  desvio_padrao  variancia  \n",
       "1   NaN   NaN   NaN   NaN  3.610294       1.263585   1.605048  \n",
       "2   NaN   NaN   NaN   NaN  3.709677       1.030472   1.140320  \n",
       "3   NaN   NaN   NaN   NaN  2.796296       1.219026   1.476411  \n",
       "4   NaN   NaN   NaN   NaN  4.333333       0.916831   1.222275  \n",
       "5   NaN   NaN   NaN   NaN  2.874286       1.362963   1.849463  \n",
       "\n",
       "[5 rows x 1685 columns]"
      ],
      "text/html": "<div>\n<style scoped>\n    .dataframe tbody tr th:only-of-type {\n        vertical-align: middle;\n    }\n\n    .dataframe tbody tr th {\n        vertical-align: top;\n    }\n\n    .dataframe thead th {\n        text-align: right;\n    }\n</style>\n<table border=\"1\" class=\"dataframe\">\n  <thead>\n    <tr style=\"text-align: right;\">\n      <th></th>\n      <th>1</th>\n      <th>2</th>\n      <th>3</th>\n      <th>4</th>\n      <th>5</th>\n      <th>6</th>\n      <th>7</th>\n      <th>8</th>\n      <th>9</th>\n      <th>10</th>\n      <th>...</th>\n      <th>1676</th>\n      <th>1677</th>\n      <th>1678</th>\n      <th>1679</th>\n      <th>1680</th>\n      <th>1681</th>\n      <th>1682</th>\n      <th>media</th>\n      <th>desvio_padrao</th>\n      <th>variancia</th>\n    </tr>\n  </thead>\n  <tbody>\n    <tr>\n      <th>1</th>\n      <td>5.0</td>\n      <td>3.0</td>\n      <td>4.0</td>\n      <td>3.0</td>\n      <td>3.0</td>\n      <td>5.0</td>\n      <td>4.0</td>\n      <td>1.0</td>\n      <td>5.0</td>\n      <td>3.0</td>\n      <td>...</td>\n      <td>NaN</td>\n      <td>NaN</td>\n      <td>NaN</td>\n      <td>NaN</td>\n      <td>NaN</td>\n      <td>NaN</td>\n      <td>NaN</td>\n      <td>3.610294</td>\n      <td>1.263585</td>\n      <td>1.605048</td>\n    </tr>\n    <tr>\n      <th>2</th>\n      <td>4.0</td>\n      <td>NaN</td>\n      <td>NaN</td>\n      <td>NaN</td>\n      <td>NaN</td>\n      <td>NaN</td>\n      <td>NaN</td>\n      <td>NaN</td>\n      <td>NaN</td>\n      <td>2.0</td>\n      <td>...</td>\n      <td>NaN</td>\n      <td>NaN</td>\n      <td>NaN</td>\n      <td>NaN</td>\n      <td>NaN</td>\n      <td>NaN</td>\n      <td>NaN</td>\n      <td>3.709677</td>\n      <td>1.030472</td>\n      <td>1.140320</td>\n    </tr>\n    <tr>\n      <th>3</th>\n      <td>NaN</td>\n      <td>NaN</td>\n      <td>NaN</td>\n      <td>NaN</td>\n      <td>NaN</td>\n      <td>NaN</td>\n      <td>NaN</td>\n      <td>NaN</td>\n      <td>NaN</td>\n      <td>NaN</td>\n      <td>...</td>\n      <td>NaN</td>\n      <td>NaN</td>\n      <td>NaN</td>\n      <td>NaN</td>\n      <td>NaN</td>\n      <td>NaN</td>\n      <td>NaN</td>\n      <td>2.796296</td>\n      <td>1.219026</td>\n      <td>1.476411</td>\n    </tr>\n    <tr>\n      <th>4</th>\n      <td>NaN</td>\n      <td>NaN</td>\n      <td>NaN</td>\n      <td>NaN</td>\n      <td>NaN</td>\n      <td>NaN</td>\n      <td>NaN</td>\n      <td>NaN</td>\n      <td>NaN</td>\n      <td>NaN</td>\n      <td>...</td>\n      <td>NaN</td>\n      <td>NaN</td>\n      <td>NaN</td>\n      <td>NaN</td>\n      <td>NaN</td>\n      <td>NaN</td>\n      <td>NaN</td>\n      <td>4.333333</td>\n      <td>0.916831</td>\n      <td>1.222275</td>\n    </tr>\n    <tr>\n      <th>5</th>\n      <td>4.0</td>\n      <td>3.0</td>\n      <td>NaN</td>\n      <td>NaN</td>\n      <td>NaN</td>\n      <td>NaN</td>\n      <td>NaN</td>\n      <td>NaN</td>\n      <td>NaN</td>\n      <td>NaN</td>\n      <td>...</td>\n      <td>NaN</td>\n      <td>NaN</td>\n      <td>NaN</td>\n      <td>NaN</td>\n      <td>NaN</td>\n      <td>NaN</td>\n      <td>NaN</td>\n      <td>2.874286</td>\n      <td>1.362963</td>\n      <td>1.849463</td>\n    </tr>\n  </tbody>\n</table>\n<p>5 rows × 1685 columns</p>\n</div>"
     },
     "metadata": {},
     "execution_count": 43
    }
   ],
   "source": [
    "notas_por_usuario.head()"
   ]
  },
  {
   "cell_type": "code",
   "execution_count": 44,
   "metadata": {},
   "outputs": [],
   "source": [
    "zscore_notas = notas_por_usuario - notas_por_usuario.stack().mean() / notas_por_usuario.stack().std()"
   ]
  },
  {
   "cell_type": "code",
   "execution_count": 45,
   "metadata": {},
   "outputs": [],
   "source": [
    "notas_padronizadas = zscore_notas"
   ]
  },
  {
   "cell_type": "code",
   "execution_count": 46,
   "metadata": {},
   "outputs": [
    {
     "output_type": "execute_result",
     "data": {
      "text/plain": [
       "         1        2        3        4        5        6        7        8  \\\n",
       "1  1.99198 -0.00802  0.99198 -0.00802 -0.00802  1.99198  0.99198 -2.00802   \n",
       "2  0.99198      NaN      NaN      NaN      NaN      NaN      NaN      NaN   \n",
       "3      NaN      NaN      NaN      NaN      NaN      NaN      NaN      NaN   \n",
       "4      NaN      NaN      NaN      NaN      NaN      NaN      NaN      NaN   \n",
       "5  0.99198 -0.00802      NaN      NaN      NaN      NaN      NaN      NaN   \n",
       "\n",
       "         9       10  ...  1676  1677  1678  1679  1680  1681  1682     media  \\\n",
       "1  1.99198 -0.00802  ...   NaN   NaN   NaN   NaN   NaN   NaN   NaN  0.602274   \n",
       "2      NaN -1.00802  ...   NaN   NaN   NaN   NaN   NaN   NaN   NaN  0.701657   \n",
       "3      NaN      NaN  ...   NaN   NaN   NaN   NaN   NaN   NaN   NaN -0.211724   \n",
       "4      NaN      NaN  ...   NaN   NaN   NaN   NaN   NaN   NaN   NaN  1.325313   \n",
       "5      NaN      NaN  ...   NaN   NaN   NaN   NaN   NaN   NaN   NaN -0.133734   \n",
       "\n",
       "   desvio_padrao  variancia  \n",
       "1      -1.744435  -1.402972  \n",
       "2      -1.977548  -1.867700  \n",
       "3      -1.788994  -1.531609  \n",
       "4      -2.091189  -1.785745  \n",
       "5      -1.645057  -1.158557  \n",
       "\n",
       "[5 rows x 1685 columns]"
      ],
      "text/html": "<div>\n<style scoped>\n    .dataframe tbody tr th:only-of-type {\n        vertical-align: middle;\n    }\n\n    .dataframe tbody tr th {\n        vertical-align: top;\n    }\n\n    .dataframe thead th {\n        text-align: right;\n    }\n</style>\n<table border=\"1\" class=\"dataframe\">\n  <thead>\n    <tr style=\"text-align: right;\">\n      <th></th>\n      <th>1</th>\n      <th>2</th>\n      <th>3</th>\n      <th>4</th>\n      <th>5</th>\n      <th>6</th>\n      <th>7</th>\n      <th>8</th>\n      <th>9</th>\n      <th>10</th>\n      <th>...</th>\n      <th>1676</th>\n      <th>1677</th>\n      <th>1678</th>\n      <th>1679</th>\n      <th>1680</th>\n      <th>1681</th>\n      <th>1682</th>\n      <th>media</th>\n      <th>desvio_padrao</th>\n      <th>variancia</th>\n    </tr>\n  </thead>\n  <tbody>\n    <tr>\n      <th>1</th>\n      <td>1.99198</td>\n      <td>-0.00802</td>\n      <td>0.99198</td>\n      <td>-0.00802</td>\n      <td>-0.00802</td>\n      <td>1.99198</td>\n      <td>0.99198</td>\n      <td>-2.00802</td>\n      <td>1.99198</td>\n      <td>-0.00802</td>\n      <td>...</td>\n      <td>NaN</td>\n      <td>NaN</td>\n      <td>NaN</td>\n      <td>NaN</td>\n      <td>NaN</td>\n      <td>NaN</td>\n      <td>NaN</td>\n      <td>0.602274</td>\n      <td>-1.744435</td>\n      <td>-1.402972</td>\n    </tr>\n    <tr>\n      <th>2</th>\n      <td>0.99198</td>\n      <td>NaN</td>\n      <td>NaN</td>\n      <td>NaN</td>\n      <td>NaN</td>\n      <td>NaN</td>\n      <td>NaN</td>\n      <td>NaN</td>\n      <td>NaN</td>\n      <td>-1.00802</td>\n      <td>...</td>\n      <td>NaN</td>\n      <td>NaN</td>\n      <td>NaN</td>\n      <td>NaN</td>\n      <td>NaN</td>\n      <td>NaN</td>\n      <td>NaN</td>\n      <td>0.701657</td>\n      <td>-1.977548</td>\n      <td>-1.867700</td>\n    </tr>\n    <tr>\n      <th>3</th>\n      <td>NaN</td>\n      <td>NaN</td>\n      <td>NaN</td>\n      <td>NaN</td>\n      <td>NaN</td>\n      <td>NaN</td>\n      <td>NaN</td>\n      <td>NaN</td>\n      <td>NaN</td>\n      <td>NaN</td>\n      <td>...</td>\n      <td>NaN</td>\n      <td>NaN</td>\n      <td>NaN</td>\n      <td>NaN</td>\n      <td>NaN</td>\n      <td>NaN</td>\n      <td>NaN</td>\n      <td>-0.211724</td>\n      <td>-1.788994</td>\n      <td>-1.531609</td>\n    </tr>\n    <tr>\n      <th>4</th>\n      <td>NaN</td>\n      <td>NaN</td>\n      <td>NaN</td>\n      <td>NaN</td>\n      <td>NaN</td>\n      <td>NaN</td>\n      <td>NaN</td>\n      <td>NaN</td>\n      <td>NaN</td>\n      <td>NaN</td>\n      <td>...</td>\n      <td>NaN</td>\n      <td>NaN</td>\n      <td>NaN</td>\n      <td>NaN</td>\n      <td>NaN</td>\n      <td>NaN</td>\n      <td>NaN</td>\n      <td>1.325313</td>\n      <td>-2.091189</td>\n      <td>-1.785745</td>\n    </tr>\n    <tr>\n      <th>5</th>\n      <td>0.99198</td>\n      <td>-0.00802</td>\n      <td>NaN</td>\n      <td>NaN</td>\n      <td>NaN</td>\n      <td>NaN</td>\n      <td>NaN</td>\n      <td>NaN</td>\n      <td>NaN</td>\n      <td>NaN</td>\n      <td>...</td>\n      <td>NaN</td>\n      <td>NaN</td>\n      <td>NaN</td>\n      <td>NaN</td>\n      <td>NaN</td>\n      <td>NaN</td>\n      <td>NaN</td>\n      <td>-0.133734</td>\n      <td>-1.645057</td>\n      <td>-1.158557</td>\n    </tr>\n  </tbody>\n</table>\n<p>5 rows × 1685 columns</p>\n</div>"
     },
     "metadata": {},
     "execution_count": 46
    }
   ],
   "source": [
    "zscore_notas.head()"
   ]
  },
  {
   "cell_type": "code",
   "execution_count": 47,
   "metadata": {},
   "outputs": [
    {
     "output_type": "execute_result",
     "data": {
      "text/plain": [
       "array([False])"
      ]
     },
     "metadata": {},
     "execution_count": 47
    }
   ],
   "source": [
    "(zscore_notas.stack()>3).unique() # retorna falso, não há outliers"
   ]
  },
  {
   "cell_type": "code",
   "execution_count": 48,
   "metadata": {},
   "outputs": [
    {
     "output_type": "execute_result",
     "data": {
      "text/plain": [
       "           1        2        3        4        5        6        7        8  \\\n",
       "1    1.99198 -0.00802  0.99198 -0.00802 -0.00802  1.99198  0.99198 -2.00802   \n",
       "2    0.99198      NaN      NaN      NaN      NaN      NaN      NaN      NaN   \n",
       "3        NaN      NaN      NaN      NaN      NaN      NaN      NaN      NaN   \n",
       "4        NaN      NaN      NaN      NaN      NaN      NaN      NaN      NaN   \n",
       "5    0.99198 -0.00802      NaN      NaN      NaN      NaN      NaN      NaN   \n",
       "..       ...      ...      ...      ...      ...      ...      ...      ...   \n",
       "939      NaN      NaN      NaN      NaN      NaN      NaN      NaN      NaN   \n",
       "940      NaN      NaN      NaN -1.00802      NaN      NaN  0.99198  1.99198   \n",
       "941  1.99198      NaN      NaN      NaN      NaN      NaN  0.99198      NaN   \n",
       "942      NaN      NaN      NaN      NaN      NaN      NaN      NaN      NaN   \n",
       "943      NaN  1.99198      NaN      NaN      NaN      NaN      NaN      NaN   \n",
       "\n",
       "           9       10  ...  1676  1677  1678  1679  1680  1681  1682  \\\n",
       "1    1.99198 -0.00802  ...   NaN   NaN   NaN   NaN   NaN   NaN   NaN   \n",
       "2        NaN -1.00802  ...   NaN   NaN   NaN   NaN   NaN   NaN   NaN   \n",
       "3        NaN      NaN  ...   NaN   NaN   NaN   NaN   NaN   NaN   NaN   \n",
       "4        NaN      NaN  ...   NaN   NaN   NaN   NaN   NaN   NaN   NaN   \n",
       "5        NaN      NaN  ...   NaN   NaN   NaN   NaN   NaN   NaN   NaN   \n",
       "..       ...      ...  ...   ...   ...   ...   ...   ...   ...   ...   \n",
       "939  1.99198      NaN  ...   NaN   NaN   NaN   NaN   NaN   NaN   NaN   \n",
       "940 -0.00802      NaN  ...   NaN   NaN   NaN   NaN   NaN   NaN   NaN   \n",
       "941      NaN      NaN  ...   NaN   NaN   NaN   NaN   NaN   NaN   NaN   \n",
       "942      NaN      NaN  ...   NaN   NaN   NaN   NaN   NaN   NaN   NaN   \n",
       "943 -0.00802      NaN  ...   NaN   NaN   NaN   NaN   NaN   NaN   NaN   \n",
       "\n",
       "        media  desvio_padrao  variancia  \n",
       "1    0.602274      -1.744435  -1.402972  \n",
       "2    0.701657      -1.977548  -1.867700  \n",
       "3   -0.211724      -1.788994  -1.531609  \n",
       "4    1.325313      -2.091189  -1.785745  \n",
       "5   -0.133734      -1.645057  -1.158557  \n",
       "..        ...            ...        ...  \n",
       "939  1.257286      -2.033864  -1.884614  \n",
       "940  0.449924      -1.996013  -1.947942  \n",
       "941  1.037434      -2.109488  -1.858236  \n",
       "942  1.257803      -2.244948  -2.288826  \n",
       "943  0.402694      -1.749134  -1.414743  \n",
       "\n",
       "[943 rows x 1685 columns]"
      ],
      "text/html": "<div>\n<style scoped>\n    .dataframe tbody tr th:only-of-type {\n        vertical-align: middle;\n    }\n\n    .dataframe tbody tr th {\n        vertical-align: top;\n    }\n\n    .dataframe thead th {\n        text-align: right;\n    }\n</style>\n<table border=\"1\" class=\"dataframe\">\n  <thead>\n    <tr style=\"text-align: right;\">\n      <th></th>\n      <th>1</th>\n      <th>2</th>\n      <th>3</th>\n      <th>4</th>\n      <th>5</th>\n      <th>6</th>\n      <th>7</th>\n      <th>8</th>\n      <th>9</th>\n      <th>10</th>\n      <th>...</th>\n      <th>1676</th>\n      <th>1677</th>\n      <th>1678</th>\n      <th>1679</th>\n      <th>1680</th>\n      <th>1681</th>\n      <th>1682</th>\n      <th>media</th>\n      <th>desvio_padrao</th>\n      <th>variancia</th>\n    </tr>\n  </thead>\n  <tbody>\n    <tr>\n      <th>1</th>\n      <td>1.99198</td>\n      <td>-0.00802</td>\n      <td>0.99198</td>\n      <td>-0.00802</td>\n      <td>-0.00802</td>\n      <td>1.99198</td>\n      <td>0.99198</td>\n      <td>-2.00802</td>\n      <td>1.99198</td>\n      <td>-0.00802</td>\n      <td>...</td>\n      <td>NaN</td>\n      <td>NaN</td>\n      <td>NaN</td>\n      <td>NaN</td>\n      <td>NaN</td>\n      <td>NaN</td>\n      <td>NaN</td>\n      <td>0.602274</td>\n      <td>-1.744435</td>\n      <td>-1.402972</td>\n    </tr>\n    <tr>\n      <th>2</th>\n      <td>0.99198</td>\n      <td>NaN</td>\n      <td>NaN</td>\n      <td>NaN</td>\n      <td>NaN</td>\n      <td>NaN</td>\n      <td>NaN</td>\n      <td>NaN</td>\n      <td>NaN</td>\n      <td>-1.00802</td>\n      <td>...</td>\n      <td>NaN</td>\n      <td>NaN</td>\n      <td>NaN</td>\n      <td>NaN</td>\n      <td>NaN</td>\n      <td>NaN</td>\n      <td>NaN</td>\n      <td>0.701657</td>\n      <td>-1.977548</td>\n      <td>-1.867700</td>\n    </tr>\n    <tr>\n      <th>3</th>\n      <td>NaN</td>\n      <td>NaN</td>\n      <td>NaN</td>\n      <td>NaN</td>\n      <td>NaN</td>\n      <td>NaN</td>\n      <td>NaN</td>\n      <td>NaN</td>\n      <td>NaN</td>\n      <td>NaN</td>\n      <td>...</td>\n      <td>NaN</td>\n      <td>NaN</td>\n      <td>NaN</td>\n      <td>NaN</td>\n      <td>NaN</td>\n      <td>NaN</td>\n      <td>NaN</td>\n      <td>-0.211724</td>\n      <td>-1.788994</td>\n      <td>-1.531609</td>\n    </tr>\n    <tr>\n      <th>4</th>\n      <td>NaN</td>\n      <td>NaN</td>\n      <td>NaN</td>\n      <td>NaN</td>\n      <td>NaN</td>\n      <td>NaN</td>\n      <td>NaN</td>\n      <td>NaN</td>\n      <td>NaN</td>\n      <td>NaN</td>\n      <td>...</td>\n      <td>NaN</td>\n      <td>NaN</td>\n      <td>NaN</td>\n      <td>NaN</td>\n      <td>NaN</td>\n      <td>NaN</td>\n      <td>NaN</td>\n      <td>1.325313</td>\n      <td>-2.091189</td>\n      <td>-1.785745</td>\n    </tr>\n    <tr>\n      <th>5</th>\n      <td>0.99198</td>\n      <td>-0.00802</td>\n      <td>NaN</td>\n      <td>NaN</td>\n      <td>NaN</td>\n      <td>NaN</td>\n      <td>NaN</td>\n      <td>NaN</td>\n      <td>NaN</td>\n      <td>NaN</td>\n      <td>...</td>\n      <td>NaN</td>\n      <td>NaN</td>\n      <td>NaN</td>\n      <td>NaN</td>\n      <td>NaN</td>\n      <td>NaN</td>\n      <td>NaN</td>\n      <td>-0.133734</td>\n      <td>-1.645057</td>\n      <td>-1.158557</td>\n    </tr>\n    <tr>\n      <th>...</th>\n      <td>...</td>\n      <td>...</td>\n      <td>...</td>\n      <td>...</td>\n      <td>...</td>\n      <td>...</td>\n      <td>...</td>\n      <td>...</td>\n      <td>...</td>\n      <td>...</td>\n      <td>...</td>\n      <td>...</td>\n      <td>...</td>\n      <td>...</td>\n      <td>...</td>\n      <td>...</td>\n      <td>...</td>\n      <td>...</td>\n      <td>...</td>\n      <td>...</td>\n      <td>...</td>\n    </tr>\n    <tr>\n      <th>939</th>\n      <td>NaN</td>\n      <td>NaN</td>\n      <td>NaN</td>\n      <td>NaN</td>\n      <td>NaN</td>\n      <td>NaN</td>\n      <td>NaN</td>\n      <td>NaN</td>\n      <td>1.99198</td>\n      <td>NaN</td>\n      <td>...</td>\n      <td>NaN</td>\n      <td>NaN</td>\n      <td>NaN</td>\n      <td>NaN</td>\n      <td>NaN</td>\n      <td>NaN</td>\n      <td>NaN</td>\n      <td>1.257286</td>\n      <td>-2.033864</td>\n      <td>-1.884614</td>\n    </tr>\n    <tr>\n      <th>940</th>\n      <td>NaN</td>\n      <td>NaN</td>\n      <td>NaN</td>\n      <td>-1.00802</td>\n      <td>NaN</td>\n      <td>NaN</td>\n      <td>0.99198</td>\n      <td>1.99198</td>\n      <td>-0.00802</td>\n      <td>NaN</td>\n      <td>...</td>\n      <td>NaN</td>\n      <td>NaN</td>\n      <td>NaN</td>\n      <td>NaN</td>\n      <td>NaN</td>\n      <td>NaN</td>\n      <td>NaN</td>\n      <td>0.449924</td>\n      <td>-1.996013</td>\n      <td>-1.947942</td>\n    </tr>\n    <tr>\n      <th>941</th>\n      <td>1.99198</td>\n      <td>NaN</td>\n      <td>NaN</td>\n      <td>NaN</td>\n      <td>NaN</td>\n      <td>NaN</td>\n      <td>0.99198</td>\n      <td>NaN</td>\n      <td>NaN</td>\n      <td>NaN</td>\n      <td>...</td>\n      <td>NaN</td>\n      <td>NaN</td>\n      <td>NaN</td>\n      <td>NaN</td>\n      <td>NaN</td>\n      <td>NaN</td>\n      <td>NaN</td>\n      <td>1.037434</td>\n      <td>-2.109488</td>\n      <td>-1.858236</td>\n    </tr>\n    <tr>\n      <th>942</th>\n      <td>NaN</td>\n      <td>NaN</td>\n      <td>NaN</td>\n      <td>NaN</td>\n      <td>NaN</td>\n      <td>NaN</td>\n      <td>NaN</td>\n      <td>NaN</td>\n      <td>NaN</td>\n      <td>NaN</td>\n      <td>...</td>\n      <td>NaN</td>\n      <td>NaN</td>\n      <td>NaN</td>\n      <td>NaN</td>\n      <td>NaN</td>\n      <td>NaN</td>\n      <td>NaN</td>\n      <td>1.257803</td>\n      <td>-2.244948</td>\n      <td>-2.288826</td>\n    </tr>\n    <tr>\n      <th>943</th>\n      <td>NaN</td>\n      <td>1.99198</td>\n      <td>NaN</td>\n      <td>NaN</td>\n      <td>NaN</td>\n      <td>NaN</td>\n      <td>NaN</td>\n      <td>NaN</td>\n      <td>-0.00802</td>\n      <td>NaN</td>\n      <td>...</td>\n      <td>NaN</td>\n      <td>NaN</td>\n      <td>NaN</td>\n      <td>NaN</td>\n      <td>NaN</td>\n      <td>NaN</td>\n      <td>NaN</td>\n      <td>0.402694</td>\n      <td>-1.749134</td>\n      <td>-1.414743</td>\n    </tr>\n  </tbody>\n</table>\n<p>943 rows × 1685 columns</p>\n</div>"
     },
     "metadata": {},
     "execution_count": 48
    }
   ],
   "source": [
    "zscore_notas"
   ]
  },
  {
   "cell_type": "code",
   "execution_count": 49,
   "metadata": {},
   "outputs": [
    {
     "output_type": "execute_result",
     "data": {
      "text/plain": [
       "                                           titulos   lançamento  \\\n",
       "filmeID                                                           \n",
       "1                                 Toy Story (1995)  01-Jan-1995   \n",
       "2                                 GoldenEye (1995)  01-Jan-1995   \n",
       "3                                Four Rooms (1995)  01-Jan-1995   \n",
       "4                                Get Shorty (1995)  01-Jan-1995   \n",
       "5                                   Copycat (1995)  01-Jan-1995   \n",
       "...                                            ...          ...   \n",
       "1678                             Mat' i syn (1997)  06-Feb-1998   \n",
       "1679                              B. Monkey (1998)  06-Feb-1998   \n",
       "1680                          Sliding Doors (1998)  01-Jan-1998   \n",
       "1681                           You So Crazy (1994)  01-Jan-1994   \n",
       "1682     Scream of Stone (Schrei aus Stein) (1991)  08-Mar-1996   \n",
       "\n",
       "                                                  IMDb URL  \\\n",
       "filmeID                                                      \n",
       "1        http://us.imdb.com/M/title-exact?Toy%20Story%2...   \n",
       "2        http://us.imdb.com/M/title-exact?GoldenEye%20(...   \n",
       "3        http://us.imdb.com/M/title-exact?Four%20Rooms%...   \n",
       "4        http://us.imdb.com/M/title-exact?Get%20Shorty%...   \n",
       "5        http://us.imdb.com/M/title-exact?Copycat%20(1995)   \n",
       "...                                                    ...   \n",
       "1678     http://us.imdb.com/M/title-exact?Mat%27+i+syn+...   \n",
       "1679     http://us.imdb.com/M/title-exact?B%2E+Monkey+(...   \n",
       "1680         http://us.imdb.com/Title?Sliding+Doors+(1998)   \n",
       "1681     http://us.imdb.com/M/title-exact?You%20So%20Cr...   \n",
       "1682     http://us.imdb.com/M/title-exact?Schrei%20aus%...   \n",
       "\n",
       "                              Genero  \n",
       "filmeID                               \n",
       "1        animation, children, comedy  \n",
       "2        action, adventure, thriller  \n",
       "3                           thriller  \n",
       "4              action, comedy, drama  \n",
       "5             crime, drama, thriller  \n",
       "...                              ...  \n",
       "1678                           drama  \n",
       "1679               romance, thriller  \n",
       "1680                  drama, romance  \n",
       "1681                          comedy  \n",
       "1682                           drama  \n",
       "\n",
       "[1682 rows x 4 columns]"
      ],
      "text/html": "<div>\n<style scoped>\n    .dataframe tbody tr th:only-of-type {\n        vertical-align: middle;\n    }\n\n    .dataframe tbody tr th {\n        vertical-align: top;\n    }\n\n    .dataframe thead th {\n        text-align: right;\n    }\n</style>\n<table border=\"1\" class=\"dataframe\">\n  <thead>\n    <tr style=\"text-align: right;\">\n      <th></th>\n      <th>titulos</th>\n      <th>lançamento</th>\n      <th>IMDb URL</th>\n      <th>Genero</th>\n    </tr>\n    <tr>\n      <th>filmeID</th>\n      <th></th>\n      <th></th>\n      <th></th>\n      <th></th>\n    </tr>\n  </thead>\n  <tbody>\n    <tr>\n      <th>1</th>\n      <td>Toy Story (1995)</td>\n      <td>01-Jan-1995</td>\n      <td>http://us.imdb.com/M/title-exact?Toy%20Story%2...</td>\n      <td>animation, children, comedy</td>\n    </tr>\n    <tr>\n      <th>2</th>\n      <td>GoldenEye (1995)</td>\n      <td>01-Jan-1995</td>\n      <td>http://us.imdb.com/M/title-exact?GoldenEye%20(...</td>\n      <td>action, adventure, thriller</td>\n    </tr>\n    <tr>\n      <th>3</th>\n      <td>Four Rooms (1995)</td>\n      <td>01-Jan-1995</td>\n      <td>http://us.imdb.com/M/title-exact?Four%20Rooms%...</td>\n      <td>thriller</td>\n    </tr>\n    <tr>\n      <th>4</th>\n      <td>Get Shorty (1995)</td>\n      <td>01-Jan-1995</td>\n      <td>http://us.imdb.com/M/title-exact?Get%20Shorty%...</td>\n      <td>action, comedy, drama</td>\n    </tr>\n    <tr>\n      <th>5</th>\n      <td>Copycat (1995)</td>\n      <td>01-Jan-1995</td>\n      <td>http://us.imdb.com/M/title-exact?Copycat%20(1995)</td>\n      <td>crime, drama, thriller</td>\n    </tr>\n    <tr>\n      <th>...</th>\n      <td>...</td>\n      <td>...</td>\n      <td>...</td>\n      <td>...</td>\n    </tr>\n    <tr>\n      <th>1678</th>\n      <td>Mat' i syn (1997)</td>\n      <td>06-Feb-1998</td>\n      <td>http://us.imdb.com/M/title-exact?Mat%27+i+syn+...</td>\n      <td>drama</td>\n    </tr>\n    <tr>\n      <th>1679</th>\n      <td>B. Monkey (1998)</td>\n      <td>06-Feb-1998</td>\n      <td>http://us.imdb.com/M/title-exact?B%2E+Monkey+(...</td>\n      <td>romance, thriller</td>\n    </tr>\n    <tr>\n      <th>1680</th>\n      <td>Sliding Doors (1998)</td>\n      <td>01-Jan-1998</td>\n      <td>http://us.imdb.com/Title?Sliding+Doors+(1998)</td>\n      <td>drama, romance</td>\n    </tr>\n    <tr>\n      <th>1681</th>\n      <td>You So Crazy (1994)</td>\n      <td>01-Jan-1994</td>\n      <td>http://us.imdb.com/M/title-exact?You%20So%20Cr...</td>\n      <td>comedy</td>\n    </tr>\n    <tr>\n      <th>1682</th>\n      <td>Scream of Stone (Schrei aus Stein) (1991)</td>\n      <td>08-Mar-1996</td>\n      <td>http://us.imdb.com/M/title-exact?Schrei%20aus%...</td>\n      <td>drama</td>\n    </tr>\n  </tbody>\n</table>\n<p>1682 rows × 4 columns</p>\n</div>"
     },
     "metadata": {},
     "execution_count": 49
    }
   ],
   "source": [
    "new_filmes"
   ]
  },
  {
   "cell_type": "code",
   "execution_count": 50,
   "metadata": {},
   "outputs": [
    {
     "output_type": "execute_result",
     "data": {
      "text/plain": [
       "         1      2      3      4      5      6      7      8      9     10  \\\n",
       "1    False  False  False  False  False  False  False  False  False  False   \n",
       "2    False   True   True   True   True   True   True   True   True  False   \n",
       "3     True   True   True   True   True   True   True   True   True   True   \n",
       "4     True   True   True   True   True   True   True   True   True   True   \n",
       "5    False  False   True   True   True   True   True   True   True   True   \n",
       "..     ...    ...    ...    ...    ...    ...    ...    ...    ...    ...   \n",
       "939   True   True   True   True   True   True   True   True  False   True   \n",
       "940   True   True   True  False   True   True  False  False  False   True   \n",
       "941  False   True   True   True   True   True  False   True   True   True   \n",
       "942   True   True   True   True   True   True   True   True   True   True   \n",
       "943   True  False   True   True   True   True   True   True  False   True   \n",
       "\n",
       "     ...  1676  1677  1678  1679  1680  1681  1682  media  desvio_padrao  \\\n",
       "1    ...  True  True  True  True  True  True  True  False          False   \n",
       "2    ...  True  True  True  True  True  True  True  False          False   \n",
       "3    ...  True  True  True  True  True  True  True  False          False   \n",
       "4    ...  True  True  True  True  True  True  True  False          False   \n",
       "5    ...  True  True  True  True  True  True  True  False          False   \n",
       "..   ...   ...   ...   ...   ...   ...   ...   ...    ...            ...   \n",
       "939  ...  True  True  True  True  True  True  True  False          False   \n",
       "940  ...  True  True  True  True  True  True  True  False          False   \n",
       "941  ...  True  True  True  True  True  True  True  False          False   \n",
       "942  ...  True  True  True  True  True  True  True  False          False   \n",
       "943  ...  True  True  True  True  True  True  True  False          False   \n",
       "\n",
       "     variancia  \n",
       "1        False  \n",
       "2        False  \n",
       "3        False  \n",
       "4        False  \n",
       "5        False  \n",
       "..         ...  \n",
       "939      False  \n",
       "940      False  \n",
       "941      False  \n",
       "942      False  \n",
       "943      False  \n",
       "\n",
       "[943 rows x 1685 columns]"
      ],
      "text/html": "<div>\n<style scoped>\n    .dataframe tbody tr th:only-of-type {\n        vertical-align: middle;\n    }\n\n    .dataframe tbody tr th {\n        vertical-align: top;\n    }\n\n    .dataframe thead th {\n        text-align: right;\n    }\n</style>\n<table border=\"1\" class=\"dataframe\">\n  <thead>\n    <tr style=\"text-align: right;\">\n      <th></th>\n      <th>1</th>\n      <th>2</th>\n      <th>3</th>\n      <th>4</th>\n      <th>5</th>\n      <th>6</th>\n      <th>7</th>\n      <th>8</th>\n      <th>9</th>\n      <th>10</th>\n      <th>...</th>\n      <th>1676</th>\n      <th>1677</th>\n      <th>1678</th>\n      <th>1679</th>\n      <th>1680</th>\n      <th>1681</th>\n      <th>1682</th>\n      <th>media</th>\n      <th>desvio_padrao</th>\n      <th>variancia</th>\n    </tr>\n  </thead>\n  <tbody>\n    <tr>\n      <th>1</th>\n      <td>False</td>\n      <td>False</td>\n      <td>False</td>\n      <td>False</td>\n      <td>False</td>\n      <td>False</td>\n      <td>False</td>\n      <td>False</td>\n      <td>False</td>\n      <td>False</td>\n      <td>...</td>\n      <td>True</td>\n      <td>True</td>\n      <td>True</td>\n      <td>True</td>\n      <td>True</td>\n      <td>True</td>\n      <td>True</td>\n      <td>False</td>\n      <td>False</td>\n      <td>False</td>\n    </tr>\n    <tr>\n      <th>2</th>\n      <td>False</td>\n      <td>True</td>\n      <td>True</td>\n      <td>True</td>\n      <td>True</td>\n      <td>True</td>\n      <td>True</td>\n      <td>True</td>\n      <td>True</td>\n      <td>False</td>\n      <td>...</td>\n      <td>True</td>\n      <td>True</td>\n      <td>True</td>\n      <td>True</td>\n      <td>True</td>\n      <td>True</td>\n      <td>True</td>\n      <td>False</td>\n      <td>False</td>\n      <td>False</td>\n    </tr>\n    <tr>\n      <th>3</th>\n      <td>True</td>\n      <td>True</td>\n      <td>True</td>\n      <td>True</td>\n      <td>True</td>\n      <td>True</td>\n      <td>True</td>\n      <td>True</td>\n      <td>True</td>\n      <td>True</td>\n      <td>...</td>\n      <td>True</td>\n      <td>True</td>\n      <td>True</td>\n      <td>True</td>\n      <td>True</td>\n      <td>True</td>\n      <td>True</td>\n      <td>False</td>\n      <td>False</td>\n      <td>False</td>\n    </tr>\n    <tr>\n      <th>4</th>\n      <td>True</td>\n      <td>True</td>\n      <td>True</td>\n      <td>True</td>\n      <td>True</td>\n      <td>True</td>\n      <td>True</td>\n      <td>True</td>\n      <td>True</td>\n      <td>True</td>\n      <td>...</td>\n      <td>True</td>\n      <td>True</td>\n      <td>True</td>\n      <td>True</td>\n      <td>True</td>\n      <td>True</td>\n      <td>True</td>\n      <td>False</td>\n      <td>False</td>\n      <td>False</td>\n    </tr>\n    <tr>\n      <th>5</th>\n      <td>False</td>\n      <td>False</td>\n      <td>True</td>\n      <td>True</td>\n      <td>True</td>\n      <td>True</td>\n      <td>True</td>\n      <td>True</td>\n      <td>True</td>\n      <td>True</td>\n      <td>...</td>\n      <td>True</td>\n      <td>True</td>\n      <td>True</td>\n      <td>True</td>\n      <td>True</td>\n      <td>True</td>\n      <td>True</td>\n      <td>False</td>\n      <td>False</td>\n      <td>False</td>\n    </tr>\n    <tr>\n      <th>...</th>\n      <td>...</td>\n      <td>...</td>\n      <td>...</td>\n      <td>...</td>\n      <td>...</td>\n      <td>...</td>\n      <td>...</td>\n      <td>...</td>\n      <td>...</td>\n      <td>...</td>\n      <td>...</td>\n      <td>...</td>\n      <td>...</td>\n      <td>...</td>\n      <td>...</td>\n      <td>...</td>\n      <td>...</td>\n      <td>...</td>\n      <td>...</td>\n      <td>...</td>\n      <td>...</td>\n    </tr>\n    <tr>\n      <th>939</th>\n      <td>True</td>\n      <td>True</td>\n      <td>True</td>\n      <td>True</td>\n      <td>True</td>\n      <td>True</td>\n      <td>True</td>\n      <td>True</td>\n      <td>False</td>\n      <td>True</td>\n      <td>...</td>\n      <td>True</td>\n      <td>True</td>\n      <td>True</td>\n      <td>True</td>\n      <td>True</td>\n      <td>True</td>\n      <td>True</td>\n      <td>False</td>\n      <td>False</td>\n      <td>False</td>\n    </tr>\n    <tr>\n      <th>940</th>\n      <td>True</td>\n      <td>True</td>\n      <td>True</td>\n      <td>False</td>\n      <td>True</td>\n      <td>True</td>\n      <td>False</td>\n      <td>False</td>\n      <td>False</td>\n      <td>True</td>\n      <td>...</td>\n      <td>True</td>\n      <td>True</td>\n      <td>True</td>\n      <td>True</td>\n      <td>True</td>\n      <td>True</td>\n      <td>True</td>\n      <td>False</td>\n      <td>False</td>\n      <td>False</td>\n    </tr>\n    <tr>\n      <th>941</th>\n      <td>False</td>\n      <td>True</td>\n      <td>True</td>\n      <td>True</td>\n      <td>True</td>\n      <td>True</td>\n      <td>False</td>\n      <td>True</td>\n      <td>True</td>\n      <td>True</td>\n      <td>...</td>\n      <td>True</td>\n      <td>True</td>\n      <td>True</td>\n      <td>True</td>\n      <td>True</td>\n      <td>True</td>\n      <td>True</td>\n      <td>False</td>\n      <td>False</td>\n      <td>False</td>\n    </tr>\n    <tr>\n      <th>942</th>\n      <td>True</td>\n      <td>True</td>\n      <td>True</td>\n      <td>True</td>\n      <td>True</td>\n      <td>True</td>\n      <td>True</td>\n      <td>True</td>\n      <td>True</td>\n      <td>True</td>\n      <td>...</td>\n      <td>True</td>\n      <td>True</td>\n      <td>True</td>\n      <td>True</td>\n      <td>True</td>\n      <td>True</td>\n      <td>True</td>\n      <td>False</td>\n      <td>False</td>\n      <td>False</td>\n    </tr>\n    <tr>\n      <th>943</th>\n      <td>True</td>\n      <td>False</td>\n      <td>True</td>\n      <td>True</td>\n      <td>True</td>\n      <td>True</td>\n      <td>True</td>\n      <td>True</td>\n      <td>False</td>\n      <td>True</td>\n      <td>...</td>\n      <td>True</td>\n      <td>True</td>\n      <td>True</td>\n      <td>True</td>\n      <td>True</td>\n      <td>True</td>\n      <td>True</td>\n      <td>False</td>\n      <td>False</td>\n      <td>False</td>\n    </tr>\n  </tbody>\n</table>\n<p>943 rows × 1685 columns</p>\n</div>"
     },
     "metadata": {},
     "execution_count": 50
    }
   ],
   "source": [
    "notas_por_usuario.isnull()"
   ]
  },
  {
   "cell_type": "code",
   "execution_count": 53,
   "metadata": {},
   "outputs": [
    {
     "output_type": "execute_result",
     "data": {
      "text/plain": [
       "1                3.878319\n",
       "2                3.206107\n",
       "3                3.033333\n",
       "4                3.550239\n",
       "5                3.302326\n",
       "                   ...   \n",
       "1681             3.000000\n",
       "1682             3.000000\n",
       "media            3.588191\n",
       "desvio_padrao    1.019883\n",
       "variancia        1.168885\n",
       "Name: media, Length: 1685, dtype: float64"
      ]
     },
     "metadata": {},
     "execution_count": 53
    }
   ],
   "source": [
    "# Fazer transposta para colocar colunas na tabela dos filmes....\n",
    "\n",
    "notas_T = notas.T\n",
    "media_T = notas_T['media'] = notas_T.mean(axis=1)\n",
    "notas_T['media']\n"
   ]
  },
  {
   "cell_type": "code",
   "execution_count": 54,
   "metadata": {},
   "outputs": [
    {
     "output_type": "execute_result",
     "data": {
      "text/plain": [
       "1                0.927897\n",
       "2                0.966497\n",
       "3                1.212760\n",
       "4                0.965069\n",
       "5                0.946446\n",
       "                   ...   \n",
       "1681                  NaN\n",
       "1682                  NaN\n",
       "media            0.445233\n",
       "desvio_padrao    0.205150\n",
       "variancia        0.388615\n",
       "Name: desvio_padrao, Length: 1685, dtype: float64"
      ]
     },
     "metadata": {},
     "execution_count": 54
    }
   ],
   "source": [
    "desvio_padrao_T = notas_T['desvio_padrao'] = notas_T.loc[:, :943].std(axis=1)\n",
    "notas_T['desvio_padrao']"
   ]
  },
  {
   "cell_type": "code",
   "execution_count": 55,
   "metadata": {},
   "outputs": [
    {
     "output_type": "execute_result",
     "data": {
      "text/plain": [
       "1                0.876365\n",
       "2                0.957676\n",
       "3                1.474489\n",
       "4                0.954162\n",
       "5                0.938237\n",
       "                   ...   \n",
       "1681             0.000000\n",
       "1682             0.000000\n",
       "media            0.208266\n",
       "desvio_padrao    0.042700\n",
       "variancia        0.151346\n",
       "Name: variancia, Length: 1685, dtype: float64"
      ]
     },
     "metadata": {},
     "execution_count": 55
    }
   ],
   "source": [
    "variancia_T = notas_T['variancia'] = notas_T.var(axis=1)\n",
    "notas_T['variancia']"
   ]
  },
  {
   "cell_type": "code",
   "execution_count": 56,
   "metadata": {},
   "outputs": [
    {
     "output_type": "execute_result",
     "data": {
      "text/plain": [
       "                   titulos   lançamento  \\\n",
       "filmeID                                   \n",
       "1         Toy Story (1995)  01-Jan-1995   \n",
       "2         GoldenEye (1995)  01-Jan-1995   \n",
       "3        Four Rooms (1995)  01-Jan-1995   \n",
       "4        Get Shorty (1995)  01-Jan-1995   \n",
       "5           Copycat (1995)  01-Jan-1995   \n",
       "\n",
       "                                                  IMDb URL  \\\n",
       "filmeID                                                      \n",
       "1        http://us.imdb.com/M/title-exact?Toy%20Story%2...   \n",
       "2        http://us.imdb.com/M/title-exact?GoldenEye%20(...   \n",
       "3        http://us.imdb.com/M/title-exact?Four%20Rooms%...   \n",
       "4        http://us.imdb.com/M/title-exact?Get%20Shorty%...   \n",
       "5        http://us.imdb.com/M/title-exact?Copycat%20(1995)   \n",
       "\n",
       "                              Genero  ava_media  desvio_padrao  variancia  \n",
       "filmeID                                                                    \n",
       "1        animation, children, comedy   3.878319       0.927897   0.876365  \n",
       "2        action, adventure, thriller   3.206107       0.966497   0.957676  \n",
       "3                           thriller   3.033333       1.212760   1.474489  \n",
       "4              action, comedy, drama   3.550239       0.965069   0.954162  \n",
       "5             crime, drama, thriller   3.302326       0.946446   0.938237  "
      ],
      "text/html": "<div>\n<style scoped>\n    .dataframe tbody tr th:only-of-type {\n        vertical-align: middle;\n    }\n\n    .dataframe tbody tr th {\n        vertical-align: top;\n    }\n\n    .dataframe thead th {\n        text-align: right;\n    }\n</style>\n<table border=\"1\" class=\"dataframe\">\n  <thead>\n    <tr style=\"text-align: right;\">\n      <th></th>\n      <th>titulos</th>\n      <th>lançamento</th>\n      <th>IMDb URL</th>\n      <th>Genero</th>\n      <th>ava_media</th>\n      <th>desvio_padrao</th>\n      <th>variancia</th>\n    </tr>\n    <tr>\n      <th>filmeID</th>\n      <th></th>\n      <th></th>\n      <th></th>\n      <th></th>\n      <th></th>\n      <th></th>\n      <th></th>\n    </tr>\n  </thead>\n  <tbody>\n    <tr>\n      <th>1</th>\n      <td>Toy Story (1995)</td>\n      <td>01-Jan-1995</td>\n      <td>http://us.imdb.com/M/title-exact?Toy%20Story%2...</td>\n      <td>animation, children, comedy</td>\n      <td>3.878319</td>\n      <td>0.927897</td>\n      <td>0.876365</td>\n    </tr>\n    <tr>\n      <th>2</th>\n      <td>GoldenEye (1995)</td>\n      <td>01-Jan-1995</td>\n      <td>http://us.imdb.com/M/title-exact?GoldenEye%20(...</td>\n      <td>action, adventure, thriller</td>\n      <td>3.206107</td>\n      <td>0.966497</td>\n      <td>0.957676</td>\n    </tr>\n    <tr>\n      <th>3</th>\n      <td>Four Rooms (1995)</td>\n      <td>01-Jan-1995</td>\n      <td>http://us.imdb.com/M/title-exact?Four%20Rooms%...</td>\n      <td>thriller</td>\n      <td>3.033333</td>\n      <td>1.212760</td>\n      <td>1.474489</td>\n    </tr>\n    <tr>\n      <th>4</th>\n      <td>Get Shorty (1995)</td>\n      <td>01-Jan-1995</td>\n      <td>http://us.imdb.com/M/title-exact?Get%20Shorty%...</td>\n      <td>action, comedy, drama</td>\n      <td>3.550239</td>\n      <td>0.965069</td>\n      <td>0.954162</td>\n    </tr>\n    <tr>\n      <th>5</th>\n      <td>Copycat (1995)</td>\n      <td>01-Jan-1995</td>\n      <td>http://us.imdb.com/M/title-exact?Copycat%20(1995)</td>\n      <td>crime, drama, thriller</td>\n      <td>3.302326</td>\n      <td>0.946446</td>\n      <td>0.938237</td>\n    </tr>\n  </tbody>\n</table>\n</div>"
     },
     "metadata": {},
     "execution_count": 56
    }
   ],
   "source": [
    "# adicionando as colunas na tabela dos filmes e generos:\n",
    "\n",
    "new_filmes['ava_media'] = media_T\n",
    "new_filmes['desvio_padrao'] = desvio_padrao_T\n",
    "new_filmes['variancia'] = variancia_T\n",
    "new_filmes.head()"
   ]
  },
  {
   "cell_type": "code",
   "execution_count": 57,
   "metadata": {},
   "outputs": [
    {
     "output_type": "execute_result",
     "data": {
      "text/plain": [
       "                                           titulos   lançamento  \\\n",
       "filmeID                                                           \n",
       "1678                             Mat' i syn (1997)  06-Feb-1998   \n",
       "1679                              B. Monkey (1998)  06-Feb-1998   \n",
       "1680                          Sliding Doors (1998)  01-Jan-1998   \n",
       "1681                           You So Crazy (1994)  01-Jan-1994   \n",
       "1682     Scream of Stone (Schrei aus Stein) (1991)  08-Mar-1996   \n",
       "\n",
       "                                                  IMDb URL             Genero  \\\n",
       "filmeID                                                                         \n",
       "1678     http://us.imdb.com/M/title-exact?Mat%27+i+syn+...              drama   \n",
       "1679     http://us.imdb.com/M/title-exact?B%2E+Monkey+(...  romance, thriller   \n",
       "1680         http://us.imdb.com/Title?Sliding+Doors+(1998)     drama, romance   \n",
       "1681     http://us.imdb.com/M/title-exact?You%20So%20Cr...             comedy   \n",
       "1682     http://us.imdb.com/M/title-exact?Schrei%20aus%...              drama   \n",
       "\n",
       "         ava_media  desvio_padrao  variancia  \n",
       "filmeID                                       \n",
       "1678           1.0            NaN        0.0  \n",
       "1679           3.0            NaN        0.0  \n",
       "1680           2.0            NaN        0.0  \n",
       "1681           3.0            NaN        0.0  \n",
       "1682           3.0            NaN        0.0  "
      ],
      "text/html": "<div>\n<style scoped>\n    .dataframe tbody tr th:only-of-type {\n        vertical-align: middle;\n    }\n\n    .dataframe tbody tr th {\n        vertical-align: top;\n    }\n\n    .dataframe thead th {\n        text-align: right;\n    }\n</style>\n<table border=\"1\" class=\"dataframe\">\n  <thead>\n    <tr style=\"text-align: right;\">\n      <th></th>\n      <th>titulos</th>\n      <th>lançamento</th>\n      <th>IMDb URL</th>\n      <th>Genero</th>\n      <th>ava_media</th>\n      <th>desvio_padrao</th>\n      <th>variancia</th>\n    </tr>\n    <tr>\n      <th>filmeID</th>\n      <th></th>\n      <th></th>\n      <th></th>\n      <th></th>\n      <th></th>\n      <th></th>\n      <th></th>\n    </tr>\n  </thead>\n  <tbody>\n    <tr>\n      <th>1678</th>\n      <td>Mat' i syn (1997)</td>\n      <td>06-Feb-1998</td>\n      <td>http://us.imdb.com/M/title-exact?Mat%27+i+syn+...</td>\n      <td>drama</td>\n      <td>1.0</td>\n      <td>NaN</td>\n      <td>0.0</td>\n    </tr>\n    <tr>\n      <th>1679</th>\n      <td>B. Monkey (1998)</td>\n      <td>06-Feb-1998</td>\n      <td>http://us.imdb.com/M/title-exact?B%2E+Monkey+(...</td>\n      <td>romance, thriller</td>\n      <td>3.0</td>\n      <td>NaN</td>\n      <td>0.0</td>\n    </tr>\n    <tr>\n      <th>1680</th>\n      <td>Sliding Doors (1998)</td>\n      <td>01-Jan-1998</td>\n      <td>http://us.imdb.com/Title?Sliding+Doors+(1998)</td>\n      <td>drama, romance</td>\n      <td>2.0</td>\n      <td>NaN</td>\n      <td>0.0</td>\n    </tr>\n    <tr>\n      <th>1681</th>\n      <td>You So Crazy (1994)</td>\n      <td>01-Jan-1994</td>\n      <td>http://us.imdb.com/M/title-exact?You%20So%20Cr...</td>\n      <td>comedy</td>\n      <td>3.0</td>\n      <td>NaN</td>\n      <td>0.0</td>\n    </tr>\n    <tr>\n      <th>1682</th>\n      <td>Scream of Stone (Schrei aus Stein) (1991)</td>\n      <td>08-Mar-1996</td>\n      <td>http://us.imdb.com/M/title-exact?Schrei%20aus%...</td>\n      <td>drama</td>\n      <td>3.0</td>\n      <td>NaN</td>\n      <td>0.0</td>\n    </tr>\n  </tbody>\n</table>\n</div>"
     },
     "metadata": {},
     "execution_count": 57
    }
   ],
   "source": [
    "new_filmes.tail()"
   ]
  },
  {
   "cell_type": "code",
   "execution_count": 60,
   "metadata": {},
   "outputs": [],
   "source": [
    "new_filmes['Nota Máxima'] = notas_T.max()"
   ]
  },
  {
   "cell_type": "code",
   "execution_count": 61,
   "metadata": {},
   "outputs": [],
   "source": [
    "new_filmes['Nota Mínima'] = notas_T.min()"
   ]
  },
  {
   "cell_type": "code",
   "execution_count": 64,
   "metadata": {},
   "outputs": [
    {
     "output_type": "execute_result",
     "data": {
      "text/plain": [
       "                   titulos   lançamento  \\\n",
       "filmeID                                   \n",
       "1         Toy Story (1995)  01-Jan-1995   \n",
       "2         GoldenEye (1995)  01-Jan-1995   \n",
       "3        Four Rooms (1995)  01-Jan-1995   \n",
       "4        Get Shorty (1995)  01-Jan-1995   \n",
       "5           Copycat (1995)  01-Jan-1995   \n",
       "\n",
       "                                                  IMDb URL  \\\n",
       "filmeID                                                      \n",
       "1        http://us.imdb.com/M/title-exact?Toy%20Story%2...   \n",
       "2        http://us.imdb.com/M/title-exact?GoldenEye%20(...   \n",
       "3        http://us.imdb.com/M/title-exact?Four%20Rooms%...   \n",
       "4        http://us.imdb.com/M/title-exact?Get%20Shorty%...   \n",
       "5        http://us.imdb.com/M/title-exact?Copycat%20(1995)   \n",
       "\n",
       "                              Genero  ava_media  desvio_padrao  variancia  \\\n",
       "filmeID                                                                     \n",
       "1        animation, children, comedy   3.878319       0.927897   0.876365   \n",
       "2        action, adventure, thriller   3.206107       0.966497   0.957676   \n",
       "3                           thriller   3.033333       1.212760   1.474489   \n",
       "4              action, comedy, drama   3.550239       0.965069   0.954162   \n",
       "5             crime, drama, thriller   3.302326       0.946446   0.938237   \n",
       "\n",
       "         Nota Máxima  Nota Mínima  \n",
       "filmeID                            \n",
       "1                5.0     1.000000  \n",
       "2                5.0     1.000000  \n",
       "3                5.0     1.000000  \n",
       "4                5.0     0.916831  \n",
       "5                5.0     1.000000  "
      ],
      "text/html": "<div>\n<style scoped>\n    .dataframe tbody tr th:only-of-type {\n        vertical-align: middle;\n    }\n\n    .dataframe tbody tr th {\n        vertical-align: top;\n    }\n\n    .dataframe thead th {\n        text-align: right;\n    }\n</style>\n<table border=\"1\" class=\"dataframe\">\n  <thead>\n    <tr style=\"text-align: right;\">\n      <th></th>\n      <th>titulos</th>\n      <th>lançamento</th>\n      <th>IMDb URL</th>\n      <th>Genero</th>\n      <th>ava_media</th>\n      <th>desvio_padrao</th>\n      <th>variancia</th>\n      <th>Nota Máxima</th>\n      <th>Nota Mínima</th>\n    </tr>\n    <tr>\n      <th>filmeID</th>\n      <th></th>\n      <th></th>\n      <th></th>\n      <th></th>\n      <th></th>\n      <th></th>\n      <th></th>\n      <th></th>\n      <th></th>\n    </tr>\n  </thead>\n  <tbody>\n    <tr>\n      <th>1</th>\n      <td>Toy Story (1995)</td>\n      <td>01-Jan-1995</td>\n      <td>http://us.imdb.com/M/title-exact?Toy%20Story%2...</td>\n      <td>animation, children, comedy</td>\n      <td>3.878319</td>\n      <td>0.927897</td>\n      <td>0.876365</td>\n      <td>5.0</td>\n      <td>1.000000</td>\n    </tr>\n    <tr>\n      <th>2</th>\n      <td>GoldenEye (1995)</td>\n      <td>01-Jan-1995</td>\n      <td>http://us.imdb.com/M/title-exact?GoldenEye%20(...</td>\n      <td>action, adventure, thriller</td>\n      <td>3.206107</td>\n      <td>0.966497</td>\n      <td>0.957676</td>\n      <td>5.0</td>\n      <td>1.000000</td>\n    </tr>\n    <tr>\n      <th>3</th>\n      <td>Four Rooms (1995)</td>\n      <td>01-Jan-1995</td>\n      <td>http://us.imdb.com/M/title-exact?Four%20Rooms%...</td>\n      <td>thriller</td>\n      <td>3.033333</td>\n      <td>1.212760</td>\n      <td>1.474489</td>\n      <td>5.0</td>\n      <td>1.000000</td>\n    </tr>\n    <tr>\n      <th>4</th>\n      <td>Get Shorty (1995)</td>\n      <td>01-Jan-1995</td>\n      <td>http://us.imdb.com/M/title-exact?Get%20Shorty%...</td>\n      <td>action, comedy, drama</td>\n      <td>3.550239</td>\n      <td>0.965069</td>\n      <td>0.954162</td>\n      <td>5.0</td>\n      <td>0.916831</td>\n    </tr>\n    <tr>\n      <th>5</th>\n      <td>Copycat (1995)</td>\n      <td>01-Jan-1995</td>\n      <td>http://us.imdb.com/M/title-exact?Copycat%20(1995)</td>\n      <td>crime, drama, thriller</td>\n      <td>3.302326</td>\n      <td>0.946446</td>\n      <td>0.938237</td>\n      <td>5.0</td>\n      <td>1.000000</td>\n    </tr>\n  </tbody>\n</table>\n</div>"
     },
     "metadata": {},
     "execution_count": 64
    }
   ],
   "source": [
    "new_filmes.head()"
   ]
  },
  {
   "cell_type": "code",
   "execution_count": null,
   "metadata": {},
   "outputs": [],
   "source": []
  }
 ]
}