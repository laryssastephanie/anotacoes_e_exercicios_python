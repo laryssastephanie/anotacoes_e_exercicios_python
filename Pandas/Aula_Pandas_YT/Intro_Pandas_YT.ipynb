{
 "metadata": {
  "language_info": {
   "codemirror_mode": {
    "name": "ipython",
    "version": 3
   },
   "file_extension": ".py",
   "mimetype": "text/x-python",
   "name": "python",
   "nbconvert_exporter": "python",
   "pygments_lexer": "ipython3",
   "version": "3.8.5"
  },
  "orig_nbformat": 2,
  "kernelspec": {
   "name": "python385jvsc74a57bd031f2aee4e71d21fbe5cf8b01ff0e069b9275f58929596ceb00d14d90e3e16cd6",
   "display_name": "Python 3.8.5 64-bit"
  },
  "metadata": {
   "interpreter": {
    "hash": "31f2aee4e71d21fbe5cf8b01ff0e069b9275f58929596ceb00d14d90e3e16cd6"
   }
  }
 },
 "nbformat": 4,
 "nbformat_minor": 2,
 "cells": [
  {
   "cell_type": "code",
   "execution_count": 2,
   "metadata": {},
   "outputs": [],
   "source": [
    "import pandas as pd"
   ]
  },
  {
   "cell_type": "code",
   "execution_count": 3,
   "metadata": {},
   "outputs": [],
   "source": [
    "venda = {'data': ['15/02/2021', '16/02/2021'],\n",
    "        'valor': [500, 300],\n",
    "        'produto': ['feijao', 'arroz'],\n",
    "        'qtde': [50, 70]}\n",
    "vendas_df = pd.DataFrame(venda)"
   ]
  },
  {
   "cell_type": "code",
   "execution_count": 4,
   "metadata": {},
   "outputs": [
    {
     "output_type": "stream",
     "name": "stdout",
     "text": [
      "         data  valor produto  qtde\n0  15/02/2021    500  feijao    50\n1  16/02/2021    300   arroz    70\n"
     ]
    }
   ],
   "source": [
    "print(vendas_df) # o print exibe como se fosse um bloco de texto"
   ]
  },
  {
   "cell_type": "code",
   "execution_count": 5,
   "metadata": {},
   "outputs": [
    {
     "output_type": "display_data",
     "data": {
      "text/plain": "         data  valor produto  qtde\n0  15/02/2021    500  feijao    50\n1  16/02/2021    300   arroz    70",
      "text/html": "<div>\n<style scoped>\n    .dataframe tbody tr th:only-of-type {\n        vertical-align: middle;\n    }\n\n    .dataframe tbody tr th {\n        vertical-align: top;\n    }\n\n    .dataframe thead th {\n        text-align: right;\n    }\n</style>\n<table border=\"1\" class=\"dataframe\">\n  <thead>\n    <tr style=\"text-align: right;\">\n      <th></th>\n      <th>data</th>\n      <th>valor</th>\n      <th>produto</th>\n      <th>qtde</th>\n    </tr>\n  </thead>\n  <tbody>\n    <tr>\n      <th>0</th>\n      <td>15/02/2021</td>\n      <td>500</td>\n      <td>feijao</td>\n      <td>50</td>\n    </tr>\n    <tr>\n      <th>1</th>\n      <td>16/02/2021</td>\n      <td>300</td>\n      <td>arroz</td>\n      <td>70</td>\n    </tr>\n  </tbody>\n</table>\n</div>"
     },
     "metadata": {}
    }
   ],
   "source": [
    "display(vendas_df) # mais estilizado"
   ]
  },
  {
   "cell_type": "code",
   "execution_count": 6,
   "metadata": {},
   "outputs": [
    {
     "output_type": "display_data",
     "data": {
      "text/plain": "       Código Venda       Data              ID Loja            Produto  \\\n0                 1 2019-01-01   Iguatemi Esplanada     Sapato Estampa   \n1                 1 2019-01-01   Iguatemi Esplanada           Camiseta   \n2                 1 2019-01-01   Iguatemi Esplanada      Sapato Xadrez   \n3                 2 2019-01-02       Norte Shopping            Relógio   \n4                 2 2019-01-02       Norte Shopping       Chinelo Liso   \n...             ...        ...                  ...                ...   \n93905         65012 2019-11-30  Shopping Vila Velha     Mochila Xadrez   \n93906         65013 2019-11-30    Ribeirão Shopping  Pulseira Listrado   \n93907         65013 2019-11-30    Ribeirão Shopping     Cueca Listrado   \n93908         65014 2019-11-30     Shopping Morumbi     Pulseira Linho   \n93909         65014 2019-11-30     Shopping Morumbi      Casaco Xadrez   \n\n       Quantidade  Valor Unitário  Valor Final  \n0               1             358          358  \n1               2             180          360  \n2               1             368          368  \n3               3             200          600  \n4               1              71           71  \n...           ...             ...          ...  \n93905           2             283          566  \n93906           2              79          158  \n93907           3              67          201  \n93908           5             114          570  \n93909           4             259         1036  \n\n[93910 rows x 7 columns]",
      "text/html": "<div>\n<style scoped>\n    .dataframe tbody tr th:only-of-type {\n        vertical-align: middle;\n    }\n\n    .dataframe tbody tr th {\n        vertical-align: top;\n    }\n\n    .dataframe thead th {\n        text-align: right;\n    }\n</style>\n<table border=\"1\" class=\"dataframe\">\n  <thead>\n    <tr style=\"text-align: right;\">\n      <th></th>\n      <th>Código Venda</th>\n      <th>Data</th>\n      <th>ID Loja</th>\n      <th>Produto</th>\n      <th>Quantidade</th>\n      <th>Valor Unitário</th>\n      <th>Valor Final</th>\n    </tr>\n  </thead>\n  <tbody>\n    <tr>\n      <th>0</th>\n      <td>1</td>\n      <td>2019-01-01</td>\n      <td>Iguatemi Esplanada</td>\n      <td>Sapato Estampa</td>\n      <td>1</td>\n      <td>358</td>\n      <td>358</td>\n    </tr>\n    <tr>\n      <th>1</th>\n      <td>1</td>\n      <td>2019-01-01</td>\n      <td>Iguatemi Esplanada</td>\n      <td>Camiseta</td>\n      <td>2</td>\n      <td>180</td>\n      <td>360</td>\n    </tr>\n    <tr>\n      <th>2</th>\n      <td>1</td>\n      <td>2019-01-01</td>\n      <td>Iguatemi Esplanada</td>\n      <td>Sapato Xadrez</td>\n      <td>1</td>\n      <td>368</td>\n      <td>368</td>\n    </tr>\n    <tr>\n      <th>3</th>\n      <td>2</td>\n      <td>2019-01-02</td>\n      <td>Norte Shopping</td>\n      <td>Relógio</td>\n      <td>3</td>\n      <td>200</td>\n      <td>600</td>\n    </tr>\n    <tr>\n      <th>4</th>\n      <td>2</td>\n      <td>2019-01-02</td>\n      <td>Norte Shopping</td>\n      <td>Chinelo Liso</td>\n      <td>1</td>\n      <td>71</td>\n      <td>71</td>\n    </tr>\n    <tr>\n      <th>...</th>\n      <td>...</td>\n      <td>...</td>\n      <td>...</td>\n      <td>...</td>\n      <td>...</td>\n      <td>...</td>\n      <td>...</td>\n    </tr>\n    <tr>\n      <th>93905</th>\n      <td>65012</td>\n      <td>2019-11-30</td>\n      <td>Shopping Vila Velha</td>\n      <td>Mochila Xadrez</td>\n      <td>2</td>\n      <td>283</td>\n      <td>566</td>\n    </tr>\n    <tr>\n      <th>93906</th>\n      <td>65013</td>\n      <td>2019-11-30</td>\n      <td>Ribeirão Shopping</td>\n      <td>Pulseira Listrado</td>\n      <td>2</td>\n      <td>79</td>\n      <td>158</td>\n    </tr>\n    <tr>\n      <th>93907</th>\n      <td>65013</td>\n      <td>2019-11-30</td>\n      <td>Ribeirão Shopping</td>\n      <td>Cueca Listrado</td>\n      <td>3</td>\n      <td>67</td>\n      <td>201</td>\n    </tr>\n    <tr>\n      <th>93908</th>\n      <td>65014</td>\n      <td>2019-11-30</td>\n      <td>Shopping Morumbi</td>\n      <td>Pulseira Linho</td>\n      <td>5</td>\n      <td>114</td>\n      <td>570</td>\n    </tr>\n    <tr>\n      <th>93909</th>\n      <td>65014</td>\n      <td>2019-11-30</td>\n      <td>Shopping Morumbi</td>\n      <td>Casaco Xadrez</td>\n      <td>4</td>\n      <td>259</td>\n      <td>1036</td>\n    </tr>\n  </tbody>\n</table>\n<p>93910 rows × 7 columns</p>\n</div>"
     },
     "metadata": {}
    }
   ],
   "source": [
    "# outro método de criar DF\n",
    "vendas_df = pd.read_excel(\"Vendas.xlsx\")\n",
    "display(vendas_df)"
   ]
  },
  {
   "cell_type": "code",
   "execution_count": 7,
   "metadata": {},
   "outputs": [
    {
     "output_type": "display_data",
     "data": {
      "text/plain": "   Código Venda       Data                     ID Loja  \\\n0             1 2019-01-01          Iguatemi Esplanada   \n1             1 2019-01-01          Iguatemi Esplanada   \n2             1 2019-01-01          Iguatemi Esplanada   \n3             2 2019-01-02              Norte Shopping   \n4             2 2019-01-02              Norte Shopping   \n5             3 2019-01-02  Rio Mar Shopping Fortaleza   \n6             5 2019-01-02              Shopping Barra   \n7             6 2019-01-02         Shopping Ibirapuera   \n8             7 2019-01-02              Norte Shopping   \n9             7 2019-01-02              Norte Shopping   \n\n                  Produto  Quantidade  Valor Unitário  Valor Final  \n0          Sapato Estampa           1             358          358  \n1                Camiseta           2             180          360  \n2           Sapato Xadrez           1             368          368  \n3                 Relógio           3             200          600  \n4            Chinelo Liso           1              71           71  \n5             Cinto Linho           1             248          248  \n6                   Calça           1             170          170  \n7           Polo Listrado           4             149          596  \n8  Camisa Gola V Listrado           1             116          116  \n9             Camisa Liso           1             105          105  ",
      "text/html": "<div>\n<style scoped>\n    .dataframe tbody tr th:only-of-type {\n        vertical-align: middle;\n    }\n\n    .dataframe tbody tr th {\n        vertical-align: top;\n    }\n\n    .dataframe thead th {\n        text-align: right;\n    }\n</style>\n<table border=\"1\" class=\"dataframe\">\n  <thead>\n    <tr style=\"text-align: right;\">\n      <th></th>\n      <th>Código Venda</th>\n      <th>Data</th>\n      <th>ID Loja</th>\n      <th>Produto</th>\n      <th>Quantidade</th>\n      <th>Valor Unitário</th>\n      <th>Valor Final</th>\n    </tr>\n  </thead>\n  <tbody>\n    <tr>\n      <th>0</th>\n      <td>1</td>\n      <td>2019-01-01</td>\n      <td>Iguatemi Esplanada</td>\n      <td>Sapato Estampa</td>\n      <td>1</td>\n      <td>358</td>\n      <td>358</td>\n    </tr>\n    <tr>\n      <th>1</th>\n      <td>1</td>\n      <td>2019-01-01</td>\n      <td>Iguatemi Esplanada</td>\n      <td>Camiseta</td>\n      <td>2</td>\n      <td>180</td>\n      <td>360</td>\n    </tr>\n    <tr>\n      <th>2</th>\n      <td>1</td>\n      <td>2019-01-01</td>\n      <td>Iguatemi Esplanada</td>\n      <td>Sapato Xadrez</td>\n      <td>1</td>\n      <td>368</td>\n      <td>368</td>\n    </tr>\n    <tr>\n      <th>3</th>\n      <td>2</td>\n      <td>2019-01-02</td>\n      <td>Norte Shopping</td>\n      <td>Relógio</td>\n      <td>3</td>\n      <td>200</td>\n      <td>600</td>\n    </tr>\n    <tr>\n      <th>4</th>\n      <td>2</td>\n      <td>2019-01-02</td>\n      <td>Norte Shopping</td>\n      <td>Chinelo Liso</td>\n      <td>1</td>\n      <td>71</td>\n      <td>71</td>\n    </tr>\n    <tr>\n      <th>5</th>\n      <td>3</td>\n      <td>2019-01-02</td>\n      <td>Rio Mar Shopping Fortaleza</td>\n      <td>Cinto Linho</td>\n      <td>1</td>\n      <td>248</td>\n      <td>248</td>\n    </tr>\n    <tr>\n      <th>6</th>\n      <td>5</td>\n      <td>2019-01-02</td>\n      <td>Shopping Barra</td>\n      <td>Calça</td>\n      <td>1</td>\n      <td>170</td>\n      <td>170</td>\n    </tr>\n    <tr>\n      <th>7</th>\n      <td>6</td>\n      <td>2019-01-02</td>\n      <td>Shopping Ibirapuera</td>\n      <td>Polo Listrado</td>\n      <td>4</td>\n      <td>149</td>\n      <td>596</td>\n    </tr>\n    <tr>\n      <th>8</th>\n      <td>7</td>\n      <td>2019-01-02</td>\n      <td>Norte Shopping</td>\n      <td>Camisa Gola V Listrado</td>\n      <td>1</td>\n      <td>116</td>\n      <td>116</td>\n    </tr>\n    <tr>\n      <th>9</th>\n      <td>7</td>\n      <td>2019-01-02</td>\n      <td>Norte Shopping</td>\n      <td>Camisa Liso</td>\n      <td>1</td>\n      <td>105</td>\n      <td>105</td>\n    </tr>\n  </tbody>\n</table>\n</div>"
     },
     "metadata": {}
    }
   ],
   "source": [
    "display(vendas_df.head(10))"
   ]
  },
  {
   "cell_type": "code",
   "execution_count": 8,
   "metadata": {},
   "outputs": [
    {
     "output_type": "display_data",
     "data": {
      "text/plain": "       Código Venda    Quantidade  Valor Unitário   Valor Final\ncount  93910.000000  93910.000000    93910.000000  93910.000000\nmean   32464.762155      2.166553      191.725886    414.862656\nstd    18809.007093      1.258732      145.215519    434.846228\nmin        1.000000      1.000000       30.000000     30.000000\n25%    16204.000000      1.000000      100.000000    156.000000\n50%    32367.000000      2.000000      155.000000    274.000000\n75%    48793.750000      3.000000      248.000000    524.000000\nmax    65014.000000      5.000000      750.000000   3750.000000",
      "text/html": "<div>\n<style scoped>\n    .dataframe tbody tr th:only-of-type {\n        vertical-align: middle;\n    }\n\n    .dataframe tbody tr th {\n        vertical-align: top;\n    }\n\n    .dataframe thead th {\n        text-align: right;\n    }\n</style>\n<table border=\"1\" class=\"dataframe\">\n  <thead>\n    <tr style=\"text-align: right;\">\n      <th></th>\n      <th>Código Venda</th>\n      <th>Quantidade</th>\n      <th>Valor Unitário</th>\n      <th>Valor Final</th>\n    </tr>\n  </thead>\n  <tbody>\n    <tr>\n      <th>count</th>\n      <td>93910.000000</td>\n      <td>93910.000000</td>\n      <td>93910.000000</td>\n      <td>93910.000000</td>\n    </tr>\n    <tr>\n      <th>mean</th>\n      <td>32464.762155</td>\n      <td>2.166553</td>\n      <td>191.725886</td>\n      <td>414.862656</td>\n    </tr>\n    <tr>\n      <th>std</th>\n      <td>18809.007093</td>\n      <td>1.258732</td>\n      <td>145.215519</td>\n      <td>434.846228</td>\n    </tr>\n    <tr>\n      <th>min</th>\n      <td>1.000000</td>\n      <td>1.000000</td>\n      <td>30.000000</td>\n      <td>30.000000</td>\n    </tr>\n    <tr>\n      <th>25%</th>\n      <td>16204.000000</td>\n      <td>1.000000</td>\n      <td>100.000000</td>\n      <td>156.000000</td>\n    </tr>\n    <tr>\n      <th>50%</th>\n      <td>32367.000000</td>\n      <td>2.000000</td>\n      <td>155.000000</td>\n      <td>274.000000</td>\n    </tr>\n    <tr>\n      <th>75%</th>\n      <td>48793.750000</td>\n      <td>3.000000</td>\n      <td>248.000000</td>\n      <td>524.000000</td>\n    </tr>\n    <tr>\n      <th>max</th>\n      <td>65014.000000</td>\n      <td>5.000000</td>\n      <td>750.000000</td>\n      <td>3750.000000</td>\n    </tr>\n  </tbody>\n</table>\n</div>"
     },
     "metadata": {}
    }
   ],
   "source": [
    "display(vendas_df.describe())"
   ]
  },
  {
   "cell_type": "code",
   "execution_count": 9,
   "metadata": {},
   "outputs": [
    {
     "output_type": "display_data",
     "data": {
      "text/plain": "0           Sapato Estampa\n1                 Camiseta\n2            Sapato Xadrez\n3                  Relógio\n4             Chinelo Liso\n               ...        \n93905       Mochila Xadrez\n93906    Pulseira Listrado\n93907       Cueca Listrado\n93908       Pulseira Linho\n93909        Casaco Xadrez\nName: Produto, Length: 93910, dtype: object"
     },
     "metadata": {}
    }
   ],
   "source": [
    "# puxar só a coluna de produtos\n",
    "produtos = vendas_df['Produto']\n",
    "display(produtos) # quando pega uma única coluna, não é um dataframe, ele é uma serie do pandas, portanto não virá 'estilizado'"
   ]
  },
  {
   "cell_type": "code",
   "execution_count": 10,
   "metadata": {},
   "outputs": [
    {
     "output_type": "display_data",
     "data": {
      "text/plain": "                 Produto              ID Loja\n0         Sapato Estampa   Iguatemi Esplanada\n1               Camiseta   Iguatemi Esplanada\n2          Sapato Xadrez   Iguatemi Esplanada\n3                Relógio       Norte Shopping\n4           Chinelo Liso       Norte Shopping\n...                  ...                  ...\n93905     Mochila Xadrez  Shopping Vila Velha\n93906  Pulseira Listrado    Ribeirão Shopping\n93907     Cueca Listrado    Ribeirão Shopping\n93908     Pulseira Linho     Shopping Morumbi\n93909      Casaco Xadrez     Shopping Morumbi\n\n[93910 rows x 2 columns]",
      "text/html": "<div>\n<style scoped>\n    .dataframe tbody tr th:only-of-type {\n        vertical-align: middle;\n    }\n\n    .dataframe tbody tr th {\n        vertical-align: top;\n    }\n\n    .dataframe thead th {\n        text-align: right;\n    }\n</style>\n<table border=\"1\" class=\"dataframe\">\n  <thead>\n    <tr style=\"text-align: right;\">\n      <th></th>\n      <th>Produto</th>\n      <th>ID Loja</th>\n    </tr>\n  </thead>\n  <tbody>\n    <tr>\n      <th>0</th>\n      <td>Sapato Estampa</td>\n      <td>Iguatemi Esplanada</td>\n    </tr>\n    <tr>\n      <th>1</th>\n      <td>Camiseta</td>\n      <td>Iguatemi Esplanada</td>\n    </tr>\n    <tr>\n      <th>2</th>\n      <td>Sapato Xadrez</td>\n      <td>Iguatemi Esplanada</td>\n    </tr>\n    <tr>\n      <th>3</th>\n      <td>Relógio</td>\n      <td>Norte Shopping</td>\n    </tr>\n    <tr>\n      <th>4</th>\n      <td>Chinelo Liso</td>\n      <td>Norte Shopping</td>\n    </tr>\n    <tr>\n      <th>...</th>\n      <td>...</td>\n      <td>...</td>\n    </tr>\n    <tr>\n      <th>93905</th>\n      <td>Mochila Xadrez</td>\n      <td>Shopping Vila Velha</td>\n    </tr>\n    <tr>\n      <th>93906</th>\n      <td>Pulseira Listrado</td>\n      <td>Ribeirão Shopping</td>\n    </tr>\n    <tr>\n      <th>93907</th>\n      <td>Cueca Listrado</td>\n      <td>Ribeirão Shopping</td>\n    </tr>\n    <tr>\n      <th>93908</th>\n      <td>Pulseira Linho</td>\n      <td>Shopping Morumbi</td>\n    </tr>\n    <tr>\n      <th>93909</th>\n      <td>Casaco Xadrez</td>\n      <td>Shopping Morumbi</td>\n    </tr>\n  </tbody>\n</table>\n<p>93910 rows × 2 columns</p>\n</div>"
     },
     "metadata": {}
    }
   ],
   "source": [
    "produtos = vendas_df[['Produto', 'ID Loja']] # agora passei duas colunas, já é um DF\n",
    "display(produtos)"
   ]
  },
  {
   "source": [
    "## .loc, um método muito importante\n",
    "- Pegar 1 linha;\n",
    "- Pegar linhas de acordo com alguma condição;\n",
    "- Pegar linhas e colunas específicas;\n",
    "- Pegar 1 valor específico."
   ],
   "cell_type": "markdown",
   "metadata": {}
  },
  {
   "cell_type": "code",
   "execution_count": 11,
   "metadata": {},
   "outputs": [
    {
     "output_type": "display_data",
     "data": {
      "text/plain": "Código Venda                        1\nData              2019-01-01 00:00:00\nID Loja            Iguatemi Esplanada\nProduto                      Camiseta\nQuantidade                          2\nValor Unitário                    180\nValor Final                       360\nName: 1, dtype: object"
     },
     "metadata": {}
    },
    {
     "output_type": "display_data",
     "data": {
      "text/plain": "   Código Venda       Data                     ID Loja        Produto  \\\n1             1 2019-01-01          Iguatemi Esplanada       Camiseta   \n2             1 2019-01-01          Iguatemi Esplanada  Sapato Xadrez   \n3             2 2019-01-02              Norte Shopping        Relógio   \n4             2 2019-01-02              Norte Shopping   Chinelo Liso   \n5             3 2019-01-02  Rio Mar Shopping Fortaleza    Cinto Linho   \n\n   Quantidade  Valor Unitário  Valor Final  \n1           2             180          360  \n2           1             368          368  \n3           3             200          600  \n4           1              71           71  \n5           1             248          248  ",
      "text/html": "<div>\n<style scoped>\n    .dataframe tbody tr th:only-of-type {\n        vertical-align: middle;\n    }\n\n    .dataframe tbody tr th {\n        vertical-align: top;\n    }\n\n    .dataframe thead th {\n        text-align: right;\n    }\n</style>\n<table border=\"1\" class=\"dataframe\">\n  <thead>\n    <tr style=\"text-align: right;\">\n      <th></th>\n      <th>Código Venda</th>\n      <th>Data</th>\n      <th>ID Loja</th>\n      <th>Produto</th>\n      <th>Quantidade</th>\n      <th>Valor Unitário</th>\n      <th>Valor Final</th>\n    </tr>\n  </thead>\n  <tbody>\n    <tr>\n      <th>1</th>\n      <td>1</td>\n      <td>2019-01-01</td>\n      <td>Iguatemi Esplanada</td>\n      <td>Camiseta</td>\n      <td>2</td>\n      <td>180</td>\n      <td>360</td>\n    </tr>\n    <tr>\n      <th>2</th>\n      <td>1</td>\n      <td>2019-01-01</td>\n      <td>Iguatemi Esplanada</td>\n      <td>Sapato Xadrez</td>\n      <td>1</td>\n      <td>368</td>\n      <td>368</td>\n    </tr>\n    <tr>\n      <th>3</th>\n      <td>2</td>\n      <td>2019-01-02</td>\n      <td>Norte Shopping</td>\n      <td>Relógio</td>\n      <td>3</td>\n      <td>200</td>\n      <td>600</td>\n    </tr>\n    <tr>\n      <th>4</th>\n      <td>2</td>\n      <td>2019-01-02</td>\n      <td>Norte Shopping</td>\n      <td>Chinelo Liso</td>\n      <td>1</td>\n      <td>71</td>\n      <td>71</td>\n    </tr>\n    <tr>\n      <th>5</th>\n      <td>3</td>\n      <td>2019-01-02</td>\n      <td>Rio Mar Shopping Fortaleza</td>\n      <td>Cinto Linho</td>\n      <td>1</td>\n      <td>248</td>\n      <td>248</td>\n    </tr>\n  </tbody>\n</table>\n</div>"
     },
     "metadata": {}
    }
   ],
   "source": [
    "# pegar 1 linha\n",
    "display(vendas_df.loc[1]) # 1 linha única é uma serie também\n",
    "display(vendas_df.loc[1:5]) # linha 1 até 5"
   ]
  },
  {
   "cell_type": "code",
   "execution_count": 12,
   "metadata": {},
   "outputs": [
    {
     "output_type": "display_data",
     "data": {
      "text/plain": "              ID Loja                 Produto  Quantidade\n3      Norte Shopping                 Relógio           3\n4      Norte Shopping            Chinelo Liso           1\n8      Norte Shopping  Camisa Gola V Listrado           1\n9      Norte Shopping             Camisa Liso           1\n100    Norte Shopping            Cueca Xadrez           5\n...               ...                     ...         ...\n93716  Norte Shopping             Polo Xadrez           1\n93754  Norte Shopping              Calça Liso           1\n93755  Norte Shopping          Casaco Estampa           2\n93756  Norte Shopping                   Gorro           2\n93852  Norte Shopping           Bermuda Linho           1\n\n[3924 rows x 3 columns]",
      "text/html": "<div>\n<style scoped>\n    .dataframe tbody tr th:only-of-type {\n        vertical-align: middle;\n    }\n\n    .dataframe tbody tr th {\n        vertical-align: top;\n    }\n\n    .dataframe thead th {\n        text-align: right;\n    }\n</style>\n<table border=\"1\" class=\"dataframe\">\n  <thead>\n    <tr style=\"text-align: right;\">\n      <th></th>\n      <th>ID Loja</th>\n      <th>Produto</th>\n      <th>Quantidade</th>\n    </tr>\n  </thead>\n  <tbody>\n    <tr>\n      <th>3</th>\n      <td>Norte Shopping</td>\n      <td>Relógio</td>\n      <td>3</td>\n    </tr>\n    <tr>\n      <th>4</th>\n      <td>Norte Shopping</td>\n      <td>Chinelo Liso</td>\n      <td>1</td>\n    </tr>\n    <tr>\n      <th>8</th>\n      <td>Norte Shopping</td>\n      <td>Camisa Gola V Listrado</td>\n      <td>1</td>\n    </tr>\n    <tr>\n      <th>9</th>\n      <td>Norte Shopping</td>\n      <td>Camisa Liso</td>\n      <td>1</td>\n    </tr>\n    <tr>\n      <th>100</th>\n      <td>Norte Shopping</td>\n      <td>Cueca Xadrez</td>\n      <td>5</td>\n    </tr>\n    <tr>\n      <th>...</th>\n      <td>...</td>\n      <td>...</td>\n      <td>...</td>\n    </tr>\n    <tr>\n      <th>93716</th>\n      <td>Norte Shopping</td>\n      <td>Polo Xadrez</td>\n      <td>1</td>\n    </tr>\n    <tr>\n      <th>93754</th>\n      <td>Norte Shopping</td>\n      <td>Calça Liso</td>\n      <td>1</td>\n    </tr>\n    <tr>\n      <th>93755</th>\n      <td>Norte Shopping</td>\n      <td>Casaco Estampa</td>\n      <td>2</td>\n    </tr>\n    <tr>\n      <th>93756</th>\n      <td>Norte Shopping</td>\n      <td>Gorro</td>\n      <td>2</td>\n    </tr>\n    <tr>\n      <th>93852</th>\n      <td>Norte Shopping</td>\n      <td>Bermuda Linho</td>\n      <td>1</td>\n    </tr>\n  </tbody>\n</table>\n<p>3924 rows × 3 columns</p>\n</div>"
     },
     "metadata": {}
    }
   ],
   "source": [
    "# pegar todas as linhas que correspondem a uma condição\n",
    "# passa todas as linhas onde tem o Norte Shopping como loja\n",
    "# display(vendas_df.loc[vendas_df['ID Loja'] == 'Norte Shopping'])\n",
    "\n",
    "#armazenar:\n",
    "vendas_norteshopping_df = vendas_df.loc[vendas_df['ID Loja'] == 'Norte Shopping']\n",
    "\n",
    "# pegar várias linhas e colunas usando o loc\n",
    "# Padrão: linhas, colunas\n",
    "vendas_norteshopping_df = vendas_df.loc[vendas_df['ID Loja'] == 'Norte Shopping', [\"ID Loja\", \"Produto\", \"Quantidade\"]]\n",
    "display(vendas_norteshopping_df)"
   ]
  },
  {
   "cell_type": "code",
   "execution_count": 13,
   "metadata": {},
   "outputs": [
    {
     "output_type": "stream",
     "name": "stdout",
     "text": [
      "Camiseta\n"
     ]
    }
   ],
   "source": [
    "# pegar um valor específico\n",
    "print(vendas_df.loc[1, 'Produto']) # passar qual linha e qual coluna"
   ]
  },
  {
   "source": [
    "## Adicionar uma coluna nova\n",
    "\n",
    "- A partir de uma coluna que já existe\n",
    "- Criar uma coluna nova com valor padrão"
   ],
   "cell_type": "markdown",
   "metadata": {}
  },
  {
   "cell_type": "code",
   "execution_count": 14,
   "metadata": {},
   "outputs": [
    {
     "output_type": "display_data",
     "data": {
      "text/plain": "       Código Venda       Data              ID Loja            Produto  \\\n0                 1 2019-01-01   Iguatemi Esplanada     Sapato Estampa   \n1                 1 2019-01-01   Iguatemi Esplanada           Camiseta   \n2                 1 2019-01-01   Iguatemi Esplanada      Sapato Xadrez   \n3                 2 2019-01-02       Norte Shopping            Relógio   \n4                 2 2019-01-02       Norte Shopping       Chinelo Liso   \n...             ...        ...                  ...                ...   \n93905         65012 2019-11-30  Shopping Vila Velha     Mochila Xadrez   \n93906         65013 2019-11-30    Ribeirão Shopping  Pulseira Listrado   \n93907         65013 2019-11-30    Ribeirão Shopping     Cueca Listrado   \n93908         65014 2019-11-30     Shopping Morumbi     Pulseira Linho   \n93909         65014 2019-11-30     Shopping Morumbi      Casaco Xadrez   \n\n       Quantidade  Valor Unitário  Valor Final  Comissão  \n0               1             358          358     17.90  \n1               2             180          360     18.00  \n2               1             368          368     18.40  \n3               3             200          600     30.00  \n4               1              71           71      3.55  \n...           ...             ...          ...       ...  \n93905           2             283          566     28.30  \n93906           2              79          158      7.90  \n93907           3              67          201     10.05  \n93908           5             114          570     28.50  \n93909           4             259         1036     51.80  \n\n[93910 rows x 8 columns]",
      "text/html": "<div>\n<style scoped>\n    .dataframe tbody tr th:only-of-type {\n        vertical-align: middle;\n    }\n\n    .dataframe tbody tr th {\n        vertical-align: top;\n    }\n\n    .dataframe thead th {\n        text-align: right;\n    }\n</style>\n<table border=\"1\" class=\"dataframe\">\n  <thead>\n    <tr style=\"text-align: right;\">\n      <th></th>\n      <th>Código Venda</th>\n      <th>Data</th>\n      <th>ID Loja</th>\n      <th>Produto</th>\n      <th>Quantidade</th>\n      <th>Valor Unitário</th>\n      <th>Valor Final</th>\n      <th>Comissão</th>\n    </tr>\n  </thead>\n  <tbody>\n    <tr>\n      <th>0</th>\n      <td>1</td>\n      <td>2019-01-01</td>\n      <td>Iguatemi Esplanada</td>\n      <td>Sapato Estampa</td>\n      <td>1</td>\n      <td>358</td>\n      <td>358</td>\n      <td>17.90</td>\n    </tr>\n    <tr>\n      <th>1</th>\n      <td>1</td>\n      <td>2019-01-01</td>\n      <td>Iguatemi Esplanada</td>\n      <td>Camiseta</td>\n      <td>2</td>\n      <td>180</td>\n      <td>360</td>\n      <td>18.00</td>\n    </tr>\n    <tr>\n      <th>2</th>\n      <td>1</td>\n      <td>2019-01-01</td>\n      <td>Iguatemi Esplanada</td>\n      <td>Sapato Xadrez</td>\n      <td>1</td>\n      <td>368</td>\n      <td>368</td>\n      <td>18.40</td>\n    </tr>\n    <tr>\n      <th>3</th>\n      <td>2</td>\n      <td>2019-01-02</td>\n      <td>Norte Shopping</td>\n      <td>Relógio</td>\n      <td>3</td>\n      <td>200</td>\n      <td>600</td>\n      <td>30.00</td>\n    </tr>\n    <tr>\n      <th>4</th>\n      <td>2</td>\n      <td>2019-01-02</td>\n      <td>Norte Shopping</td>\n      <td>Chinelo Liso</td>\n      <td>1</td>\n      <td>71</td>\n      <td>71</td>\n      <td>3.55</td>\n    </tr>\n    <tr>\n      <th>...</th>\n      <td>...</td>\n      <td>...</td>\n      <td>...</td>\n      <td>...</td>\n      <td>...</td>\n      <td>...</td>\n      <td>...</td>\n      <td>...</td>\n    </tr>\n    <tr>\n      <th>93905</th>\n      <td>65012</td>\n      <td>2019-11-30</td>\n      <td>Shopping Vila Velha</td>\n      <td>Mochila Xadrez</td>\n      <td>2</td>\n      <td>283</td>\n      <td>566</td>\n      <td>28.30</td>\n    </tr>\n    <tr>\n      <th>93906</th>\n      <td>65013</td>\n      <td>2019-11-30</td>\n      <td>Ribeirão Shopping</td>\n      <td>Pulseira Listrado</td>\n      <td>2</td>\n      <td>79</td>\n      <td>158</td>\n      <td>7.90</td>\n    </tr>\n    <tr>\n      <th>93907</th>\n      <td>65013</td>\n      <td>2019-11-30</td>\n      <td>Ribeirão Shopping</td>\n      <td>Cueca Listrado</td>\n      <td>3</td>\n      <td>67</td>\n      <td>201</td>\n      <td>10.05</td>\n    </tr>\n    <tr>\n      <th>93908</th>\n      <td>65014</td>\n      <td>2019-11-30</td>\n      <td>Shopping Morumbi</td>\n      <td>Pulseira Linho</td>\n      <td>5</td>\n      <td>114</td>\n      <td>570</td>\n      <td>28.50</td>\n    </tr>\n    <tr>\n      <th>93909</th>\n      <td>65014</td>\n      <td>2019-11-30</td>\n      <td>Shopping Morumbi</td>\n      <td>Casaco Xadrez</td>\n      <td>4</td>\n      <td>259</td>\n      <td>1036</td>\n      <td>51.80</td>\n    </tr>\n  </tbody>\n</table>\n<p>93910 rows × 8 columns</p>\n</div>"
     },
     "metadata": {}
    }
   ],
   "source": [
    "# coluna comissão = corresponde a 5% do valor final\n",
    "\n",
    "vendas_df['Comissão'] = vendas_df['Valor Final'] * 0.05 # se ja tiver a coluna comissão, ele vai substituir. Se não existir, ele vai criar\n",
    "display(vendas_df)"
   ]
  },
  {
   "cell_type": "code",
   "execution_count": 15,
   "metadata": {},
   "outputs": [
    {
     "output_type": "display_data",
     "data": {
      "text/plain": "       Código Venda       Data              ID Loja            Produto  \\\n0                 1 2019-01-01   Iguatemi Esplanada     Sapato Estampa   \n1                 1 2019-01-01   Iguatemi Esplanada           Camiseta   \n2                 1 2019-01-01   Iguatemi Esplanada      Sapato Xadrez   \n3                 2 2019-01-02       Norte Shopping            Relógio   \n4                 2 2019-01-02       Norte Shopping       Chinelo Liso   \n...             ...        ...                  ...                ...   \n93905         65012 2019-11-30  Shopping Vila Velha     Mochila Xadrez   \n93906         65013 2019-11-30    Ribeirão Shopping  Pulseira Listrado   \n93907         65013 2019-11-30    Ribeirão Shopping     Cueca Listrado   \n93908         65014 2019-11-30     Shopping Morumbi     Pulseira Linho   \n93909         65014 2019-11-30     Shopping Morumbi      Casaco Xadrez   \n\n       Quantidade  Valor Unitário  Valor Final  Comissão  Imposto  \n0               1             358          358     17.90        0  \n1               2             180          360     18.00        0  \n2               1             368          368     18.40        0  \n3               3             200          600     30.00        0  \n4               1              71           71      3.55        0  \n...           ...             ...          ...       ...      ...  \n93905           2             283          566     28.30        0  \n93906           2              79          158      7.90        0  \n93907           3              67          201     10.05        0  \n93908           5             114          570     28.50        0  \n93909           4             259         1036     51.80        0  \n\n[93910 rows x 9 columns]",
      "text/html": "<div>\n<style scoped>\n    .dataframe tbody tr th:only-of-type {\n        vertical-align: middle;\n    }\n\n    .dataframe tbody tr th {\n        vertical-align: top;\n    }\n\n    .dataframe thead th {\n        text-align: right;\n    }\n</style>\n<table border=\"1\" class=\"dataframe\">\n  <thead>\n    <tr style=\"text-align: right;\">\n      <th></th>\n      <th>Código Venda</th>\n      <th>Data</th>\n      <th>ID Loja</th>\n      <th>Produto</th>\n      <th>Quantidade</th>\n      <th>Valor Unitário</th>\n      <th>Valor Final</th>\n      <th>Comissão</th>\n      <th>Imposto</th>\n    </tr>\n  </thead>\n  <tbody>\n    <tr>\n      <th>0</th>\n      <td>1</td>\n      <td>2019-01-01</td>\n      <td>Iguatemi Esplanada</td>\n      <td>Sapato Estampa</td>\n      <td>1</td>\n      <td>358</td>\n      <td>358</td>\n      <td>17.90</td>\n      <td>0</td>\n    </tr>\n    <tr>\n      <th>1</th>\n      <td>1</td>\n      <td>2019-01-01</td>\n      <td>Iguatemi Esplanada</td>\n      <td>Camiseta</td>\n      <td>2</td>\n      <td>180</td>\n      <td>360</td>\n      <td>18.00</td>\n      <td>0</td>\n    </tr>\n    <tr>\n      <th>2</th>\n      <td>1</td>\n      <td>2019-01-01</td>\n      <td>Iguatemi Esplanada</td>\n      <td>Sapato Xadrez</td>\n      <td>1</td>\n      <td>368</td>\n      <td>368</td>\n      <td>18.40</td>\n      <td>0</td>\n    </tr>\n    <tr>\n      <th>3</th>\n      <td>2</td>\n      <td>2019-01-02</td>\n      <td>Norte Shopping</td>\n      <td>Relógio</td>\n      <td>3</td>\n      <td>200</td>\n      <td>600</td>\n      <td>30.00</td>\n      <td>0</td>\n    </tr>\n    <tr>\n      <th>4</th>\n      <td>2</td>\n      <td>2019-01-02</td>\n      <td>Norte Shopping</td>\n      <td>Chinelo Liso</td>\n      <td>1</td>\n      <td>71</td>\n      <td>71</td>\n      <td>3.55</td>\n      <td>0</td>\n    </tr>\n    <tr>\n      <th>...</th>\n      <td>...</td>\n      <td>...</td>\n      <td>...</td>\n      <td>...</td>\n      <td>...</td>\n      <td>...</td>\n      <td>...</td>\n      <td>...</td>\n      <td>...</td>\n    </tr>\n    <tr>\n      <th>93905</th>\n      <td>65012</td>\n      <td>2019-11-30</td>\n      <td>Shopping Vila Velha</td>\n      <td>Mochila Xadrez</td>\n      <td>2</td>\n      <td>283</td>\n      <td>566</td>\n      <td>28.30</td>\n      <td>0</td>\n    </tr>\n    <tr>\n      <th>93906</th>\n      <td>65013</td>\n      <td>2019-11-30</td>\n      <td>Ribeirão Shopping</td>\n      <td>Pulseira Listrado</td>\n      <td>2</td>\n      <td>79</td>\n      <td>158</td>\n      <td>7.90</td>\n      <td>0</td>\n    </tr>\n    <tr>\n      <th>93907</th>\n      <td>65013</td>\n      <td>2019-11-30</td>\n      <td>Ribeirão Shopping</td>\n      <td>Cueca Listrado</td>\n      <td>3</td>\n      <td>67</td>\n      <td>201</td>\n      <td>10.05</td>\n      <td>0</td>\n    </tr>\n    <tr>\n      <th>93908</th>\n      <td>65014</td>\n      <td>2019-11-30</td>\n      <td>Shopping Morumbi</td>\n      <td>Pulseira Linho</td>\n      <td>5</td>\n      <td>114</td>\n      <td>570</td>\n      <td>28.50</td>\n      <td>0</td>\n    </tr>\n    <tr>\n      <th>93909</th>\n      <td>65014</td>\n      <td>2019-11-30</td>\n      <td>Shopping Morumbi</td>\n      <td>Casaco Xadrez</td>\n      <td>4</td>\n      <td>259</td>\n      <td>1036</td>\n      <td>51.80</td>\n      <td>0</td>\n    </tr>\n  </tbody>\n</table>\n<p>93910 rows × 9 columns</p>\n</div>"
     },
     "metadata": {}
    }
   ],
   "source": [
    "# criar uma coluna com valor padrão:\n",
    "# essa maneira é menos custosa:\n",
    "vendas_df.loc[:, \"Imposto\"] = 0 # : significa todas as linhas, e Imposto é a coluna a ser criada\n",
    "display(vendas_df)"
   ]
  },
  {
   "source": [
    "## Adicionar 1 linha\n"
   ],
   "cell_type": "markdown",
   "metadata": {}
  },
  {
   "cell_type": "code",
   "execution_count": 16,
   "metadata": {},
   "outputs": [
    {
     "output_type": "display_data",
     "data": {
      "text/plain": "      Código Venda       Data                     ID Loja           Produto  \\\n0            65014 2019-12-01            Shopping Morumbi    Sunga Listrado   \n1            65014 2019-12-01            Shopping Morumbi   Casaco Listrado   \n2            65016 2019-12-01           Iguatemi Campinas   Sapato Listrado   \n3            65016 2019-12-01           Iguatemi Campinas            Casaco   \n4            65017 2019-12-01          Shopping SP Market        Gorro Liso   \n...            ...        ...                         ...               ...   \n7084         69996 2019-12-26  Center Shopping Uberlândia    Short Listrado   \n7085         69996 2019-12-26  Center Shopping Uberlândia           Mochila   \n7086         69996 2019-12-26  Center Shopping Uberlândia  Pulseira Estampa   \n7087         69997 2019-12-26           Ribeirão Shopping   Camisa Listrado   \n7088         69997 2019-12-26           Ribeirão Shopping       Short Linho   \n\n      Quantidade  Valor Unitário  Valor Final  \n0              5             114          570  \n1              1             269          269  \n2              2             363          726  \n3              1             250          250  \n4              3              92          276  \n...          ...             ...          ...  \n7084           2             102          204  \n7085           4             270         1080  \n7086           1              87           87  \n7087           1             108          108  \n7088           2             133          266  \n\n[7089 rows x 7 columns]",
      "text/html": "<div>\n<style scoped>\n    .dataframe tbody tr th:only-of-type {\n        vertical-align: middle;\n    }\n\n    .dataframe tbody tr th {\n        vertical-align: top;\n    }\n\n    .dataframe thead th {\n        text-align: right;\n    }\n</style>\n<table border=\"1\" class=\"dataframe\">\n  <thead>\n    <tr style=\"text-align: right;\">\n      <th></th>\n      <th>Código Venda</th>\n      <th>Data</th>\n      <th>ID Loja</th>\n      <th>Produto</th>\n      <th>Quantidade</th>\n      <th>Valor Unitário</th>\n      <th>Valor Final</th>\n    </tr>\n  </thead>\n  <tbody>\n    <tr>\n      <th>0</th>\n      <td>65014</td>\n      <td>2019-12-01</td>\n      <td>Shopping Morumbi</td>\n      <td>Sunga Listrado</td>\n      <td>5</td>\n      <td>114</td>\n      <td>570</td>\n    </tr>\n    <tr>\n      <th>1</th>\n      <td>65014</td>\n      <td>2019-12-01</td>\n      <td>Shopping Morumbi</td>\n      <td>Casaco Listrado</td>\n      <td>1</td>\n      <td>269</td>\n      <td>269</td>\n    </tr>\n    <tr>\n      <th>2</th>\n      <td>65016</td>\n      <td>2019-12-01</td>\n      <td>Iguatemi Campinas</td>\n      <td>Sapato Listrado</td>\n      <td>2</td>\n      <td>363</td>\n      <td>726</td>\n    </tr>\n    <tr>\n      <th>3</th>\n      <td>65016</td>\n      <td>2019-12-01</td>\n      <td>Iguatemi Campinas</td>\n      <td>Casaco</td>\n      <td>1</td>\n      <td>250</td>\n      <td>250</td>\n    </tr>\n    <tr>\n      <th>4</th>\n      <td>65017</td>\n      <td>2019-12-01</td>\n      <td>Shopping SP Market</td>\n      <td>Gorro Liso</td>\n      <td>3</td>\n      <td>92</td>\n      <td>276</td>\n    </tr>\n    <tr>\n      <th>...</th>\n      <td>...</td>\n      <td>...</td>\n      <td>...</td>\n      <td>...</td>\n      <td>...</td>\n      <td>...</td>\n      <td>...</td>\n    </tr>\n    <tr>\n      <th>7084</th>\n      <td>69996</td>\n      <td>2019-12-26</td>\n      <td>Center Shopping Uberlândia</td>\n      <td>Short Listrado</td>\n      <td>2</td>\n      <td>102</td>\n      <td>204</td>\n    </tr>\n    <tr>\n      <th>7085</th>\n      <td>69996</td>\n      <td>2019-12-26</td>\n      <td>Center Shopping Uberlândia</td>\n      <td>Mochila</td>\n      <td>4</td>\n      <td>270</td>\n      <td>1080</td>\n    </tr>\n    <tr>\n      <th>7086</th>\n      <td>69996</td>\n      <td>2019-12-26</td>\n      <td>Center Shopping Uberlândia</td>\n      <td>Pulseira Estampa</td>\n      <td>1</td>\n      <td>87</td>\n      <td>87</td>\n    </tr>\n    <tr>\n      <th>7087</th>\n      <td>69997</td>\n      <td>2019-12-26</td>\n      <td>Ribeirão Shopping</td>\n      <td>Camisa Listrado</td>\n      <td>1</td>\n      <td>108</td>\n      <td>108</td>\n    </tr>\n    <tr>\n      <th>7088</th>\n      <td>69997</td>\n      <td>2019-12-26</td>\n      <td>Ribeirão Shopping</td>\n      <td>Short Linho</td>\n      <td>2</td>\n      <td>133</td>\n      <td>266</td>\n    </tr>\n  </tbody>\n</table>\n<p>7089 rows × 7 columns</p>\n</div>"
     },
     "metadata": {}
    }
   ],
   "source": [
    "vendas_dez_df = pd.read_excel(\"Vendas - Dez.xlsx\")\n",
    "display(vendas_dez_df)"
   ]
  },
  {
   "cell_type": "code",
   "execution_count": 17,
   "metadata": {},
   "outputs": [
    {
     "output_type": "display_data",
     "data": {
      "text/plain": "      Código Venda       Data                     ID Loja           Produto  \\\n0                1 2019-01-01          Iguatemi Esplanada    Sapato Estampa   \n1                1 2019-01-01          Iguatemi Esplanada          Camiseta   \n2                1 2019-01-01          Iguatemi Esplanada     Sapato Xadrez   \n3                2 2019-01-02              Norte Shopping           Relógio   \n4                2 2019-01-02              Norte Shopping      Chinelo Liso   \n...            ...        ...                         ...               ...   \n7084         69996 2019-12-26  Center Shopping Uberlândia    Short Listrado   \n7085         69996 2019-12-26  Center Shopping Uberlândia           Mochila   \n7086         69996 2019-12-26  Center Shopping Uberlândia  Pulseira Estampa   \n7087         69997 2019-12-26           Ribeirão Shopping   Camisa Listrado   \n7088         69997 2019-12-26           Ribeirão Shopping       Short Linho   \n\n      Quantidade  Valor Unitário  Valor Final  Comissão  Imposto  \n0              1             358          358     17.90      0.0  \n1              2             180          360     18.00      0.0  \n2              1             368          368     18.40      0.0  \n3              3             200          600     30.00      0.0  \n4              1              71           71      3.55      0.0  \n...          ...             ...          ...       ...      ...  \n7084           2             102          204       NaN      NaN  \n7085           4             270         1080       NaN      NaN  \n7086           1              87           87       NaN      NaN  \n7087           1             108          108       NaN      NaN  \n7088           2             133          266       NaN      NaN  \n\n[100999 rows x 9 columns]",
      "text/html": "<div>\n<style scoped>\n    .dataframe tbody tr th:only-of-type {\n        vertical-align: middle;\n    }\n\n    .dataframe tbody tr th {\n        vertical-align: top;\n    }\n\n    .dataframe thead th {\n        text-align: right;\n    }\n</style>\n<table border=\"1\" class=\"dataframe\">\n  <thead>\n    <tr style=\"text-align: right;\">\n      <th></th>\n      <th>Código Venda</th>\n      <th>Data</th>\n      <th>ID Loja</th>\n      <th>Produto</th>\n      <th>Quantidade</th>\n      <th>Valor Unitário</th>\n      <th>Valor Final</th>\n      <th>Comissão</th>\n      <th>Imposto</th>\n    </tr>\n  </thead>\n  <tbody>\n    <tr>\n      <th>0</th>\n      <td>1</td>\n      <td>2019-01-01</td>\n      <td>Iguatemi Esplanada</td>\n      <td>Sapato Estampa</td>\n      <td>1</td>\n      <td>358</td>\n      <td>358</td>\n      <td>17.90</td>\n      <td>0.0</td>\n    </tr>\n    <tr>\n      <th>1</th>\n      <td>1</td>\n      <td>2019-01-01</td>\n      <td>Iguatemi Esplanada</td>\n      <td>Camiseta</td>\n      <td>2</td>\n      <td>180</td>\n      <td>360</td>\n      <td>18.00</td>\n      <td>0.0</td>\n    </tr>\n    <tr>\n      <th>2</th>\n      <td>1</td>\n      <td>2019-01-01</td>\n      <td>Iguatemi Esplanada</td>\n      <td>Sapato Xadrez</td>\n      <td>1</td>\n      <td>368</td>\n      <td>368</td>\n      <td>18.40</td>\n      <td>0.0</td>\n    </tr>\n    <tr>\n      <th>3</th>\n      <td>2</td>\n      <td>2019-01-02</td>\n      <td>Norte Shopping</td>\n      <td>Relógio</td>\n      <td>3</td>\n      <td>200</td>\n      <td>600</td>\n      <td>30.00</td>\n      <td>0.0</td>\n    </tr>\n    <tr>\n      <th>4</th>\n      <td>2</td>\n      <td>2019-01-02</td>\n      <td>Norte Shopping</td>\n      <td>Chinelo Liso</td>\n      <td>1</td>\n      <td>71</td>\n      <td>71</td>\n      <td>3.55</td>\n      <td>0.0</td>\n    </tr>\n    <tr>\n      <th>...</th>\n      <td>...</td>\n      <td>...</td>\n      <td>...</td>\n      <td>...</td>\n      <td>...</td>\n      <td>...</td>\n      <td>...</td>\n      <td>...</td>\n      <td>...</td>\n    </tr>\n    <tr>\n      <th>7084</th>\n      <td>69996</td>\n      <td>2019-12-26</td>\n      <td>Center Shopping Uberlândia</td>\n      <td>Short Listrado</td>\n      <td>2</td>\n      <td>102</td>\n      <td>204</td>\n      <td>NaN</td>\n      <td>NaN</td>\n    </tr>\n    <tr>\n      <th>7085</th>\n      <td>69996</td>\n      <td>2019-12-26</td>\n      <td>Center Shopping Uberlândia</td>\n      <td>Mochila</td>\n      <td>4</td>\n      <td>270</td>\n      <td>1080</td>\n      <td>NaN</td>\n      <td>NaN</td>\n    </tr>\n    <tr>\n      <th>7086</th>\n      <td>69996</td>\n      <td>2019-12-26</td>\n      <td>Center Shopping Uberlândia</td>\n      <td>Pulseira Estampa</td>\n      <td>1</td>\n      <td>87</td>\n      <td>87</td>\n      <td>NaN</td>\n      <td>NaN</td>\n    </tr>\n    <tr>\n      <th>7087</th>\n      <td>69997</td>\n      <td>2019-12-26</td>\n      <td>Ribeirão Shopping</td>\n      <td>Camisa Listrado</td>\n      <td>1</td>\n      <td>108</td>\n      <td>108</td>\n      <td>NaN</td>\n      <td>NaN</td>\n    </tr>\n    <tr>\n      <th>7088</th>\n      <td>69997</td>\n      <td>2019-12-26</td>\n      <td>Ribeirão Shopping</td>\n      <td>Short Linho</td>\n      <td>2</td>\n      <td>133</td>\n      <td>266</td>\n      <td>NaN</td>\n      <td>NaN</td>\n    </tr>\n  </tbody>\n</table>\n<p>100999 rows × 9 columns</p>\n</div>"
     },
     "metadata": {}
    }
   ],
   "source": [
    "# quero adicionar o vendas de dez no arquivo final:\n",
    "\n",
    "vendas_df = vendas_df.append(vendas_dez_df)\n",
    "display(vendas_df)"
   ]
  },
  {
   "cell_type": "code",
   "execution_count": 18,
   "metadata": {},
   "outputs": [],
   "source": [
    "# as linhas novas de impostos vêm vazias como NaN."
   ]
  },
  {
   "source": [
    "## Exluir linhas e colunas\n"
   ],
   "cell_type": "markdown",
   "metadata": {}
  },
  {
   "cell_type": "code",
   "execution_count": 23,
   "metadata": {},
   "outputs": [
    {
     "output_type": "display_data",
     "data": {
      "text/plain": "      Código Venda       Data                     ID Loja           Produto  \\\n0                1 2019-01-01          Iguatemi Esplanada    Sapato Estampa   \n1                1 2019-01-01          Iguatemi Esplanada          Camiseta   \n2                1 2019-01-01          Iguatemi Esplanada     Sapato Xadrez   \n3                2 2019-01-02              Norte Shopping           Relógio   \n4                2 2019-01-02              Norte Shopping      Chinelo Liso   \n...            ...        ...                         ...               ...   \n7084         69996 2019-12-26  Center Shopping Uberlândia    Short Listrado   \n7085         69996 2019-12-26  Center Shopping Uberlândia           Mochila   \n7086         69996 2019-12-26  Center Shopping Uberlândia  Pulseira Estampa   \n7087         69997 2019-12-26           Ribeirão Shopping   Camisa Listrado   \n7088         69997 2019-12-26           Ribeirão Shopping       Short Linho   \n\n      Quantidade  Valor Unitário  Valor Final   Comissão  \n0              1             358          358  17.900000  \n1              2             180          360  18.000000  \n2              1             368          368  18.400000  \n3              3             200          600  30.000000  \n4              1              71           71   3.550000  \n...          ...             ...          ...        ...  \n7084           2             102          204  20.743133  \n7085           4             270         1080  20.743133  \n7086           1              87           87  20.743133  \n7087           1             108          108  20.743133  \n7088           2             133          266  20.743133  \n\n[100999 rows x 8 columns]",
      "text/html": "<div>\n<style scoped>\n    .dataframe tbody tr th:only-of-type {\n        vertical-align: middle;\n    }\n\n    .dataframe tbody tr th {\n        vertical-align: top;\n    }\n\n    .dataframe thead th {\n        text-align: right;\n    }\n</style>\n<table border=\"1\" class=\"dataframe\">\n  <thead>\n    <tr style=\"text-align: right;\">\n      <th></th>\n      <th>Código Venda</th>\n      <th>Data</th>\n      <th>ID Loja</th>\n      <th>Produto</th>\n      <th>Quantidade</th>\n      <th>Valor Unitário</th>\n      <th>Valor Final</th>\n      <th>Comissão</th>\n    </tr>\n  </thead>\n  <tbody>\n    <tr>\n      <th>0</th>\n      <td>1</td>\n      <td>2019-01-01</td>\n      <td>Iguatemi Esplanada</td>\n      <td>Sapato Estampa</td>\n      <td>1</td>\n      <td>358</td>\n      <td>358</td>\n      <td>17.900000</td>\n    </tr>\n    <tr>\n      <th>1</th>\n      <td>1</td>\n      <td>2019-01-01</td>\n      <td>Iguatemi Esplanada</td>\n      <td>Camiseta</td>\n      <td>2</td>\n      <td>180</td>\n      <td>360</td>\n      <td>18.000000</td>\n    </tr>\n    <tr>\n      <th>2</th>\n      <td>1</td>\n      <td>2019-01-01</td>\n      <td>Iguatemi Esplanada</td>\n      <td>Sapato Xadrez</td>\n      <td>1</td>\n      <td>368</td>\n      <td>368</td>\n      <td>18.400000</td>\n    </tr>\n    <tr>\n      <th>3</th>\n      <td>2</td>\n      <td>2019-01-02</td>\n      <td>Norte Shopping</td>\n      <td>Relógio</td>\n      <td>3</td>\n      <td>200</td>\n      <td>600</td>\n      <td>30.000000</td>\n    </tr>\n    <tr>\n      <th>4</th>\n      <td>2</td>\n      <td>2019-01-02</td>\n      <td>Norte Shopping</td>\n      <td>Chinelo Liso</td>\n      <td>1</td>\n      <td>71</td>\n      <td>71</td>\n      <td>3.550000</td>\n    </tr>\n    <tr>\n      <th>...</th>\n      <td>...</td>\n      <td>...</td>\n      <td>...</td>\n      <td>...</td>\n      <td>...</td>\n      <td>...</td>\n      <td>...</td>\n      <td>...</td>\n    </tr>\n    <tr>\n      <th>7084</th>\n      <td>69996</td>\n      <td>2019-12-26</td>\n      <td>Center Shopping Uberlândia</td>\n      <td>Short Listrado</td>\n      <td>2</td>\n      <td>102</td>\n      <td>204</td>\n      <td>20.743133</td>\n    </tr>\n    <tr>\n      <th>7085</th>\n      <td>69996</td>\n      <td>2019-12-26</td>\n      <td>Center Shopping Uberlândia</td>\n      <td>Mochila</td>\n      <td>4</td>\n      <td>270</td>\n      <td>1080</td>\n      <td>20.743133</td>\n    </tr>\n    <tr>\n      <th>7086</th>\n      <td>69996</td>\n      <td>2019-12-26</td>\n      <td>Center Shopping Uberlândia</td>\n      <td>Pulseira Estampa</td>\n      <td>1</td>\n      <td>87</td>\n      <td>87</td>\n      <td>20.743133</td>\n    </tr>\n    <tr>\n      <th>7087</th>\n      <td>69997</td>\n      <td>2019-12-26</td>\n      <td>Ribeirão Shopping</td>\n      <td>Camisa Listrado</td>\n      <td>1</td>\n      <td>108</td>\n      <td>108</td>\n      <td>20.743133</td>\n    </tr>\n    <tr>\n      <th>7088</th>\n      <td>69997</td>\n      <td>2019-12-26</td>\n      <td>Ribeirão Shopping</td>\n      <td>Short Linho</td>\n      <td>2</td>\n      <td>133</td>\n      <td>266</td>\n      <td>20.743133</td>\n    </tr>\n  </tbody>\n</table>\n<p>100999 rows × 8 columns</p>\n</div>"
     },
     "metadata": {}
    }
   ],
   "source": [
    "vendas_df = vendas_df.drop(\"Imposto\", axis=1)\n",
    "display(vendas_df)\n"
   ]
  },
  {
   "source": [
    "## Valores Vazios\n",
    "- Deletar linhas/colunas vazias\n",
    "- Deletar linhas que possuem valores Vazios\n",
    "- Preencher valores vazios (média e ultimo valor)"
   ],
   "cell_type": "markdown",
   "metadata": {}
  },
  {
   "cell_type": "code",
   "execution_count": 24,
   "metadata": {},
   "outputs": [
    {
     "output_type": "display_data",
     "data": {
      "text/plain": "      Código Venda       Data                     ID Loja           Produto  \\\n0                1 2019-01-01          Iguatemi Esplanada    Sapato Estampa   \n1                1 2019-01-01          Iguatemi Esplanada          Camiseta   \n2                1 2019-01-01          Iguatemi Esplanada     Sapato Xadrez   \n3                2 2019-01-02              Norte Shopping           Relógio   \n4                2 2019-01-02              Norte Shopping      Chinelo Liso   \n...            ...        ...                         ...               ...   \n7084         69996 2019-12-26  Center Shopping Uberlândia    Short Listrado   \n7085         69996 2019-12-26  Center Shopping Uberlândia           Mochila   \n7086         69996 2019-12-26  Center Shopping Uberlândia  Pulseira Estampa   \n7087         69997 2019-12-26           Ribeirão Shopping   Camisa Listrado   \n7088         69997 2019-12-26           Ribeirão Shopping       Short Linho   \n\n      Quantidade  Valor Unitário  Valor Final   Comissão  \n0              1             358          358  17.900000  \n1              2             180          360  18.000000  \n2              1             368          368  18.400000  \n3              3             200          600  30.000000  \n4              1              71           71   3.550000  \n...          ...             ...          ...        ...  \n7084           2             102          204  20.743133  \n7085           4             270         1080  20.743133  \n7086           1              87           87  20.743133  \n7087           1             108          108  20.743133  \n7088           2             133          266  20.743133  \n\n[100999 rows x 8 columns]",
      "text/html": "<div>\n<style scoped>\n    .dataframe tbody tr th:only-of-type {\n        vertical-align: middle;\n    }\n\n    .dataframe tbody tr th {\n        vertical-align: top;\n    }\n\n    .dataframe thead th {\n        text-align: right;\n    }\n</style>\n<table border=\"1\" class=\"dataframe\">\n  <thead>\n    <tr style=\"text-align: right;\">\n      <th></th>\n      <th>Código Venda</th>\n      <th>Data</th>\n      <th>ID Loja</th>\n      <th>Produto</th>\n      <th>Quantidade</th>\n      <th>Valor Unitário</th>\n      <th>Valor Final</th>\n      <th>Comissão</th>\n    </tr>\n  </thead>\n  <tbody>\n    <tr>\n      <th>0</th>\n      <td>1</td>\n      <td>2019-01-01</td>\n      <td>Iguatemi Esplanada</td>\n      <td>Sapato Estampa</td>\n      <td>1</td>\n      <td>358</td>\n      <td>358</td>\n      <td>17.900000</td>\n    </tr>\n    <tr>\n      <th>1</th>\n      <td>1</td>\n      <td>2019-01-01</td>\n      <td>Iguatemi Esplanada</td>\n      <td>Camiseta</td>\n      <td>2</td>\n      <td>180</td>\n      <td>360</td>\n      <td>18.000000</td>\n    </tr>\n    <tr>\n      <th>2</th>\n      <td>1</td>\n      <td>2019-01-01</td>\n      <td>Iguatemi Esplanada</td>\n      <td>Sapato Xadrez</td>\n      <td>1</td>\n      <td>368</td>\n      <td>368</td>\n      <td>18.400000</td>\n    </tr>\n    <tr>\n      <th>3</th>\n      <td>2</td>\n      <td>2019-01-02</td>\n      <td>Norte Shopping</td>\n      <td>Relógio</td>\n      <td>3</td>\n      <td>200</td>\n      <td>600</td>\n      <td>30.000000</td>\n    </tr>\n    <tr>\n      <th>4</th>\n      <td>2</td>\n      <td>2019-01-02</td>\n      <td>Norte Shopping</td>\n      <td>Chinelo Liso</td>\n      <td>1</td>\n      <td>71</td>\n      <td>71</td>\n      <td>3.550000</td>\n    </tr>\n    <tr>\n      <th>...</th>\n      <td>...</td>\n      <td>...</td>\n      <td>...</td>\n      <td>...</td>\n      <td>...</td>\n      <td>...</td>\n      <td>...</td>\n      <td>...</td>\n    </tr>\n    <tr>\n      <th>7084</th>\n      <td>69996</td>\n      <td>2019-12-26</td>\n      <td>Center Shopping Uberlândia</td>\n      <td>Short Listrado</td>\n      <td>2</td>\n      <td>102</td>\n      <td>204</td>\n      <td>20.743133</td>\n    </tr>\n    <tr>\n      <th>7085</th>\n      <td>69996</td>\n      <td>2019-12-26</td>\n      <td>Center Shopping Uberlândia</td>\n      <td>Mochila</td>\n      <td>4</td>\n      <td>270</td>\n      <td>1080</td>\n      <td>20.743133</td>\n    </tr>\n    <tr>\n      <th>7086</th>\n      <td>69996</td>\n      <td>2019-12-26</td>\n      <td>Center Shopping Uberlândia</td>\n      <td>Pulseira Estampa</td>\n      <td>1</td>\n      <td>87</td>\n      <td>87</td>\n      <td>20.743133</td>\n    </tr>\n    <tr>\n      <th>7087</th>\n      <td>69997</td>\n      <td>2019-12-26</td>\n      <td>Ribeirão Shopping</td>\n      <td>Camisa Listrado</td>\n      <td>1</td>\n      <td>108</td>\n      <td>108</td>\n      <td>20.743133</td>\n    </tr>\n    <tr>\n      <th>7088</th>\n      <td>69997</td>\n      <td>2019-12-26</td>\n      <td>Ribeirão Shopping</td>\n      <td>Short Linho</td>\n      <td>2</td>\n      <td>133</td>\n      <td>266</td>\n      <td>20.743133</td>\n    </tr>\n  </tbody>\n</table>\n<p>100999 rows × 8 columns</p>\n</div>"
     },
     "metadata": {}
    }
   ],
   "source": [
    "# deletar linhas e colunas completamente vazias\n",
    "    # vendas_df = vendas_df.dropna(how='all') # como ele irá excluir os valores vazios: all significa que ira excluir o eixo onde TODOS os valores sao vazios.\n",
    "# deletar linhas que possuem pelo menos 1 valor vazio\n",
    "    # vendas_df = vendas_df.dropna()\n",
    "# preencher valores vazios\n",
    "# preencher com a média da coluna\n",
    "vendas_df['Comissão'] = vendas_df['Comissão'].fillna(vendas_df['Comissão'].mean())\n",
    "display(vendas_df)\n",
    "\n",
    "# preencher com o último valor\n",
    "vendas_df = vendas_df.ffill() # preenche com o (f)irst valor acima dele"
   ]
  },
  {
   "source": [
    "## Calcular indicadores\n",
    "- Groupby\n",
    "- Value Counts"
   ],
   "cell_type": "markdown",
   "metadata": {}
  },
  {
   "cell_type": "code",
   "execution_count": 28,
   "metadata": {},
   "outputs": [
    {
     "output_type": "display_data",
     "data": {
      "text/plain": "Shopping Vila Velha                 4234\nPalladium Shopping Curitiba         4210\nNorte Shopping                      4179\nRio Mar Shopping Fortaleza          4118\nBourbon Shopping SP                 4116\nIguatemi Campinas                   4108\nRio Mar Recife                      4099\nShopping Center Leste Aricanduva    4093\nShopping SP Market                  4080\nShopping Ibirapuera                 4051\nNovo Shopping Ribeirão Preto        4049\nRibeirão Shopping                   4048\nSalvador Shopping                   4030\nShopping Center Interlagos          4021\nShopping Iguatemi Fortaleza         4021\nCenter Shopping Uberlândia          4013\nShopping Eldorado                   4002\nPassei das Águas Shopping           4000\nShopping União de Osasco            3995\nIguatemi Esplanada                  3980\nShopping Barra                      3962\nShopping Morumbi                    3960\nParque Dom Pedro Shopping           3902\nShopping Recife                     3891\nShopping Midway Mall                3837\nName: ID Loja, dtype: int64"
     },
     "metadata": {}
    },
    {
     "output_type": "display_data",
     "data": {
      "text/plain": "                  Código Venda  Quantidade  Valor Unitário  Valor Final  \\\nProduto                                                                   \nBermuda               29736664        1815          124950       272250   \nBermuda Estampa       28011111        1726          135538       291694   \nBermuda Linho         32794909        2024          179010       394680   \nBermuda Liso          28019004        1756          127170       275692   \nBermuda Listrado      29304435        1799          138224       293237   \n...                        ...         ...             ...          ...   \nTênis Estampa         29267679        1788          215040       457728   \nTênis Linho           29440230        1832          249900       538608   \nTênis Liso            30105216        1784          221046       474544   \nTênis Listrado        28850195        1836          220604       481032   \nTênis Xadrez          29758793        1775          219891       459725   \n\n                      Comissão  \nProduto                         \nBermuda           13913.844834  \nBermuda Estampa   14671.613507  \nBermuda Linho     19722.081100  \nBermuda Liso      13763.147843  \nBermuda Listrado  14792.122303  \n...                        ...  \nTênis Estampa     22448.015436  \nTênis Linho       26384.201702  \nTênis Liso        23269.387967  \nTênis Listrado    23771.113507  \nTênis Xadrez      22630.079170  \n\n[120 rows x 5 columns]",
      "text/html": "<div>\n<style scoped>\n    .dataframe tbody tr th:only-of-type {\n        vertical-align: middle;\n    }\n\n    .dataframe tbody tr th {\n        vertical-align: top;\n    }\n\n    .dataframe thead th {\n        text-align: right;\n    }\n</style>\n<table border=\"1\" class=\"dataframe\">\n  <thead>\n    <tr style=\"text-align: right;\">\n      <th></th>\n      <th>Código Venda</th>\n      <th>Quantidade</th>\n      <th>Valor Unitário</th>\n      <th>Valor Final</th>\n      <th>Comissão</th>\n    </tr>\n    <tr>\n      <th>Produto</th>\n      <th></th>\n      <th></th>\n      <th></th>\n      <th></th>\n      <th></th>\n    </tr>\n  </thead>\n  <tbody>\n    <tr>\n      <th>Bermuda</th>\n      <td>29736664</td>\n      <td>1815</td>\n      <td>124950</td>\n      <td>272250</td>\n      <td>13913.844834</td>\n    </tr>\n    <tr>\n      <th>Bermuda Estampa</th>\n      <td>28011111</td>\n      <td>1726</td>\n      <td>135538</td>\n      <td>291694</td>\n      <td>14671.613507</td>\n    </tr>\n    <tr>\n      <th>Bermuda Linho</th>\n      <td>32794909</td>\n      <td>2024</td>\n      <td>179010</td>\n      <td>394680</td>\n      <td>19722.081100</td>\n    </tr>\n    <tr>\n      <th>Bermuda Liso</th>\n      <td>28019004</td>\n      <td>1756</td>\n      <td>127170</td>\n      <td>275692</td>\n      <td>13763.147843</td>\n    </tr>\n    <tr>\n      <th>Bermuda Listrado</th>\n      <td>29304435</td>\n      <td>1799</td>\n      <td>138224</td>\n      <td>293237</td>\n      <td>14792.122303</td>\n    </tr>\n    <tr>\n      <th>...</th>\n      <td>...</td>\n      <td>...</td>\n      <td>...</td>\n      <td>...</td>\n      <td>...</td>\n    </tr>\n    <tr>\n      <th>Tênis Estampa</th>\n      <td>29267679</td>\n      <td>1788</td>\n      <td>215040</td>\n      <td>457728</td>\n      <td>22448.015436</td>\n    </tr>\n    <tr>\n      <th>Tênis Linho</th>\n      <td>29440230</td>\n      <td>1832</td>\n      <td>249900</td>\n      <td>538608</td>\n      <td>26384.201702</td>\n    </tr>\n    <tr>\n      <th>Tênis Liso</th>\n      <td>30105216</td>\n      <td>1784</td>\n      <td>221046</td>\n      <td>474544</td>\n      <td>23269.387967</td>\n    </tr>\n    <tr>\n      <th>Tênis Listrado</th>\n      <td>28850195</td>\n      <td>1836</td>\n      <td>220604</td>\n      <td>481032</td>\n      <td>23771.113507</td>\n    </tr>\n    <tr>\n      <th>Tênis Xadrez</th>\n      <td>29758793</td>\n      <td>1775</td>\n      <td>219891</td>\n      <td>459725</td>\n      <td>22630.079170</td>\n    </tr>\n  </tbody>\n</table>\n<p>120 rows × 5 columns</p>\n</div>"
     },
     "metadata": {}
    },
    {
     "output_type": "display_data",
     "data": {
      "text/plain": "                  Valor Final\nProduto                      \nBermuda                272250\nBermuda Estampa        291694\nBermuda Linho          394680\nBermuda Liso           275692\nBermuda Listrado       293237\n...                       ...\nTênis Estampa          457728\nTênis Linho            538608\nTênis Liso             474544\nTênis Listrado         481032\nTênis Xadrez           459725\n\n[120 rows x 1 columns]",
      "text/html": "<div>\n<style scoped>\n    .dataframe tbody tr th:only-of-type {\n        vertical-align: middle;\n    }\n\n    .dataframe tbody tr th {\n        vertical-align: top;\n    }\n\n    .dataframe thead th {\n        text-align: right;\n    }\n</style>\n<table border=\"1\" class=\"dataframe\">\n  <thead>\n    <tr style=\"text-align: right;\">\n      <th></th>\n      <th>Valor Final</th>\n    </tr>\n    <tr>\n      <th>Produto</th>\n      <th></th>\n    </tr>\n  </thead>\n  <tbody>\n    <tr>\n      <th>Bermuda</th>\n      <td>272250</td>\n    </tr>\n    <tr>\n      <th>Bermuda Estampa</th>\n      <td>291694</td>\n    </tr>\n    <tr>\n      <th>Bermuda Linho</th>\n      <td>394680</td>\n    </tr>\n    <tr>\n      <th>Bermuda Liso</th>\n      <td>275692</td>\n    </tr>\n    <tr>\n      <th>Bermuda Listrado</th>\n      <td>293237</td>\n    </tr>\n    <tr>\n      <th>...</th>\n      <td>...</td>\n    </tr>\n    <tr>\n      <th>Tênis Estampa</th>\n      <td>457728</td>\n    </tr>\n    <tr>\n      <th>Tênis Linho</th>\n      <td>538608</td>\n    </tr>\n    <tr>\n      <th>Tênis Liso</th>\n      <td>474544</td>\n    </tr>\n    <tr>\n      <th>Tênis Listrado</th>\n      <td>481032</td>\n    </tr>\n    <tr>\n      <th>Tênis Xadrez</th>\n      <td>459725</td>\n    </tr>\n  </tbody>\n</table>\n<p>120 rows × 1 columns</p>\n</div>"
     },
     "metadata": {}
    }
   ],
   "source": [
    "transacoes_loja = vendas_df['ID Loja'].value_counts()\n",
    "display(transacoes_loja) # mostrará quantas transações teve em cada loja, por ordem\n",
    "\n",
    "# group by\n",
    "faturamento_produto = vendas_df.groupby('Produto').sum() # passar a coluna que quero agrupar e o que fazer com as outras colunas\n",
    "display(faturamento_produto)\n",
    "\n",
    "# se quiser filtrar as colunas que vão aparecer: \n",
    "faturamento_produto2 = vendas_df[['Produto', 'Valor Final']].groupby('Produto').sum() # pode ser soma, média, etc\n",
    "display(faturamento_produto2)"
   ]
  },
  {
   "source": [
    "## Mesclar 2 dataframes (Procurar informações de um dataframe em outro)"
   ],
   "cell_type": "markdown",
   "metadata": {}
  },
  {
   "cell_type": "code",
   "execution_count": 29,
   "metadata": {},
   "outputs": [
    {
     "output_type": "display_data",
     "data": {
      "text/plain": "                             ID Loja   Gerente\n0                 Iguatemi Esplanada  Salvador\n1                     Norte Shopping     Joana\n2         Rio Mar Shopping Fortaleza     Maria\n3                     Shopping Barra   Letícia\n4                Shopping Ibirapuera    Helena\n5                  Iguatemi Campinas     Luiza\n6   Shopping Center Leste Aricanduva     Julia\n7          Passei das Águas Shopping    Nicole\n8                    Shopping Recife     André\n9               Shopping Midway Mall      João\n10               Bourbon Shopping SP    Marcus\n11        Shopping Center Interlagos    Amanda\n12         Parque Dom Pedro Shopping     Carol\n13        Center Shopping Uberlândia  Andressa\n14          Shopping União de Osasco     Lilia\n15                 Shopping Eldorado     Paulo\n16               Shopping Vila Velha     Pablo\n17      Novo Shopping Ribeirão Preto     Diana\n18                    Rio Mar Recife       Ana\n19       Palladium Shopping Curitiba    Flavia\n20                Shopping SP Market  Fernanda\n21                 Ribeirão Shopping     Fábio\n22       Shopping Iguatemi Fortaleza      Joel\n23                  Shopping Morumbi    Gisele\n24                 Salvador Shopping    Mateus",
      "text/html": "<div>\n<style scoped>\n    .dataframe tbody tr th:only-of-type {\n        vertical-align: middle;\n    }\n\n    .dataframe tbody tr th {\n        vertical-align: top;\n    }\n\n    .dataframe thead th {\n        text-align: right;\n    }\n</style>\n<table border=\"1\" class=\"dataframe\">\n  <thead>\n    <tr style=\"text-align: right;\">\n      <th></th>\n      <th>ID Loja</th>\n      <th>Gerente</th>\n    </tr>\n  </thead>\n  <tbody>\n    <tr>\n      <th>0</th>\n      <td>Iguatemi Esplanada</td>\n      <td>Salvador</td>\n    </tr>\n    <tr>\n      <th>1</th>\n      <td>Norte Shopping</td>\n      <td>Joana</td>\n    </tr>\n    <tr>\n      <th>2</th>\n      <td>Rio Mar Shopping Fortaleza</td>\n      <td>Maria</td>\n    </tr>\n    <tr>\n      <th>3</th>\n      <td>Shopping Barra</td>\n      <td>Letícia</td>\n    </tr>\n    <tr>\n      <th>4</th>\n      <td>Shopping Ibirapuera</td>\n      <td>Helena</td>\n    </tr>\n    <tr>\n      <th>5</th>\n      <td>Iguatemi Campinas</td>\n      <td>Luiza</td>\n    </tr>\n    <tr>\n      <th>6</th>\n      <td>Shopping Center Leste Aricanduva</td>\n      <td>Julia</td>\n    </tr>\n    <tr>\n      <th>7</th>\n      <td>Passei das Águas Shopping</td>\n      <td>Nicole</td>\n    </tr>\n    <tr>\n      <th>8</th>\n      <td>Shopping Recife</td>\n      <td>André</td>\n    </tr>\n    <tr>\n      <th>9</th>\n      <td>Shopping Midway Mall</td>\n      <td>João</td>\n    </tr>\n    <tr>\n      <th>10</th>\n      <td>Bourbon Shopping SP</td>\n      <td>Marcus</td>\n    </tr>\n    <tr>\n      <th>11</th>\n      <td>Shopping Center Interlagos</td>\n      <td>Amanda</td>\n    </tr>\n    <tr>\n      <th>12</th>\n      <td>Parque Dom Pedro Shopping</td>\n      <td>Carol</td>\n    </tr>\n    <tr>\n      <th>13</th>\n      <td>Center Shopping Uberlândia</td>\n      <td>Andressa</td>\n    </tr>\n    <tr>\n      <th>14</th>\n      <td>Shopping União de Osasco</td>\n      <td>Lilia</td>\n    </tr>\n    <tr>\n      <th>15</th>\n      <td>Shopping Eldorado</td>\n      <td>Paulo</td>\n    </tr>\n    <tr>\n      <th>16</th>\n      <td>Shopping Vila Velha</td>\n      <td>Pablo</td>\n    </tr>\n    <tr>\n      <th>17</th>\n      <td>Novo Shopping Ribeirão Preto</td>\n      <td>Diana</td>\n    </tr>\n    <tr>\n      <th>18</th>\n      <td>Rio Mar Recife</td>\n      <td>Ana</td>\n    </tr>\n    <tr>\n      <th>19</th>\n      <td>Palladium Shopping Curitiba</td>\n      <td>Flavia</td>\n    </tr>\n    <tr>\n      <th>20</th>\n      <td>Shopping SP Market</td>\n      <td>Fernanda</td>\n    </tr>\n    <tr>\n      <th>21</th>\n      <td>Ribeirão Shopping</td>\n      <td>Fábio</td>\n    </tr>\n    <tr>\n      <th>22</th>\n      <td>Shopping Iguatemi Fortaleza</td>\n      <td>Joel</td>\n    </tr>\n    <tr>\n      <th>23</th>\n      <td>Shopping Morumbi</td>\n      <td>Gisele</td>\n    </tr>\n    <tr>\n      <th>24</th>\n      <td>Salvador Shopping</td>\n      <td>Mateus</td>\n    </tr>\n  </tbody>\n</table>\n</div>"
     },
     "metadata": {}
    }
   ],
   "source": [
    "gerentes_df = pd.read_excel(\"Gerentes.xlsx\")\n",
    "display(gerentes_df)"
   ]
  },
  {
   "cell_type": "code",
   "execution_count": 30,
   "metadata": {},
   "outputs": [
    {
     "output_type": "display_data",
     "data": {
      "text/plain": "        Código Venda       Data             ID Loja                 Produto  \\\n0                  1 2019-01-01  Iguatemi Esplanada          Sapato Estampa   \n1                  1 2019-01-01  Iguatemi Esplanada                Camiseta   \n2                  1 2019-01-01  Iguatemi Esplanada           Sapato Xadrez   \n3                 21 2019-01-02  Iguatemi Esplanada  Camisa Gola V Listrado   \n4                 34 2019-01-02  Iguatemi Esplanada         Sapato Listrado   \n...              ...        ...                 ...                     ...   \n100994         69846 2019-12-25   Salvador Shopping           Short Estampa   \n100995         69846 2019-12-25   Salvador Shopping           Tênis Estampa   \n100996         69850 2019-12-25   Salvador Shopping           Calça Estampa   \n100997         69972 2019-12-26   Salvador Shopping              Terno Liso   \n100998         69972 2019-12-26   Salvador Shopping          Sapato Estampa   \n\n        Quantidade  Valor Unitário  Valor Final   Comissão   Gerente  \n0                1             358          358  17.900000  Salvador  \n1                2             180          360  18.000000  Salvador  \n2                1             368          368  18.400000  Salvador  \n3                2             116          232  11.600000  Salvador  \n4                1             363          363  18.150000  Salvador  \n...            ...             ...          ...        ...       ...  \n100994           2              96          192  20.743133    Mateus  \n100995           5             256         1280  20.743133    Mateus  \n100996           4             177          708  20.743133    Mateus  \n100997           3             720         2160  20.743133    Mateus  \n100998           5             358         1790  20.743133    Mateus  \n\n[100999 rows x 9 columns]",
      "text/html": "<div>\n<style scoped>\n    .dataframe tbody tr th:only-of-type {\n        vertical-align: middle;\n    }\n\n    .dataframe tbody tr th {\n        vertical-align: top;\n    }\n\n    .dataframe thead th {\n        text-align: right;\n    }\n</style>\n<table border=\"1\" class=\"dataframe\">\n  <thead>\n    <tr style=\"text-align: right;\">\n      <th></th>\n      <th>Código Venda</th>\n      <th>Data</th>\n      <th>ID Loja</th>\n      <th>Produto</th>\n      <th>Quantidade</th>\n      <th>Valor Unitário</th>\n      <th>Valor Final</th>\n      <th>Comissão</th>\n      <th>Gerente</th>\n    </tr>\n  </thead>\n  <tbody>\n    <tr>\n      <th>0</th>\n      <td>1</td>\n      <td>2019-01-01</td>\n      <td>Iguatemi Esplanada</td>\n      <td>Sapato Estampa</td>\n      <td>1</td>\n      <td>358</td>\n      <td>358</td>\n      <td>17.900000</td>\n      <td>Salvador</td>\n    </tr>\n    <tr>\n      <th>1</th>\n      <td>1</td>\n      <td>2019-01-01</td>\n      <td>Iguatemi Esplanada</td>\n      <td>Camiseta</td>\n      <td>2</td>\n      <td>180</td>\n      <td>360</td>\n      <td>18.000000</td>\n      <td>Salvador</td>\n    </tr>\n    <tr>\n      <th>2</th>\n      <td>1</td>\n      <td>2019-01-01</td>\n      <td>Iguatemi Esplanada</td>\n      <td>Sapato Xadrez</td>\n      <td>1</td>\n      <td>368</td>\n      <td>368</td>\n      <td>18.400000</td>\n      <td>Salvador</td>\n    </tr>\n    <tr>\n      <th>3</th>\n      <td>21</td>\n      <td>2019-01-02</td>\n      <td>Iguatemi Esplanada</td>\n      <td>Camisa Gola V Listrado</td>\n      <td>2</td>\n      <td>116</td>\n      <td>232</td>\n      <td>11.600000</td>\n      <td>Salvador</td>\n    </tr>\n    <tr>\n      <th>4</th>\n      <td>34</td>\n      <td>2019-01-02</td>\n      <td>Iguatemi Esplanada</td>\n      <td>Sapato Listrado</td>\n      <td>1</td>\n      <td>363</td>\n      <td>363</td>\n      <td>18.150000</td>\n      <td>Salvador</td>\n    </tr>\n    <tr>\n      <th>...</th>\n      <td>...</td>\n      <td>...</td>\n      <td>...</td>\n      <td>...</td>\n      <td>...</td>\n      <td>...</td>\n      <td>...</td>\n      <td>...</td>\n      <td>...</td>\n    </tr>\n    <tr>\n      <th>100994</th>\n      <td>69846</td>\n      <td>2019-12-25</td>\n      <td>Salvador Shopping</td>\n      <td>Short Estampa</td>\n      <td>2</td>\n      <td>96</td>\n      <td>192</td>\n      <td>20.743133</td>\n      <td>Mateus</td>\n    </tr>\n    <tr>\n      <th>100995</th>\n      <td>69846</td>\n      <td>2019-12-25</td>\n      <td>Salvador Shopping</td>\n      <td>Tênis Estampa</td>\n      <td>5</td>\n      <td>256</td>\n      <td>1280</td>\n      <td>20.743133</td>\n      <td>Mateus</td>\n    </tr>\n    <tr>\n      <th>100996</th>\n      <td>69850</td>\n      <td>2019-12-25</td>\n      <td>Salvador Shopping</td>\n      <td>Calça Estampa</td>\n      <td>4</td>\n      <td>177</td>\n      <td>708</td>\n      <td>20.743133</td>\n      <td>Mateus</td>\n    </tr>\n    <tr>\n      <th>100997</th>\n      <td>69972</td>\n      <td>2019-12-26</td>\n      <td>Salvador Shopping</td>\n      <td>Terno Liso</td>\n      <td>3</td>\n      <td>720</td>\n      <td>2160</td>\n      <td>20.743133</td>\n      <td>Mateus</td>\n    </tr>\n    <tr>\n      <th>100998</th>\n      <td>69972</td>\n      <td>2019-12-26</td>\n      <td>Salvador Shopping</td>\n      <td>Sapato Estampa</td>\n      <td>5</td>\n      <td>358</td>\n      <td>1790</td>\n      <td>20.743133</td>\n      <td>Mateus</td>\n    </tr>\n  </tbody>\n</table>\n<p>100999 rows × 9 columns</p>\n</div>"
     },
     "metadata": {}
    }
   ],
   "source": [
    "# adicionar na tabela original quem é o gerente de cada loja\n",
    "\n",
    "vendas_df = vendas_df.merge(gerentes_df)\n",
    "display(vendas_df)"
   ]
  },
  {
   "cell_type": "code",
   "execution_count": null,
   "metadata": {},
   "outputs": [],
   "source": []
  }
 ]
}